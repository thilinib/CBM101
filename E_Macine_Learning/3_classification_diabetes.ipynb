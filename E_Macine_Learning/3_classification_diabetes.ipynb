{
 "cells": [
  {
   "cell_type": "markdown",
   "metadata": {
    "id": "sawfOpZgsg4m"
   },
   "source": [
    "# Supervised Learning in Machine Learning - Classification\n",
    "\n",
    "In this notebook you will get familiar with some classification and regression algorithms using PyCaret python package with preprocessed \"Pima Indians Diabetes Database\" dataset.\n",
    "\n",
    "**classification:**\n",
    "This is a binary classification problem in which the aim is to predict which patients have diabetes based on a number of measurements.\n",
    "\n",
    "\n",
    "\n",
    "\n",
    "**Please create a report by addressing the provided questions(Q1-Q4) throughout the notebook.**\n",
    "\n",
    "\n"
   ]
  },
  {
   "cell_type": "code",
   "execution_count": null,
   "metadata": {
    "id": "cT8cOUVAqqzm"
   },
   "outputs": [],
   "source": [
    "from pycaret.classification import *\n",
    "from pycaret.utils.generic import check_metric\n",
    "\n",
    "# for visualization\n",
    "import seaborn as sns\n",
    "import matplotlib.pyplot as plt\n",
    "import plotly.express as px\n",
    "import pandas as pd"
   ]
  },
  {
   "cell_type": "code",
   "execution_count": null,
   "metadata": {
    "id": "b1jCI40CtuBJ"
   },
   "outputs": [],
   "source": [
    "# load the preprocessed data\n",
    "\n",
    "url = \"https://raw.githubusercontent.com/thilinib/CBM101/main/E_Macine_Learning/data/preprocessed_diabetes.csv\"\n",
    "df = pd.read_csv(url)"
   ]
  },
  {
   "cell_type": "code",
   "execution_count": null,
   "metadata": {
    "colab": {
     "base_uri": "https://localhost:8080/"
    },
    "id": "eArKw05StxEV",
    "outputId": "59febe96-098f-4f39-f2ab-6eedf087ab99"
   },
   "outputs": [],
   "source": [
    "# check the shape of the preprocessed data\n",
    "df.shape"
   ]
  },
  {
   "cell_type": "code",
   "execution_count": null,
   "metadata": {
    "colab": {
     "base_uri": "https://localhost:8080/",
     "height": 206
    },
    "id": "d3LPI_3-tzdg",
    "outputId": "82cc732c-90d3-4eee-e8cd-4910fe48d8dc"
   },
   "outputs": [],
   "source": [
    "# check how preprocessed data looks like\n",
    "df.head()"
   ]
  },
  {
   "cell_type": "code",
   "execution_count": null,
   "metadata": {
    "colab": {
     "base_uri": "https://localhost:8080/"
    },
    "id": "6DYqOdVq16to",
    "outputId": "050e53d5-94d5-4375-a080-c8a90e2e1812"
   },
   "outputs": [],
   "source": [
    "# Calculating the relative size of each class\n",
    "N_TRUE = len(df[df['Outcome'] == 1])\n",
    "N_FALSE = len(df) - N_TRUE\n",
    "\n",
    "print('N_TRUE = {}'.format(N_TRUE))\n",
    "print('N_FALSE = {}'.format(N_FALSE))\n",
    "print('N_FALSE fraction = {:.3f}'.format(N_FALSE/(N_FALSE+N_TRUE)))"
   ]
  },
  {
   "cell_type": "markdown",
   "metadata": {
    "id": "aIPr8U8a2Ht_"
   },
   "source": [
    "67% of the examples do not have diabetes, which will be our baseline for accuracy score of the classifiers."
   ]
  },
  {
   "cell_type": "markdown",
   "metadata": {
    "id": "y4fKidKXBmFH"
   },
   "source": [
    "#Splitting data into a Training set and a Test set\n",
    "Pycaret will do the splitting automatically.If you use scikit-learn instead you need to do this by yourself e.g. using scikit-learn's `train_test_split()` -function."
   ]
  },
  {
   "cell_type": "markdown",
   "metadata": {
    "id": "pwy8SoepDFc3"
   },
   "source": [
    "# Setting up Environment in PyCaret"
   ]
  },
  {
   "cell_type": "markdown",
   "metadata": {
    "id": "xxCL-ZhJDKkb"
   },
   "source": [
    "# Classification in Pycaret\n",
    "\n",
    "`setup()` is Pycaret's main function and it needs to be run before executing any other function in pycaret. The `setup()` function initializes the environment in pycaret and creates the transformation pipeline to prepare the data for modeling and deployment.\n",
    "\n",
    "We'll set normalize and transformation *True* for automatic preprocessing."
   ]
  },
  {
   "cell_type": "code",
   "execution_count": null,
   "metadata": {
    "colab": {
     "base_uri": "https://localhost:8080/",
     "height": 771
    },
    "id": "7UoC7Iqt0199",
    "outputId": "f860829f-8328-47f7-bd65-75b37a60dae0"
   },
   "outputs": [],
   "source": [
    "# `session_id` parameter is equivalent to ‘random_state’ in scikit-learn. Let's use 42 for reproducibility.\n",
    "s = setup(df, target='Outcome', normalize = True, transformation=True, session_id=42)"
   ]
  },
  {
   "cell_type": "markdown",
   "metadata": {
    "id": "Ms-HFnvZDmKJ"
   },
   "source": [
    "Once the setup has been succesfully executed it prints the information grid which contains several important pieces of information. Most of the information is related to the pre-processing pipeline which is constructed when setup() is executed. The majority of these features are out of scope for the purposes of this tutorial however a few important things to note at this stage include:\n",
    "\n",
    "**session_id** : A pseduo-random number distributed as a seed in all functions for later reproducibility. If no session_id is passed, a random number is automatically generated that is distributed to all functions. In this experiment, the session_id is set as 42 for later reproducibility.\n",
    "\n",
    "**Transformed train and test set shapes**: Here you can see that pycaret has performed train-test-split automatically.\n",
    "\n",
    "**Transformation method** : transformation method by default is set to ‘yeo-johnson’. The other available option for transformation is ‘quantile’. Can be changed using *transformation_method* parameter.\n",
    "\n",
    "**Normalize method** : By default, normalize method is set to ‘zscore’. The other available option for normalizing is 'minmax'. Can be changed using *normalize_method* parameter."
   ]
  },
  {
   "cell_type": "code",
   "execution_count": null,
   "metadata": {},
   "outputs": [],
   "source": [
    "# check all available param\n",
    "get_config()"
   ]
  },
  {
   "cell_type": "code",
   "execution_count": null,
   "metadata": {},
   "outputs": [],
   "source": [
    "get_config('X_train')"
   ]
  },
  {
   "cell_type": "code",
   "execution_count": null,
   "metadata": {},
   "outputs": [],
   "source": [
    "get_config('X_test')"
   ]
  },
  {
   "cell_type": "markdown",
   "metadata": {
    "id": "O1I3dqauDq9r"
   },
   "source": [
    "# Compare models"
   ]
  },
  {
   "cell_type": "code",
   "execution_count": null,
   "metadata": {
    "colab": {
     "base_uri": "https://localhost:8080/",
     "height": 645
    },
    "id": "JwVwDi-WDg6F",
    "outputId": "c700d411-5704-4659-eb0e-6954ebe220b6"
   },
   "outputs": [],
   "source": [
    "# list all ML models\n",
    "models()"
   ]
  },
  {
   "cell_type": "markdown",
   "metadata": {
    "id": "wLKWznBrD6MU"
   },
   "source": [
    "Pycaret runs all different ML algorhitms using default parameters. We can compare all models using `compare_models()` which puts all models in order from best to worst."
   ]
  },
  {
   "cell_type": "markdown",
   "metadata": {
    "id": "XDcNy3g3GTFA"
   },
   "source": [
    "This gives us lots of metrics we can use to evaluate the results:\n",
    "\n",
    "\n",
    "**Accuracy** = $ \\frac{Correctly\\:predicted}{Total\\:samples}$  <br>\n",
    "\n",
    "\n",
    "**Precision** = $ \\frac{True\\:positive}{Total\\:predicted\\:positive}$ <br>\n",
    "\n",
    "\n",
    "**Recall** = $ \\frac{True\\:positive}{Total\\:actually\\:positive}$ <br>\n",
    "\n",
    "\n",
    "**F1** = $ 2* \\frac{Precision*Recall}{Precision+Recall}$ <br>\n",
    "\n"
   ]
  },
  {
   "cell_type": "code",
   "execution_count": null,
   "metadata": {
    "colab": {
     "base_uri": "https://localhost:8080/",
     "height": 520,
     "referenced_widgets": [
      "7de05443128f48f895b9364258de1657",
      "9c67896e9c0d42bb8fb1f7178308099c",
      "135fe0afb4274fdabc75bf930ea69e14",
      "6b6cb21ce669497887e7d55ffeaae328",
      "dd2450c77a4b4431834ac0d5f4b12800",
      "b5461456ed0841699a046bcea3f4bf6c",
      "61339f3d164b4ba9a88f22f3c002ee28",
      "b42c27b8204445a28867023d0d7b3e0c",
      "269b8d99eb6242f79eb563cf507a3575",
      "201659dc43f04547a85e8a0c2be0a6ed",
      "c098dfaba0a1421cb87a847c79c96654"
     ]
    },
    "id": "Gu_KT8RED2uO",
    "outputId": "2ad9121a-7ef2-406b-9152-a22708ede878"
   },
   "outputs": [],
   "source": [
    "# best model is saved in best_model object\n",
    "best_model = compare_models()"
   ]
  },
  {
   "cell_type": "markdown",
   "metadata": {
    "id": "UWqOlZYcHyaw"
   },
   "source": [
    "The score grid printed above highlights the highest performing metric for comparison purposes only. The grid by default is sorted using 'Accuracy' (highest to lowest) which can be changed by passing the sort parameter. For example compare_models(sort = 'Recall') will sort the grid by Recall instead of Accuracy. If you want to change the fold parameter from the default value of 10 to a different value then you can use the fold parameter. For example compare_models(fold = 5) will compare all models on 5 fold cross validation. Reducing the number of folds will improve the training time.\n",
    "\n",
    "Let's make few models using 10 fold stratified **cross validation**. You can change number of folds using `fold` parameter"
   ]
  },
  {
   "cell_type": "markdown",
   "metadata": {
    "id": "JMK8Z3HMJi2l"
   },
   "source": [
    "# Create a Model\n",
    "\n",
    "For the remaining part of this tutorial, we will work with the below models as our candidate models."
   ]
  },
  {
   "cell_type": "code",
   "execution_count": null,
   "metadata": {
    "colab": {
     "base_uri": "https://localhost:8080/",
     "height": 457,
     "referenced_widgets": [
      "0c535672727243f9bbdf1dd082ed50b7",
      "d504c018e19f4fdea4c769122fe47fa9",
      "dc907abb623c4d2d95bea21a3522c685",
      "acfc9c41f157417784a25f7b499834f4",
      "1047aaa166c946d08526f0602bdbdda1",
      "e0c6a3c88f364a3e97fcde655fc0cd17",
      "0aa6e2ed9417494785be7544617d5a02",
      "a18363f21fa0420dbc3b4551cb13ede6",
      "e3fe24cfb9184640a8204d9f1bbd1371",
      "1a4456097b364294b2a8031e0ad38ff8",
      "b7c42d426f72492bb548ef5935f5009f"
     ]
    },
    "id": "ToV7hhFyFqpB",
    "outputId": "0d40b2ea-d04f-4f3d-8bfa-09e51ad2e91e"
   },
   "outputs": [],
   "source": [
    "create_svm = create_model('svm', round=3)\n"
   ]
  },
  {
   "cell_type": "markdown",
   "metadata": {
    "id": "0g6rxVh-OD5N"
   },
   "source": [
    "trained model object is stored in the variable 'create_svm'.\n"
   ]
  },
  {
   "cell_type": "code",
   "execution_count": null,
   "metadata": {
    "colab": {
     "base_uri": "https://localhost:8080/"
    },
    "id": "ljyCfYtZONFt",
    "outputId": "7c085acf-788f-44b2-999b-44013c1f4b19"
   },
   "outputs": [],
   "source": [
    "print(create_svm)"
   ]
  },
  {
   "cell_type": "code",
   "execution_count": null,
   "metadata": {
    "colab": {
     "base_uri": "https://localhost:8080/",
     "height": 457,
     "referenced_widgets": [
      "9dc3ff30f5dc4c589f81e350bca5a04f",
      "10ef88d5d3fd4cfbb3dbbf04c5f0a528",
      "d704407564b049ef9f0f863e91d1eee1",
      "0d6b815a3cd84613943a2e4fb194f834",
      "80035867def64767a144534cf38ee409",
      "91e9151a04f84ceeb8c1434acb3e5d0a",
      "4f386da6e5914c2cb9104cac5fa6443d",
      "01067084abac443a9af3f5266158b787",
      "7f7c1e38a15948728d98788d2e5c8540",
      "8faac32f515b4273afdf0bc369e21651",
      "ed57b9cba03840be805448cd33aeafcb"
     ]
    },
    "id": "bOujvs5uM5Ny",
    "outputId": "b7df2e6d-5abd-4db2-985c-f5ccc41bf64d"
   },
   "outputs": [],
   "source": [
    "create_lr= create_model('lr', round=3)\n"
   ]
  },
  {
   "cell_type": "code",
   "execution_count": null,
   "metadata": {
    "colab": {
     "base_uri": "https://localhost:8080/",
     "height": 457,
     "referenced_widgets": [
      "4fb0db9d93dd43dda0bd6e0c8deb85ec",
      "19e591276cc44dff982171a8cc994c7f",
      "1a8c667847b14a51a92f92044ab025db",
      "732186634907400083d6494c88e931e1",
      "efd226ca5f30491dbc47abd3144c7092",
      "155736a54beb4d7d9d482a8c0e135da6",
      "9c24e95875fa43149f81fc9c27de4e11",
      "2749a739c89c419b9b69354c67a18a6c",
      "ba0652528ada4e17b3eafe25a9abc567",
      "196510148e48451180d4f7affd3d6b18",
      "b5ec6bfa0b06497e8a85b7a2effd2eab"
     ]
    },
    "id": "6udgyaDhOA9N",
    "outputId": "d0bfac6c-c3c0-4fdb-d128-5721396d1c7a"
   },
   "outputs": [],
   "source": [
    "create_gbc = create_model('gbc', round=3)"
   ]
  },
  {
   "cell_type": "markdown",
   "metadata": {
    "id": "I7-v9dUiO4mt"
   },
   "source": [
    "Notice that the mean score of all models matches with the score printed in compare_models(). This is because the metrics printed in the compare_models() score grid are the average scores across all CV folds. Similar to compare_models(), if you want to change the fold parameter from the default value of 10 to a different value then you can use the fold parameter. For Example: create_model('dt', fold = 5) will create a Decision Tree Classifier using 5 fold stratified CV."
   ]
  },
  {
   "cell_type": "markdown",
   "metadata": {
    "id": "4NodDu-LPGBj"
   },
   "source": [
    "#Tune a Model\n",
    "\n",
    "When a model is created using the `create_model()` function it uses the default hyperparameters to train the model. In order to tune hyperparameters, the `tune_model()` function is used. The `tune_model()` function is a random grid search of hyperparameters over a pre-defined search space. By default, it is set to optimize Accuracy but this can be changed using optimize parameter. For example: tune_model('svm', optimize = 'AUC') will search for the hyperparameters of a svm Classifier that results in highest AUC. For the purposes of this example, we have used the default metric Accuracy for the sake of simplicity only.\n",
    "\n",
    "The number of iterations is defined by n_iter. By default, it is set to 10. You can change it with `n_iter` parameter"
   ]
  },
  {
   "cell_type": "code",
   "execution_count": null,
   "metadata": {
    "colab": {
     "base_uri": "https://localhost:8080/",
     "height": 475,
     "referenced_widgets": [
      "1885c6dc3ee547e599dc546799a12542",
      "5864519c764d41009f359ff0afce18f4",
      "28d2a656fe9646cbb05ce6fac3766a06",
      "ecc0312a976940e587a613db3f033984",
      "7fcb737bc2be4ec9a10759e9ebc476d4",
      "c7a3651b4a4345d09af6795d41fdf11a",
      "f6d5874922e34209bd2b1e488973caa3",
      "cb530d9fa6aa454f8ab9af96092f8d0b",
      "40da73ededcf4e399b82e149d166a43c",
      "f905c7aa3ca6410aa15faa6af89f0b3e",
      "ef0e76004f28432197b8cd418e51915d"
     ]
    },
    "id": "5Hg2MlpcOCXn",
    "outputId": "0f3b27b6-8ba6-4e27-e539-0e65c2659169"
   },
   "outputs": [],
   "source": [
    "tuned_svm = tune_model(create_svm, round=3)"
   ]
  },
  {
   "cell_type": "code",
   "execution_count": null,
   "metadata": {
    "colab": {
     "base_uri": "https://localhost:8080/"
    },
    "id": "VvWApKeyTVDY",
    "outputId": "d833d113-445b-47c0-dffc-ec0951a4d381"
   },
   "outputs": [],
   "source": [
    "#tuned model object is stored in the variable 'tuned_dt'.\n",
    "print(tuned_svm)"
   ]
  },
  {
   "cell_type": "markdown",
   "metadata": {},
   "source": [
    "**Q1**\n",
    "\n",
    "\n",
    "\n",
    "> Check which hyperparameters changed during tuning the model. How to pass custome grid for tuning( [check this](https://pycaret.gitbook.io/docs/get-started/functions/optimize#passing-custom-grid))? "
   ]
  },
  {
   "cell_type": "code",
   "execution_count": null,
   "metadata": {
    "colab": {
     "base_uri": "https://localhost:8080/",
     "height": 475,
     "referenced_widgets": [
      "6363587b16b444b3898e772c6d6ec639",
      "fb26467b768a44d6a65c14806ede0400",
      "0115c9e357c4462aaec2386efd480fe9",
      "1a7e1bdf07154f8bb105fb09bd48c9c5",
      "04f329fa1665467c8acf3024cbb173b6",
      "e5277ae57dba4d6a820ff7fbe61d7539",
      "6d813587c44b4628891c0831065044e6",
      "7d897bca009f49c29aff326639f865ab",
      "17a39b8d9c714f3984de1ae9cee314c6",
      "168155fd4f964987a8616503de0466e0",
      "7f5d01bdb00a494d9c6ce4a05501fd14"
     ]
    },
    "id": "Ge8AaoR5S2qm",
    "outputId": "0b684572-f516-4238-b5e3-ae5b3e2b8b3f"
   },
   "outputs": [],
   "source": [
    "tuned_lr = tune_model(create_lr, round=3)"
   ]
  },
  {
   "cell_type": "code",
   "execution_count": null,
   "metadata": {
    "colab": {
     "base_uri": "https://localhost:8080/",
     "height": 493,
     "referenced_widgets": [
      "ea63d83b208a4ea8b5d62eaed52bf081",
      "908df59e2bfc4453a12445fda5f7702f",
      "56d02617ac84422f8d6a205f15a0b1b1",
      "abf95cddad154864a9f52ef1e616875c",
      "7f82bf01d1314e9f877fb194a4b571de",
      "cafe404dc64e490aa588f29822e0d240",
      "5e7cc7f350084bee9ca6569e9facbfad",
      "34fc1524d3de4b7b82959c78934c8a88",
      "d66619af8de741ee997c53920e07f9b5",
      "c0ab89b6f2364f24a42130aaf6cfe2a0",
      "ffb97a14f89741f7b21f2a3cd1898705"
     ]
    },
    "id": "izR5y4wdTLbt",
    "outputId": "deb64d55-ba66-42d9-8f31-4b35b61a5ca3"
   },
   "outputs": [],
   "source": [
    "tuned_gbc = tune_model(create_gbc, round=3)"
   ]
  },
  {
   "cell_type": "markdown",
   "metadata": {
    "id": "5e22n7kyUe6Q"
   },
   "source": [
    "Notice how accuracy after tuning have changed like,\n",
    "\n",
    "**SVM:** from `0.749` to `0.778` </br>\n",
    "**LR:** from `0.767` to `0.785`  </br>\n",
    "\n"
   ]
  },
  {
   "cell_type": "markdown",
   "metadata": {
    "id": "HoY_cNNoVbsT"
   },
   "source": [
    "#Plot a Model\n",
    "Before model finalization, the plot_model() function can be used to analyze the performance across different aspects such as AUC, confusion_matrix, decision boundary etc. This function takes a trained model object and returns a plot based on the test / hold-out set.\n",
    "\n",
    "There are 15 different plots available."
   ]
  },
  {
   "cell_type": "code",
   "execution_count": null,
   "metadata": {
    "colab": {
     "base_uri": "https://localhost:8080/",
     "height": 524
    },
    "id": "q3baWstlTQZ-",
    "outputId": "6c6128b3-6f16-4875-b6fc-37ccc4127cec"
   },
   "outputs": [],
   "source": [
    "#AUC Plot\n",
    "plot_model(tuned_svm, plot = 'pr')\n"
   ]
  },
  {
   "cell_type": "code",
   "execution_count": null,
   "metadata": {
    "colab": {
     "base_uri": "https://localhost:8080/",
     "height": 485
    },
    "id": "ftTZTMiMYtKj",
    "outputId": "86d5a7da-dd29-4a62-a38d-1293c777e567"
   },
   "outputs": [],
   "source": [
    "plot_model(tuned_svm, plot='feature')\n"
   ]
  },
  {
   "cell_type": "markdown",
   "metadata": {
    "id": "5uUeKWrDac6k"
   },
   "source": [
    "\n",
    "> **Q2 :** What does feature importance mean? What are the most important features according to the feature plot? Plot the three most important variables with seaborn pairplot using 'Disease' as hue and see if you can notice any correlation.\n",
    "\n",
    "\n",
    "\n"
   ]
  },
  {
   "cell_type": "code",
   "execution_count": null,
   "metadata": {
    "colab": {
     "base_uri": "https://localhost:8080/",
     "height": 551
    },
    "id": "gNQ64sYwZYCu",
    "outputId": "932eef4e-0f04-4c0d-fc37-af19c2cf2a4e"
   },
   "outputs": [],
   "source": [
    "plot_model(tuned_svm, plot = 'confusion_matrix')\n"
   ]
  },
  {
   "cell_type": "markdown",
   "metadata": {
    "id": "08xmTOGGbVWD"
   },
   "source": [
    "plot_model(tuned_svm, plot = 'auc') This will return an error since SVM models, do not provide probability estimates directly. But AUC plot requires probability estimates to calculate the AUC score."
   ]
  },
  {
   "cell_type": "code",
   "execution_count": null,
   "metadata": {
    "colab": {
     "base_uri": "https://localhost:8080/",
     "height": 524
    },
    "id": "btuUyrDZZfkq",
    "outputId": "b3d369a4-4189-4b52-87b7-c19dea03b178"
   },
   "outputs": [],
   "source": [
    "plot_model(tuned_lr, plot = 'auc')"
   ]
  },
  {
   "cell_type": "code",
   "execution_count": null,
   "metadata": {
    "colab": {
     "base_uri": "https://localhost:8080/",
     "height": 485
    },
    "id": "rGy8cqjObFyK",
    "outputId": "120d6e19-0287-4879-c433-c39abc7dd471"
   },
   "outputs": [],
   "source": [
    "plot_model(tuned_lr, plot='feature')"
   ]
  },
  {
   "cell_type": "code",
   "execution_count": null,
   "metadata": {
    "colab": {
     "base_uri": "https://localhost:8080/",
     "height": 551
    },
    "id": "x7phV0owbsOK",
    "outputId": "15dc6ec7-bd5b-46d8-f7f2-5ed5a1dd7108"
   },
   "outputs": [],
   "source": [
    "plot_model(tuned_lr, plot = 'confusion_matrix')\n"
   ]
  },
  {
   "cell_type": "markdown",
   "metadata": {
    "id": "CWRYThnBdRX2"
   },
   "source": [
    "Another way to analyze the performance of models is to use the evaluate_model() function which displays a user interface for all of the available plots for a given model. It internally uses the plot_model() function."
   ]
  },
  {
   "cell_type": "code",
   "execution_count": null,
   "metadata": {
    "colab": {
     "base_uri": "https://localhost:8080/",
     "height": 665,
     "referenced_widgets": [
      "9498e046fe974e9a86170ae12b5adff8",
      "4f328b08a8e145b6b9be29b509a3abf6",
      "701b363566494425a340ae2c2b5c17a9",
      "6ac11bd448ec454dbf1f1e4ac1e3d459",
      "1a2cbbd29d4e432386f12fb22b1924f4",
      "96287a49299144a2981a6d8dc45ce1f9",
      "0b8ef881c7fc4bf39d042663ee8015f0"
     ]
    },
    "id": "q0oKHSSab12t",
    "outputId": "76528377-4478-4668-a1a1-f038a0ea1855"
   },
   "outputs": [],
   "source": [
    "evaluate_model(tuned_gbc)\n"
   ]
  },
  {
   "cell_type": "markdown",
   "metadata": {
    "id": "28y5F6E6u8OU"
   },
   "source": [
    "> **Q3:** Explain the plots you have got from the three models"
   ]
  },
  {
   "cell_type": "markdown",
   "metadata": {
    "id": "YVZxp2qQdjhL"
   },
   "source": [
    "#Predict on test / hold-out Sample"
   ]
  },
  {
   "cell_type": "markdown",
   "metadata": {
    "id": "FE_nBPX4d6d5"
   },
   "source": [
    "Before finalizing the model, it is advisable to perform one final check by predicting the test/hold-out set and reviewing the evaluation metrics. If you look at the information grid after running `setup()`, you will see that 30% (119 samples) of the data has been separated out as test/hold-out sample. All of the evaluation metrics we have seen above are cross validated results based on the training set (70%) only. Now, using our final trained model stored in the tuned models (most accurate model) variable we will predict against the hold-out sample and evaluate the metrics to see if they are materially different than the cross validated results.\n",
    "\n",
    "When data is None (default), it uses the test set (created during the setup function) for scoring."
   ]
  },
  {
   "cell_type": "code",
   "execution_count": null,
   "metadata": {
    "colab": {
     "base_uri": "https://localhost:8080/",
     "height": 81
    },
    "id": "fhmWj57qdVOn",
    "outputId": "807ab52a-c49a-475e-8963-e14216d686e9"
   },
   "outputs": [],
   "source": [
    "predict_model(tuned_svm);\n"
   ]
  },
  {
   "cell_type": "markdown",
   "metadata": {
    "id": "0wSm762IfKGN"
   },
   "source": [
    "The accuracy of test set is `0.806` compared to `0.778` achieved with the train set. Dataset is quite small so in that context this is not significant difference but if there is a large variation between the test and train results, it might indicate over-fitting (if train-score is higher than test) but could also be due to several other factors and would require further investigation. In this case, accuracy of test set is higher than training so will move forward with finalizing the model.\n",
    "\n",
    "\n"
   ]
  },
  {
   "cell_type": "markdown",
   "metadata": {
    "id": "qZk5noSQjVtK"
   },
   "source": [
    "# Finalize model\n",
    "\n",
    "Model finalization is the last step in the experiment. The purpose of this function is to train the model on the complete dataset including test data, before it is deployed in production.\n",
    "\n",
    "This function doesn't change any parameter of the model. It only refits on the entire dataset including the hold-out set."
   ]
  },
  {
   "cell_type": "code",
   "execution_count": null,
   "metadata": {
    "colab": {
     "base_uri": "https://localhost:8080/",
     "height": 577
    },
    "id": "GtngxpfVe-_G",
    "outputId": "75e56ced-8289-4d7e-ed0b-dcca765a5966"
   },
   "outputs": [],
   "source": [
    "final_svm = finalize_model(tuned_svm)\n",
    "final_svm"
   ]
  },
  {
   "cell_type": "markdown",
   "metadata": {
    "id": "p66V3vl8lYXl"
   },
   "source": [
    "# Predict on unseen data\n",
    "\n",
    "Now we have a fully trained model we could start using new data. Because we used all our data for training and have no new data to test the model we can only demonstrate using the same data."
   ]
  },
  {
   "cell_type": "code",
   "execution_count": null,
   "metadata": {
    "colab": {
     "base_uri": "https://localhost:8080/",
     "height": 270
    },
    "id": "7ucJRFdHj1Md",
    "outputId": "c845233c-dd69-49fe-adfd-dd2b3122ddc1"
   },
   "outputs": [],
   "source": [
    "predictions = predict_model(final_svm, data=df) # pass the model and unseen-data as parameters\n",
    "predictions.head()"
   ]
  },
  {
   "cell_type": "markdown",
   "metadata": {
    "id": "5kx2w1uYnylw"
   },
   "source": [
    "The *Label* and *Score* columns can add onto the dataframe. Label is the prediction and score is the probability of the prediction. Notice that predicted results are concatenated to the original dataset while all the transformations are automatically performed in the background. You can also check the metrics using `pycaret.utils module`. You can do this easily with basic python too, but this is a simple way if you want to check any metrics (such as recall) as well. See example below:"
   ]
  },
  {
   "cell_type": "code",
   "execution_count": null,
   "metadata": {
    "colab": {
     "base_uri": "https://localhost:8080/"
    },
    "id": "2TLdKCWrlpeJ",
    "outputId": "032c641d-4a41-4cb8-dfce-fbdd588e61be"
   },
   "outputs": [],
   "source": [
    "\n",
    "# compare target and predicted labels\n",
    "print(\"Prediction accuracy\", check_metric(df['Outcome'], predictions['prediction_label'], metric = 'Accuracy'))\n",
    "print(\"Prediction recall\",check_metric(df['Outcome'], predictions['prediction_label'], metric = 'Recall'))"
   ]
  },
  {
   "cell_type": "markdown",
   "metadata": {
    "id": "2GhmxEw2pnEV"
   },
   "source": [
    "# Saving the model"
   ]
  },
  {
   "cell_type": "markdown",
   "metadata": {
    "id": "Q3_2wQagqePX"
   },
   "source": [
    "We have now finished the experiment by finalizing the tuned_svm model which is now stored in final_svm variable. We have also used the model stored in final_svm to predict data_unseen. This brings us to the end of our experiment, but one question is still to be asked: What happens when you have more new data to predict? Do you have to go through the entire experiment again? The answer is no, PyCaret's inbuilt function save_model() allows you to save the model along with entire transformation pipeline for later use."
   ]
  },
  {
   "cell_type": "code",
   "execution_count": null,
   "metadata": {
    "colab": {
     "base_uri": "https://localhost:8080/"
    },
    "id": "yg-FOZZkqMZH",
    "outputId": "9240e30e-1372-4cc1-d7d8-5230cc66b14b"
   },
   "outputs": [],
   "source": [
    "save_model(final_svm,'Final svm Model')\n"
   ]
  },
  {
   "cell_type": "markdown",
   "metadata": {
    "id": "xpu5sBSeq2zc"
   },
   "source": [
    "# load saved data"
   ]
  },
  {
   "cell_type": "markdown",
   "metadata": {
    "id": "--BV_C-Eq5lM"
   },
   "source": [
    "To load a saved model at a future date in the same or an alternative environment, we would use PyCaret's load_model() function and then easily apply the saved model on new unseen data for prediction."
   ]
  },
  {
   "cell_type": "code",
   "execution_count": null,
   "metadata": {
    "colab": {
     "base_uri": "https://localhost:8080/"
    },
    "id": "17FF8ywEqual",
    "outputId": "0f88eb7c-cb3b-41ec-94a8-9d5019017f2a"
   },
   "outputs": [],
   "source": [
    "saved_final_svm = load_model('Final svm Model')\n"
   ]
  },
  {
   "cell_type": "markdown",
   "metadata": {
    "id": "RVmlxqnDrK5B"
   },
   "source": [
    "Once the model is loaded in the environment, you can simply use it to predict on any new data using the same predict_model() function. Below we have applied the loaded model to predict the same dataset."
   ]
  },
  {
   "cell_type": "code",
   "execution_count": null,
   "metadata": {
    "colab": {
     "base_uri": "https://localhost:8080/",
     "height": 487
    },
    "id": "2ekuNBQErBLu",
    "outputId": "6960dece-6489-4c64-8880-73ed79e28271"
   },
   "outputs": [],
   "source": [
    "new_prediction = predict_model(saved_final_svm, data=df)\n",
    "new_prediction\n"
   ]
  },
  {
   "cell_type": "markdown",
   "metadata": {
    "id": "cEZzH1RmtSMo"
   },
   "source": [
    "> **Q4 :**\n",
    "What do you think about the acuracy scores from the trained model, tuned model and finalized model? What we can do to increase the acuracy scores?"
   ]
  },
  {
   "cell_type": "markdown",
   "metadata": {},
   "source": []
  }
 ],
 "metadata": {
  "colab": {
   "provenance": []
  },
  "kernelspec": {
   "display_name": "Python 3 (ipykernel)",
   "language": "python",
   "name": "python3"
  },
  "language_info": {
   "codemirror_mode": {
    "name": "ipython",
    "version": 3
   },
   "file_extension": ".py",
   "mimetype": "text/x-python",
   "name": "python",
   "nbconvert_exporter": "python",
   "pygments_lexer": "ipython3",
   "version": "3.11.5"
  },
  "widgets": {
   "application/vnd.jupyter.widget-state+json": {
    "01067084abac443a9af3f5266158b787": {
     "model_module": "@jupyter-widgets/base",
     "model_module_version": "1.2.0",
     "model_name": "LayoutModel",
     "state": {
      "_model_module": "@jupyter-widgets/base",
      "_model_module_version": "1.2.0",
      "_model_name": "LayoutModel",
      "_view_count": null,
      "_view_module": "@jupyter-widgets/base",
      "_view_module_version": "1.2.0",
      "_view_name": "LayoutView",
      "align_content": null,
      "align_items": null,
      "align_self": null,
      "border": null,
      "bottom": null,
      "display": null,
      "flex": null,
      "flex_flow": null,
      "grid_area": null,
      "grid_auto_columns": null,
      "grid_auto_flow": null,
      "grid_auto_rows": null,
      "grid_column": null,
      "grid_gap": null,
      "grid_row": null,
      "grid_template_areas": null,
      "grid_template_columns": null,
      "grid_template_rows": null,
      "height": null,
      "justify_content": null,
      "justify_items": null,
      "left": null,
      "margin": null,
      "max_height": null,
      "max_width": null,
      "min_height": null,
      "min_width": null,
      "object_fit": null,
      "object_position": null,
      "order": null,
      "overflow": null,
      "overflow_x": null,
      "overflow_y": null,
      "padding": null,
      "right": null,
      "top": null,
      "visibility": null,
      "width": null
     }
    },
    "0115c9e357c4462aaec2386efd480fe9": {
     "model_module": "@jupyter-widgets/controls",
     "model_module_version": "1.5.0",
     "model_name": "FloatProgressModel",
     "state": {
      "_dom_classes": [],
      "_model_module": "@jupyter-widgets/controls",
      "_model_module_version": "1.5.0",
      "_model_name": "FloatProgressModel",
      "_view_count": null,
      "_view_module": "@jupyter-widgets/controls",
      "_view_module_version": "1.5.0",
      "_view_name": "ProgressView",
      "bar_style": "",
      "description": "",
      "description_tooltip": null,
      "layout": "IPY_MODEL_7d897bca009f49c29aff326639f865ab",
      "max": 7,
      "min": 0,
      "orientation": "horizontal",
      "style": "IPY_MODEL_17a39b8d9c714f3984de1ae9cee314c6",
      "value": 7
     }
    },
    "04f329fa1665467c8acf3024cbb173b6": {
     "model_module": "@jupyter-widgets/base",
     "model_module_version": "1.2.0",
     "model_name": "LayoutModel",
     "state": {
      "_model_module": "@jupyter-widgets/base",
      "_model_module_version": "1.2.0",
      "_model_name": "LayoutModel",
      "_view_count": null,
      "_view_module": "@jupyter-widgets/base",
      "_view_module_version": "1.2.0",
      "_view_name": "LayoutView",
      "align_content": null,
      "align_items": null,
      "align_self": null,
      "border": null,
      "bottom": null,
      "display": null,
      "flex": null,
      "flex_flow": null,
      "grid_area": null,
      "grid_auto_columns": null,
      "grid_auto_flow": null,
      "grid_auto_rows": null,
      "grid_column": null,
      "grid_gap": null,
      "grid_row": null,
      "grid_template_areas": null,
      "grid_template_columns": null,
      "grid_template_rows": null,
      "height": null,
      "justify_content": null,
      "justify_items": null,
      "left": null,
      "margin": null,
      "max_height": null,
      "max_width": null,
      "min_height": null,
      "min_width": null,
      "object_fit": null,
      "object_position": null,
      "order": null,
      "overflow": null,
      "overflow_x": null,
      "overflow_y": null,
      "padding": null,
      "right": null,
      "top": null,
      "visibility": "hidden",
      "width": null
     }
    },
    "0aa6e2ed9417494785be7544617d5a02": {
     "model_module": "@jupyter-widgets/controls",
     "model_module_version": "1.5.0",
     "model_name": "DescriptionStyleModel",
     "state": {
      "_model_module": "@jupyter-widgets/controls",
      "_model_module_version": "1.5.0",
      "_model_name": "DescriptionStyleModel",
      "_view_count": null,
      "_view_module": "@jupyter-widgets/base",
      "_view_module_version": "1.2.0",
      "_view_name": "StyleView",
      "description_width": ""
     }
    },
    "0b8ef881c7fc4bf39d042663ee8015f0": {
     "model_module": "@jupyter-widgets/base",
     "model_module_version": "1.2.0",
     "model_name": "LayoutModel",
     "state": {
      "_model_module": "@jupyter-widgets/base",
      "_model_module_version": "1.2.0",
      "_model_name": "LayoutModel",
      "_view_count": null,
      "_view_module": "@jupyter-widgets/base",
      "_view_module_version": "1.2.0",
      "_view_name": "LayoutView",
      "align_content": null,
      "align_items": null,
      "align_self": null,
      "border": null,
      "bottom": null,
      "display": null,
      "flex": null,
      "flex_flow": null,
      "grid_area": null,
      "grid_auto_columns": null,
      "grid_auto_flow": null,
      "grid_auto_rows": null,
      "grid_column": null,
      "grid_gap": null,
      "grid_row": null,
      "grid_template_areas": null,
      "grid_template_columns": null,
      "grid_template_rows": null,
      "height": null,
      "justify_content": null,
      "justify_items": null,
      "left": null,
      "margin": null,
      "max_height": null,
      "max_width": null,
      "min_height": null,
      "min_width": null,
      "object_fit": null,
      "object_position": null,
      "order": null,
      "overflow": null,
      "overflow_x": null,
      "overflow_y": null,
      "padding": null,
      "right": null,
      "top": null,
      "visibility": null,
      "width": null
     }
    },
    "0c535672727243f9bbdf1dd082ed50b7": {
     "model_module": "@jupyter-widgets/controls",
     "model_module_version": "1.5.0",
     "model_name": "HBoxModel",
     "state": {
      "_dom_classes": [],
      "_model_module": "@jupyter-widgets/controls",
      "_model_module_version": "1.5.0",
      "_model_name": "HBoxModel",
      "_view_count": null,
      "_view_module": "@jupyter-widgets/controls",
      "_view_module_version": "1.5.0",
      "_view_name": "HBoxView",
      "box_style": "",
      "children": [
       "IPY_MODEL_d504c018e19f4fdea4c769122fe47fa9",
       "IPY_MODEL_dc907abb623c4d2d95bea21a3522c685",
       "IPY_MODEL_acfc9c41f157417784a25f7b499834f4"
      ],
      "layout": "IPY_MODEL_1047aaa166c946d08526f0602bdbdda1"
     }
    },
    "0d6b815a3cd84613943a2e4fb194f834": {
     "model_module": "@jupyter-widgets/controls",
     "model_module_version": "1.5.0",
     "model_name": "HTMLModel",
     "state": {
      "_dom_classes": [],
      "_model_module": "@jupyter-widgets/controls",
      "_model_module_version": "1.5.0",
      "_model_name": "HTMLModel",
      "_view_count": null,
      "_view_module": "@jupyter-widgets/controls",
      "_view_module_version": "1.5.0",
      "_view_name": "HTMLView",
      "description": "",
      "description_tooltip": null,
      "layout": "IPY_MODEL_8faac32f515b4273afdf0bc369e21651",
      "placeholder": "​",
      "style": "IPY_MODEL_ed57b9cba03840be805448cd33aeafcb",
      "value": " 3/4 [00:01&lt;00:00,  2.23it/s]"
     }
    },
    "1047aaa166c946d08526f0602bdbdda1": {
     "model_module": "@jupyter-widgets/base",
     "model_module_version": "1.2.0",
     "model_name": "LayoutModel",
     "state": {
      "_model_module": "@jupyter-widgets/base",
      "_model_module_version": "1.2.0",
      "_model_name": "LayoutModel",
      "_view_count": null,
      "_view_module": "@jupyter-widgets/base",
      "_view_module_version": "1.2.0",
      "_view_name": "LayoutView",
      "align_content": null,
      "align_items": null,
      "align_self": null,
      "border": null,
      "bottom": null,
      "display": null,
      "flex": null,
      "flex_flow": null,
      "grid_area": null,
      "grid_auto_columns": null,
      "grid_auto_flow": null,
      "grid_auto_rows": null,
      "grid_column": null,
      "grid_gap": null,
      "grid_row": null,
      "grid_template_areas": null,
      "grid_template_columns": null,
      "grid_template_rows": null,
      "height": null,
      "justify_content": null,
      "justify_items": null,
      "left": null,
      "margin": null,
      "max_height": null,
      "max_width": null,
      "min_height": null,
      "min_width": null,
      "object_fit": null,
      "object_position": null,
      "order": null,
      "overflow": null,
      "overflow_x": null,
      "overflow_y": null,
      "padding": null,
      "right": null,
      "top": null,
      "visibility": "hidden",
      "width": null
     }
    },
    "10ef88d5d3fd4cfbb3dbbf04c5f0a528": {
     "model_module": "@jupyter-widgets/controls",
     "model_module_version": "1.5.0",
     "model_name": "HTMLModel",
     "state": {
      "_dom_classes": [],
      "_model_module": "@jupyter-widgets/controls",
      "_model_module_version": "1.5.0",
      "_model_name": "HTMLModel",
      "_view_count": null,
      "_view_module": "@jupyter-widgets/controls",
      "_view_module_version": "1.5.0",
      "_view_name": "HTMLView",
      "description": "",
      "description_tooltip": null,
      "layout": "IPY_MODEL_91e9151a04f84ceeb8c1434acb3e5d0a",
      "placeholder": "​",
      "style": "IPY_MODEL_4f386da6e5914c2cb9104cac5fa6443d",
      "value": "Processing:  75%"
     }
    },
    "135fe0afb4274fdabc75bf930ea69e14": {
     "model_module": "@jupyter-widgets/controls",
     "model_module_version": "1.5.0",
     "model_name": "FloatProgressModel",
     "state": {
      "_dom_classes": [],
      "_model_module": "@jupyter-widgets/controls",
      "_model_module_version": "1.5.0",
      "_model_name": "FloatProgressModel",
      "_view_count": null,
      "_view_module": "@jupyter-widgets/controls",
      "_view_module_version": "1.5.0",
      "_view_name": "ProgressView",
      "bar_style": "",
      "description": "",
      "description_tooltip": null,
      "layout": "IPY_MODEL_b42c27b8204445a28867023d0d7b3e0c",
      "max": 65,
      "min": 0,
      "orientation": "horizontal",
      "style": "IPY_MODEL_269b8d99eb6242f79eb563cf507a3575",
      "value": 65
     }
    },
    "155736a54beb4d7d9d482a8c0e135da6": {
     "model_module": "@jupyter-widgets/base",
     "model_module_version": "1.2.0",
     "model_name": "LayoutModel",
     "state": {
      "_model_module": "@jupyter-widgets/base",
      "_model_module_version": "1.2.0",
      "_model_name": "LayoutModel",
      "_view_count": null,
      "_view_module": "@jupyter-widgets/base",
      "_view_module_version": "1.2.0",
      "_view_name": "LayoutView",
      "align_content": null,
      "align_items": null,
      "align_self": null,
      "border": null,
      "bottom": null,
      "display": null,
      "flex": null,
      "flex_flow": null,
      "grid_area": null,
      "grid_auto_columns": null,
      "grid_auto_flow": null,
      "grid_auto_rows": null,
      "grid_column": null,
      "grid_gap": null,
      "grid_row": null,
      "grid_template_areas": null,
      "grid_template_columns": null,
      "grid_template_rows": null,
      "height": null,
      "justify_content": null,
      "justify_items": null,
      "left": null,
      "margin": null,
      "max_height": null,
      "max_width": null,
      "min_height": null,
      "min_width": null,
      "object_fit": null,
      "object_position": null,
      "order": null,
      "overflow": null,
      "overflow_x": null,
      "overflow_y": null,
      "padding": null,
      "right": null,
      "top": null,
      "visibility": null,
      "width": null
     }
    },
    "168155fd4f964987a8616503de0466e0": {
     "model_module": "@jupyter-widgets/base",
     "model_module_version": "1.2.0",
     "model_name": "LayoutModel",
     "state": {
      "_model_module": "@jupyter-widgets/base",
      "_model_module_version": "1.2.0",
      "_model_name": "LayoutModel",
      "_view_count": null,
      "_view_module": "@jupyter-widgets/base",
      "_view_module_version": "1.2.0",
      "_view_name": "LayoutView",
      "align_content": null,
      "align_items": null,
      "align_self": null,
      "border": null,
      "bottom": null,
      "display": null,
      "flex": null,
      "flex_flow": null,
      "grid_area": null,
      "grid_auto_columns": null,
      "grid_auto_flow": null,
      "grid_auto_rows": null,
      "grid_column": null,
      "grid_gap": null,
      "grid_row": null,
      "grid_template_areas": null,
      "grid_template_columns": null,
      "grid_template_rows": null,
      "height": null,
      "justify_content": null,
      "justify_items": null,
      "left": null,
      "margin": null,
      "max_height": null,
      "max_width": null,
      "min_height": null,
      "min_width": null,
      "object_fit": null,
      "object_position": null,
      "order": null,
      "overflow": null,
      "overflow_x": null,
      "overflow_y": null,
      "padding": null,
      "right": null,
      "top": null,
      "visibility": null,
      "width": null
     }
    },
    "17a39b8d9c714f3984de1ae9cee314c6": {
     "model_module": "@jupyter-widgets/controls",
     "model_module_version": "1.5.0",
     "model_name": "ProgressStyleModel",
     "state": {
      "_model_module": "@jupyter-widgets/controls",
      "_model_module_version": "1.5.0",
      "_model_name": "ProgressStyleModel",
      "_view_count": null,
      "_view_module": "@jupyter-widgets/base",
      "_view_module_version": "1.2.0",
      "_view_name": "StyleView",
      "bar_color": null,
      "description_width": ""
     }
    },
    "1885c6dc3ee547e599dc546799a12542": {
     "model_module": "@jupyter-widgets/controls",
     "model_module_version": "1.5.0",
     "model_name": "HBoxModel",
     "state": {
      "_dom_classes": [],
      "_model_module": "@jupyter-widgets/controls",
      "_model_module_version": "1.5.0",
      "_model_name": "HBoxModel",
      "_view_count": null,
      "_view_module": "@jupyter-widgets/controls",
      "_view_module_version": "1.5.0",
      "_view_name": "HBoxView",
      "box_style": "",
      "children": [
       "IPY_MODEL_5864519c764d41009f359ff0afce18f4",
       "IPY_MODEL_28d2a656fe9646cbb05ce6fac3766a06",
       "IPY_MODEL_ecc0312a976940e587a613db3f033984"
      ],
      "layout": "IPY_MODEL_7fcb737bc2be4ec9a10759e9ebc476d4"
     }
    },
    "196510148e48451180d4f7affd3d6b18": {
     "model_module": "@jupyter-widgets/base",
     "model_module_version": "1.2.0",
     "model_name": "LayoutModel",
     "state": {
      "_model_module": "@jupyter-widgets/base",
      "_model_module_version": "1.2.0",
      "_model_name": "LayoutModel",
      "_view_count": null,
      "_view_module": "@jupyter-widgets/base",
      "_view_module_version": "1.2.0",
      "_view_name": "LayoutView",
      "align_content": null,
      "align_items": null,
      "align_self": null,
      "border": null,
      "bottom": null,
      "display": null,
      "flex": null,
      "flex_flow": null,
      "grid_area": null,
      "grid_auto_columns": null,
      "grid_auto_flow": null,
      "grid_auto_rows": null,
      "grid_column": null,
      "grid_gap": null,
      "grid_row": null,
      "grid_template_areas": null,
      "grid_template_columns": null,
      "grid_template_rows": null,
      "height": null,
      "justify_content": null,
      "justify_items": null,
      "left": null,
      "margin": null,
      "max_height": null,
      "max_width": null,
      "min_height": null,
      "min_width": null,
      "object_fit": null,
      "object_position": null,
      "order": null,
      "overflow": null,
      "overflow_x": null,
      "overflow_y": null,
      "padding": null,
      "right": null,
      "top": null,
      "visibility": null,
      "width": null
     }
    },
    "19e591276cc44dff982171a8cc994c7f": {
     "model_module": "@jupyter-widgets/controls",
     "model_module_version": "1.5.0",
     "model_name": "HTMLModel",
     "state": {
      "_dom_classes": [],
      "_model_module": "@jupyter-widgets/controls",
      "_model_module_version": "1.5.0",
      "_model_name": "HTMLModel",
      "_view_count": null,
      "_view_module": "@jupyter-widgets/controls",
      "_view_module_version": "1.5.0",
      "_view_name": "HTMLView",
      "description": "",
      "description_tooltip": null,
      "layout": "IPY_MODEL_155736a54beb4d7d9d482a8c0e135da6",
      "placeholder": "​",
      "style": "IPY_MODEL_9c24e95875fa43149f81fc9c27de4e11",
      "value": "Processing: 100%"
     }
    },
    "1a2cbbd29d4e432386f12fb22b1924f4": {
     "model_module": "@jupyter-widgets/base",
     "model_module_version": "1.2.0",
     "model_name": "LayoutModel",
     "state": {
      "_model_module": "@jupyter-widgets/base",
      "_model_module_version": "1.2.0",
      "_model_name": "LayoutModel",
      "_view_count": null,
      "_view_module": "@jupyter-widgets/base",
      "_view_module_version": "1.2.0",
      "_view_name": "LayoutView",
      "align_content": null,
      "align_items": null,
      "align_self": null,
      "border": null,
      "bottom": null,
      "display": null,
      "flex": null,
      "flex_flow": null,
      "grid_area": null,
      "grid_auto_columns": null,
      "grid_auto_flow": null,
      "grid_auto_rows": null,
      "grid_column": null,
      "grid_gap": null,
      "grid_row": null,
      "grid_template_areas": null,
      "grid_template_columns": null,
      "grid_template_rows": null,
      "height": null,
      "justify_content": null,
      "justify_items": null,
      "left": null,
      "margin": null,
      "max_height": null,
      "max_width": null,
      "min_height": null,
      "min_width": null,
      "object_fit": null,
      "object_position": null,
      "order": null,
      "overflow": null,
      "overflow_x": null,
      "overflow_y": null,
      "padding": null,
      "right": null,
      "top": null,
      "visibility": null,
      "width": null
     }
    },
    "1a4456097b364294b2a8031e0ad38ff8": {
     "model_module": "@jupyter-widgets/base",
     "model_module_version": "1.2.0",
     "model_name": "LayoutModel",
     "state": {
      "_model_module": "@jupyter-widgets/base",
      "_model_module_version": "1.2.0",
      "_model_name": "LayoutModel",
      "_view_count": null,
      "_view_module": "@jupyter-widgets/base",
      "_view_module_version": "1.2.0",
      "_view_name": "LayoutView",
      "align_content": null,
      "align_items": null,
      "align_self": null,
      "border": null,
      "bottom": null,
      "display": null,
      "flex": null,
      "flex_flow": null,
      "grid_area": null,
      "grid_auto_columns": null,
      "grid_auto_flow": null,
      "grid_auto_rows": null,
      "grid_column": null,
      "grid_gap": null,
      "grid_row": null,
      "grid_template_areas": null,
      "grid_template_columns": null,
      "grid_template_rows": null,
      "height": null,
      "justify_content": null,
      "justify_items": null,
      "left": null,
      "margin": null,
      "max_height": null,
      "max_width": null,
      "min_height": null,
      "min_width": null,
      "object_fit": null,
      "object_position": null,
      "order": null,
      "overflow": null,
      "overflow_x": null,
      "overflow_y": null,
      "padding": null,
      "right": null,
      "top": null,
      "visibility": null,
      "width": null
     }
    },
    "1a7e1bdf07154f8bb105fb09bd48c9c5": {
     "model_module": "@jupyter-widgets/controls",
     "model_module_version": "1.5.0",
     "model_name": "HTMLModel",
     "state": {
      "_dom_classes": [],
      "_model_module": "@jupyter-widgets/controls",
      "_model_module_version": "1.5.0",
      "_model_name": "HTMLModel",
      "_view_count": null,
      "_view_module": "@jupyter-widgets/controls",
      "_view_module_version": "1.5.0",
      "_view_name": "HTMLView",
      "description": "",
      "description_tooltip": null,
      "layout": "IPY_MODEL_168155fd4f964987a8616503de0466e0",
      "placeholder": "​",
      "style": "IPY_MODEL_7f5d01bdb00a494d9c6ce4a05501fd14",
      "value": " 6/7 [00:07&lt;00:01,  1.03s/it]"
     }
    },
    "1a8c667847b14a51a92f92044ab025db": {
     "model_module": "@jupyter-widgets/controls",
     "model_module_version": "1.5.0",
     "model_name": "FloatProgressModel",
     "state": {
      "_dom_classes": [],
      "_model_module": "@jupyter-widgets/controls",
      "_model_module_version": "1.5.0",
      "_model_name": "FloatProgressModel",
      "_view_count": null,
      "_view_module": "@jupyter-widgets/controls",
      "_view_module_version": "1.5.0",
      "_view_name": "ProgressView",
      "bar_style": "",
      "description": "",
      "description_tooltip": null,
      "layout": "IPY_MODEL_2749a739c89c419b9b69354c67a18a6c",
      "max": 4,
      "min": 0,
      "orientation": "horizontal",
      "style": "IPY_MODEL_ba0652528ada4e17b3eafe25a9abc567",
      "value": 4
     }
    },
    "201659dc43f04547a85e8a0c2be0a6ed": {
     "model_module": "@jupyter-widgets/base",
     "model_module_version": "1.2.0",
     "model_name": "LayoutModel",
     "state": {
      "_model_module": "@jupyter-widgets/base",
      "_model_module_version": "1.2.0",
      "_model_name": "LayoutModel",
      "_view_count": null,
      "_view_module": "@jupyter-widgets/base",
      "_view_module_version": "1.2.0",
      "_view_name": "LayoutView",
      "align_content": null,
      "align_items": null,
      "align_self": null,
      "border": null,
      "bottom": null,
      "display": null,
      "flex": null,
      "flex_flow": null,
      "grid_area": null,
      "grid_auto_columns": null,
      "grid_auto_flow": null,
      "grid_auto_rows": null,
      "grid_column": null,
      "grid_gap": null,
      "grid_row": null,
      "grid_template_areas": null,
      "grid_template_columns": null,
      "grid_template_rows": null,
      "height": null,
      "justify_content": null,
      "justify_items": null,
      "left": null,
      "margin": null,
      "max_height": null,
      "max_width": null,
      "min_height": null,
      "min_width": null,
      "object_fit": null,
      "object_position": null,
      "order": null,
      "overflow": null,
      "overflow_x": null,
      "overflow_y": null,
      "padding": null,
      "right": null,
      "top": null,
      "visibility": null,
      "width": null
     }
    },
    "269b8d99eb6242f79eb563cf507a3575": {
     "model_module": "@jupyter-widgets/controls",
     "model_module_version": "1.5.0",
     "model_name": "ProgressStyleModel",
     "state": {
      "_model_module": "@jupyter-widgets/controls",
      "_model_module_version": "1.5.0",
      "_model_name": "ProgressStyleModel",
      "_view_count": null,
      "_view_module": "@jupyter-widgets/base",
      "_view_module_version": "1.2.0",
      "_view_name": "StyleView",
      "bar_color": null,
      "description_width": ""
     }
    },
    "2749a739c89c419b9b69354c67a18a6c": {
     "model_module": "@jupyter-widgets/base",
     "model_module_version": "1.2.0",
     "model_name": "LayoutModel",
     "state": {
      "_model_module": "@jupyter-widgets/base",
      "_model_module_version": "1.2.0",
      "_model_name": "LayoutModel",
      "_view_count": null,
      "_view_module": "@jupyter-widgets/base",
      "_view_module_version": "1.2.0",
      "_view_name": "LayoutView",
      "align_content": null,
      "align_items": null,
      "align_self": null,
      "border": null,
      "bottom": null,
      "display": null,
      "flex": null,
      "flex_flow": null,
      "grid_area": null,
      "grid_auto_columns": null,
      "grid_auto_flow": null,
      "grid_auto_rows": null,
      "grid_column": null,
      "grid_gap": null,
      "grid_row": null,
      "grid_template_areas": null,
      "grid_template_columns": null,
      "grid_template_rows": null,
      "height": null,
      "justify_content": null,
      "justify_items": null,
      "left": null,
      "margin": null,
      "max_height": null,
      "max_width": null,
      "min_height": null,
      "min_width": null,
      "object_fit": null,
      "object_position": null,
      "order": null,
      "overflow": null,
      "overflow_x": null,
      "overflow_y": null,
      "padding": null,
      "right": null,
      "top": null,
      "visibility": null,
      "width": null
     }
    },
    "28d2a656fe9646cbb05ce6fac3766a06": {
     "model_module": "@jupyter-widgets/controls",
     "model_module_version": "1.5.0",
     "model_name": "FloatProgressModel",
     "state": {
      "_dom_classes": [],
      "_model_module": "@jupyter-widgets/controls",
      "_model_module_version": "1.5.0",
      "_model_name": "FloatProgressModel",
      "_view_count": null,
      "_view_module": "@jupyter-widgets/controls",
      "_view_module_version": "1.5.0",
      "_view_name": "ProgressView",
      "bar_style": "",
      "description": "",
      "description_tooltip": null,
      "layout": "IPY_MODEL_cb530d9fa6aa454f8ab9af96092f8d0b",
      "max": 7,
      "min": 0,
      "orientation": "horizontal",
      "style": "IPY_MODEL_40da73ededcf4e399b82e149d166a43c",
      "value": 7
     }
    },
    "34fc1524d3de4b7b82959c78934c8a88": {
     "model_module": "@jupyter-widgets/base",
     "model_module_version": "1.2.0",
     "model_name": "LayoutModel",
     "state": {
      "_model_module": "@jupyter-widgets/base",
      "_model_module_version": "1.2.0",
      "_model_name": "LayoutModel",
      "_view_count": null,
      "_view_module": "@jupyter-widgets/base",
      "_view_module_version": "1.2.0",
      "_view_name": "LayoutView",
      "align_content": null,
      "align_items": null,
      "align_self": null,
      "border": null,
      "bottom": null,
      "display": null,
      "flex": null,
      "flex_flow": null,
      "grid_area": null,
      "grid_auto_columns": null,
      "grid_auto_flow": null,
      "grid_auto_rows": null,
      "grid_column": null,
      "grid_gap": null,
      "grid_row": null,
      "grid_template_areas": null,
      "grid_template_columns": null,
      "grid_template_rows": null,
      "height": null,
      "justify_content": null,
      "justify_items": null,
      "left": null,
      "margin": null,
      "max_height": null,
      "max_width": null,
      "min_height": null,
      "min_width": null,
      "object_fit": null,
      "object_position": null,
      "order": null,
      "overflow": null,
      "overflow_x": null,
      "overflow_y": null,
      "padding": null,
      "right": null,
      "top": null,
      "visibility": null,
      "width": null
     }
    },
    "40da73ededcf4e399b82e149d166a43c": {
     "model_module": "@jupyter-widgets/controls",
     "model_module_version": "1.5.0",
     "model_name": "ProgressStyleModel",
     "state": {
      "_model_module": "@jupyter-widgets/controls",
      "_model_module_version": "1.5.0",
      "_model_name": "ProgressStyleModel",
      "_view_count": null,
      "_view_module": "@jupyter-widgets/base",
      "_view_module_version": "1.2.0",
      "_view_name": "StyleView",
      "bar_color": null,
      "description_width": ""
     }
    },
    "4f328b08a8e145b6b9be29b509a3abf6": {
     "model_module": "@jupyter-widgets/controls",
     "model_module_version": "1.5.0",
     "model_name": "ToggleButtonsModel",
     "state": {
      "_dom_classes": [],
      "_model_module": "@jupyter-widgets/controls",
      "_model_module_version": "1.5.0",
      "_model_name": "ToggleButtonsModel",
      "_options_labels": [
       "Pipeline Plot",
       "Hyperparameters",
       "AUC",
       "Confusion Matrix",
       "Threshold",
       "Precision Recall",
       "Prediction Error",
       "Class Report",
       "Feature Selection",
       "Learning Curve",
       "Manifold Learning",
       "Calibration Curve",
       "Validation Curve",
       "Dimensions",
       "Feature Importance",
       "Feature Importance (All)",
       "Decision Boundary",
       "Lift Chart",
       "Gain Chart",
       "Decision Tree",
       "KS Statistic Plot"
      ],
      "_view_count": null,
      "_view_module": "@jupyter-widgets/controls",
      "_view_module_version": "1.5.0",
      "_view_name": "ToggleButtonsView",
      "button_style": "",
      "description": "Plot Type:",
      "description_tooltip": null,
      "disabled": false,
      "icons": [
       ""
      ],
      "index": 3,
      "layout": "IPY_MODEL_1a2cbbd29d4e432386f12fb22b1924f4",
      "style": "IPY_MODEL_96287a49299144a2981a6d8dc45ce1f9",
      "tooltips": []
     }
    },
    "4f386da6e5914c2cb9104cac5fa6443d": {
     "model_module": "@jupyter-widgets/controls",
     "model_module_version": "1.5.0",
     "model_name": "DescriptionStyleModel",
     "state": {
      "_model_module": "@jupyter-widgets/controls",
      "_model_module_version": "1.5.0",
      "_model_name": "DescriptionStyleModel",
      "_view_count": null,
      "_view_module": "@jupyter-widgets/base",
      "_view_module_version": "1.2.0",
      "_view_name": "StyleView",
      "description_width": ""
     }
    },
    "4fb0db9d93dd43dda0bd6e0c8deb85ec": {
     "model_module": "@jupyter-widgets/controls",
     "model_module_version": "1.5.0",
     "model_name": "HBoxModel",
     "state": {
      "_dom_classes": [],
      "_model_module": "@jupyter-widgets/controls",
      "_model_module_version": "1.5.0",
      "_model_name": "HBoxModel",
      "_view_count": null,
      "_view_module": "@jupyter-widgets/controls",
      "_view_module_version": "1.5.0",
      "_view_name": "HBoxView",
      "box_style": "",
      "children": [
       "IPY_MODEL_19e591276cc44dff982171a8cc994c7f",
       "IPY_MODEL_1a8c667847b14a51a92f92044ab025db",
       "IPY_MODEL_732186634907400083d6494c88e931e1"
      ],
      "layout": "IPY_MODEL_efd226ca5f30491dbc47abd3144c7092"
     }
    },
    "56d02617ac84422f8d6a205f15a0b1b1": {
     "model_module": "@jupyter-widgets/controls",
     "model_module_version": "1.5.0",
     "model_name": "FloatProgressModel",
     "state": {
      "_dom_classes": [],
      "_model_module": "@jupyter-widgets/controls",
      "_model_module_version": "1.5.0",
      "_model_name": "FloatProgressModel",
      "_view_count": null,
      "_view_module": "@jupyter-widgets/controls",
      "_view_module_version": "1.5.0",
      "_view_name": "ProgressView",
      "bar_style": "",
      "description": "",
      "description_tooltip": null,
      "layout": "IPY_MODEL_34fc1524d3de4b7b82959c78934c8a88",
      "max": 7,
      "min": 0,
      "orientation": "horizontal",
      "style": "IPY_MODEL_d66619af8de741ee997c53920e07f9b5",
      "value": 7
     }
    },
    "5864519c764d41009f359ff0afce18f4": {
     "model_module": "@jupyter-widgets/controls",
     "model_module_version": "1.5.0",
     "model_name": "HTMLModel",
     "state": {
      "_dom_classes": [],
      "_model_module": "@jupyter-widgets/controls",
      "_model_module_version": "1.5.0",
      "_model_name": "HTMLModel",
      "_view_count": null,
      "_view_module": "@jupyter-widgets/controls",
      "_view_module_version": "1.5.0",
      "_view_name": "HTMLView",
      "description": "",
      "description_tooltip": null,
      "layout": "IPY_MODEL_c7a3651b4a4345d09af6795d41fdf11a",
      "placeholder": "​",
      "style": "IPY_MODEL_f6d5874922e34209bd2b1e488973caa3",
      "value": "Processing:  86%"
     }
    },
    "5e7cc7f350084bee9ca6569e9facbfad": {
     "model_module": "@jupyter-widgets/controls",
     "model_module_version": "1.5.0",
     "model_name": "DescriptionStyleModel",
     "state": {
      "_model_module": "@jupyter-widgets/controls",
      "_model_module_version": "1.5.0",
      "_model_name": "DescriptionStyleModel",
      "_view_count": null,
      "_view_module": "@jupyter-widgets/base",
      "_view_module_version": "1.2.0",
      "_view_name": "StyleView",
      "description_width": ""
     }
    },
    "61339f3d164b4ba9a88f22f3c002ee28": {
     "model_module": "@jupyter-widgets/controls",
     "model_module_version": "1.5.0",
     "model_name": "DescriptionStyleModel",
     "state": {
      "_model_module": "@jupyter-widgets/controls",
      "_model_module_version": "1.5.0",
      "_model_name": "DescriptionStyleModel",
      "_view_count": null,
      "_view_module": "@jupyter-widgets/base",
      "_view_module_version": "1.2.0",
      "_view_name": "StyleView",
      "description_width": ""
     }
    },
    "6363587b16b444b3898e772c6d6ec639": {
     "model_module": "@jupyter-widgets/controls",
     "model_module_version": "1.5.0",
     "model_name": "HBoxModel",
     "state": {
      "_dom_classes": [],
      "_model_module": "@jupyter-widgets/controls",
      "_model_module_version": "1.5.0",
      "_model_name": "HBoxModel",
      "_view_count": null,
      "_view_module": "@jupyter-widgets/controls",
      "_view_module_version": "1.5.0",
      "_view_name": "HBoxView",
      "box_style": "",
      "children": [
       "IPY_MODEL_fb26467b768a44d6a65c14806ede0400",
       "IPY_MODEL_0115c9e357c4462aaec2386efd480fe9",
       "IPY_MODEL_1a7e1bdf07154f8bb105fb09bd48c9c5"
      ],
      "layout": "IPY_MODEL_04f329fa1665467c8acf3024cbb173b6"
     }
    },
    "6ac11bd448ec454dbf1f1e4ac1e3d459": {
     "model_module": "@jupyter-widgets/base",
     "model_module_version": "1.2.0",
     "model_name": "LayoutModel",
     "state": {
      "_model_module": "@jupyter-widgets/base",
      "_model_module_version": "1.2.0",
      "_model_name": "LayoutModel",
      "_view_count": null,
      "_view_module": "@jupyter-widgets/base",
      "_view_module_version": "1.2.0",
      "_view_name": "LayoutView",
      "align_content": null,
      "align_items": null,
      "align_self": null,
      "border": null,
      "bottom": null,
      "display": null,
      "flex": null,
      "flex_flow": null,
      "grid_area": null,
      "grid_auto_columns": null,
      "grid_auto_flow": null,
      "grid_auto_rows": null,
      "grid_column": null,
      "grid_gap": null,
      "grid_row": null,
      "grid_template_areas": null,
      "grid_template_columns": null,
      "grid_template_rows": null,
      "height": null,
      "justify_content": null,
      "justify_items": null,
      "left": null,
      "margin": null,
      "max_height": null,
      "max_width": null,
      "min_height": null,
      "min_width": null,
      "object_fit": null,
      "object_position": null,
      "order": null,
      "overflow": null,
      "overflow_x": null,
      "overflow_y": null,
      "padding": null,
      "right": null,
      "top": null,
      "visibility": null,
      "width": null
     }
    },
    "6b6cb21ce669497887e7d55ffeaae328": {
     "model_module": "@jupyter-widgets/controls",
     "model_module_version": "1.5.0",
     "model_name": "HTMLModel",
     "state": {
      "_dom_classes": [],
      "_model_module": "@jupyter-widgets/controls",
      "_model_module_version": "1.5.0",
      "_model_name": "HTMLModel",
      "_view_count": null,
      "_view_module": "@jupyter-widgets/controls",
      "_view_module_version": "1.5.0",
      "_view_name": "HTMLView",
      "description": "",
      "description_tooltip": null,
      "layout": "IPY_MODEL_201659dc43f04547a85e8a0c2be0a6ed",
      "placeholder": "​",
      "style": "IPY_MODEL_c098dfaba0a1421cb87a847c79c96654",
      "value": " 65/65 [00:31&lt;00:00,  3.35it/s]"
     }
    },
    "6d813587c44b4628891c0831065044e6": {
     "model_module": "@jupyter-widgets/controls",
     "model_module_version": "1.5.0",
     "model_name": "DescriptionStyleModel",
     "state": {
      "_model_module": "@jupyter-widgets/controls",
      "_model_module_version": "1.5.0",
      "_model_name": "DescriptionStyleModel",
      "_view_count": null,
      "_view_module": "@jupyter-widgets/base",
      "_view_module_version": "1.2.0",
      "_view_name": "StyleView",
      "description_width": ""
     }
    },
    "701b363566494425a340ae2c2b5c17a9": {
     "model_module": "@jupyter-widgets/output",
     "model_module_version": "1.0.0",
     "model_name": "OutputModel",
     "state": {
      "_dom_classes": [],
      "_model_module": "@jupyter-widgets/output",
      "_model_module_version": "1.0.0",
      "_model_name": "OutputModel",
      "_view_count": null,
      "_view_module": "@jupyter-widgets/output",
      "_view_module_version": "1.0.0",
      "_view_name": "OutputView",
      "layout": "IPY_MODEL_0b8ef881c7fc4bf39d042663ee8015f0",
      "msg_id": "",
      "outputs": [
       {
        "data": {
         "image/png": "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\n",
         "text/plain": "<Figure size 800x550 with 1 Axes>"
        },
        "metadata": {},
        "output_type": "display_data"
       }
      ]
     }
    },
    "732186634907400083d6494c88e931e1": {
     "model_module": "@jupyter-widgets/controls",
     "model_module_version": "1.5.0",
     "model_name": "HTMLModel",
     "state": {
      "_dom_classes": [],
      "_model_module": "@jupyter-widgets/controls",
      "_model_module_version": "1.5.0",
      "_model_name": "HTMLModel",
      "_view_count": null,
      "_view_module": "@jupyter-widgets/controls",
      "_view_module_version": "1.5.0",
      "_view_name": "HTMLView",
      "description": "",
      "description_tooltip": null,
      "layout": "IPY_MODEL_196510148e48451180d4f7affd3d6b18",
      "placeholder": "​",
      "style": "IPY_MODEL_b5ec6bfa0b06497e8a85b7a2effd2eab",
      "value": " 4/4 [00:03&lt;00:00,  1.41it/s]"
     }
    },
    "7d897bca009f49c29aff326639f865ab": {
     "model_module": "@jupyter-widgets/base",
     "model_module_version": "1.2.0",
     "model_name": "LayoutModel",
     "state": {
      "_model_module": "@jupyter-widgets/base",
      "_model_module_version": "1.2.0",
      "_model_name": "LayoutModel",
      "_view_count": null,
      "_view_module": "@jupyter-widgets/base",
      "_view_module_version": "1.2.0",
      "_view_name": "LayoutView",
      "align_content": null,
      "align_items": null,
      "align_self": null,
      "border": null,
      "bottom": null,
      "display": null,
      "flex": null,
      "flex_flow": null,
      "grid_area": null,
      "grid_auto_columns": null,
      "grid_auto_flow": null,
      "grid_auto_rows": null,
      "grid_column": null,
      "grid_gap": null,
      "grid_row": null,
      "grid_template_areas": null,
      "grid_template_columns": null,
      "grid_template_rows": null,
      "height": null,
      "justify_content": null,
      "justify_items": null,
      "left": null,
      "margin": null,
      "max_height": null,
      "max_width": null,
      "min_height": null,
      "min_width": null,
      "object_fit": null,
      "object_position": null,
      "order": null,
      "overflow": null,
      "overflow_x": null,
      "overflow_y": null,
      "padding": null,
      "right": null,
      "top": null,
      "visibility": null,
      "width": null
     }
    },
    "7de05443128f48f895b9364258de1657": {
     "model_module": "@jupyter-widgets/controls",
     "model_module_version": "1.5.0",
     "model_name": "HBoxModel",
     "state": {
      "_dom_classes": [],
      "_model_module": "@jupyter-widgets/controls",
      "_model_module_version": "1.5.0",
      "_model_name": "HBoxModel",
      "_view_count": null,
      "_view_module": "@jupyter-widgets/controls",
      "_view_module_version": "1.5.0",
      "_view_name": "HBoxView",
      "box_style": "",
      "children": [
       "IPY_MODEL_9c67896e9c0d42bb8fb1f7178308099c",
       "IPY_MODEL_135fe0afb4274fdabc75bf930ea69e14",
       "IPY_MODEL_6b6cb21ce669497887e7d55ffeaae328"
      ],
      "layout": "IPY_MODEL_dd2450c77a4b4431834ac0d5f4b12800"
     }
    },
    "7f5d01bdb00a494d9c6ce4a05501fd14": {
     "model_module": "@jupyter-widgets/controls",
     "model_module_version": "1.5.0",
     "model_name": "DescriptionStyleModel",
     "state": {
      "_model_module": "@jupyter-widgets/controls",
      "_model_module_version": "1.5.0",
      "_model_name": "DescriptionStyleModel",
      "_view_count": null,
      "_view_module": "@jupyter-widgets/base",
      "_view_module_version": "1.2.0",
      "_view_name": "StyleView",
      "description_width": ""
     }
    },
    "7f7c1e38a15948728d98788d2e5c8540": {
     "model_module": "@jupyter-widgets/controls",
     "model_module_version": "1.5.0",
     "model_name": "ProgressStyleModel",
     "state": {
      "_model_module": "@jupyter-widgets/controls",
      "_model_module_version": "1.5.0",
      "_model_name": "ProgressStyleModel",
      "_view_count": null,
      "_view_module": "@jupyter-widgets/base",
      "_view_module_version": "1.2.0",
      "_view_name": "StyleView",
      "bar_color": null,
      "description_width": ""
     }
    },
    "7f82bf01d1314e9f877fb194a4b571de": {
     "model_module": "@jupyter-widgets/base",
     "model_module_version": "1.2.0",
     "model_name": "LayoutModel",
     "state": {
      "_model_module": "@jupyter-widgets/base",
      "_model_module_version": "1.2.0",
      "_model_name": "LayoutModel",
      "_view_count": null,
      "_view_module": "@jupyter-widgets/base",
      "_view_module_version": "1.2.0",
      "_view_name": "LayoutView",
      "align_content": null,
      "align_items": null,
      "align_self": null,
      "border": null,
      "bottom": null,
      "display": null,
      "flex": null,
      "flex_flow": null,
      "grid_area": null,
      "grid_auto_columns": null,
      "grid_auto_flow": null,
      "grid_auto_rows": null,
      "grid_column": null,
      "grid_gap": null,
      "grid_row": null,
      "grid_template_areas": null,
      "grid_template_columns": null,
      "grid_template_rows": null,
      "height": null,
      "justify_content": null,
      "justify_items": null,
      "left": null,
      "margin": null,
      "max_height": null,
      "max_width": null,
      "min_height": null,
      "min_width": null,
      "object_fit": null,
      "object_position": null,
      "order": null,
      "overflow": null,
      "overflow_x": null,
      "overflow_y": null,
      "padding": null,
      "right": null,
      "top": null,
      "visibility": "hidden",
      "width": null
     }
    },
    "7fcb737bc2be4ec9a10759e9ebc476d4": {
     "model_module": "@jupyter-widgets/base",
     "model_module_version": "1.2.0",
     "model_name": "LayoutModel",
     "state": {
      "_model_module": "@jupyter-widgets/base",
      "_model_module_version": "1.2.0",
      "_model_name": "LayoutModel",
      "_view_count": null,
      "_view_module": "@jupyter-widgets/base",
      "_view_module_version": "1.2.0",
      "_view_name": "LayoutView",
      "align_content": null,
      "align_items": null,
      "align_self": null,
      "border": null,
      "bottom": null,
      "display": null,
      "flex": null,
      "flex_flow": null,
      "grid_area": null,
      "grid_auto_columns": null,
      "grid_auto_flow": null,
      "grid_auto_rows": null,
      "grid_column": null,
      "grid_gap": null,
      "grid_row": null,
      "grid_template_areas": null,
      "grid_template_columns": null,
      "grid_template_rows": null,
      "height": null,
      "justify_content": null,
      "justify_items": null,
      "left": null,
      "margin": null,
      "max_height": null,
      "max_width": null,
      "min_height": null,
      "min_width": null,
      "object_fit": null,
      "object_position": null,
      "order": null,
      "overflow": null,
      "overflow_x": null,
      "overflow_y": null,
      "padding": null,
      "right": null,
      "top": null,
      "visibility": "hidden",
      "width": null
     }
    },
    "80035867def64767a144534cf38ee409": {
     "model_module": "@jupyter-widgets/base",
     "model_module_version": "1.2.0",
     "model_name": "LayoutModel",
     "state": {
      "_model_module": "@jupyter-widgets/base",
      "_model_module_version": "1.2.0",
      "_model_name": "LayoutModel",
      "_view_count": null,
      "_view_module": "@jupyter-widgets/base",
      "_view_module_version": "1.2.0",
      "_view_name": "LayoutView",
      "align_content": null,
      "align_items": null,
      "align_self": null,
      "border": null,
      "bottom": null,
      "display": null,
      "flex": null,
      "flex_flow": null,
      "grid_area": null,
      "grid_auto_columns": null,
      "grid_auto_flow": null,
      "grid_auto_rows": null,
      "grid_column": null,
      "grid_gap": null,
      "grid_row": null,
      "grid_template_areas": null,
      "grid_template_columns": null,
      "grid_template_rows": null,
      "height": null,
      "justify_content": null,
      "justify_items": null,
      "left": null,
      "margin": null,
      "max_height": null,
      "max_width": null,
      "min_height": null,
      "min_width": null,
      "object_fit": null,
      "object_position": null,
      "order": null,
      "overflow": null,
      "overflow_x": null,
      "overflow_y": null,
      "padding": null,
      "right": null,
      "top": null,
      "visibility": "hidden",
      "width": null
     }
    },
    "8faac32f515b4273afdf0bc369e21651": {
     "model_module": "@jupyter-widgets/base",
     "model_module_version": "1.2.0",
     "model_name": "LayoutModel",
     "state": {
      "_model_module": "@jupyter-widgets/base",
      "_model_module_version": "1.2.0",
      "_model_name": "LayoutModel",
      "_view_count": null,
      "_view_module": "@jupyter-widgets/base",
      "_view_module_version": "1.2.0",
      "_view_name": "LayoutView",
      "align_content": null,
      "align_items": null,
      "align_self": null,
      "border": null,
      "bottom": null,
      "display": null,
      "flex": null,
      "flex_flow": null,
      "grid_area": null,
      "grid_auto_columns": null,
      "grid_auto_flow": null,
      "grid_auto_rows": null,
      "grid_column": null,
      "grid_gap": null,
      "grid_row": null,
      "grid_template_areas": null,
      "grid_template_columns": null,
      "grid_template_rows": null,
      "height": null,
      "justify_content": null,
      "justify_items": null,
      "left": null,
      "margin": null,
      "max_height": null,
      "max_width": null,
      "min_height": null,
      "min_width": null,
      "object_fit": null,
      "object_position": null,
      "order": null,
      "overflow": null,
      "overflow_x": null,
      "overflow_y": null,
      "padding": null,
      "right": null,
      "top": null,
      "visibility": null,
      "width": null
     }
    },
    "908df59e2bfc4453a12445fda5f7702f": {
     "model_module": "@jupyter-widgets/controls",
     "model_module_version": "1.5.0",
     "model_name": "HTMLModel",
     "state": {
      "_dom_classes": [],
      "_model_module": "@jupyter-widgets/controls",
      "_model_module_version": "1.5.0",
      "_model_name": "HTMLModel",
      "_view_count": null,
      "_view_module": "@jupyter-widgets/controls",
      "_view_module_version": "1.5.0",
      "_view_name": "HTMLView",
      "description": "",
      "description_tooltip": null,
      "layout": "IPY_MODEL_cafe404dc64e490aa588f29822e0d240",
      "placeholder": "​",
      "style": "IPY_MODEL_5e7cc7f350084bee9ca6569e9facbfad",
      "value": "Processing: 100%"
     }
    },
    "91e9151a04f84ceeb8c1434acb3e5d0a": {
     "model_module": "@jupyter-widgets/base",
     "model_module_version": "1.2.0",
     "model_name": "LayoutModel",
     "state": {
      "_model_module": "@jupyter-widgets/base",
      "_model_module_version": "1.2.0",
      "_model_name": "LayoutModel",
      "_view_count": null,
      "_view_module": "@jupyter-widgets/base",
      "_view_module_version": "1.2.0",
      "_view_name": "LayoutView",
      "align_content": null,
      "align_items": null,
      "align_self": null,
      "border": null,
      "bottom": null,
      "display": null,
      "flex": null,
      "flex_flow": null,
      "grid_area": null,
      "grid_auto_columns": null,
      "grid_auto_flow": null,
      "grid_auto_rows": null,
      "grid_column": null,
      "grid_gap": null,
      "grid_row": null,
      "grid_template_areas": null,
      "grid_template_columns": null,
      "grid_template_rows": null,
      "height": null,
      "justify_content": null,
      "justify_items": null,
      "left": null,
      "margin": null,
      "max_height": null,
      "max_width": null,
      "min_height": null,
      "min_width": null,
      "object_fit": null,
      "object_position": null,
      "order": null,
      "overflow": null,
      "overflow_x": null,
      "overflow_y": null,
      "padding": null,
      "right": null,
      "top": null,
      "visibility": null,
      "width": null
     }
    },
    "9498e046fe974e9a86170ae12b5adff8": {
     "model_module": "@jupyter-widgets/controls",
     "model_module_version": "1.5.0",
     "model_name": "VBoxModel",
     "state": {
      "_dom_classes": [
       "widget-interact"
      ],
      "_model_module": "@jupyter-widgets/controls",
      "_model_module_version": "1.5.0",
      "_model_name": "VBoxModel",
      "_view_count": null,
      "_view_module": "@jupyter-widgets/controls",
      "_view_module_version": "1.5.0",
      "_view_name": "VBoxView",
      "box_style": "",
      "children": [
       "IPY_MODEL_4f328b08a8e145b6b9be29b509a3abf6",
       "IPY_MODEL_701b363566494425a340ae2c2b5c17a9"
      ],
      "layout": "IPY_MODEL_6ac11bd448ec454dbf1f1e4ac1e3d459"
     }
    },
    "96287a49299144a2981a6d8dc45ce1f9": {
     "model_module": "@jupyter-widgets/controls",
     "model_module_version": "1.5.0",
     "model_name": "ToggleButtonsStyleModel",
     "state": {
      "_model_module": "@jupyter-widgets/controls",
      "_model_module_version": "1.5.0",
      "_model_name": "ToggleButtonsStyleModel",
      "_view_count": null,
      "_view_module": "@jupyter-widgets/base",
      "_view_module_version": "1.2.0",
      "_view_name": "StyleView",
      "button_width": "",
      "description_width": "",
      "font_weight": ""
     }
    },
    "9c24e95875fa43149f81fc9c27de4e11": {
     "model_module": "@jupyter-widgets/controls",
     "model_module_version": "1.5.0",
     "model_name": "DescriptionStyleModel",
     "state": {
      "_model_module": "@jupyter-widgets/controls",
      "_model_module_version": "1.5.0",
      "_model_name": "DescriptionStyleModel",
      "_view_count": null,
      "_view_module": "@jupyter-widgets/base",
      "_view_module_version": "1.2.0",
      "_view_name": "StyleView",
      "description_width": ""
     }
    },
    "9c67896e9c0d42bb8fb1f7178308099c": {
     "model_module": "@jupyter-widgets/controls",
     "model_module_version": "1.5.0",
     "model_name": "HTMLModel",
     "state": {
      "_dom_classes": [],
      "_model_module": "@jupyter-widgets/controls",
      "_model_module_version": "1.5.0",
      "_model_name": "HTMLModel",
      "_view_count": null,
      "_view_module": "@jupyter-widgets/controls",
      "_view_module_version": "1.5.0",
      "_view_name": "HTMLView",
      "description": "",
      "description_tooltip": null,
      "layout": "IPY_MODEL_b5461456ed0841699a046bcea3f4bf6c",
      "placeholder": "​",
      "style": "IPY_MODEL_61339f3d164b4ba9a88f22f3c002ee28",
      "value": "Processing: 100%"
     }
    },
    "9dc3ff30f5dc4c589f81e350bca5a04f": {
     "model_module": "@jupyter-widgets/controls",
     "model_module_version": "1.5.0",
     "model_name": "HBoxModel",
     "state": {
      "_dom_classes": [],
      "_model_module": "@jupyter-widgets/controls",
      "_model_module_version": "1.5.0",
      "_model_name": "HBoxModel",
      "_view_count": null,
      "_view_module": "@jupyter-widgets/controls",
      "_view_module_version": "1.5.0",
      "_view_name": "HBoxView",
      "box_style": "",
      "children": [
       "IPY_MODEL_10ef88d5d3fd4cfbb3dbbf04c5f0a528",
       "IPY_MODEL_d704407564b049ef9f0f863e91d1eee1",
       "IPY_MODEL_0d6b815a3cd84613943a2e4fb194f834"
      ],
      "layout": "IPY_MODEL_80035867def64767a144534cf38ee409"
     }
    },
    "a18363f21fa0420dbc3b4551cb13ede6": {
     "model_module": "@jupyter-widgets/base",
     "model_module_version": "1.2.0",
     "model_name": "LayoutModel",
     "state": {
      "_model_module": "@jupyter-widgets/base",
      "_model_module_version": "1.2.0",
      "_model_name": "LayoutModel",
      "_view_count": null,
      "_view_module": "@jupyter-widgets/base",
      "_view_module_version": "1.2.0",
      "_view_name": "LayoutView",
      "align_content": null,
      "align_items": null,
      "align_self": null,
      "border": null,
      "bottom": null,
      "display": null,
      "flex": null,
      "flex_flow": null,
      "grid_area": null,
      "grid_auto_columns": null,
      "grid_auto_flow": null,
      "grid_auto_rows": null,
      "grid_column": null,
      "grid_gap": null,
      "grid_row": null,
      "grid_template_areas": null,
      "grid_template_columns": null,
      "grid_template_rows": null,
      "height": null,
      "justify_content": null,
      "justify_items": null,
      "left": null,
      "margin": null,
      "max_height": null,
      "max_width": null,
      "min_height": null,
      "min_width": null,
      "object_fit": null,
      "object_position": null,
      "order": null,
      "overflow": null,
      "overflow_x": null,
      "overflow_y": null,
      "padding": null,
      "right": null,
      "top": null,
      "visibility": null,
      "width": null
     }
    },
    "abf95cddad154864a9f52ef1e616875c": {
     "model_module": "@jupyter-widgets/controls",
     "model_module_version": "1.5.0",
     "model_name": "HTMLModel",
     "state": {
      "_dom_classes": [],
      "_model_module": "@jupyter-widgets/controls",
      "_model_module_version": "1.5.0",
      "_model_name": "HTMLModel",
      "_view_count": null,
      "_view_module": "@jupyter-widgets/controls",
      "_view_module_version": "1.5.0",
      "_view_name": "HTMLView",
      "description": "",
      "description_tooltip": null,
      "layout": "IPY_MODEL_c0ab89b6f2364f24a42130aaf6cfe2a0",
      "placeholder": "​",
      "style": "IPY_MODEL_ffb97a14f89741f7b21f2a3cd1898705",
      "value": " 7/7 [00:28&lt;00:00,  3.28s/it]"
     }
    },
    "acfc9c41f157417784a25f7b499834f4": {
     "model_module": "@jupyter-widgets/controls",
     "model_module_version": "1.5.0",
     "model_name": "HTMLModel",
     "state": {
      "_dom_classes": [],
      "_model_module": "@jupyter-widgets/controls",
      "_model_module_version": "1.5.0",
      "_model_name": "HTMLModel",
      "_view_count": null,
      "_view_module": "@jupyter-widgets/controls",
      "_view_module_version": "1.5.0",
      "_view_name": "HTMLView",
      "description": "",
      "description_tooltip": null,
      "layout": "IPY_MODEL_1a4456097b364294b2a8031e0ad38ff8",
      "placeholder": "​",
      "style": "IPY_MODEL_b7c42d426f72492bb548ef5935f5009f",
      "value": " 0/4 [00:00&lt;?, ?it/s]"
     }
    },
    "b42c27b8204445a28867023d0d7b3e0c": {
     "model_module": "@jupyter-widgets/base",
     "model_module_version": "1.2.0",
     "model_name": "LayoutModel",
     "state": {
      "_model_module": "@jupyter-widgets/base",
      "_model_module_version": "1.2.0",
      "_model_name": "LayoutModel",
      "_view_count": null,
      "_view_module": "@jupyter-widgets/base",
      "_view_module_version": "1.2.0",
      "_view_name": "LayoutView",
      "align_content": null,
      "align_items": null,
      "align_self": null,
      "border": null,
      "bottom": null,
      "display": null,
      "flex": null,
      "flex_flow": null,
      "grid_area": null,
      "grid_auto_columns": null,
      "grid_auto_flow": null,
      "grid_auto_rows": null,
      "grid_column": null,
      "grid_gap": null,
      "grid_row": null,
      "grid_template_areas": null,
      "grid_template_columns": null,
      "grid_template_rows": null,
      "height": null,
      "justify_content": null,
      "justify_items": null,
      "left": null,
      "margin": null,
      "max_height": null,
      "max_width": null,
      "min_height": null,
      "min_width": null,
      "object_fit": null,
      "object_position": null,
      "order": null,
      "overflow": null,
      "overflow_x": null,
      "overflow_y": null,
      "padding": null,
      "right": null,
      "top": null,
      "visibility": null,
      "width": null
     }
    },
    "b5461456ed0841699a046bcea3f4bf6c": {
     "model_module": "@jupyter-widgets/base",
     "model_module_version": "1.2.0",
     "model_name": "LayoutModel",
     "state": {
      "_model_module": "@jupyter-widgets/base",
      "_model_module_version": "1.2.0",
      "_model_name": "LayoutModel",
      "_view_count": null,
      "_view_module": "@jupyter-widgets/base",
      "_view_module_version": "1.2.0",
      "_view_name": "LayoutView",
      "align_content": null,
      "align_items": null,
      "align_self": null,
      "border": null,
      "bottom": null,
      "display": null,
      "flex": null,
      "flex_flow": null,
      "grid_area": null,
      "grid_auto_columns": null,
      "grid_auto_flow": null,
      "grid_auto_rows": null,
      "grid_column": null,
      "grid_gap": null,
      "grid_row": null,
      "grid_template_areas": null,
      "grid_template_columns": null,
      "grid_template_rows": null,
      "height": null,
      "justify_content": null,
      "justify_items": null,
      "left": null,
      "margin": null,
      "max_height": null,
      "max_width": null,
      "min_height": null,
      "min_width": null,
      "object_fit": null,
      "object_position": null,
      "order": null,
      "overflow": null,
      "overflow_x": null,
      "overflow_y": null,
      "padding": null,
      "right": null,
      "top": null,
      "visibility": null,
      "width": null
     }
    },
    "b5ec6bfa0b06497e8a85b7a2effd2eab": {
     "model_module": "@jupyter-widgets/controls",
     "model_module_version": "1.5.0",
     "model_name": "DescriptionStyleModel",
     "state": {
      "_model_module": "@jupyter-widgets/controls",
      "_model_module_version": "1.5.0",
      "_model_name": "DescriptionStyleModel",
      "_view_count": null,
      "_view_module": "@jupyter-widgets/base",
      "_view_module_version": "1.2.0",
      "_view_name": "StyleView",
      "description_width": ""
     }
    },
    "b7c42d426f72492bb548ef5935f5009f": {
     "model_module": "@jupyter-widgets/controls",
     "model_module_version": "1.5.0",
     "model_name": "DescriptionStyleModel",
     "state": {
      "_model_module": "@jupyter-widgets/controls",
      "_model_module_version": "1.5.0",
      "_model_name": "DescriptionStyleModel",
      "_view_count": null,
      "_view_module": "@jupyter-widgets/base",
      "_view_module_version": "1.2.0",
      "_view_name": "StyleView",
      "description_width": ""
     }
    },
    "ba0652528ada4e17b3eafe25a9abc567": {
     "model_module": "@jupyter-widgets/controls",
     "model_module_version": "1.5.0",
     "model_name": "ProgressStyleModel",
     "state": {
      "_model_module": "@jupyter-widgets/controls",
      "_model_module_version": "1.5.0",
      "_model_name": "ProgressStyleModel",
      "_view_count": null,
      "_view_module": "@jupyter-widgets/base",
      "_view_module_version": "1.2.0",
      "_view_name": "StyleView",
      "bar_color": null,
      "description_width": ""
     }
    },
    "c098dfaba0a1421cb87a847c79c96654": {
     "model_module": "@jupyter-widgets/controls",
     "model_module_version": "1.5.0",
     "model_name": "DescriptionStyleModel",
     "state": {
      "_model_module": "@jupyter-widgets/controls",
      "_model_module_version": "1.5.0",
      "_model_name": "DescriptionStyleModel",
      "_view_count": null,
      "_view_module": "@jupyter-widgets/base",
      "_view_module_version": "1.2.0",
      "_view_name": "StyleView",
      "description_width": ""
     }
    },
    "c0ab89b6f2364f24a42130aaf6cfe2a0": {
     "model_module": "@jupyter-widgets/base",
     "model_module_version": "1.2.0",
     "model_name": "LayoutModel",
     "state": {
      "_model_module": "@jupyter-widgets/base",
      "_model_module_version": "1.2.0",
      "_model_name": "LayoutModel",
      "_view_count": null,
      "_view_module": "@jupyter-widgets/base",
      "_view_module_version": "1.2.0",
      "_view_name": "LayoutView",
      "align_content": null,
      "align_items": null,
      "align_self": null,
      "border": null,
      "bottom": null,
      "display": null,
      "flex": null,
      "flex_flow": null,
      "grid_area": null,
      "grid_auto_columns": null,
      "grid_auto_flow": null,
      "grid_auto_rows": null,
      "grid_column": null,
      "grid_gap": null,
      "grid_row": null,
      "grid_template_areas": null,
      "grid_template_columns": null,
      "grid_template_rows": null,
      "height": null,
      "justify_content": null,
      "justify_items": null,
      "left": null,
      "margin": null,
      "max_height": null,
      "max_width": null,
      "min_height": null,
      "min_width": null,
      "object_fit": null,
      "object_position": null,
      "order": null,
      "overflow": null,
      "overflow_x": null,
      "overflow_y": null,
      "padding": null,
      "right": null,
      "top": null,
      "visibility": null,
      "width": null
     }
    },
    "c7a3651b4a4345d09af6795d41fdf11a": {
     "model_module": "@jupyter-widgets/base",
     "model_module_version": "1.2.0",
     "model_name": "LayoutModel",
     "state": {
      "_model_module": "@jupyter-widgets/base",
      "_model_module_version": "1.2.0",
      "_model_name": "LayoutModel",
      "_view_count": null,
      "_view_module": "@jupyter-widgets/base",
      "_view_module_version": "1.2.0",
      "_view_name": "LayoutView",
      "align_content": null,
      "align_items": null,
      "align_self": null,
      "border": null,
      "bottom": null,
      "display": null,
      "flex": null,
      "flex_flow": null,
      "grid_area": null,
      "grid_auto_columns": null,
      "grid_auto_flow": null,
      "grid_auto_rows": null,
      "grid_column": null,
      "grid_gap": null,
      "grid_row": null,
      "grid_template_areas": null,
      "grid_template_columns": null,
      "grid_template_rows": null,
      "height": null,
      "justify_content": null,
      "justify_items": null,
      "left": null,
      "margin": null,
      "max_height": null,
      "max_width": null,
      "min_height": null,
      "min_width": null,
      "object_fit": null,
      "object_position": null,
      "order": null,
      "overflow": null,
      "overflow_x": null,
      "overflow_y": null,
      "padding": null,
      "right": null,
      "top": null,
      "visibility": null,
      "width": null
     }
    },
    "cafe404dc64e490aa588f29822e0d240": {
     "model_module": "@jupyter-widgets/base",
     "model_module_version": "1.2.0",
     "model_name": "LayoutModel",
     "state": {
      "_model_module": "@jupyter-widgets/base",
      "_model_module_version": "1.2.0",
      "_model_name": "LayoutModel",
      "_view_count": null,
      "_view_module": "@jupyter-widgets/base",
      "_view_module_version": "1.2.0",
      "_view_name": "LayoutView",
      "align_content": null,
      "align_items": null,
      "align_self": null,
      "border": null,
      "bottom": null,
      "display": null,
      "flex": null,
      "flex_flow": null,
      "grid_area": null,
      "grid_auto_columns": null,
      "grid_auto_flow": null,
      "grid_auto_rows": null,
      "grid_column": null,
      "grid_gap": null,
      "grid_row": null,
      "grid_template_areas": null,
      "grid_template_columns": null,
      "grid_template_rows": null,
      "height": null,
      "justify_content": null,
      "justify_items": null,
      "left": null,
      "margin": null,
      "max_height": null,
      "max_width": null,
      "min_height": null,
      "min_width": null,
      "object_fit": null,
      "object_position": null,
      "order": null,
      "overflow": null,
      "overflow_x": null,
      "overflow_y": null,
      "padding": null,
      "right": null,
      "top": null,
      "visibility": null,
      "width": null
     }
    },
    "cb530d9fa6aa454f8ab9af96092f8d0b": {
     "model_module": "@jupyter-widgets/base",
     "model_module_version": "1.2.0",
     "model_name": "LayoutModel",
     "state": {
      "_model_module": "@jupyter-widgets/base",
      "_model_module_version": "1.2.0",
      "_model_name": "LayoutModel",
      "_view_count": null,
      "_view_module": "@jupyter-widgets/base",
      "_view_module_version": "1.2.0",
      "_view_name": "LayoutView",
      "align_content": null,
      "align_items": null,
      "align_self": null,
      "border": null,
      "bottom": null,
      "display": null,
      "flex": null,
      "flex_flow": null,
      "grid_area": null,
      "grid_auto_columns": null,
      "grid_auto_flow": null,
      "grid_auto_rows": null,
      "grid_column": null,
      "grid_gap": null,
      "grid_row": null,
      "grid_template_areas": null,
      "grid_template_columns": null,
      "grid_template_rows": null,
      "height": null,
      "justify_content": null,
      "justify_items": null,
      "left": null,
      "margin": null,
      "max_height": null,
      "max_width": null,
      "min_height": null,
      "min_width": null,
      "object_fit": null,
      "object_position": null,
      "order": null,
      "overflow": null,
      "overflow_x": null,
      "overflow_y": null,
      "padding": null,
      "right": null,
      "top": null,
      "visibility": null,
      "width": null
     }
    },
    "d504c018e19f4fdea4c769122fe47fa9": {
     "model_module": "@jupyter-widgets/controls",
     "model_module_version": "1.5.0",
     "model_name": "HTMLModel",
     "state": {
      "_dom_classes": [],
      "_model_module": "@jupyter-widgets/controls",
      "_model_module_version": "1.5.0",
      "_model_name": "HTMLModel",
      "_view_count": null,
      "_view_module": "@jupyter-widgets/controls",
      "_view_module_version": "1.5.0",
      "_view_name": "HTMLView",
      "description": "",
      "description_tooltip": null,
      "layout": "IPY_MODEL_e0c6a3c88f364a3e97fcde655fc0cd17",
      "placeholder": "​",
      "style": "IPY_MODEL_0aa6e2ed9417494785be7544617d5a02",
      "value": "Processing:   0%"
     }
    },
    "d66619af8de741ee997c53920e07f9b5": {
     "model_module": "@jupyter-widgets/controls",
     "model_module_version": "1.5.0",
     "model_name": "ProgressStyleModel",
     "state": {
      "_model_module": "@jupyter-widgets/controls",
      "_model_module_version": "1.5.0",
      "_model_name": "ProgressStyleModel",
      "_view_count": null,
      "_view_module": "@jupyter-widgets/base",
      "_view_module_version": "1.2.0",
      "_view_name": "StyleView",
      "bar_color": null,
      "description_width": ""
     }
    },
    "d704407564b049ef9f0f863e91d1eee1": {
     "model_module": "@jupyter-widgets/controls",
     "model_module_version": "1.5.0",
     "model_name": "FloatProgressModel",
     "state": {
      "_dom_classes": [],
      "_model_module": "@jupyter-widgets/controls",
      "_model_module_version": "1.5.0",
      "_model_name": "FloatProgressModel",
      "_view_count": null,
      "_view_module": "@jupyter-widgets/controls",
      "_view_module_version": "1.5.0",
      "_view_name": "ProgressView",
      "bar_style": "",
      "description": "",
      "description_tooltip": null,
      "layout": "IPY_MODEL_01067084abac443a9af3f5266158b787",
      "max": 4,
      "min": 0,
      "orientation": "horizontal",
      "style": "IPY_MODEL_7f7c1e38a15948728d98788d2e5c8540",
      "value": 4
     }
    },
    "dc907abb623c4d2d95bea21a3522c685": {
     "model_module": "@jupyter-widgets/controls",
     "model_module_version": "1.5.0",
     "model_name": "FloatProgressModel",
     "state": {
      "_dom_classes": [],
      "_model_module": "@jupyter-widgets/controls",
      "_model_module_version": "1.5.0",
      "_model_name": "FloatProgressModel",
      "_view_count": null,
      "_view_module": "@jupyter-widgets/controls",
      "_view_module_version": "1.5.0",
      "_view_name": "ProgressView",
      "bar_style": "",
      "description": "",
      "description_tooltip": null,
      "layout": "IPY_MODEL_a18363f21fa0420dbc3b4551cb13ede6",
      "max": 4,
      "min": 0,
      "orientation": "horizontal",
      "style": "IPY_MODEL_e3fe24cfb9184640a8204d9f1bbd1371",
      "value": 4
     }
    },
    "dd2450c77a4b4431834ac0d5f4b12800": {
     "model_module": "@jupyter-widgets/base",
     "model_module_version": "1.2.0",
     "model_name": "LayoutModel",
     "state": {
      "_model_module": "@jupyter-widgets/base",
      "_model_module_version": "1.2.0",
      "_model_name": "LayoutModel",
      "_view_count": null,
      "_view_module": "@jupyter-widgets/base",
      "_view_module_version": "1.2.0",
      "_view_name": "LayoutView",
      "align_content": null,
      "align_items": null,
      "align_self": null,
      "border": null,
      "bottom": null,
      "display": null,
      "flex": null,
      "flex_flow": null,
      "grid_area": null,
      "grid_auto_columns": null,
      "grid_auto_flow": null,
      "grid_auto_rows": null,
      "grid_column": null,
      "grid_gap": null,
      "grid_row": null,
      "grid_template_areas": null,
      "grid_template_columns": null,
      "grid_template_rows": null,
      "height": null,
      "justify_content": null,
      "justify_items": null,
      "left": null,
      "margin": null,
      "max_height": null,
      "max_width": null,
      "min_height": null,
      "min_width": null,
      "object_fit": null,
      "object_position": null,
      "order": null,
      "overflow": null,
      "overflow_x": null,
      "overflow_y": null,
      "padding": null,
      "right": null,
      "top": null,
      "visibility": "hidden",
      "width": null
     }
    },
    "e0c6a3c88f364a3e97fcde655fc0cd17": {
     "model_module": "@jupyter-widgets/base",
     "model_module_version": "1.2.0",
     "model_name": "LayoutModel",
     "state": {
      "_model_module": "@jupyter-widgets/base",
      "_model_module_version": "1.2.0",
      "_model_name": "LayoutModel",
      "_view_count": null,
      "_view_module": "@jupyter-widgets/base",
      "_view_module_version": "1.2.0",
      "_view_name": "LayoutView",
      "align_content": null,
      "align_items": null,
      "align_self": null,
      "border": null,
      "bottom": null,
      "display": null,
      "flex": null,
      "flex_flow": null,
      "grid_area": null,
      "grid_auto_columns": null,
      "grid_auto_flow": null,
      "grid_auto_rows": null,
      "grid_column": null,
      "grid_gap": null,
      "grid_row": null,
      "grid_template_areas": null,
      "grid_template_columns": null,
      "grid_template_rows": null,
      "height": null,
      "justify_content": null,
      "justify_items": null,
      "left": null,
      "margin": null,
      "max_height": null,
      "max_width": null,
      "min_height": null,
      "min_width": null,
      "object_fit": null,
      "object_position": null,
      "order": null,
      "overflow": null,
      "overflow_x": null,
      "overflow_y": null,
      "padding": null,
      "right": null,
      "top": null,
      "visibility": null,
      "width": null
     }
    },
    "e3fe24cfb9184640a8204d9f1bbd1371": {
     "model_module": "@jupyter-widgets/controls",
     "model_module_version": "1.5.0",
     "model_name": "ProgressStyleModel",
     "state": {
      "_model_module": "@jupyter-widgets/controls",
      "_model_module_version": "1.5.0",
      "_model_name": "ProgressStyleModel",
      "_view_count": null,
      "_view_module": "@jupyter-widgets/base",
      "_view_module_version": "1.2.0",
      "_view_name": "StyleView",
      "bar_color": null,
      "description_width": ""
     }
    },
    "e5277ae57dba4d6a820ff7fbe61d7539": {
     "model_module": "@jupyter-widgets/base",
     "model_module_version": "1.2.0",
     "model_name": "LayoutModel",
     "state": {
      "_model_module": "@jupyter-widgets/base",
      "_model_module_version": "1.2.0",
      "_model_name": "LayoutModel",
      "_view_count": null,
      "_view_module": "@jupyter-widgets/base",
      "_view_module_version": "1.2.0",
      "_view_name": "LayoutView",
      "align_content": null,
      "align_items": null,
      "align_self": null,
      "border": null,
      "bottom": null,
      "display": null,
      "flex": null,
      "flex_flow": null,
      "grid_area": null,
      "grid_auto_columns": null,
      "grid_auto_flow": null,
      "grid_auto_rows": null,
      "grid_column": null,
      "grid_gap": null,
      "grid_row": null,
      "grid_template_areas": null,
      "grid_template_columns": null,
      "grid_template_rows": null,
      "height": null,
      "justify_content": null,
      "justify_items": null,
      "left": null,
      "margin": null,
      "max_height": null,
      "max_width": null,
      "min_height": null,
      "min_width": null,
      "object_fit": null,
      "object_position": null,
      "order": null,
      "overflow": null,
      "overflow_x": null,
      "overflow_y": null,
      "padding": null,
      "right": null,
      "top": null,
      "visibility": null,
      "width": null
     }
    },
    "ea63d83b208a4ea8b5d62eaed52bf081": {
     "model_module": "@jupyter-widgets/controls",
     "model_module_version": "1.5.0",
     "model_name": "HBoxModel",
     "state": {
      "_dom_classes": [],
      "_model_module": "@jupyter-widgets/controls",
      "_model_module_version": "1.5.0",
      "_model_name": "HBoxModel",
      "_view_count": null,
      "_view_module": "@jupyter-widgets/controls",
      "_view_module_version": "1.5.0",
      "_view_name": "HBoxView",
      "box_style": "",
      "children": [
       "IPY_MODEL_908df59e2bfc4453a12445fda5f7702f",
       "IPY_MODEL_56d02617ac84422f8d6a205f15a0b1b1",
       "IPY_MODEL_abf95cddad154864a9f52ef1e616875c"
      ],
      "layout": "IPY_MODEL_7f82bf01d1314e9f877fb194a4b571de"
     }
    },
    "ecc0312a976940e587a613db3f033984": {
     "model_module": "@jupyter-widgets/controls",
     "model_module_version": "1.5.0",
     "model_name": "HTMLModel",
     "state": {
      "_dom_classes": [],
      "_model_module": "@jupyter-widgets/controls",
      "_model_module_version": "1.5.0",
      "_model_name": "HTMLModel",
      "_view_count": null,
      "_view_module": "@jupyter-widgets/controls",
      "_view_module_version": "1.5.0",
      "_view_name": "HTMLView",
      "description": "",
      "description_tooltip": null,
      "layout": "IPY_MODEL_f905c7aa3ca6410aa15faa6af89f0b3e",
      "placeholder": "​",
      "style": "IPY_MODEL_ef0e76004f28432197b8cd418e51915d",
      "value": " 6/7 [00:11&lt;00:01,  1.57s/it]"
     }
    },
    "ed57b9cba03840be805448cd33aeafcb": {
     "model_module": "@jupyter-widgets/controls",
     "model_module_version": "1.5.0",
     "model_name": "DescriptionStyleModel",
     "state": {
      "_model_module": "@jupyter-widgets/controls",
      "_model_module_version": "1.5.0",
      "_model_name": "DescriptionStyleModel",
      "_view_count": null,
      "_view_module": "@jupyter-widgets/base",
      "_view_module_version": "1.2.0",
      "_view_name": "StyleView",
      "description_width": ""
     }
    },
    "ef0e76004f28432197b8cd418e51915d": {
     "model_module": "@jupyter-widgets/controls",
     "model_module_version": "1.5.0",
     "model_name": "DescriptionStyleModel",
     "state": {
      "_model_module": "@jupyter-widgets/controls",
      "_model_module_version": "1.5.0",
      "_model_name": "DescriptionStyleModel",
      "_view_count": null,
      "_view_module": "@jupyter-widgets/base",
      "_view_module_version": "1.2.0",
      "_view_name": "StyleView",
      "description_width": ""
     }
    },
    "efd226ca5f30491dbc47abd3144c7092": {
     "model_module": "@jupyter-widgets/base",
     "model_module_version": "1.2.0",
     "model_name": "LayoutModel",
     "state": {
      "_model_module": "@jupyter-widgets/base",
      "_model_module_version": "1.2.0",
      "_model_name": "LayoutModel",
      "_view_count": null,
      "_view_module": "@jupyter-widgets/base",
      "_view_module_version": "1.2.0",
      "_view_name": "LayoutView",
      "align_content": null,
      "align_items": null,
      "align_self": null,
      "border": null,
      "bottom": null,
      "display": null,
      "flex": null,
      "flex_flow": null,
      "grid_area": null,
      "grid_auto_columns": null,
      "grid_auto_flow": null,
      "grid_auto_rows": null,
      "grid_column": null,
      "grid_gap": null,
      "grid_row": null,
      "grid_template_areas": null,
      "grid_template_columns": null,
      "grid_template_rows": null,
      "height": null,
      "justify_content": null,
      "justify_items": null,
      "left": null,
      "margin": null,
      "max_height": null,
      "max_width": null,
      "min_height": null,
      "min_width": null,
      "object_fit": null,
      "object_position": null,
      "order": null,
      "overflow": null,
      "overflow_x": null,
      "overflow_y": null,
      "padding": null,
      "right": null,
      "top": null,
      "visibility": "hidden",
      "width": null
     }
    },
    "f6d5874922e34209bd2b1e488973caa3": {
     "model_module": "@jupyter-widgets/controls",
     "model_module_version": "1.5.0",
     "model_name": "DescriptionStyleModel",
     "state": {
      "_model_module": "@jupyter-widgets/controls",
      "_model_module_version": "1.5.0",
      "_model_name": "DescriptionStyleModel",
      "_view_count": null,
      "_view_module": "@jupyter-widgets/base",
      "_view_module_version": "1.2.0",
      "_view_name": "StyleView",
      "description_width": ""
     }
    },
    "f905c7aa3ca6410aa15faa6af89f0b3e": {
     "model_module": "@jupyter-widgets/base",
     "model_module_version": "1.2.0",
     "model_name": "LayoutModel",
     "state": {
      "_model_module": "@jupyter-widgets/base",
      "_model_module_version": "1.2.0",
      "_model_name": "LayoutModel",
      "_view_count": null,
      "_view_module": "@jupyter-widgets/base",
      "_view_module_version": "1.2.0",
      "_view_name": "LayoutView",
      "align_content": null,
      "align_items": null,
      "align_self": null,
      "border": null,
      "bottom": null,
      "display": null,
      "flex": null,
      "flex_flow": null,
      "grid_area": null,
      "grid_auto_columns": null,
      "grid_auto_flow": null,
      "grid_auto_rows": null,
      "grid_column": null,
      "grid_gap": null,
      "grid_row": null,
      "grid_template_areas": null,
      "grid_template_columns": null,
      "grid_template_rows": null,
      "height": null,
      "justify_content": null,
      "justify_items": null,
      "left": null,
      "margin": null,
      "max_height": null,
      "max_width": null,
      "min_height": null,
      "min_width": null,
      "object_fit": null,
      "object_position": null,
      "order": null,
      "overflow": null,
      "overflow_x": null,
      "overflow_y": null,
      "padding": null,
      "right": null,
      "top": null,
      "visibility": null,
      "width": null
     }
    },
    "fb26467b768a44d6a65c14806ede0400": {
     "model_module": "@jupyter-widgets/controls",
     "model_module_version": "1.5.0",
     "model_name": "HTMLModel",
     "state": {
      "_dom_classes": [],
      "_model_module": "@jupyter-widgets/controls",
      "_model_module_version": "1.5.0",
      "_model_name": "HTMLModel",
      "_view_count": null,
      "_view_module": "@jupyter-widgets/controls",
      "_view_module_version": "1.5.0",
      "_view_name": "HTMLView",
      "description": "",
      "description_tooltip": null,
      "layout": "IPY_MODEL_e5277ae57dba4d6a820ff7fbe61d7539",
      "placeholder": "​",
      "style": "IPY_MODEL_6d813587c44b4628891c0831065044e6",
      "value": "Processing:  86%"
     }
    },
    "ffb97a14f89741f7b21f2a3cd1898705": {
     "model_module": "@jupyter-widgets/controls",
     "model_module_version": "1.5.0",
     "model_name": "DescriptionStyleModel",
     "state": {
      "_model_module": "@jupyter-widgets/controls",
      "_model_module_version": "1.5.0",
      "_model_name": "DescriptionStyleModel",
      "_view_count": null,
      "_view_module": "@jupyter-widgets/base",
      "_view_module_version": "1.2.0",
      "_view_name": "StyleView",
      "description_width": ""
     }
    }
   }
  }
 },
 "nbformat": 4,
 "nbformat_minor": 1
}
