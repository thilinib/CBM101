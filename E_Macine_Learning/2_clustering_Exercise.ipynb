{
 "cells": [
  {
   "cell_type": "markdown",
   "metadata": {},
   "source": [
    "# Clustereing on Breast Cancer Wisconsin (Diagnostic) "
   ]
  },
  {
   "cell_type": "markdown",
   "metadata": {},
   "source": [
    "Load packages"
   ]
  },
  {
   "cell_type": "code",
   "execution_count": 13,
   "metadata": {},
   "outputs": [],
   "source": [
    "import pandas as pd\n",
    "from matplotlib import pyplot as plt\n",
    "import seaborn as sns\n",
    "from pycaret.clustering import *"
   ]
  },
  {
   "cell_type": "markdown",
   "metadata": {},
   "source": [
    "Load csv\n"
   ]
  },
  {
   "cell_type": "code",
   "execution_count": null,
   "metadata": {},
   "outputs": [],
   "source": [
    "df = pd.read_csv('data/breast_cancer.csv', index_col=0)"
   ]
  },
  {
   "cell_type": "code",
   "execution_count": null,
   "metadata": {},
   "outputs": [],
   "source": [
    "df.info()"
   ]
  },
  {
   "cell_type": "markdown",
   "metadata": {},
   "source": [
    "Preprocess data\n",
    "\n",
    "Do initial preprocessing steps for the dataset, same way that you have done on last notebook(1.EDA_Question.ipynb )"
   ]
  },
  {
   "cell_type": "code",
   "execution_count": null,
   "metadata": {},
   "outputs": [],
   "source": []
  },
  {
   "cell_type": "code",
   "execution_count": null,
   "metadata": {},
   "outputs": [],
   "source": []
  },
  {
   "cell_type": "code",
   "execution_count": null,
   "metadata": {},
   "outputs": [],
   "source": []
  },
  {
   "cell_type": "markdown",
   "metadata": {},
   "source": [
    "Now let's split the data. \n",
    "* X typically represents the features (independent variables) of your dataset.\n",
    "* y represents the target variable (dependent variable) that you are trying to predict or cluster.\n",
    "\n",
    "In the case of clustering algorithms like K-means, you're performing unsupervised learning, where the algorithm is trying to identify patterns or groups in the data without any labeled target variable."
   ]
  },
  {
   "cell_type": "code",
   "execution_count": 14,
   "metadata": {},
   "outputs": [],
   "source": [
    "X = df.drop('diagnosis', axis=1)\n",
    "y = df['diagnosis']"
   ]
  },
  {
   "cell_type": "markdown",
   "metadata": {},
   "source": [
    "Initialize PyCaret's clustering module with the dataset.\n",
    " "
   ]
  },
  {
   "cell_type": "code",
   "execution_count": null,
   "metadata": {},
   "outputs": [],
   "source": []
  },
  {
   "cell_type": "markdown",
   "metadata": {},
   "source": [
    "Get all the clustering models list"
   ]
  },
  {
   "cell_type": "code",
   "execution_count": null,
   "metadata": {},
   "outputs": [],
   "source": []
  },
  {
   "cell_type": "markdown",
   "metadata": {},
   "source": [
    "Create clusters using the K-means algorithm with actual cluster number. (2) You can name the model as kmeans_2"
   ]
  },
  {
   "cell_type": "markdown",
   "metadata": {},
   "source": []
  },
  {
   "cell_type": "markdown",
   "metadata": {},
   "source": [
    "Visualize the clusters using PyCaret's built-in visualization capabilities with silhouette.\n"
   ]
  },
  {
   "cell_type": "code",
   "execution_count": null,
   "metadata": {},
   "outputs": [],
   "source": []
  },
  {
   "cell_type": "markdown",
   "metadata": {},
   "source": [
    "Get the appropriate number of clusters predicting with the elbow method. use plot_model() for this."
   ]
  },
  {
   "cell_type": "code",
   "execution_count": null,
   "metadata": {},
   "outputs": [],
   "source": []
  },
  {
   "cell_type": "markdown",
   "metadata": {},
   "source": [
    "Now create clusters/model using the K-means algorithm with the predicted cluster number. You can name the model as kmeans_4"
   ]
  },
  {
   "cell_type": "code",
   "execution_count": null,
   "metadata": {},
   "outputs": [],
   "source": []
  },
  {
   "cell_type": "markdown",
   "metadata": {},
   "source": [
    "Visualize the clusters using silhouette."
   ]
  },
  {
   "cell_type": "code",
   "execution_count": null,
   "metadata": {},
   "outputs": [],
   "source": []
  },
  {
   "cell_type": "markdown",
   "metadata": {},
   "source": [
    "Plot model using cluster for kmeans_2 and kmeans_4"
   ]
  },
  {
   "cell_type": "code",
   "execution_count": null,
   "metadata": {},
   "outputs": [],
   "source": [
    "plot_model(kmeans, plot = 'cluster') #cluster is default"
   ]
  },
  {
   "cell_type": "code",
   "execution_count": null,
   "metadata": {},
   "outputs": [],
   "source": []
  },
  {
   "cell_type": "markdown",
   "metadata": {},
   "source": [
    "use the distribution plot to see the distribution of cluster labels in association with other features like 'radius_mean', 'area_mean', 'concave points_mean' for kmeans_2 and kmeans_4"
   ]
  },
  {
   "cell_type": "code",
   "execution_count": null,
   "metadata": {},
   "outputs": [],
   "source": []
  },
  {
   "cell_type": "code",
   "execution_count": null,
   "metadata": {},
   "outputs": [],
   "source": []
  },
  {
   "cell_type": "code",
   "execution_count": null,
   "metadata": {},
   "outputs": [],
   "source": []
  },
  {
   "cell_type": "code",
   "execution_count": 37,
   "metadata": {},
   "outputs": [
    {
     "data": {
      "text/html": [],
      "text/plain": [
       "<IPython.core.display.HTML object>"
      ]
     },
     "metadata": {},
     "output_type": "display_data"
    },
    {
     "data": {
      "application/vnd.plotly.v1+json": {
       "config": {
        "plotlyServerURL": "https://plot.ly"
       },
       "data": [
        {
         "customdata": [
          [
           null
          ],
          [
           null
          ],
          [
           null
          ],
          [
           null
          ],
          [
           null
          ],
          [
           null
          ],
          [
           null
          ],
          [
           null
          ],
          [
           null
          ],
          [
           null
          ],
          [
           null
          ],
          [
           null
          ],
          [
           null
          ],
          [
           null
          ],
          [
           null
          ],
          [
           null
          ],
          [
           null
          ],
          [
           null
          ],
          [
           null
          ],
          [
           null
          ],
          [
           null
          ],
          [
           null
          ],
          [
           null
          ],
          [
           null
          ],
          [
           null
          ],
          [
           null
          ],
          [
           null
          ],
          [
           null
          ],
          [
           null
          ],
          [
           null
          ],
          [
           null
          ],
          [
           null
          ],
          [
           null
          ],
          [
           null
          ],
          [
           null
          ],
          [
           null
          ],
          [
           null
          ],
          [
           null
          ],
          [
           null
          ],
          [
           null
          ],
          [
           null
          ],
          [
           null
          ],
          [
           null
          ],
          [
           null
          ],
          [
           null
          ],
          [
           null
          ],
          [
           null
          ],
          [
           null
          ],
          [
           null
          ],
          [
           null
          ],
          [
           null
          ],
          [
           null
          ],
          [
           null
          ],
          [
           null
          ],
          [
           null
          ],
          [
           null
          ],
          [
           null
          ],
          [
           null
          ],
          [
           null
          ],
          [
           null
          ],
          [
           null
          ],
          [
           null
          ],
          [
           null
          ],
          [
           null
          ],
          [
           null
          ],
          [
           null
          ],
          [
           null
          ],
          [
           null
          ],
          [
           null
          ],
          [
           null
          ],
          [
           null
          ],
          [
           null
          ],
          [
           null
          ],
          [
           null
          ],
          [
           null
          ],
          [
           null
          ],
          [
           null
          ],
          [
           null
          ],
          [
           null
          ],
          [
           null
          ],
          [
           null
          ],
          [
           null
          ],
          [
           null
          ],
          [
           null
          ],
          [
           null
          ],
          [
           null
          ],
          [
           null
          ],
          [
           null
          ],
          [
           null
          ],
          [
           null
          ],
          [
           null
          ],
          [
           null
          ],
          [
           null
          ],
          [
           null
          ],
          [
           null
          ],
          [
           null
          ],
          [
           null
          ],
          [
           null
          ],
          [
           null
          ],
          [
           null
          ],
          [
           null
          ]
         ],
         "hovertemplate": "Cluster=Cluster 0<br>PCA1=%{x}<br>PCA2=%{y}<br>Feature=%{customdata[0]}<extra></extra>",
         "legendgroup": "Cluster 0",
         "marker": {
          "color": "#636efa",
          "opacity": 0.5,
          "symbol": "circle"
         },
         "mode": "markers",
         "name": "Cluster 0",
         "orientation": "v",
         "showlegend": true,
         "textposition": "top center",
         "type": "scatter",
         "x": [
          1160.1447,
          652.24506,
          652.58234,
          457.33957,
          1002.1493,
          1418.9778,
          490.8182,
          947.8741,
          461.21814,
          1482.6095,
          997.05206,
          1267.9609,
          1194.0122,
          1083.9304,
          589.7969,
          719.9066,
          1376.3932,
          832.61035,
          1099.4875,
          842.4153,
          838.2367,
          854.6143,
          1062.2043,
          1135.5826,
          991.3793,
          495.88705,
          793.468,
          648.81165,
          815.3247,
          826.1327,
          946.2966,
          731.3676,
          523.87714,
          790.6219,
          1448.4298,
          446.20306,
          885.9995,
          606.8245,
          1338.8993,
          433.72998,
          857.3907,
          821.59,
          987.0235,
          1222.2133,
          551.65656,
          1078.0488,
          845.9477,
          826.2124,
          576.2099,
          1102.1779,
          980.52185,
          939.4001,
          1265.8834,
          539.39954,
          641.49805,
          710.4542,
          488.37643,
          525.7072,
          1010.01135,
          1201.4386,
          1184.9313,
          1153.075,
          433.28488,
          509.68018,
          617.24347,
          803.717,
          1188.5336,
          554.79315,
          973.8921,
          894.4196,
          1124.8593,
          741.38495,
          1356.4608,
          646.0465,
          1299.2338,
          535.8525,
          946.8664,
          457.688,
          1273.7323,
          1342.1399,
          634.8807,
          897.0284,
          811.39087,
          1092.4021,
          1062.1725,
          576.3607,
          524.94556,
          903.98206,
          1167.1376,
          828.582,
          821.2117,
          1045.0195,
          447.3932,
          634.5147,
          930.3416,
          1269.1234,
          453.6784,
          677.78485,
          995.7945,
          1414.1274,
          807.56525
         ],
         "xaxis": "x",
         "y": [
          -293.9136,
          18.509428,
          55.345444,
          117.67459,
          -7.9982047,
          20.35733,
          135.75406,
          2.66756,
          67.93649,
          307.4174,
          141.21605,
          -93.601234,
          53.17549,
          105.65995,
          -46.662155,
          149.65231,
          -65.759705,
          -19.683687,
          112.59752,
          -122.19228,
          -15.474411,
          -25.184278,
          69.83236,
          77.07471,
          154.52693,
          82.41889,
          14.432698,
          -9.678164,
          72.15387,
          -8.924503,
          81.0506,
          22.000435,
          46.053833,
          111.27202,
          -223.2409,
          1.2249603,
          91.833855,
          191.9235,
          20.729437,
          56.66975,
          14.629468,
          198.67624,
          126.6302,
          -27.803688,
          -24.064354,
          -141.25032,
          119.001045,
          -322.90176,
          45.166515,
          78.98768,
          85.4977,
          285.85312,
          28.639208,
          70.830605,
          219.9562,
          4.6117964,
          24.94416,
          73.27587,
          83.91112,
          -126.87784,
          -70.06955,
          41.07069,
          62.778122,
          35.90136,
          -54.54302,
          -162.09872,
          -74.674385,
          66.045555,
          -24.588392,
          31.331038,
          34.129074,
          178.11143,
          30.999578,
          -9.448374,
          -127.454346,
          197.97607,
          120.574135,
          -171.3429,
          -479.3216,
          -231.14835,
          -79.9318,
          -15.172269,
          -77.41753,
          -105.03575,
          -50.23998,
          95.4518,
          -31.227528,
          -38.91016,
          105.59668,
          -180.66791,
          -47.149647,
          77.0577,
          -102.151566,
          167.20528,
          189.34088,
          15.6301775,
          77.39999,
          104.8248,
          39.15692,
          110.22267,
          4.2714267
         ],
         "yaxis": "y"
        },
        {
         "customdata": [
          [
           null
          ],
          [
           null
          ],
          [
           null
          ],
          [
           null
          ],
          [
           null
          ],
          [
           null
          ],
          [
           null
          ],
          [
           null
          ],
          [
           null
          ],
          [
           null
          ],
          [
           null
          ],
          [
           null
          ],
          [
           null
          ],
          [
           null
          ],
          [
           null
          ],
          [
           null
          ],
          [
           null
          ],
          [
           null
          ],
          [
           null
          ],
          [
           null
          ],
          [
           null
          ],
          [
           null
          ],
          [
           null
          ],
          [
           null
          ],
          [
           null
          ],
          [
           null
          ],
          [
           null
          ],
          [
           null
          ],
          [
           null
          ],
          [
           null
          ],
          [
           null
          ],
          [
           null
          ],
          [
           null
          ],
          [
           null
          ],
          [
           null
          ],
          [
           null
          ],
          [
           null
          ],
          [
           null
          ],
          [
           null
          ],
          [
           null
          ],
          [
           null
          ],
          [
           null
          ],
          [
           null
          ],
          [
           null
          ],
          [
           null
          ],
          [
           null
          ],
          [
           null
          ],
          [
           null
          ],
          [
           null
          ],
          [
           null
          ],
          [
           null
          ],
          [
           null
          ],
          [
           null
          ],
          [
           null
          ],
          [
           null
          ],
          [
           null
          ],
          [
           null
          ],
          [
           null
          ],
          [
           null
          ],
          [
           null
          ],
          [
           null
          ],
          [
           null
          ],
          [
           null
          ],
          [
           null
          ],
          [
           null
          ],
          [
           null
          ],
          [
           null
          ],
          [
           null
          ],
          [
           null
          ],
          [
           null
          ],
          [
           null
          ],
          [
           null
          ],
          [
           null
          ],
          [
           null
          ],
          [
           null
          ],
          [
           null
          ],
          [
           null
          ],
          [
           null
          ],
          [
           null
          ],
          [
           null
          ],
          [
           null
          ],
          [
           null
          ],
          [
           null
          ],
          [
           null
          ],
          [
           null
          ],
          [
           null
          ],
          [
           null
          ],
          [
           null
          ],
          [
           null
          ],
          [
           null
          ],
          [
           null
          ],
          [
           null
          ],
          [
           null
          ],
          [
           null
          ],
          [
           null
          ],
          [
           null
          ],
          [
           null
          ],
          [
           null
          ],
          [
           null
          ],
          [
           null
          ],
          [
           null
          ],
          [
           null
          ],
          [
           null
          ],
          [
           null
          ],
          [
           null
          ],
          [
           null
          ],
          [
           null
          ],
          [
           null
          ],
          [
           null
          ],
          [
           null
          ],
          [
           null
          ],
          [
           null
          ],
          [
           null
          ],
          [
           null
          ],
          [
           null
          ],
          [
           null
          ],
          [
           null
          ],
          [
           null
          ],
          [
           null
          ],
          [
           null
          ],
          [
           null
          ],
          [
           null
          ],
          [
           null
          ],
          [
           null
          ],
          [
           null
          ],
          [
           null
          ],
          [
           null
          ],
          [
           null
          ],
          [
           null
          ],
          [
           null
          ],
          [
           null
          ],
          [
           null
          ],
          [
           null
          ],
          [
           null
          ],
          [
           null
          ],
          [
           null
          ],
          [
           null
          ],
          [
           null
          ],
          [
           null
          ],
          [
           null
          ],
          [
           null
          ],
          [
           null
          ],
          [
           null
          ],
          [
           null
          ],
          [
           null
          ],
          [
           null
          ],
          [
           null
          ],
          [
           null
          ],
          [
           null
          ],
          [
           null
          ],
          [
           null
          ],
          [
           null
          ],
          [
           null
          ],
          [
           null
          ],
          [
           null
          ],
          [
           null
          ],
          [
           null
          ],
          [
           null
          ],
          [
           null
          ],
          [
           null
          ],
          [
           null
          ],
          [
           null
          ],
          [
           null
          ],
          [
           null
          ],
          [
           null
          ],
          [
           null
          ],
          [
           null
          ],
          [
           null
          ],
          [
           null
          ],
          [
           null
          ],
          [
           null
          ],
          [
           null
          ],
          [
           null
          ],
          [
           null
          ],
          [
           null
          ],
          [
           null
          ],
          [
           null
          ],
          [
           null
          ],
          [
           null
          ],
          [
           null
          ],
          [
           null
          ]
         ],
         "hovertemplate": "Cluster=Cluster 1<br>PCA1=%{x}<br>PCA2=%{y}<br>Feature=%{customdata[0]}<extra></extra>",
         "legendgroup": "Cluster 1",
         "marker": {
          "color": "#EF553B",
          "opacity": 0.5,
          "symbol": "circle"
         },
         "mode": "markers",
         "name": "Cluster 1",
         "orientation": "v",
         "showlegend": true,
         "textposition": "top center",
         "type": "scatter",
         "x": [
          -80.657684,
          410.05008,
          8.592018,
          -73.88616,
          404.3863,
          73.35768,
          363.60785,
          -236.59239,
          -164.87343,
          373.72067,
          -103.688736,
          145.36966,
          -180.8847,
          -227.41122,
          -130.33469,
          178.60646,
          -216.05504,
          -171.84135,
          -128.97357,
          80.27004,
          -70.46299,
          273.6382,
          -81.93358,
          -151.62196,
          134.50333,
          -184.70741,
          -194.8765,
          -215.20654,
          232.6159,
          -204.01515,
          -12.781198,
          -168.34392,
          -46.99948,
          -63.492573,
          -228.32776,
          388.50464,
          -34.375004,
          -116.08646,
          61.940884,
          -210.73357,
          38.13065,
          -182.89264,
          -170.24564,
          -225.3956,
          -183.92793,
          -127.99483,
          -44.150787,
          -200.88133,
          -59.157246,
          -23.014055,
          -238.2932,
          -191.29291,
          7.115171,
          77.34951,
          8.282061,
          84.93198,
          178.49359,
          -192.01685,
          -25.089869,
          132.17342,
          304.688,
          204.75703,
          -211.59122,
          340.25253,
          -24.214672,
          314.50174,
          -220.14175,
          52.152866,
          -220.4547,
          -231.15318,
          -99.77001,
          -226.83553,
          -146.8906,
          -192.91576,
          -240.38057,
          206.70029,
          424.36166,
          233.8195,
          -117.87137,
          -96.626396,
          -246.25877,
          112.56085,
          -226.42334,
          -41.021343,
          -34.32424,
          -64.344345,
          -191.6211,
          -185.14532,
          -202.7843,
          -243.06673,
          -189.06467,
          -190.16507,
          -145.25081,
          -134.66997,
          -39.12086,
          -79.189095,
          235.85846,
          56.004864,
          -196.4413,
          63.042538,
          -24.865595,
          -132.65802,
          288.84464,
          171.32538,
          -29.530697,
          412.94318,
          -168.8031,
          124.670265,
          -70.65055,
          -90.247055,
          284.94846,
          332.7759,
          91.16668,
          45.175426,
          -210.51363,
          93.69555,
          -74.27665,
          385.45,
          98.35561,
          -13.882909,
          -81.753685,
          -90.54714,
          -42.358616,
          -105.46863,
          -169.62952,
          64.59649,
          125.26145,
          -234.8848,
          64.40848,
          -167.7472,
          247.07104,
          -123.524605,
          402.2182,
          -201.25429,
          -39.662197,
          379.60275,
          -60.78252,
          -64.463066,
          -95.55622,
          -66.79161,
          -61.942684,
          -4.737229,
          -96.55612,
          -207.47734,
          150.75331,
          -53.105522,
          -15.097007,
          -143.99474,
          -110.47826,
          -134.10338,
          -225.52357,
          -159.5502,
          -192.43077,
          198.25119,
          -196.89363,
          -67.106514,
          -96.16238,
          -125.245346,
          232.51561,
          90.99907,
          390.1995,
          -166.75726,
          -109.46481,
          -235.89368,
          107.058205,
          132.41989,
          -73.13311,
          -177.24309,
          -205.11195,
          178.68866,
          -70.23466,
          -187.83087,
          -124.35097,
          50.48801,
          157.40416,
          -37.629135,
          -2.3066945,
          278.67957,
          -58.892536,
          24.434753,
          204.41904
         ],
         "xaxis": "x",
         "y": [
          23.36351,
          2.8641808,
          -16.98443,
          -16.358675,
          -67.07951,
          25.598227,
          -76.68956,
          33.418842,
          2.6826088,
          -135.33487,
          -187.68547,
          32.500717,
          82.62417,
          -0.5028006,
          68.15364,
          -3.326508,
          51.678894,
          8.35619,
          132.60698,
          33.45181,
          -18.559992,
          178.22714,
          -1.7802675,
          2.8802352,
          107.45725,
          -33.080566,
          17.094896,
          20.866941,
          -16.60875,
          -3.6861806,
          -7.5952253,
          36.43813,
          63.135098,
          -4.079823,
          -39.088894,
          45.547417,
          -107.67272,
          33.935356,
          35.2649,
          34.39799,
          14.014866,
          35.22327,
          -9.054853,
          -1.4660032,
          -19.402958,
          -30.68742,
          64.599335,
          7.0456266,
          38.71064,
          -1.9145608,
          -65.38636,
          -42.126457,
          11.868051,
          28.790731,
          40.249016,
          71.36349,
          -35.04699,
          44.290985,
          -74.18596,
          89.3648,
          -17.724943,
          90.21179,
          -79.87746,
          11.239028,
          80.77803,
          47.553658,
          44.199642,
          124.55124,
          24.165646,
          52.563,
          71.950066,
          23.875154,
          20.388136,
          62.57306,
          24.968193,
          50.76276,
          -109.22033,
          20.25577,
          58.960052,
          56.14729,
          21.653133,
          -9.1606245,
          52.2991,
          30.108538,
          43.650105,
          12.896692,
          12.2591915,
          31.46807,
          18.571455,
          1.8113261,
          21.171343,
          58.194477,
          14.9583235,
          30.52398,
          -41.604923,
          69.74157,
          -108.42563,
          -29.148336,
          29.657965,
          111.67773,
          51.019993,
          35.096672,
          11.239656,
          98.38328,
          29.22986,
          42.59305,
          41.60126,
          -3.634161,
          -54.09742,
          78.614494,
          -62.391964,
          -20.219002,
          69.69079,
          -11.52257,
          29.118639,
          -26.591831,
          -137.54305,
          -47.383354,
          -4.575734,
          13.242227,
          -65.15702,
          84.703,
          66.69749,
          46.560978,
          20.523165,
          50.650913,
          116.51017,
          6.3753495,
          -48.469925,
          23.655811,
          114.296005,
          58.301666,
          -93.71463,
          39.818302,
          39.814922,
          -38.201385,
          38.560783,
          31.641296,
          -25.017376,
          37.8368,
          46.6729,
          88.70367,
          -62.354675,
          8.710428,
          -31.266382,
          17.596416,
          -75.335846,
          57.604748,
          -78.764725,
          -12.278771,
          66.51806,
          68.20424,
          -5.308308,
          -87.51019,
          21.103128,
          81.312645,
          -18.049564,
          78.42351,
          -44.385,
          -52.664165,
          -106.22406,
          -40.01467,
          -2.229144,
          45.130627,
          -0.38206282,
          -95.379456,
          64.28038,
          43.723293,
          13.940411,
          100.3393,
          72.65176,
          -94.083725,
          23.025688,
          -135.39548,
          -28.156675,
          35.23664,
          42.173206,
          67.7715,
          71.76867,
          92.96047,
          -190.3833
         ],
         "yaxis": "y"
        },
        {
         "customdata": [
          [
           null
          ],
          [
           null
          ],
          [
           null
          ],
          [
           null
          ],
          [
           null
          ],
          [
           null
          ],
          [
           null
          ],
          [
           null
          ],
          [
           null
          ],
          [
           null
          ],
          [
           null
          ],
          [
           null
          ],
          [
           null
          ],
          [
           null
          ],
          [
           null
          ],
          [
           null
          ],
          [
           null
          ],
          [
           null
          ],
          [
           null
          ]
         ],
         "hovertemplate": "Cluster=Cluster 2<br>PCA1=%{x}<br>PCA2=%{y}<br>Feature=%{customdata[0]}<extra></extra>",
         "legendgroup": "Cluster 2",
         "marker": {
          "color": "#00cc96",
          "opacity": 0.5,
          "symbol": "circle"
         },
         "mode": "markers",
         "name": "Cluster 2",
         "orientation": "v",
         "showlegend": true,
         "textposition": "top center",
         "type": "scatter",
         "x": [
          1716.421,
          2721.003,
          1615.095,
          1839.37,
          1662.8168,
          2304.219,
          2404.9446,
          1873.7346,
          1586.1295,
          2166.1868,
          2366.7017,
          2584.8308,
          2077.4072,
          2127.0195,
          2296.482,
          3867.1814,
          1726.0963,
          2828.2434,
          1604.7996
         ],
         "xaxis": "x",
         "y": [
          -36.549053,
          -62.73624,
          -270.33347,
          91.28915,
          -343.279,
          -117.53483,
          -412.3092,
          -260.19604,
          8.948273,
          -108.422646,
          739.6212,
          -671.53253,
          173.5186,
          100.28791,
          -203.0994,
          -171.01752,
          -64.80948,
          151.24876,
          328.66754
         ],
         "yaxis": "y"
        },
        {
         "customdata": [
          [
           null
          ],
          [
           null
          ],
          [
           null
          ],
          [
           null
          ],
          [
           null
          ],
          [
           null
          ],
          [
           null
          ],
          [
           null
          ],
          [
           null
          ],
          [
           null
          ],
          [
           null
          ],
          [
           null
          ],
          [
           null
          ],
          [
           null
          ],
          [
           null
          ],
          [
           null
          ],
          [
           null
          ],
          [
           null
          ],
          [
           null
          ],
          [
           null
          ],
          [
           null
          ],
          [
           null
          ],
          [
           null
          ],
          [
           null
          ],
          [
           null
          ],
          [
           null
          ],
          [
           null
          ],
          [
           null
          ],
          [
           null
          ],
          [
           null
          ],
          [
           null
          ],
          [
           null
          ],
          [
           null
          ],
          [
           null
          ],
          [
           null
          ],
          [
           null
          ],
          [
           null
          ],
          [
           null
          ],
          [
           null
          ],
          [
           null
          ],
          [
           null
          ],
          [
           null
          ],
          [
           null
          ],
          [
           null
          ],
          [
           null
          ],
          [
           null
          ],
          [
           null
          ],
          [
           null
          ],
          [
           null
          ],
          [
           null
          ],
          [
           null
          ],
          [
           null
          ],
          [
           null
          ],
          [
           null
          ],
          [
           null
          ],
          [
           null
          ],
          [
           null
          ],
          [
           null
          ],
          [
           null
          ],
          [
           null
          ],
          [
           null
          ],
          [
           null
          ],
          [
           null
          ],
          [
           null
          ],
          [
           null
          ],
          [
           null
          ],
          [
           null
          ],
          [
           null
          ],
          [
           null
          ],
          [
           null
          ],
          [
           null
          ],
          [
           null
          ],
          [
           null
          ],
          [
           null
          ],
          [
           null
          ],
          [
           null
          ],
          [
           null
          ],
          [
           null
          ],
          [
           null
          ],
          [
           null
          ],
          [
           null
          ],
          [
           null
          ],
          [
           null
          ],
          [
           null
          ],
          [
           null
          ],
          [
           null
          ],
          [
           null
          ],
          [
           null
          ],
          [
           null
          ],
          [
           null
          ],
          [
           null
          ],
          [
           null
          ],
          [
           null
          ],
          [
           null
          ],
          [
           null
          ],
          [
           null
          ],
          [
           null
          ],
          [
           null
          ],
          [
           null
          ],
          [
           null
          ],
          [
           null
          ],
          [
           null
          ],
          [
           null
          ],
          [
           null
          ],
          [
           null
          ],
          [
           null
          ],
          [
           null
          ],
          [
           null
          ],
          [
           null
          ],
          [
           null
          ],
          [
           null
          ],
          [
           null
          ],
          [
           null
          ],
          [
           null
          ],
          [
           null
          ],
          [
           null
          ],
          [
           null
          ],
          [
           null
          ],
          [
           null
          ],
          [
           null
          ],
          [
           null
          ],
          [
           null
          ],
          [
           null
          ],
          [
           null
          ],
          [
           null
          ],
          [
           null
          ],
          [
           null
          ],
          [
           null
          ],
          [
           null
          ],
          [
           null
          ],
          [
           null
          ],
          [
           null
          ],
          [
           null
          ],
          [
           null
          ],
          [
           null
          ],
          [
           null
          ],
          [
           null
          ],
          [
           null
          ],
          [
           null
          ],
          [
           null
          ],
          [
           null
          ],
          [
           null
          ],
          [
           null
          ],
          [
           null
          ],
          [
           null
          ],
          [
           null
          ],
          [
           null
          ],
          [
           null
          ],
          [
           null
          ],
          [
           null
          ],
          [
           null
          ],
          [
           null
          ],
          [
           null
          ],
          [
           null
          ],
          [
           null
          ],
          [
           null
          ],
          [
           null
          ],
          [
           null
          ],
          [
           null
          ],
          [
           null
          ],
          [
           null
          ],
          [
           null
          ],
          [
           null
          ],
          [
           null
          ],
          [
           null
          ],
          [
           null
          ],
          [
           null
          ],
          [
           null
          ],
          [
           null
          ],
          [
           null
          ],
          [
           null
          ],
          [
           null
          ],
          [
           null
          ],
          [
           null
          ],
          [
           null
          ],
          [
           null
          ],
          [
           null
          ],
          [
           null
          ],
          [
           null
          ],
          [
           null
          ],
          [
           null
          ],
          [
           null
          ],
          [
           null
          ],
          [
           null
          ],
          [
           null
          ],
          [
           null
          ],
          [
           null
          ],
          [
           null
          ],
          [
           null
          ],
          [
           null
          ],
          [
           null
          ],
          [
           null
          ],
          [
           null
          ],
          [
           null
          ],
          [
           null
          ],
          [
           null
          ],
          [
           null
          ],
          [
           null
          ],
          [
           null
          ],
          [
           null
          ],
          [
           null
          ],
          [
           null
          ],
          [
           null
          ],
          [
           null
          ],
          [
           null
          ],
          [
           null
          ],
          [
           null
          ],
          [
           null
          ],
          [
           null
          ],
          [
           null
          ],
          [
           null
          ],
          [
           null
          ],
          [
           null
          ],
          [
           null
          ],
          [
           null
          ],
          [
           null
          ],
          [
           null
          ],
          [
           null
          ],
          [
           null
          ],
          [
           null
          ],
          [
           null
          ],
          [
           null
          ],
          [
           null
          ],
          [
           null
          ],
          [
           null
          ],
          [
           null
          ],
          [
           null
          ],
          [
           null
          ],
          [
           null
          ],
          [
           null
          ],
          [
           null
          ],
          [
           null
          ],
          [
           null
          ],
          [
           null
          ],
          [
           null
          ],
          [
           null
          ],
          [
           null
          ],
          [
           null
          ],
          [
           null
          ],
          [
           null
          ],
          [
           null
          ],
          [
           null
          ],
          [
           null
          ],
          [
           null
          ],
          [
           null
          ],
          [
           null
          ],
          [
           null
          ],
          [
           null
          ],
          [
           null
          ],
          [
           null
          ],
          [
           null
          ],
          [
           null
          ],
          [
           null
          ],
          [
           null
          ],
          [
           null
          ],
          [
           null
          ],
          [
           null
          ],
          [
           null
          ],
          [
           null
          ],
          [
           null
          ],
          [
           null
          ],
          [
           null
          ],
          [
           null
          ],
          [
           null
          ],
          [
           null
          ],
          [
           null
          ],
          [
           null
          ],
          [
           null
          ]
         ],
         "hovertemplate": "Cluster=Cluster 3<br>PCA1=%{x}<br>PCA2=%{y}<br>Feature=%{customdata[0]}<extra></extra>",
         "legendgroup": "Cluster 3",
         "marker": {
          "color": "#ab63fa",
          "opacity": 0.5,
          "symbol": "circle"
         },
         "mode": "markers",
         "name": "Cluster 3",
         "orientation": "v",
         "showlegend": true,
         "textposition": "top center",
         "type": "scatter",
         "x": [
          -698.45325,
          -622.2151,
          -556.61725,
          -421.864,
          -646.3091,
          -407.53613,
          -352.6001,
          -505.32526,
          -436.33823,
          -401.67456,
          -623.07684,
          -497.86798,
          -479.33606,
          -484.48175,
          -383.90796,
          -276.25824,
          -518.01227,
          -324.2233,
          -473.75772,
          -389.2305,
          -360.47086,
          -289.40558,
          -597.2258,
          -441.24826,
          -334.3069,
          -493.64813,
          -389.8092,
          -394.35956,
          -815.9811,
          -790.3138,
          -497.86176,
          -465.86682,
          -273.66934,
          -330.16443,
          -349.09204,
          -392.92914,
          -537.1743,
          -475.74323,
          -322.05478,
          -436.19296,
          -482.14935,
          -416.94162,
          -615.0593,
          -296.96915,
          -429.7484,
          -427.1062,
          -300.03018,
          -620.87244,
          -325.9292,
          -373.87262,
          -273.82193,
          -286.5891,
          -644.9295,
          -552.98004,
          -418.65363,
          -457.05444,
          -636.04663,
          -672.59155,
          -708.6527,
          -704.9675,
          -317.9268,
          -374.93536,
          -468.33597,
          -405.35336,
          -259.64188,
          -303.49274,
          -368.57803,
          -617.19476,
          -613.8299,
          -544.4134,
          -745.0225,
          -620.5614,
          -488.80518,
          -319.37268,
          -331.9933,
          -635.0644,
          -313.28284,
          -260.05273,
          -410.18707,
          -538.1167,
          -520.80896,
          -293.1705,
          -373.89355,
          -554.7647,
          -524.6604,
          -493.691,
          -389.6948,
          -604.8233,
          -670.67755,
          -425.6339,
          -473.47302,
          -681.5841,
          -316.3216,
          -590.7196,
          -406.20926,
          -373.01404,
          -519.5618,
          -611.7503,
          -776.08923,
          -296.3116,
          -363.4607,
          -433.33237,
          -502.29382,
          -532.84186,
          -457.44937,
          -652.27515,
          -523.1638,
          -492.11896,
          -406.04614,
          -272.44427,
          -391.36856,
          -266.55362,
          -277.64908,
          -448.9327,
          -409.9786,
          -555.4065,
          -658.20795,
          -263.6235,
          -308.52606,
          -312.69754,
          -685.46985,
          -333.29868,
          -386.06763,
          -453.46616,
          -379.99112,
          -430.24832,
          -486.02417,
          -342.03906,
          -300.73444,
          -603.4445,
          -755.9682,
          -563.8453,
          -562.0953,
          -383.8676,
          -555.7491,
          -272.41293,
          -736.74457,
          -732.3509,
          -687.2237,
          -490.87988,
          -672.3772,
          -693.9619,
          -745.60126,
          -616.73004,
          -744.0922,
          -286.1457,
          -358.98218,
          -448.983,
          -430.03442,
          -362.69974,
          -783.8392,
          -462.0284,
          -355.87802,
          -683.58435,
          -285.0514,
          -407.181,
          -416.46976,
          -367.7525,
          -724.6631,
          -285.27823,
          -600.77496,
          -393.4959,
          -629.9313,
          -445.59464,
          -387.25897,
          -433.85617,
          -575.376,
          -631.2106,
          -327.2157,
          -388.0274,
          -442.12146,
          -628.7698,
          -436.37384,
          -360.5004,
          -378.6615,
          -298.3629,
          -436.50427,
          -299.2505,
          -863.1428,
          -701.7317,
          -405.09323,
          -582.3544,
          -622.2557,
          -434.2347,
          -524.42957,
          -647.0167,
          -605.03577,
          -334.95584,
          -388.13928,
          -470.84244,
          -382.09772,
          -520.4295,
          -415.42462,
          -348.76602,
          -357.8128,
          -319.48392,
          -592.3008,
          -404.8132,
          -713.2704,
          -416.34857,
          -284.452,
          -379.35324,
          -478.90033,
          -411.615,
          -505.80847,
          -401.12778,
          -279.5296,
          -340.0814,
          -444.38083,
          -518.97754,
          -486.64877,
          -471.8675,
          -447.99908,
          -618.2897,
          -340.80963,
          -279.26443,
          -337.66312,
          -573.5131,
          -710.8786,
          -322.3791,
          -373.29214,
          -506.41522,
          -322.05414,
          -415.4284,
          -775.05536,
          -302.98917,
          -502.15878,
          -564.2885,
          -317.44745,
          -550.8159,
          -447.2493,
          -462.9606,
          -524.76965,
          -281.25558,
          -640.7238,
          -298.65103,
          -487.5826,
          -382.93137,
          -662.871,
          -491.1515,
          -502.72162,
          -302.94427,
          -585.7555,
          -611.0935,
          -574.57495,
          -482.50046,
          -462.64813,
          -415.13385,
          -464.331,
          -723.568,
          -270.86823,
          -470.29645,
          -465.98865,
          -600.5746,
          -377.51068,
          -610.8857,
          -497.11838,
          -395.5126,
          -365.5123,
          -427.17358,
          -327.02325,
          -496.15573,
          -514.6768,
          -333.4565,
          -397.83487,
          -357.93604,
          -570.8854,
          -771.5281
         ],
         "xaxis": "x",
         "y": [
          -29.991066,
          -14.274255,
          -2.1264744,
          -3.6008596,
          -58.21305,
          -33.11632,
          26.095613,
          -15.815955,
          -23.007874,
          -28.114721,
          -14.523265,
          -28.827137,
          -4.377801,
          0.4195759,
          -11.905444,
          30.422125,
          -1.5307195,
          25.06596,
          -37.67426,
          -25.524439,
          -30.532385,
          23.345467,
          -25.310257,
          -32.135403,
          29.560759,
          3.9309618,
          2.076039,
          21.525766,
          -74.336235,
          -79.81634,
          -32.0078,
          -8.713326,
          1.8293028,
          -21.29685,
          3.5387335,
          -7.6660943,
          4.0720234,
          -0.84910214,
          22.374294,
          3.0452359,
          -17.043297,
          3.2150207,
          -56.18973,
          -10.440376,
          -27.506964,
          -22.32373,
          -16.597576,
          -56.00222,
          -7.7784705,
          -12.997045,
          28.276999,
          15.4499035,
          -36.560234,
          -3.1069074,
          16.975943,
          -7.2854095,
          -17.043499,
          -40.410168,
          -46.30998,
          -31.30115,
          27.369589,
          17.870178,
          15.365108,
          -28.820492,
          21.104984,
          -4.5459456,
          4.3416586,
          -53.22709,
          -36.08713,
          -46.54314,
          -57.431602,
          -48.09378,
          -49.738586,
          -27.685144,
          21.100918,
          -48.234524,
          16.054693,
          -31.315025,
          29.410349,
          -21.068356,
          2.302275,
          7.0687943,
          4.624205,
          -9.016976,
          -6.2807326,
          -32.79691,
          28.048744,
          -1.9406992,
          -43.206806,
          7.4897027,
          -56.55338,
          -52.40101,
          29.778605,
          -32.999832,
          3.9832695,
          -2.35967,
          -5.3541946,
          -43.852066,
          -59.073277,
          21.176302,
          -40.668465,
          2.7697651,
          -33.534267,
          -28.434782,
          -23.897108,
          -34.638664,
          0.8733852,
          -1.0894865,
          -24.617352,
          -9.516335,
          3.8337414,
          42.263153,
          0.877009,
          -23.222635,
          -26.302303,
          -12.222905,
          -22.915964,
          -42.7685,
          -40.277843,
          26.82298,
          -14.722208,
          30.343697,
          9.761736,
          9.497,
          7.119353,
          -14.406152,
          -1.7536806,
          35.94394,
          30.927628,
          -47.20848,
          -43.841038,
          -16.186686,
          9.808532,
          8.91189,
          -58.67927,
          17.946705,
          -33.80948,
          -53.754814,
          -57.79587,
          -8.460217,
          -44.88242,
          -41.221226,
          -56.164513,
          -27.73518,
          -54.300827,
          23.93338,
          38.71059,
          -16.1411,
          -5.3195934,
          -21.215355,
          -56.82649,
          -52.80247,
          61.5356,
          -32.57611,
          14.557423,
          -67.38033,
          -2.5705929,
          -30.687832,
          -42.228104,
          61.346497,
          -11.691505,
          34.154797,
          -45.66881,
          -33.179035,
          13.499701,
          -21.21046,
          -24.892109,
          -35.82477,
          -17.594183,
          4.6133275,
          -16.25736,
          -41.65546,
          25.753904,
          -2.8284714,
          -18.840973,
          22.672268,
          -32.450256,
          7.0783973,
          -77.3995,
          -67.73173,
          -20.742054,
          -38.21523,
          -13.532801,
          -11.63519,
          -11.80375,
          -47.125313,
          -36.952854,
          37.981262,
          11.381723,
          -25.481518,
          -14.423858,
          1.6433334,
          6.5696816,
          17.807995,
          -14.167187,
          17.557852,
          -28.6009,
          37.428772,
          -48.445484,
          25.194277,
          7.4162483,
          26.286398,
          -5.782555,
          -24.70248,
          -1.358956,
          17.063023,
          36.724785,
          -18.814003,
          26.305902,
          -16.57338,
          -19.861414,
          -57.72276,
          4.4792266,
          3.4934626,
          20.728893,
          41.5182,
          13.60318,
          -93.44907,
          -54.053017,
          28.122204,
          28.442713,
          -9.5272,
          -35.33919,
          -9.195335,
          -39.07931,
          7.023244,
          -8.7676325,
          -21.25984,
          24.844496,
          -27.398857,
          -18.883785,
          -10.932176,
          -43.28705,
          3.4518998,
          -39.891426,
          47.567993,
          -15.619273,
          22.289557,
          -38.722935,
          -17.22549,
          0.15798406,
          -2.5766885,
          -26.661152,
          -30.543085,
          -23.654116,
          3.9707,
          24.510767,
          -14.609564,
          4.0444913,
          -41.168095,
          25.877962,
          6.160284,
          -12.6188135,
          -12.331361,
          13.964712,
          -5.7451453,
          -1.7390947,
          -21.661964,
          30.500431,
          -1.9537377,
          32.504593,
          -3.0065958,
          6.9270525,
          38.694565,
          -9.414822,
          22.312784,
          4.281041,
          -88.642975
         ],
         "yaxis": "y"
        }
       ],
       "layout": {
        "height": 600,
        "legend": {
         "title": {
          "text": "Cluster"
         },
         "tracegroupgap": 0
        },
        "margin": {
         "t": 60
        },
        "plot_bgcolor": "rgb(240,240,240)",
        "template": {
         "data": {
          "bar": [
           {
            "error_x": {
             "color": "#2a3f5f"
            },
            "error_y": {
             "color": "#2a3f5f"
            },
            "marker": {
             "line": {
              "color": "#E5ECF6",
              "width": 0.5
             },
             "pattern": {
              "fillmode": "overlay",
              "size": 10,
              "solidity": 0.2
             }
            },
            "type": "bar"
           }
          ],
          "barpolar": [
           {
            "marker": {
             "line": {
              "color": "#E5ECF6",
              "width": 0.5
             },
             "pattern": {
              "fillmode": "overlay",
              "size": 10,
              "solidity": 0.2
             }
            },
            "type": "barpolar"
           }
          ],
          "carpet": [
           {
            "aaxis": {
             "endlinecolor": "#2a3f5f",
             "gridcolor": "white",
             "linecolor": "white",
             "minorgridcolor": "white",
             "startlinecolor": "#2a3f5f"
            },
            "baxis": {
             "endlinecolor": "#2a3f5f",
             "gridcolor": "white",
             "linecolor": "white",
             "minorgridcolor": "white",
             "startlinecolor": "#2a3f5f"
            },
            "type": "carpet"
           }
          ],
          "choropleth": [
           {
            "colorbar": {
             "outlinewidth": 0,
             "ticks": ""
            },
            "type": "choropleth"
           }
          ],
          "contour": [
           {
            "colorbar": {
             "outlinewidth": 0,
             "ticks": ""
            },
            "colorscale": [
             [
              0,
              "#0d0887"
             ],
             [
              0.1111111111111111,
              "#46039f"
             ],
             [
              0.2222222222222222,
              "#7201a8"
             ],
             [
              0.3333333333333333,
              "#9c179e"
             ],
             [
              0.4444444444444444,
              "#bd3786"
             ],
             [
              0.5555555555555556,
              "#d8576b"
             ],
             [
              0.6666666666666666,
              "#ed7953"
             ],
             [
              0.7777777777777778,
              "#fb9f3a"
             ],
             [
              0.8888888888888888,
              "#fdca26"
             ],
             [
              1,
              "#f0f921"
             ]
            ],
            "type": "contour"
           }
          ],
          "contourcarpet": [
           {
            "colorbar": {
             "outlinewidth": 0,
             "ticks": ""
            },
            "type": "contourcarpet"
           }
          ],
          "heatmap": [
           {
            "colorbar": {
             "outlinewidth": 0,
             "ticks": ""
            },
            "colorscale": [
             [
              0,
              "#0d0887"
             ],
             [
              0.1111111111111111,
              "#46039f"
             ],
             [
              0.2222222222222222,
              "#7201a8"
             ],
             [
              0.3333333333333333,
              "#9c179e"
             ],
             [
              0.4444444444444444,
              "#bd3786"
             ],
             [
              0.5555555555555556,
              "#d8576b"
             ],
             [
              0.6666666666666666,
              "#ed7953"
             ],
             [
              0.7777777777777778,
              "#fb9f3a"
             ],
             [
              0.8888888888888888,
              "#fdca26"
             ],
             [
              1,
              "#f0f921"
             ]
            ],
            "type": "heatmap"
           }
          ],
          "heatmapgl": [
           {
            "colorbar": {
             "outlinewidth": 0,
             "ticks": ""
            },
            "colorscale": [
             [
              0,
              "#0d0887"
             ],
             [
              0.1111111111111111,
              "#46039f"
             ],
             [
              0.2222222222222222,
              "#7201a8"
             ],
             [
              0.3333333333333333,
              "#9c179e"
             ],
             [
              0.4444444444444444,
              "#bd3786"
             ],
             [
              0.5555555555555556,
              "#d8576b"
             ],
             [
              0.6666666666666666,
              "#ed7953"
             ],
             [
              0.7777777777777778,
              "#fb9f3a"
             ],
             [
              0.8888888888888888,
              "#fdca26"
             ],
             [
              1,
              "#f0f921"
             ]
            ],
            "type": "heatmapgl"
           }
          ],
          "histogram": [
           {
            "marker": {
             "pattern": {
              "fillmode": "overlay",
              "size": 10,
              "solidity": 0.2
             }
            },
            "type": "histogram"
           }
          ],
          "histogram2d": [
           {
            "colorbar": {
             "outlinewidth": 0,
             "ticks": ""
            },
            "colorscale": [
             [
              0,
              "#0d0887"
             ],
             [
              0.1111111111111111,
              "#46039f"
             ],
             [
              0.2222222222222222,
              "#7201a8"
             ],
             [
              0.3333333333333333,
              "#9c179e"
             ],
             [
              0.4444444444444444,
              "#bd3786"
             ],
             [
              0.5555555555555556,
              "#d8576b"
             ],
             [
              0.6666666666666666,
              "#ed7953"
             ],
             [
              0.7777777777777778,
              "#fb9f3a"
             ],
             [
              0.8888888888888888,
              "#fdca26"
             ],
             [
              1,
              "#f0f921"
             ]
            ],
            "type": "histogram2d"
           }
          ],
          "histogram2dcontour": [
           {
            "colorbar": {
             "outlinewidth": 0,
             "ticks": ""
            },
            "colorscale": [
             [
              0,
              "#0d0887"
             ],
             [
              0.1111111111111111,
              "#46039f"
             ],
             [
              0.2222222222222222,
              "#7201a8"
             ],
             [
              0.3333333333333333,
              "#9c179e"
             ],
             [
              0.4444444444444444,
              "#bd3786"
             ],
             [
              0.5555555555555556,
              "#d8576b"
             ],
             [
              0.6666666666666666,
              "#ed7953"
             ],
             [
              0.7777777777777778,
              "#fb9f3a"
             ],
             [
              0.8888888888888888,
              "#fdca26"
             ],
             [
              1,
              "#f0f921"
             ]
            ],
            "type": "histogram2dcontour"
           }
          ],
          "mesh3d": [
           {
            "colorbar": {
             "outlinewidth": 0,
             "ticks": ""
            },
            "type": "mesh3d"
           }
          ],
          "parcoords": [
           {
            "line": {
             "colorbar": {
              "outlinewidth": 0,
              "ticks": ""
             }
            },
            "type": "parcoords"
           }
          ],
          "pie": [
           {
            "automargin": true,
            "type": "pie"
           }
          ],
          "scatter": [
           {
            "fillpattern": {
             "fillmode": "overlay",
             "size": 10,
             "solidity": 0.2
            },
            "type": "scatter"
           }
          ],
          "scatter3d": [
           {
            "line": {
             "colorbar": {
              "outlinewidth": 0,
              "ticks": ""
             }
            },
            "marker": {
             "colorbar": {
              "outlinewidth": 0,
              "ticks": ""
             }
            },
            "type": "scatter3d"
           }
          ],
          "scattercarpet": [
           {
            "marker": {
             "colorbar": {
              "outlinewidth": 0,
              "ticks": ""
             }
            },
            "type": "scattercarpet"
           }
          ],
          "scattergeo": [
           {
            "marker": {
             "colorbar": {
              "outlinewidth": 0,
              "ticks": ""
             }
            },
            "type": "scattergeo"
           }
          ],
          "scattergl": [
           {
            "marker": {
             "colorbar": {
              "outlinewidth": 0,
              "ticks": ""
             }
            },
            "type": "scattergl"
           }
          ],
          "scattermapbox": [
           {
            "marker": {
             "colorbar": {
              "outlinewidth": 0,
              "ticks": ""
             }
            },
            "type": "scattermapbox"
           }
          ],
          "scatterpolar": [
           {
            "marker": {
             "colorbar": {
              "outlinewidth": 0,
              "ticks": ""
             }
            },
            "type": "scatterpolar"
           }
          ],
          "scatterpolargl": [
           {
            "marker": {
             "colorbar": {
              "outlinewidth": 0,
              "ticks": ""
             }
            },
            "type": "scatterpolargl"
           }
          ],
          "scatterternary": [
           {
            "marker": {
             "colorbar": {
              "outlinewidth": 0,
              "ticks": ""
             }
            },
            "type": "scatterternary"
           }
          ],
          "surface": [
           {
            "colorbar": {
             "outlinewidth": 0,
             "ticks": ""
            },
            "colorscale": [
             [
              0,
              "#0d0887"
             ],
             [
              0.1111111111111111,
              "#46039f"
             ],
             [
              0.2222222222222222,
              "#7201a8"
             ],
             [
              0.3333333333333333,
              "#9c179e"
             ],
             [
              0.4444444444444444,
              "#bd3786"
             ],
             [
              0.5555555555555556,
              "#d8576b"
             ],
             [
              0.6666666666666666,
              "#ed7953"
             ],
             [
              0.7777777777777778,
              "#fb9f3a"
             ],
             [
              0.8888888888888888,
              "#fdca26"
             ],
             [
              1,
              "#f0f921"
             ]
            ],
            "type": "surface"
           }
          ],
          "table": [
           {
            "cells": {
             "fill": {
              "color": "#EBF0F8"
             },
             "line": {
              "color": "white"
             }
            },
            "header": {
             "fill": {
              "color": "#C8D4E3"
             },
             "line": {
              "color": "white"
             }
            },
            "type": "table"
           }
          ]
         },
         "layout": {
          "annotationdefaults": {
           "arrowcolor": "#2a3f5f",
           "arrowhead": 0,
           "arrowwidth": 1
          },
          "autotypenumbers": "strict",
          "coloraxis": {
           "colorbar": {
            "outlinewidth": 0,
            "ticks": ""
           }
          },
          "colorscale": {
           "diverging": [
            [
             0,
             "#8e0152"
            ],
            [
             0.1,
             "#c51b7d"
            ],
            [
             0.2,
             "#de77ae"
            ],
            [
             0.3,
             "#f1b6da"
            ],
            [
             0.4,
             "#fde0ef"
            ],
            [
             0.5,
             "#f7f7f7"
            ],
            [
             0.6,
             "#e6f5d0"
            ],
            [
             0.7,
             "#b8e186"
            ],
            [
             0.8,
             "#7fbc41"
            ],
            [
             0.9,
             "#4d9221"
            ],
            [
             1,
             "#276419"
            ]
           ],
           "sequential": [
            [
             0,
             "#0d0887"
            ],
            [
             0.1111111111111111,
             "#46039f"
            ],
            [
             0.2222222222222222,
             "#7201a8"
            ],
            [
             0.3333333333333333,
             "#9c179e"
            ],
            [
             0.4444444444444444,
             "#bd3786"
            ],
            [
             0.5555555555555556,
             "#d8576b"
            ],
            [
             0.6666666666666666,
             "#ed7953"
            ],
            [
             0.7777777777777778,
             "#fb9f3a"
            ],
            [
             0.8888888888888888,
             "#fdca26"
            ],
            [
             1,
             "#f0f921"
            ]
           ],
           "sequentialminus": [
            [
             0,
             "#0d0887"
            ],
            [
             0.1111111111111111,
             "#46039f"
            ],
            [
             0.2222222222222222,
             "#7201a8"
            ],
            [
             0.3333333333333333,
             "#9c179e"
            ],
            [
             0.4444444444444444,
             "#bd3786"
            ],
            [
             0.5555555555555556,
             "#d8576b"
            ],
            [
             0.6666666666666666,
             "#ed7953"
            ],
            [
             0.7777777777777778,
             "#fb9f3a"
            ],
            [
             0.8888888888888888,
             "#fdca26"
            ],
            [
             1,
             "#f0f921"
            ]
           ]
          },
          "colorway": [
           "#636efa",
           "#EF553B",
           "#00cc96",
           "#ab63fa",
           "#FFA15A",
           "#19d3f3",
           "#FF6692",
           "#B6E880",
           "#FF97FF",
           "#FECB52"
          ],
          "font": {
           "color": "#2a3f5f"
          },
          "geo": {
           "bgcolor": "white",
           "lakecolor": "white",
           "landcolor": "#E5ECF6",
           "showlakes": true,
           "showland": true,
           "subunitcolor": "white"
          },
          "hoverlabel": {
           "align": "left"
          },
          "hovermode": "closest",
          "mapbox": {
           "style": "light"
          },
          "paper_bgcolor": "white",
          "plot_bgcolor": "#E5ECF6",
          "polar": {
           "angularaxis": {
            "gridcolor": "white",
            "linecolor": "white",
            "ticks": ""
           },
           "bgcolor": "#E5ECF6",
           "radialaxis": {
            "gridcolor": "white",
            "linecolor": "white",
            "ticks": ""
           }
          },
          "scene": {
           "xaxis": {
            "backgroundcolor": "#E5ECF6",
            "gridcolor": "white",
            "gridwidth": 2,
            "linecolor": "white",
            "showbackground": true,
            "ticks": "",
            "zerolinecolor": "white"
           },
           "yaxis": {
            "backgroundcolor": "#E5ECF6",
            "gridcolor": "white",
            "gridwidth": 2,
            "linecolor": "white",
            "showbackground": true,
            "ticks": "",
            "zerolinecolor": "white"
           },
           "zaxis": {
            "backgroundcolor": "#E5ECF6",
            "gridcolor": "white",
            "gridwidth": 2,
            "linecolor": "white",
            "showbackground": true,
            "ticks": "",
            "zerolinecolor": "white"
           }
          },
          "shapedefaults": {
           "line": {
            "color": "#2a3f5f"
           }
          },
          "ternary": {
           "aaxis": {
            "gridcolor": "white",
            "linecolor": "white",
            "ticks": ""
           },
           "baxis": {
            "gridcolor": "white",
            "linecolor": "white",
            "ticks": ""
           },
           "bgcolor": "#E5ECF6",
           "caxis": {
            "gridcolor": "white",
            "linecolor": "white",
            "ticks": ""
           }
          },
          "title": {
           "x": 0.05
          },
          "xaxis": {
           "automargin": true,
           "gridcolor": "white",
           "linecolor": "white",
           "ticks": "",
           "title": {
            "standoff": 15
           },
           "zerolinecolor": "white",
           "zerolinewidth": 2
          },
          "yaxis": {
           "automargin": true,
           "gridcolor": "white",
           "linecolor": "white",
           "ticks": "",
           "title": {
            "standoff": 15
           },
           "zerolinecolor": "white",
           "zerolinewidth": 2
          }
         }
        },
        "title": {
         "text": "2D Cluster PCA Plot"
        },
        "xaxis": {
         "anchor": "y",
         "domain": [
          0,
          1
         ],
         "title": {
          "text": "PCA1"
         }
        },
        "yaxis": {
         "anchor": "x",
         "domain": [
          0,
          1
         ],
         "title": {
          "text": "PCA2"
         }
        }
       }
      }
     },
     "metadata": {},
     "output_type": "display_data"
    }
   ],
   "source": [
    "plot_model(kmeans_4, plot = 'cluster') #cluster is default"
   ]
  },
  {
   "cell_type": "markdown",
   "metadata": {},
   "source": [
    "PyCaret with plot='tsne' is used to visualize the clusters identified by the K-means algorithm in a lower-dimensional space using t-SNE (t-distributed Stochastic Neighbor Embedding).\n",
    "\n",
    "t-SNE helps in understanding the structure of the clusters and their relationships in a more interpretable way."
   ]
  },
  {
   "cell_type": "code",
   "execution_count": 47,
   "metadata": {},
   "outputs": [
    {
     "data": {
      "text/html": [],
      "text/plain": [
       "<IPython.core.display.HTML object>"
      ]
     },
     "metadata": {},
     "output_type": "display_data"
    },
    {
     "data": {
      "application/vnd.plotly.v1+json": {
       "config": {
        "plotlyServerURL": "https://plot.ly"
       },
       "data": [
        {
         "customdata": [
          [
           null
          ],
          [
           null
          ],
          [
           null
          ],
          [
           null
          ],
          [
           null
          ],
          [
           null
          ],
          [
           null
          ],
          [
           null
          ],
          [
           null
          ],
          [
           null
          ],
          [
           null
          ],
          [
           null
          ],
          [
           null
          ],
          [
           null
          ],
          [
           null
          ],
          [
           null
          ],
          [
           null
          ],
          [
           null
          ],
          [
           null
          ],
          [
           null
          ],
          [
           null
          ],
          [
           null
          ],
          [
           null
          ],
          [
           null
          ],
          [
           null
          ],
          [
           null
          ],
          [
           null
          ],
          [
           null
          ],
          [
           null
          ],
          [
           null
          ],
          [
           null
          ],
          [
           null
          ],
          [
           null
          ],
          [
           null
          ],
          [
           null
          ],
          [
           null
          ],
          [
           null
          ],
          [
           null
          ],
          [
           null
          ],
          [
           null
          ],
          [
           null
          ],
          [
           null
          ],
          [
           null
          ],
          [
           null
          ],
          [
           null
          ],
          [
           null
          ],
          [
           null
          ],
          [
           null
          ],
          [
           null
          ],
          [
           null
          ],
          [
           null
          ],
          [
           null
          ],
          [
           null
          ],
          [
           null
          ],
          [
           null
          ],
          [
           null
          ],
          [
           null
          ],
          [
           null
          ],
          [
           null
          ],
          [
           null
          ],
          [
           null
          ],
          [
           null
          ],
          [
           null
          ],
          [
           null
          ],
          [
           null
          ],
          [
           null
          ],
          [
           null
          ],
          [
           null
          ],
          [
           null
          ],
          [
           null
          ],
          [
           null
          ],
          [
           null
          ],
          [
           null
          ],
          [
           null
          ],
          [
           null
          ],
          [
           null
          ],
          [
           null
          ],
          [
           null
          ],
          [
           null
          ],
          [
           null
          ],
          [
           null
          ],
          [
           null
          ],
          [
           null
          ],
          [
           null
          ],
          [
           null
          ],
          [
           null
          ],
          [
           null
          ],
          [
           null
          ],
          [
           null
          ],
          [
           null
          ],
          [
           null
          ],
          [
           null
          ],
          [
           null
          ],
          [
           null
          ],
          [
           null
          ],
          [
           null
          ],
          [
           null
          ],
          [
           null
          ],
          [
           null
          ],
          [
           null
          ],
          [
           null
          ]
         ],
         "hovertemplate": "Cluster=Cluster 0<br>0=%{x}<br>1=%{y}<br>2=%{z}<br>Feature=%{customdata[0]}<extra></extra>",
         "legendgroup": "Cluster 0",
         "marker": {
          "color": "#636efa",
          "opacity": 0.7,
          "symbol": "circle"
         },
         "mode": "markers",
         "name": "Cluster 0",
         "scene": "scene",
         "showlegend": true,
         "type": "scatter3d",
         "x": [
          17.082159,
          12.550724,
          12.875167,
          12.323055,
          15.703839,
          18.561243,
          12.671277,
          15.16072,
          11.850502,
          19.299337,
          16.277933,
          17.636116,
          17.523884,
          16.85885,
          11.696014,
          14.075464,
          18.224262,
          13.893023,
          16.994282,
          13.41728,
          13.991339,
          14.106028,
          16.565193,
          17.177563,
          16.259256,
          12.203033,
          13.754949,
          12.291834,
          14.319142,
          13.922536,
          15.548132,
          13.238408,
          11.910588,
          14.343266,
          18.357405,
          10.940996,
          15.065255,
          13.663097,
          18.249056,
          11.573326,
          14.316093,
          14.988142,
          16.152311,
          17.496994,
          11.518426,
          16.453413,
          14.859645,
          12.958757,
          12.305135,
          16.93593,
          15.923833,
          16.008776,
          17.89087,
          12.354782,
          13.896217,
          12.941124,
          11.506661,
          12.32119,
          16.185911,
          17.198257,
          17.155842,
          17.231577,
          11.620437,
          11.717192,
          11.850666,
          13.156304,
          17.179724,
          12.378719,
          15.334328,
          14.794472,
          16.98175,
          14.3151245,
          18.331478,
          12.327674,
          17.756592,
          13.357104,
          15.79987,
          9.270565,
          17.47839,
          17.871098,
          11.808347,
          14.481061,
          13.4089,
          16.519672,
          16.26687,
          12.794952,
          11.254827,
          14.40234,
          17.446062,
          13.190067,
          13.670617,
          16.446108,
          9.648698,
          13.691581,
          15.8800745,
          17.878035,
          11.897065,
          13.512458,
          15.842515,
          18.761194,
          13.821191
         ],
         "y": [
          -9.72909,
          -4.272885,
          -4.1968513,
          -1.9716064,
          -7.79757,
          -10.099726,
          -2.3531134,
          -7.2879286,
          -1.9871273,
          -10.183613,
          -7.2349997,
          -9.734021,
          -9.008122,
          -8.054969,
          -3.8006485,
          -4.623698,
          -10.065082,
          -6.281011,
          -8.1668005,
          -6.581461,
          -6.3271604,
          -6.527516,
          -8.009584,
          -8.541024,
          -7.133773,
          -2.3640027,
          -5.8029003,
          -4.2896514,
          -5.8169804,
          -6.1817636,
          -7.009492,
          -5.1301045,
          -2.7923334,
          -5.430439,
          -10.39992,
          -1.9350119,
          -6.414455,
          -3.5522776,
          -9.855692,
          -1.6754936,
          -6.3888164,
          -5.522914,
          -7.1996064,
          -9.375051,
          -3.3455348,
          -8.953789,
          -5.9471593,
          -6.673621,
          -3.3534462,
          -8.302769,
          -7.306704,
          -6.316976,
          -9.478775,
          -2.8482776,
          -3.8140628,
          -4.9082103,
          -2.4048598,
          -2.6725278,
          -7.545916,
          -9.486672,
          -9.293094,
          -8.797185,
          -1.687037,
          -2.658584,
          -4.0456424,
          -6.517641,
          -9.322178,
          -3.0447152,
          -7.577501,
          -6.7076454,
          -8.606332,
          -4.772025,
          -9.885387,
          -4.2483687,
          -9.895949,
          -2.9195924,
          -6.9057393,
          -2.150713,
          -10.093655,
          -10.133909,
          -4.2482033,
          -6.863555,
          -6.3264356,
          -8.916509,
          -8.487424,
          -3.2625763,
          -3.0622559,
          -6.9411445,
          -8.668857,
          -6.5912647,
          -6.2660303,
          -7.841836,
          -2.0282493,
          -3.7984602,
          -6.551729,
          -9.523186,
          -1.9264972,
          -4.315546,
          -7.591591,
          -10.043931,
          -5.9598026
         ],
         "z": [
          2.791009,
          -0.040675603,
          -0.27896854,
          -1.681208,
          1.122618,
          1.2210903,
          -1.6187216,
          1.0109732,
          -1.4628162,
          0.5027252,
          -0.26281908,
          1.8000048,
          0.6929974,
          0.13109063,
          -0.026199555,
          -0.768785,
          1.6303728,
          1.041876,
          0.11989823,
          1.8374403,
          0.99342376,
          1.1014762,
          0.40991622,
          0.42428902,
          -0.3509942,
          -1.3455852,
          0.6166644,
          0.11615593,
          0.14537524,
          0.87982595,
          0.25379762,
          0.3176747,
          -0.93533486,
          -0.2533412,
          2.4101403,
          -1.3231632,
          0.06793633,
          -1.3328954,
          1.1209922,
          -1.5889536,
          0.7652024,
          -0.75273806,
          -0.15366574,
          1.3095171,
          -0.3460744,
          2.0825932,
          -0.21970655,
          2.3884687,
          -0.63270074,
          0.37206492,
          0.19178887,
          -0.9808538,
          0.9652885,
          -1.0195746,
          -1.2851971,
          0.3071515,
          -1.0760252,
          -1.1255618,
          0.16474351,
          1.9932772,
          1.6666979,
          0.72333074,
          -1.5996984,
          -0.95666647,
          0.12090386,
          2.00387,
          1.6858677,
          -0.8972545,
          1.2191969,
          0.66310513,
          0.7680485,
          -0.8307747,
          1.088,
          0.06573783,
          1.9935498,
          -1.6120421,
          -0.16496861,
          -1.0004659,
          3.0558767,
          2.4714801,
          0.33032805,
          1.1542987,
          1.5411751,
          1.9167897,
          1.5187192,
          -1.0096232,
          -0.51109356,
          1.3258288,
          0.2837416,
          2.0623574,
          1.1880013,
          0.31388757,
          -1.1175417,
          -1.1626576,
          -0.60603,
          1.0486606,
          -1.5416843,
          -0.61956763,
          0.6615164,
          0.85007954,
          0.7249346
         ]
        },
        {
         "customdata": [
          [
           null
          ],
          [
           null
          ],
          [
           null
          ],
          [
           null
          ],
          [
           null
          ],
          [
           null
          ],
          [
           null
          ],
          [
           null
          ],
          [
           null
          ],
          [
           null
          ],
          [
           null
          ],
          [
           null
          ],
          [
           null
          ],
          [
           null
          ],
          [
           null
          ],
          [
           null
          ],
          [
           null
          ],
          [
           null
          ],
          [
           null
          ],
          [
           null
          ],
          [
           null
          ],
          [
           null
          ],
          [
           null
          ],
          [
           null
          ],
          [
           null
          ],
          [
           null
          ],
          [
           null
          ],
          [
           null
          ],
          [
           null
          ],
          [
           null
          ],
          [
           null
          ],
          [
           null
          ],
          [
           null
          ],
          [
           null
          ],
          [
           null
          ],
          [
           null
          ],
          [
           null
          ],
          [
           null
          ],
          [
           null
          ],
          [
           null
          ],
          [
           null
          ],
          [
           null
          ],
          [
           null
          ],
          [
           null
          ],
          [
           null
          ],
          [
           null
          ],
          [
           null
          ],
          [
           null
          ],
          [
           null
          ],
          [
           null
          ],
          [
           null
          ],
          [
           null
          ],
          [
           null
          ],
          [
           null
          ],
          [
           null
          ],
          [
           null
          ],
          [
           null
          ],
          [
           null
          ],
          [
           null
          ],
          [
           null
          ],
          [
           null
          ],
          [
           null
          ],
          [
           null
          ],
          [
           null
          ],
          [
           null
          ],
          [
           null
          ],
          [
           null
          ],
          [
           null
          ],
          [
           null
          ],
          [
           null
          ],
          [
           null
          ],
          [
           null
          ],
          [
           null
          ],
          [
           null
          ],
          [
           null
          ],
          [
           null
          ],
          [
           null
          ],
          [
           null
          ],
          [
           null
          ],
          [
           null
          ],
          [
           null
          ],
          [
           null
          ],
          [
           null
          ],
          [
           null
          ],
          [
           null
          ],
          [
           null
          ],
          [
           null
          ],
          [
           null
          ],
          [
           null
          ],
          [
           null
          ],
          [
           null
          ],
          [
           null
          ],
          [
           null
          ],
          [
           null
          ],
          [
           null
          ],
          [
           null
          ],
          [
           null
          ],
          [
           null
          ],
          [
           null
          ],
          [
           null
          ],
          [
           null
          ],
          [
           null
          ],
          [
           null
          ],
          [
           null
          ],
          [
           null
          ],
          [
           null
          ],
          [
           null
          ],
          [
           null
          ],
          [
           null
          ],
          [
           null
          ],
          [
           null
          ],
          [
           null
          ],
          [
           null
          ],
          [
           null
          ],
          [
           null
          ],
          [
           null
          ],
          [
           null
          ],
          [
           null
          ],
          [
           null
          ],
          [
           null
          ],
          [
           null
          ],
          [
           null
          ],
          [
           null
          ],
          [
           null
          ],
          [
           null
          ],
          [
           null
          ],
          [
           null
          ],
          [
           null
          ],
          [
           null
          ],
          [
           null
          ],
          [
           null
          ],
          [
           null
          ],
          [
           null
          ],
          [
           null
          ],
          [
           null
          ],
          [
           null
          ],
          [
           null
          ],
          [
           null
          ],
          [
           null
          ],
          [
           null
          ],
          [
           null
          ],
          [
           null
          ],
          [
           null
          ],
          [
           null
          ],
          [
           null
          ],
          [
           null
          ],
          [
           null
          ],
          [
           null
          ],
          [
           null
          ],
          [
           null
          ],
          [
           null
          ],
          [
           null
          ],
          [
           null
          ],
          [
           null
          ],
          [
           null
          ],
          [
           null
          ],
          [
           null
          ],
          [
           null
          ],
          [
           null
          ],
          [
           null
          ],
          [
           null
          ],
          [
           null
          ],
          [
           null
          ],
          [
           null
          ],
          [
           null
          ],
          [
           null
          ],
          [
           null
          ],
          [
           null
          ],
          [
           null
          ],
          [
           null
          ],
          [
           null
          ],
          [
           null
          ],
          [
           null
          ],
          [
           null
          ],
          [
           null
          ],
          [
           null
          ],
          [
           null
          ],
          [
           null
          ],
          [
           null
          ],
          [
           null
          ],
          [
           null
          ]
         ],
         "hovertemplate": "Cluster=Cluster 1<br>0=%{x}<br>1=%{y}<br>2=%{z}<br>Feature=%{customdata[0]}<extra></extra>",
         "legendgroup": "Cluster 1",
         "marker": {
          "color": "#EF553B",
          "opacity": 0.7,
          "symbol": "circle"
         },
         "mode": "markers",
         "name": "Cluster 1",
         "scene": "scene",
         "showlegend": true,
         "type": "scatter3d",
         "x": [
          5.1972775,
          10.762926,
          6.739752,
          4.4592886,
          9.84658,
          8.332682,
          9.35656,
          -1.105967,
          1.7359965,
          9.145584,
          3.4723818,
          9.131049,
          1.9170705,
          -0.7385326,
          4.1772704,
          8.935772,
          -0.077836886,
          1.475989,
          5.209183,
          8.609542,
          4.533222,
          10.921742,
          4.5237803,
          2.2092202,
          9.981549,
          0.8616602,
          0.61381835,
          -0.22625147,
          9.250354,
          0.08139306,
          6.41827,
          2.0004458,
          7.0688047,
          4.984055,
          -0.22430909,
          11.142215,
          4.4122477,
          3.891884,
          8.421719,
          0.031624332,
          7.694938,
          1.2184222,
          1.3798708,
          -0.67094994,
          0.88855463,
          2.8666155,
          7.101289,
          -0.21111718,
          6.117222,
          6.3257217,
          -0.16059023,
          0.69274676,
          7.121518,
          8.439873,
          7.649033,
          9.176036,
          8.503394,
          0.9943043,
          4.766706,
          9.833532,
          9.807362,
          10.243858,
          0.2591729,
          10.352452,
          7.825426,
          10.455566,
          -0.34388447,
          9.377499,
          -0.7852912,
          -0.6322882,
          5.354339,
          -0.80078673,
          2.6198645,
          1.2961304,
          -1.2829806,
          9.873284,
          9.5070305,
          9.690279,
          4.479147,
          5.339996,
          -1.5087641,
          8.159267,
          -0.459411,
          6.5344,
          7.0391846,
          5.4544563,
          0.65381366,
          1.122016,
          0.29377106,
          -1.1534654,
          0.7856833,
          1.2850728,
          2.6230881,
          3.2680194,
          4.9237566,
          6.135494,
          8.388224,
          7.3167224,
          0.39008892,
          9.406632,
          7.4051223,
          3.4324417,
          9.970959,
          10.173866,
          6.804829,
          11.237262,
          2.0023923,
          8.421736,
          4.1507115,
          5.729376,
          9.203197,
          9.969463,
          9.240965,
          7.4174466,
          -0.06575865,
          7.5457916,
          3.7521024,
          9.938244,
          8.122813,
          6.78274,
          3.8547595,
          5.8938875,
          7.164381,
          4.631583,
          1.7206664,
          8.686028,
          9.978599,
          -0.9899273,
          7.1627297,
          1.8451471,
          10.57953,
          4.288291,
          9.555063,
          0.48064685,
          6.7691298,
          10.001947,
          6.146925,
          5.8494897,
          3.8430843,
          5.9333186,
          6.281185,
          8.232166,
          3.6029363,
          -0.09614811,
          8.28799,
          5.8667617,
          4.8851686,
          3.5636842,
          3.398013,
          2.6408541,
          -0.24218445,
          2.9886346,
          0.5681153,
          8.279565,
          0.4050565,
          6.657093,
          3.863265,
          4.510426,
          8.935762,
          7.4384975,
          9.405505,
          1.179142,
          3.647475,
          -0.86592203,
          8.338219,
          7.6254873,
          6.2699585,
          1.6531911,
          -0.11001792,
          10.19046,
          6.472185,
          0.48365733,
          3.4971552,
          5.826174,
          8.43201,
          6.7731667,
          7.508484,
          10.396405,
          6.793776,
          8.864582,
          7.8444467
         ],
         "y": [
          6.747593,
          -1.4510286,
          4.1322403,
          5.603026,
          -1.5859785,
          3.2995512,
          -1.4120722,
          8.026738,
          7.0709424,
          -1.5931897,
          3.528404,
          2.272375,
          9.691087,
          6.768915,
          8.849491,
          1.4217894,
          9.03641,
          7.3311067,
          9.656308,
          3.3368611,
          5.509977,
          1.6621317,
          6.0459876,
          7.035713,
          3.1132705,
          5.7132573,
          7.694004,
          7.7757807,
          0.6564531,
          6.773578,
          4.739589,
          8.473861,
          7.1640196,
          5.7926087,
          5.0200896,
          -1.1210195,
          3.6870325,
          7.849482,
          3.7009597,
          8.510552,
          3.9595068,
          8.772105,
          6.5051208,
          6.6807914,
          6.059741,
          5.850592,
          7.1213655,
          7.2790008,
          7.182932,
          5.0255494,
          4.7230577,
          5.4626217,
          4.6788683,
          3.324233,
          5.1806955,
          3.7005224,
          1.1227636,
          8.974807,
          3.8275816,
          3.075327,
          -0.21312363,
          2.0286484,
          4.7963023,
          -0.5059418,
          6.700405,
          0.08564558,
          8.762915,
          4.6643624,
          7.9629335,
          8.860757,
          8.527652,
          7.799256,
          7.680407,
          9.4798355,
          7.5967965,
          1.6289935,
          -1.8726641,
          0.94702005,
          8.531496,
          8.925529,
          7.3018956,
          2.2684066,
          8.948857,
          6.25358,
          6.4048147,
          6.2148123,
          7.516038,
          8.439677,
          7.755044,
          6.4577084,
          7.9714174,
          9.370336,
          7.469949,
          7.93388,
          4.5330944,
          8.082354,
          0.13229519,
          3.0015807,
          8.5040865,
          4.383756,
          6.331341,
          8.099495,
          0.16446301,
          2.536257,
          5.90767,
          -1.4806857,
          8.730293,
          2.1614058,
          4.6967835,
          8.528091,
          -0.2278059,
          -0.5725103,
          3.5924392,
          3.4044614,
          8.256599,
          2.2154615,
          3.6663678,
          -1.3391609,
          2.5706153,
          5.1441865,
          4.613575,
          8.402878,
          7.1961894,
          8.173716,
          7.86016,
          3.7873192,
          3.302994,
          6.8598876,
          2.5701306,
          7.975623,
          1.6451564,
          8.569219,
          -1.6600249,
          8.792365,
          6.499408,
          -1.2496828,
          6.866775,
          6.8830585,
          5.5706573,
          7.2058544,
          7.2206416,
          6.1400723,
          4.7704606,
          7.279055,
          1.5234203,
          6.201809,
          3.7475536,
          8.845116,
          4.590853,
          6.382554,
          9.456581,
          9.211066,
          6.689862,
          0.54910344,
          7.983398,
          7.956802,
          5.8230095,
          8.882313,
          0.45197403,
          2.1965914,
          -1.6026709,
          5.622668,
          6.3485537,
          8.552325,
          2.4756448,
          1.1961628,
          7.8367944,
          8.946039,
          7.578583,
          2.4369612,
          7.916731,
          4.7561183,
          7.603172,
          2.6437132,
          1.472445,
          6.283593,
          5.4797316,
          0.8165685,
          7.645172,
          5.219866,
          0.11452636
         ],
         "z": [
          -4.5304346,
          -1.6006889,
          -4.6548133,
          -4.7300043,
          -1.3858331,
          -4.174696,
          -1.9680899,
          -0.2581196,
          -2.966581,
          -1.3894366,
          -4.4788632,
          -3.4865186,
          -1.3414657,
          -1.048271,
          -2.882551,
          -3.326889,
          -0.5606453,
          -2.823039,
          -3.6191714,
          -3.9707258,
          -4.7524905,
          -2.528186,
          -4.648818,
          -3.2169678,
          -3.1953554,
          -2.5724862,
          -1.8918582,
          -1.135917,
          -2.8715851,
          -1.9462508,
          -4.792666,
          -2.4364786,
          -3.9178753,
          -4.7738104,
          -1.3602461,
          -1.8115604,
          -4.655083,
          -3.5477774,
          -4.1217484,
          -1.0726101,
          -4.3789625,
          -2.2440271,
          -2.8778393,
          -1.144251,
          -2.6178184,
          -3.9533234,
          -3.9439628,
          -2.3660018,
          -4.773195,
          -4.7769165,
          -1.3961722,
          -2.3947718,
          -4.5862494,
          -4.086623,
          -4.336846,
          -3.7206028,
          -3.4006228,
          -1.5524068,
          -4.7171006,
          -3.270792,
          -2.2861066,
          -2.8654082,
          -1.8740964,
          -2.065156,
          -3.744126,
          -2.253311,
          -0.5325698,
          -3.4926813,
          -1.1597074,
          -0.16002256,
          -3.355135,
          -0.7240324,
          -3.137594,
          -1.2102658,
          -0.21174566,
          -2.9271657,
          -1.2217088,
          -2.7941139,
          -3.1683946,
          -4.085833,
          -0.08121162,
          -3.9646993,
          -0.2573995,
          -4.600058,
          -4.35924,
          -4.729753,
          -2.1375585,
          -2.0577214,
          -1.5736631,
          -0.50688815,
          -2.1720731,
          -1.3228588,
          -3.2454824,
          -3.2543285,
          -4.8045163,
          -3.5565908,
          -2.9360306,
          -4.359547,
          -1.9753666,
          -3.515748,
          -4.246092,
          -3.190606,
          -2.4038796,
          -3.0142543,
          -4.606249,
          -1.6543303,
          -2.3228152,
          -3.7944677,
          -4.7109847,
          -3.5158997,
          -2.4541495,
          -2.0678353,
          -3.6562212,
          -4.4101467,
          -1.2386937,
          -4.4681377,
          -4.550129,
          -1.6705663,
          -4.0358577,
          -4.6943164,
          -4.628172,
          -3.2594178,
          -4.012181,
          -3.4065897,
          -2.6717963,
          -3.9838188,
          -3.209712,
          -0.6968597,
          -4.3516817,
          -2.66744,
          -2.638687,
          -3.099385,
          -1.3880799,
          -1.3742775,
          -4.483631,
          -1.7412834,
          -4.369361,
          -4.624176,
          -4.5311556,
          -4.6239386,
          -4.326005,
          -3.7537374,
          -4.5476913,
          -1.7340816,
          -3.641636,
          -4.7201056,
          -4.710245,
          -2.7237673,
          -4.48,
          -3.6740787,
          -0.1143546,
          -2.277675,
          -2.3616295,
          -3.1847036,
          -1.9456148,
          -3.4833083,
          -4.523255,
          -2.910857,
          -2.9052894,
          -4.1026306,
          -1.3697066,
          -2.7956805,
          -4.2197366,
          -0.13325778,
          -3.9020855,
          -3.6526852,
          -3.8007512,
          -2.145085,
          -1.8807801,
          -2.981672,
          -3.6117878,
          -2.1015904,
          -3.5488498,
          -4.4131265,
          -3.5492842,
          -4.520266,
          -4.3617954,
          -2.4768639,
          -3.7271101,
          -3.6619148,
          -3.106087
         ]
        },
        {
         "customdata": [
          [
           null
          ],
          [
           null
          ],
          [
           null
          ],
          [
           null
          ],
          [
           null
          ],
          [
           null
          ],
          [
           null
          ],
          [
           null
          ],
          [
           null
          ],
          [
           null
          ],
          [
           null
          ],
          [
           null
          ],
          [
           null
          ],
          [
           null
          ],
          [
           null
          ],
          [
           null
          ],
          [
           null
          ],
          [
           null
          ],
          [
           null
          ]
         ],
         "hovertemplate": "Cluster=Cluster 2<br>0=%{x}<br>1=%{y}<br>2=%{z}<br>Feature=%{customdata[0]}<extra></extra>",
         "legendgroup": "Cluster 2",
         "marker": {
          "color": "#00cc96",
          "opacity": 0.7,
          "symbol": "circle"
         },
         "mode": "markers",
         "name": "Cluster 2",
         "scene": "scene",
         "showlegend": true,
         "type": "scatter3d",
         "x": [
          19.449747,
          21.15731,
          18.969398,
          19.869148,
          19.063953,
          20.686308,
          20.809689,
          19.697346,
          19.15389,
          20.462278,
          20.971413,
          20.954014,
          20.4077,
          20.459677,
          20.66586,
          21.741405,
          19.446108,
          21.292946,
          19.51919
         ],
         "y": [
          -10.80376,
          -11.315086,
          -10.747637,
          -10.902386,
          -10.818439,
          -11.278855,
          -11.3560295,
          -11.028762,
          -10.54665,
          -11.224698,
          -11.036864,
          -11.397088,
          -11.102629,
          -11.1504345,
          -11.296156,
          -11.296975,
          -10.82908,
          -11.27799,
          -10.35438
         ],
         "z": [
          1.8119137,
          2.2847962,
          2.4633477,
          1.6110468,
          2.5673616,
          2.2314014,
          2.595052,
          2.3734016,
          1.5094562,
          2.1643312,
          1.2004356,
          2.7740362,
          1.6890075,
          1.8264248,
          2.3448293,
          2.3552668,
          1.9057842,
          2.107014,
          0.644263
         ]
        },
        {
         "customdata": [
          [
           null
          ],
          [
           null
          ],
          [
           null
          ],
          [
           null
          ],
          [
           null
          ],
          [
           null
          ],
          [
           null
          ],
          [
           null
          ],
          [
           null
          ],
          [
           null
          ],
          [
           null
          ],
          [
           null
          ],
          [
           null
          ],
          [
           null
          ],
          [
           null
          ],
          [
           null
          ],
          [
           null
          ],
          [
           null
          ],
          [
           null
          ],
          [
           null
          ],
          [
           null
          ],
          [
           null
          ],
          [
           null
          ],
          [
           null
          ],
          [
           null
          ],
          [
           null
          ],
          [
           null
          ],
          [
           null
          ],
          [
           null
          ],
          [
           null
          ],
          [
           null
          ],
          [
           null
          ],
          [
           null
          ],
          [
           null
          ],
          [
           null
          ],
          [
           null
          ],
          [
           null
          ],
          [
           null
          ],
          [
           null
          ],
          [
           null
          ],
          [
           null
          ],
          [
           null
          ],
          [
           null
          ],
          [
           null
          ],
          [
           null
          ],
          [
           null
          ],
          [
           null
          ],
          [
           null
          ],
          [
           null
          ],
          [
           null
          ],
          [
           null
          ],
          [
           null
          ],
          [
           null
          ],
          [
           null
          ],
          [
           null
          ],
          [
           null
          ],
          [
           null
          ],
          [
           null
          ],
          [
           null
          ],
          [
           null
          ],
          [
           null
          ],
          [
           null
          ],
          [
           null
          ],
          [
           null
          ],
          [
           null
          ],
          [
           null
          ],
          [
           null
          ],
          [
           null
          ],
          [
           null
          ],
          [
           null
          ],
          [
           null
          ],
          [
           null
          ],
          [
           null
          ],
          [
           null
          ],
          [
           null
          ],
          [
           null
          ],
          [
           null
          ],
          [
           null
          ],
          [
           null
          ],
          [
           null
          ],
          [
           null
          ],
          [
           null
          ],
          [
           null
          ],
          [
           null
          ],
          [
           null
          ],
          [
           null
          ],
          [
           null
          ],
          [
           null
          ],
          [
           null
          ],
          [
           null
          ],
          [
           null
          ],
          [
           null
          ],
          [
           null
          ],
          [
           null
          ],
          [
           null
          ],
          [
           null
          ],
          [
           null
          ],
          [
           null
          ],
          [
           null
          ],
          [
           null
          ],
          [
           null
          ],
          [
           null
          ],
          [
           null
          ],
          [
           null
          ],
          [
           null
          ],
          [
           null
          ],
          [
           null
          ],
          [
           null
          ],
          [
           null
          ],
          [
           null
          ],
          [
           null
          ],
          [
           null
          ],
          [
           null
          ],
          [
           null
          ],
          [
           null
          ],
          [
           null
          ],
          [
           null
          ],
          [
           null
          ],
          [
           null
          ],
          [
           null
          ],
          [
           null
          ],
          [
           null
          ],
          [
           null
          ],
          [
           null
          ],
          [
           null
          ],
          [
           null
          ],
          [
           null
          ],
          [
           null
          ],
          [
           null
          ],
          [
           null
          ],
          [
           null
          ],
          [
           null
          ],
          [
           null
          ],
          [
           null
          ],
          [
           null
          ],
          [
           null
          ],
          [
           null
          ],
          [
           null
          ],
          [
           null
          ],
          [
           null
          ],
          [
           null
          ],
          [
           null
          ],
          [
           null
          ],
          [
           null
          ],
          [
           null
          ],
          [
           null
          ],
          [
           null
          ],
          [
           null
          ],
          [
           null
          ],
          [
           null
          ],
          [
           null
          ],
          [
           null
          ],
          [
           null
          ],
          [
           null
          ],
          [
           null
          ],
          [
           null
          ],
          [
           null
          ],
          [
           null
          ],
          [
           null
          ],
          [
           null
          ],
          [
           null
          ],
          [
           null
          ],
          [
           null
          ],
          [
           null
          ],
          [
           null
          ],
          [
           null
          ],
          [
           null
          ],
          [
           null
          ],
          [
           null
          ],
          [
           null
          ],
          [
           null
          ],
          [
           null
          ],
          [
           null
          ],
          [
           null
          ],
          [
           null
          ],
          [
           null
          ],
          [
           null
          ],
          [
           null
          ],
          [
           null
          ],
          [
           null
          ],
          [
           null
          ],
          [
           null
          ],
          [
           null
          ],
          [
           null
          ],
          [
           null
          ],
          [
           null
          ],
          [
           null
          ],
          [
           null
          ],
          [
           null
          ],
          [
           null
          ],
          [
           null
          ],
          [
           null
          ],
          [
           null
          ],
          [
           null
          ],
          [
           null
          ],
          [
           null
          ],
          [
           null
          ],
          [
           null
          ],
          [
           null
          ],
          [
           null
          ],
          [
           null
          ],
          [
           null
          ],
          [
           null
          ],
          [
           null
          ],
          [
           null
          ],
          [
           null
          ],
          [
           null
          ],
          [
           null
          ],
          [
           null
          ],
          [
           null
          ],
          [
           null
          ],
          [
           null
          ],
          [
           null
          ],
          [
           null
          ],
          [
           null
          ],
          [
           null
          ],
          [
           null
          ],
          [
           null
          ],
          [
           null
          ],
          [
           null
          ],
          [
           null
          ],
          [
           null
          ],
          [
           null
          ],
          [
           null
          ],
          [
           null
          ],
          [
           null
          ],
          [
           null
          ],
          [
           null
          ],
          [
           null
          ],
          [
           null
          ],
          [
           null
          ],
          [
           null
          ],
          [
           null
          ],
          [
           null
          ],
          [
           null
          ],
          [
           null
          ],
          [
           null
          ],
          [
           null
          ],
          [
           null
          ],
          [
           null
          ],
          [
           null
          ],
          [
           null
          ],
          [
           null
          ],
          [
           null
          ],
          [
           null
          ],
          [
           null
          ],
          [
           null
          ],
          [
           null
          ],
          [
           null
          ],
          [
           null
          ],
          [
           null
          ],
          [
           null
          ],
          [
           null
          ],
          [
           null
          ],
          [
           null
          ],
          [
           null
          ],
          [
           null
          ],
          [
           null
          ],
          [
           null
          ],
          [
           null
          ],
          [
           null
          ],
          [
           null
          ],
          [
           null
          ],
          [
           null
          ],
          [
           null
          ],
          [
           null
          ],
          [
           null
          ],
          [
           null
          ]
         ],
         "hovertemplate": "Cluster=Cluster 3<br>0=%{x}<br>1=%{y}<br>2=%{z}<br>Feature=%{customdata[0]}<extra></extra>",
         "legendgroup": "Cluster 3",
         "marker": {
          "color": "#ab63fa",
          "opacity": 0.7,
          "symbol": "circle"
         },
         "mode": "markers",
         "name": "Cluster 3",
         "scene": "scene",
         "showlegend": true,
         "type": "scatter3d",
         "x": [
          -20.79103,
          -18.47483,
          -15.375252,
          -6.9500604,
          -18.901245,
          -5.261534,
          -6.0850453,
          -12.28129,
          -7.407096,
          -5.3843875,
          -18.37892,
          -11.648383,
          -10.196053,
          -10.799259,
          -5.059076,
          -3.111357,
          -13.241671,
          -5.4554443,
          -10.105363,
          -4.975581,
          -3.9226341,
          -3.4738295,
          -17.290867,
          -7.6433716,
          -5.7524986,
          -11.54478,
          -5.754065,
          -7.008206,
          -22.644104,
          -22.37788,
          -11.647092,
          -9.366399,
          -1.8371267,
          -3.0631897,
          -4.917017,
          -5.6747966,
          -14.404135,
          -10.216011,
          -5.4965057,
          -7.629186,
          -10.663562,
          -6.8118215,
          -17.81271,
          -2.4761813,
          -6.943841,
          -6.7659287,
          -2.4891315,
          -18.036522,
          -3.330021,
          -4.096269,
          -2.99731,
          -3.0126371,
          -19.27325,
          -15.226193,
          -7.3517494,
          -8.884635,
          -18.771345,
          -19.949295,
          -20.73497,
          -20.907314,
          -5.399951,
          -6.1857452,
          -9.665851,
          -5.4838576,
          -2.2812665,
          -2.851846,
          -5.5911965,
          -17.410854,
          -18.049282,
          -14.874862,
          -21.460941,
          -18.16235,
          -10.767389,
          -2.7484853,
          -5.463446,
          -18.60732,
          -4.4063745,
          -0.90738356,
          -7.3993464,
          -14.432537,
          -13.486157,
          -2.931117,
          -4.559249,
          -15.383051,
          -13.636193,
          -11.363931,
          -7.0063524,
          -17.808027,
          -19.95742,
          -7.277893,
          -10.223465,
          -20.151577,
          -5.133056,
          -16.976053,
          -6.629552,
          -5.192166,
          -13.328892,
          -17.145657,
          -22.118275,
          -3.6353512,
          -3.8500955,
          -7.6473722,
          -11.910323,
          -14.248746,
          -8.739162,
          -19.3327,
          -13.476263,
          -11.32778,
          -5.643753,
          -1.7614741,
          -6.147179,
          -3.209756,
          -2.2595472,
          -8.175785,
          -5.764366,
          -15.356018,
          -19.623308,
          -0.8263317,
          -2.4145586,
          -4.830329,
          -20.508492,
          -6.0777845,
          -6.1742373,
          -8.8316965,
          -5.5012655,
          -7.208161,
          -11.051302,
          -6.1572986,
          -4.443259,
          -17.320261,
          -21.798012,
          -15.796124,
          -15.641388,
          -6.2455573,
          -15.350234,
          -2.6251616,
          -21.513083,
          -21.226616,
          -20.299416,
          -11.298271,
          -19.940771,
          -20.518671,
          -21.668634,
          -17.556252,
          -21.444275,
          -3.374969,
          -6.466592,
          -8.224482,
          -7.234867,
          -4.1518564,
          -22.257471,
          -9.828948,
          -6.787287,
          -20.306587,
          -2.9531953,
          -4.999352,
          -6.813963,
          -4.059343,
          -21.07211,
          -4.3588543,
          -17.540506,
          -7.1644473,
          -18.309221,
          -7.8923254,
          -6.113175,
          -7.2713842,
          -16.311481,
          -18.660606,
          -3.1012614,
          -5.630813,
          -7.8375397,
          -18.40349,
          -8.138761,
          -4.7162085,
          -4.7245183,
          -3.9350092,
          -7.3284335,
          -3.1783261,
          -22.912638,
          -20.624113,
          -5.533817,
          -16.560696,
          -18.211605,
          -7.442087,
          -13.673301,
          -19.067425,
          -17.543844,
          -6.036684,
          -6.0166078,
          -9.823577,
          -4.944817,
          -13.381309,
          -7.01951,
          -5.729206,
          -4.229085,
          -4.763174,
          -16.999174,
          -7.458772,
          -21.02914,
          -7.4638295,
          -2.6351666,
          -6.6130924,
          -10.432834,
          -5.815009,
          -12.445475,
          -6.903876,
          -3.5997734,
          -3.410221,
          -8.346604,
          -13.340342,
          -10.98732,
          -10.101956,
          -8.341672,
          -18.239845,
          -5.6404967,
          -3.6366713,
          -5.3827806,
          -15.875749,
          -20.812714,
          -5.3667903,
          -6.47729,
          -12.518024,
          -2.709922,
          -6.5440984,
          -22.176792,
          -3.35681,
          -12.100487,
          -15.82201,
          -5.021772,
          -15.216226,
          -8.078916,
          -9.199362,
          -13.840938,
          -2.4026916,
          -18.859774,
          -4.5767083,
          -11.009443,
          -6.577164,
          -19.661083,
          -11.216339,
          -12.138881,
          -2.829975,
          -16.81274,
          -17.805494,
          -16.27894,
          -10.702533,
          -9.064047,
          -6.2623,
          -9.386324,
          -21.267467,
          -2.885141,
          -9.607367,
          -9.385117,
          -17.577116,
          -5.834778,
          -17.963121,
          -11.760294,
          -5.4196353,
          -6.4281807,
          -7.17471,
          -5.632594,
          -11.666879,
          -13.064793,
          -6.034621,
          -5.5513854,
          -6.0261087,
          -15.93349,
          -22.102339
         ],
         "y": [
          -0.75233597,
          -3.8043392,
          -6.148104,
          -3.9056017,
          -2.0328078,
          -3.7046359,
          1.7925462,
          -6.9091735,
          -5.1720366,
          -3.25547,
          -3.7527013,
          -6.668961,
          -7.0730796,
          -6.5652456,
          -1.5514781,
          6.125874,
          -7.4662237,
          3.2909029,
          -6.398589,
          -2.3417323,
          -0.39541247,
          5.176317,
          -4.412728,
          -5.4957633,
          3.0316355,
          -6.628508,
          -1.4038094,
          -1.1331649,
          0.84954995,
          0.90628064,
          -6.620566,
          -6.4746246,
          4.9491086,
          1.5843339,
          1.1885039,
          -1.8832068,
          -6.594078,
          -6.34376,
          4.02052,
          -4.4331226,
          -6.626535,
          -3.6320634,
          -3.0608993,
          3.4746003,
          -4.8505554,
          -4.860284,
          3.1092417,
          -2.8798692,
          2.0568364,
          -1.3238696,
          6.105894,
          5.1253824,
          -2.5818515,
          -6.180546,
          -2.9898856,
          -5.923411,
          -3.1444042,
          -1.2741429,
          -0.120124295,
          -0.5330794,
          4.2266912,
          -0.0433296,
          -5.864116,
          -3.4273477,
          6.3581395,
          3.477261,
          -0.063469104,
          -2.6871684,
          -3.6819196,
          -5.4300084,
          0.7303049,
          -3.1249971,
          -6.4910345,
          1.9447823,
          2.8799613,
          -2.5349264,
          3.797822,
          4.5962715,
          -2.059335,
          -6.14632,
          -7.0376196,
          4.3397818,
          -0.8626226,
          -5.960665,
          -6.8809094,
          -6.625217,
          -0.775923,
          -4.452658,
          -1.3632641,
          -3.816502,
          -6.383618,
          -0.82920176,
          3.8457553,
          -4.53577,
          -2.4536848,
          -0.59153557,
          -6.541314,
          -2.774246,
          0.9164142,
          4.799764,
          -0.6549307,
          -4.523627,
          -6.533423,
          -6.0263505,
          -5.982928,
          -2.0268855,
          -6.5844045,
          -6.7318587,
          -3.3834436,
          4.5641265,
          -1.4498894,
          6.637556,
          4.689034,
          -5.8587675,
          -3.5623798,
          -6.017623,
          -2.0065272,
          4.5185337,
          2.1036904,
          4.0960565,
          -1.1440581,
          2.8955426,
          -0.93337375,
          -5.4049573,
          -0.74945796,
          -4.685751,
          -6.489779,
          2.5575607,
          4.9722075,
          -3.5018663,
          0.64837533,
          -5.61806,
          -6.164554,
          -0.8034,
          -4.979554,
          5.7281113,
          0.21277331,
          0.46831357,
          -0.65697515,
          -6.799082,
          -1.3368049,
          -0.6170656,
          0.42211026,
          -3.1302843,
          0.71179855,
          5.293594,
          1.644408,
          -5.6216416,
          -4.450898,
          -0.38829267,
          0.88091296,
          -6.2768703,
          2.1760921,
          -1.0228456,
          4.982324,
          -4.261355,
          -3.5118668,
          -0.8127787,
          0.20970242,
          6.3993673,
          -4.4284096,
          -0.94546294,
          -2.6558466,
          -5.602849,
          -0.933111,
          -5.0336523,
          -5.1061935,
          -2.972463,
          1.7636337,
          -1.2500849,
          -5.4141893,
          -2.8397667,
          -4.0298376,
          0.05614332,
          -1.2663437,
          4.711665,
          -5.265347,
          4.075795,
          0.755411,
          -0.13947827,
          -3.2114458,
          -4.627187,
          -3.6443713,
          -4.858394,
          -6.5152836,
          -2.159674,
          -3.8774695,
          3.0126846,
          -1.0516573,
          -6.356938,
          -1.4397953,
          -6.950599,
          -3.1577995,
          1.836729,
          -0.010854595,
          3.5210967,
          -4.424879,
          -1.4818231,
          -0.18638474,
          -2.4539149,
          4.6994243,
          -0.044071186,
          -6.4588118,
          -3.6702383,
          -6.674328,
          -1.6903306,
          6.1149664,
          1.1387147,
          -4.2844296,
          -6.505296,
          -6.5699916,
          -6.3563533,
          -5.140474,
          -4.2032733,
          2.3994591,
          6.2004156,
          2.3235252,
          -4.2423854,
          -0.024367876,
          3.6116173,
          0.37068063,
          -6.4292765,
          1.795806,
          -3.712266,
          0.7099225,
          3.8772602,
          -6.526569,
          -5.4828987,
          3.8045518,
          -5.617464,
          -5.5561843,
          -6.1109614,
          -5.8977346,
          4.613741,
          -2.4265296,
          5.614779,
          -6.8160005,
          -0.33364683,
          -1.6669531,
          -7.6947904,
          -7.5409913,
          3.5313187,
          -4.7904587,
          -3.8073974,
          -5.151486,
          -6.3128963,
          -5.366716,
          -3.6940439,
          -6.0135508,
          0.0109756505,
          6.1019354,
          -6.3450994,
          -6.238467,
          -4.5048704,
          -0.3083416,
          -4.1873703,
          -6.6459327,
          -2.90628,
          1.04449,
          -4.0480857,
          3.3899355,
          -6.940366,
          -6.8884773,
          3.097999,
          -2.361563,
          1.3188636,
          -5.95873,
          0.9311477
         ],
         "z": [
          0.9104495,
          0.39566702,
          0.4325003,
          0.7344986,
          1.9090204,
          2.0729156,
          0.37713215,
          1.2047685,
          2.0014122,
          2.3079016,
          0.3783537,
          1.9833912,
          0.51845354,
          0.1367072,
          1.4432461,
          1.0290625,
          0.3925622,
          1.1958655,
          2.3835907,
          2.025194,
          2.0516365,
          0.9862163,
          0.95890903,
          2.530277,
          0.50012994,
          -0.032088336,
          0.5864941,
          -0.46305975,
          1.7057005,
          1.7452043,
          2.2020228,
          0.7417008,
          0.883425,
          1.6947987,
          1.222753,
          1.1968627,
          0.33426324,
          0.21442556,
          1.29384,
          0.32359535,
          1.2228014,
          0.09088108,
          2.0342083,
          1.184949,
          2.241066,
          2.2592442,
          1.3012403,
          1.9957418,
          1.575277,
          0.86143094,
          0.9174721,
          1.163374,
          1.286867,
          0.47989967,
          -0.2629358,
          0.7863006,
          0.51127,
          1.2248307,
          1.2461962,
          0.97626364,
          1.1867398,
          0.10000782,
          -0.3729816,
          2.2510793,
          0.48933375,
          1.3178246,
          0.9083041,
          1.9433923,
          1.3720143,
          1.9168363,
          1.3890913,
          1.7726593,
          2.9027128,
          1.6391897,
          0.96842015,
          1.6608038,
          0.96733385,
          -0.48574707,
          -0.61170065,
          1.1521512,
          0.4364497,
          1.1957558,
          0.27171177,
          0.7110178,
          0.606747,
          2.255349,
          -0.49999443,
          0.11918772,
          1.6426944,
          0.11836028,
          3.1886127,
          1.5114834,
          0.7925109,
          1.2329901,
          0.3490597,
          1.0354956,
          0.5761146,
          1.7650174,
          1.453338,
          1.4963194,
          2.1816266,
          0.4182725,
          2.1590612,
          1.4729074,
          1.8103523,
          1.0461714,
          0.12735768,
          0.2164204,
          2.3659682,
          0.50852054,
          0.6183068,
          0.63517267,
          0.7343641,
          1.81593,
          2.5069666,
          0.68796957,
          0.87632436,
          -0.5746903,
          1.5822521,
          0.86148465,
          0.7142691,
          1.7778016,
          0.3054678,
          -0.09081696,
          0.32405964,
          1.4105135,
          0.17384957,
          0.3869503,
          0.9484325,
          1.8002312,
          1.0610701,
          0.8594255,
          0.17077099,
          0.47515482,
          2.1019638,
          0.763024,
          0.93501115,
          1.3705493,
          1.6312037,
          0.67836714,
          1.4408442,
          1.2656467,
          1.5710158,
          0.972834,
          1.2532816,
          1.3602263,
          0.02585081,
          1.4694071,
          0.9286479,
          1.8697616,
          1.3945136,
          3.1538222,
          -0.24189794,
          1.0249342,
          0.80624056,
          2.81153,
          0.69811696,
          2.0210323,
          1.0924236,
          0.79569376,
          0.42787823,
          -0.67992395,
          1.6107522,
          2.4327295,
          -0.011001994,
          1.9543775,
          1.0458761,
          1.2016809,
          1.6563259,
          0.31168422,
          1.4559983,
          1.470805,
          -0.5644723,
          1.1927142,
          1.7556216,
          0.87515235,
          2.4502997,
          1.1767237,
          1.7675973,
          1.8215576,
          1.7327417,
          1.4106188,
          0.36305884,
          1.2376918,
          0.8909347,
          1.4799337,
          1.4225334,
          0.33049408,
          0.06651294,
          1.8066572,
          1.54233,
          0.3103222,
          0.22553192,
          0.680196,
          1.6903865,
          0.9452355,
          1.1257906,
          -0.81118023,
          1.4695946,
          -0.52929926,
          0.94371307,
          -0.1850131,
          0.45595285,
          2.1191852,
          0.2531278,
          -0.21562232,
          0.7191508,
          1.7198826,
          -0.62406904,
          1.1077132,
          1.4570177,
          3.1598825,
          0.15825632,
          -0.06834139,
          0.7655004,
          0.8676605,
          1.116702,
          2.4848797,
          1.5797012,
          0.9015023,
          -0.21242978,
          0.520582,
          1.6722679,
          1.1406329,
          1.1304413,
          1.2278712,
          0.62983865,
          1.0271221,
          0.8881933,
          1.378711,
          1.6346428,
          1.0128385,
          2.1031036,
          0.7387987,
          1.2899313,
          0.8270246,
          1.2365323,
          -0.11842007,
          1.2054627,
          1.2759613,
          0.45421582,
          1.2940484,
          0.99477553,
          1.1286626,
          1.0265462,
          -0.22591262,
          -0.9101518,
          2.1794696,
          0.06973713,
          1.0356544,
          0.6488267,
          -0.017083524,
          1.0840048,
          0.43753603,
          -0.00020464147,
          0.18528506,
          0.2335502,
          2.712859,
          0.028618358,
          0.61000717,
          0.61398137,
          0.4182972,
          -0.19145407,
          0.2838142,
          1.3477618,
          0.381394,
          0.20994346,
          1.8707215
         ]
        }
       ],
       "layout": {
        "height": 800,
        "legend": {
         "title": {
          "text": "Cluster"
         },
         "tracegroupgap": 0
        },
        "scene": {
         "domain": {
          "x": [
           0,
           1
          ],
          "y": [
           0,
           1
          ]
         },
         "xaxis": {
          "title": {
           "text": "0"
          }
         },
         "yaxis": {
          "title": {
           "text": "1"
          }
         },
         "zaxis": {
          "title": {
           "text": "2"
          }
         }
        },
        "template": {
         "data": {
          "bar": [
           {
            "error_x": {
             "color": "#2a3f5f"
            },
            "error_y": {
             "color": "#2a3f5f"
            },
            "marker": {
             "line": {
              "color": "#E5ECF6",
              "width": 0.5
             },
             "pattern": {
              "fillmode": "overlay",
              "size": 10,
              "solidity": 0.2
             }
            },
            "type": "bar"
           }
          ],
          "barpolar": [
           {
            "marker": {
             "line": {
              "color": "#E5ECF6",
              "width": 0.5
             },
             "pattern": {
              "fillmode": "overlay",
              "size": 10,
              "solidity": 0.2
             }
            },
            "type": "barpolar"
           }
          ],
          "carpet": [
           {
            "aaxis": {
             "endlinecolor": "#2a3f5f",
             "gridcolor": "white",
             "linecolor": "white",
             "minorgridcolor": "white",
             "startlinecolor": "#2a3f5f"
            },
            "baxis": {
             "endlinecolor": "#2a3f5f",
             "gridcolor": "white",
             "linecolor": "white",
             "minorgridcolor": "white",
             "startlinecolor": "#2a3f5f"
            },
            "type": "carpet"
           }
          ],
          "choropleth": [
           {
            "colorbar": {
             "outlinewidth": 0,
             "ticks": ""
            },
            "type": "choropleth"
           }
          ],
          "contour": [
           {
            "colorbar": {
             "outlinewidth": 0,
             "ticks": ""
            },
            "colorscale": [
             [
              0,
              "#0d0887"
             ],
             [
              0.1111111111111111,
              "#46039f"
             ],
             [
              0.2222222222222222,
              "#7201a8"
             ],
             [
              0.3333333333333333,
              "#9c179e"
             ],
             [
              0.4444444444444444,
              "#bd3786"
             ],
             [
              0.5555555555555556,
              "#d8576b"
             ],
             [
              0.6666666666666666,
              "#ed7953"
             ],
             [
              0.7777777777777778,
              "#fb9f3a"
             ],
             [
              0.8888888888888888,
              "#fdca26"
             ],
             [
              1,
              "#f0f921"
             ]
            ],
            "type": "contour"
           }
          ],
          "contourcarpet": [
           {
            "colorbar": {
             "outlinewidth": 0,
             "ticks": ""
            },
            "type": "contourcarpet"
           }
          ],
          "heatmap": [
           {
            "colorbar": {
             "outlinewidth": 0,
             "ticks": ""
            },
            "colorscale": [
             [
              0,
              "#0d0887"
             ],
             [
              0.1111111111111111,
              "#46039f"
             ],
             [
              0.2222222222222222,
              "#7201a8"
             ],
             [
              0.3333333333333333,
              "#9c179e"
             ],
             [
              0.4444444444444444,
              "#bd3786"
             ],
             [
              0.5555555555555556,
              "#d8576b"
             ],
             [
              0.6666666666666666,
              "#ed7953"
             ],
             [
              0.7777777777777778,
              "#fb9f3a"
             ],
             [
              0.8888888888888888,
              "#fdca26"
             ],
             [
              1,
              "#f0f921"
             ]
            ],
            "type": "heatmap"
           }
          ],
          "heatmapgl": [
           {
            "colorbar": {
             "outlinewidth": 0,
             "ticks": ""
            },
            "colorscale": [
             [
              0,
              "#0d0887"
             ],
             [
              0.1111111111111111,
              "#46039f"
             ],
             [
              0.2222222222222222,
              "#7201a8"
             ],
             [
              0.3333333333333333,
              "#9c179e"
             ],
             [
              0.4444444444444444,
              "#bd3786"
             ],
             [
              0.5555555555555556,
              "#d8576b"
             ],
             [
              0.6666666666666666,
              "#ed7953"
             ],
             [
              0.7777777777777778,
              "#fb9f3a"
             ],
             [
              0.8888888888888888,
              "#fdca26"
             ],
             [
              1,
              "#f0f921"
             ]
            ],
            "type": "heatmapgl"
           }
          ],
          "histogram": [
           {
            "marker": {
             "pattern": {
              "fillmode": "overlay",
              "size": 10,
              "solidity": 0.2
             }
            },
            "type": "histogram"
           }
          ],
          "histogram2d": [
           {
            "colorbar": {
             "outlinewidth": 0,
             "ticks": ""
            },
            "colorscale": [
             [
              0,
              "#0d0887"
             ],
             [
              0.1111111111111111,
              "#46039f"
             ],
             [
              0.2222222222222222,
              "#7201a8"
             ],
             [
              0.3333333333333333,
              "#9c179e"
             ],
             [
              0.4444444444444444,
              "#bd3786"
             ],
             [
              0.5555555555555556,
              "#d8576b"
             ],
             [
              0.6666666666666666,
              "#ed7953"
             ],
             [
              0.7777777777777778,
              "#fb9f3a"
             ],
             [
              0.8888888888888888,
              "#fdca26"
             ],
             [
              1,
              "#f0f921"
             ]
            ],
            "type": "histogram2d"
           }
          ],
          "histogram2dcontour": [
           {
            "colorbar": {
             "outlinewidth": 0,
             "ticks": ""
            },
            "colorscale": [
             [
              0,
              "#0d0887"
             ],
             [
              0.1111111111111111,
              "#46039f"
             ],
             [
              0.2222222222222222,
              "#7201a8"
             ],
             [
              0.3333333333333333,
              "#9c179e"
             ],
             [
              0.4444444444444444,
              "#bd3786"
             ],
             [
              0.5555555555555556,
              "#d8576b"
             ],
             [
              0.6666666666666666,
              "#ed7953"
             ],
             [
              0.7777777777777778,
              "#fb9f3a"
             ],
             [
              0.8888888888888888,
              "#fdca26"
             ],
             [
              1,
              "#f0f921"
             ]
            ],
            "type": "histogram2dcontour"
           }
          ],
          "mesh3d": [
           {
            "colorbar": {
             "outlinewidth": 0,
             "ticks": ""
            },
            "type": "mesh3d"
           }
          ],
          "parcoords": [
           {
            "line": {
             "colorbar": {
              "outlinewidth": 0,
              "ticks": ""
             }
            },
            "type": "parcoords"
           }
          ],
          "pie": [
           {
            "automargin": true,
            "type": "pie"
           }
          ],
          "scatter": [
           {
            "fillpattern": {
             "fillmode": "overlay",
             "size": 10,
             "solidity": 0.2
            },
            "type": "scatter"
           }
          ],
          "scatter3d": [
           {
            "line": {
             "colorbar": {
              "outlinewidth": 0,
              "ticks": ""
             }
            },
            "marker": {
             "colorbar": {
              "outlinewidth": 0,
              "ticks": ""
             }
            },
            "type": "scatter3d"
           }
          ],
          "scattercarpet": [
           {
            "marker": {
             "colorbar": {
              "outlinewidth": 0,
              "ticks": ""
             }
            },
            "type": "scattercarpet"
           }
          ],
          "scattergeo": [
           {
            "marker": {
             "colorbar": {
              "outlinewidth": 0,
              "ticks": ""
             }
            },
            "type": "scattergeo"
           }
          ],
          "scattergl": [
           {
            "marker": {
             "colorbar": {
              "outlinewidth": 0,
              "ticks": ""
             }
            },
            "type": "scattergl"
           }
          ],
          "scattermapbox": [
           {
            "marker": {
             "colorbar": {
              "outlinewidth": 0,
              "ticks": ""
             }
            },
            "type": "scattermapbox"
           }
          ],
          "scatterpolar": [
           {
            "marker": {
             "colorbar": {
              "outlinewidth": 0,
              "ticks": ""
             }
            },
            "type": "scatterpolar"
           }
          ],
          "scatterpolargl": [
           {
            "marker": {
             "colorbar": {
              "outlinewidth": 0,
              "ticks": ""
             }
            },
            "type": "scatterpolargl"
           }
          ],
          "scatterternary": [
           {
            "marker": {
             "colorbar": {
              "outlinewidth": 0,
              "ticks": ""
             }
            },
            "type": "scatterternary"
           }
          ],
          "surface": [
           {
            "colorbar": {
             "outlinewidth": 0,
             "ticks": ""
            },
            "colorscale": [
             [
              0,
              "#0d0887"
             ],
             [
              0.1111111111111111,
              "#46039f"
             ],
             [
              0.2222222222222222,
              "#7201a8"
             ],
             [
              0.3333333333333333,
              "#9c179e"
             ],
             [
              0.4444444444444444,
              "#bd3786"
             ],
             [
              0.5555555555555556,
              "#d8576b"
             ],
             [
              0.6666666666666666,
              "#ed7953"
             ],
             [
              0.7777777777777778,
              "#fb9f3a"
             ],
             [
              0.8888888888888888,
              "#fdca26"
             ],
             [
              1,
              "#f0f921"
             ]
            ],
            "type": "surface"
           }
          ],
          "table": [
           {
            "cells": {
             "fill": {
              "color": "#EBF0F8"
             },
             "line": {
              "color": "white"
             }
            },
            "header": {
             "fill": {
              "color": "#C8D4E3"
             },
             "line": {
              "color": "white"
             }
            },
            "type": "table"
           }
          ]
         },
         "layout": {
          "annotationdefaults": {
           "arrowcolor": "#2a3f5f",
           "arrowhead": 0,
           "arrowwidth": 1
          },
          "autotypenumbers": "strict",
          "coloraxis": {
           "colorbar": {
            "outlinewidth": 0,
            "ticks": ""
           }
          },
          "colorscale": {
           "diverging": [
            [
             0,
             "#8e0152"
            ],
            [
             0.1,
             "#c51b7d"
            ],
            [
             0.2,
             "#de77ae"
            ],
            [
             0.3,
             "#f1b6da"
            ],
            [
             0.4,
             "#fde0ef"
            ],
            [
             0.5,
             "#f7f7f7"
            ],
            [
             0.6,
             "#e6f5d0"
            ],
            [
             0.7,
             "#b8e186"
            ],
            [
             0.8,
             "#7fbc41"
            ],
            [
             0.9,
             "#4d9221"
            ],
            [
             1,
             "#276419"
            ]
           ],
           "sequential": [
            [
             0,
             "#0d0887"
            ],
            [
             0.1111111111111111,
             "#46039f"
            ],
            [
             0.2222222222222222,
             "#7201a8"
            ],
            [
             0.3333333333333333,
             "#9c179e"
            ],
            [
             0.4444444444444444,
             "#bd3786"
            ],
            [
             0.5555555555555556,
             "#d8576b"
            ],
            [
             0.6666666666666666,
             "#ed7953"
            ],
            [
             0.7777777777777778,
             "#fb9f3a"
            ],
            [
             0.8888888888888888,
             "#fdca26"
            ],
            [
             1,
             "#f0f921"
            ]
           ],
           "sequentialminus": [
            [
             0,
             "#0d0887"
            ],
            [
             0.1111111111111111,
             "#46039f"
            ],
            [
             0.2222222222222222,
             "#7201a8"
            ],
            [
             0.3333333333333333,
             "#9c179e"
            ],
            [
             0.4444444444444444,
             "#bd3786"
            ],
            [
             0.5555555555555556,
             "#d8576b"
            ],
            [
             0.6666666666666666,
             "#ed7953"
            ],
            [
             0.7777777777777778,
             "#fb9f3a"
            ],
            [
             0.8888888888888888,
             "#fdca26"
            ],
            [
             1,
             "#f0f921"
            ]
           ]
          },
          "colorway": [
           "#636efa",
           "#EF553B",
           "#00cc96",
           "#ab63fa",
           "#FFA15A",
           "#19d3f3",
           "#FF6692",
           "#B6E880",
           "#FF97FF",
           "#FECB52"
          ],
          "font": {
           "color": "#2a3f5f"
          },
          "geo": {
           "bgcolor": "white",
           "lakecolor": "white",
           "landcolor": "#E5ECF6",
           "showlakes": true,
           "showland": true,
           "subunitcolor": "white"
          },
          "hoverlabel": {
           "align": "left"
          },
          "hovermode": "closest",
          "mapbox": {
           "style": "light"
          },
          "paper_bgcolor": "white",
          "plot_bgcolor": "#E5ECF6",
          "polar": {
           "angularaxis": {
            "gridcolor": "white",
            "linecolor": "white",
            "ticks": ""
           },
           "bgcolor": "#E5ECF6",
           "radialaxis": {
            "gridcolor": "white",
            "linecolor": "white",
            "ticks": ""
           }
          },
          "scene": {
           "xaxis": {
            "backgroundcolor": "#E5ECF6",
            "gridcolor": "white",
            "gridwidth": 2,
            "linecolor": "white",
            "showbackground": true,
            "ticks": "",
            "zerolinecolor": "white"
           },
           "yaxis": {
            "backgroundcolor": "#E5ECF6",
            "gridcolor": "white",
            "gridwidth": 2,
            "linecolor": "white",
            "showbackground": true,
            "ticks": "",
            "zerolinecolor": "white"
           },
           "zaxis": {
            "backgroundcolor": "#E5ECF6",
            "gridcolor": "white",
            "gridwidth": 2,
            "linecolor": "white",
            "showbackground": true,
            "ticks": "",
            "zerolinecolor": "white"
           }
          },
          "shapedefaults": {
           "line": {
            "color": "#2a3f5f"
           }
          },
          "ternary": {
           "aaxis": {
            "gridcolor": "white",
            "linecolor": "white",
            "ticks": ""
           },
           "baxis": {
            "gridcolor": "white",
            "linecolor": "white",
            "ticks": ""
           },
           "bgcolor": "#E5ECF6",
           "caxis": {
            "gridcolor": "white",
            "linecolor": "white",
            "ticks": ""
           }
          },
          "title": {
           "x": 0.05
          },
          "xaxis": {
           "automargin": true,
           "gridcolor": "white",
           "linecolor": "white",
           "ticks": "",
           "title": {
            "standoff": 15
           },
           "zerolinecolor": "white",
           "zerolinewidth": 2
          },
          "yaxis": {
           "automargin": true,
           "gridcolor": "white",
           "linecolor": "white",
           "ticks": "",
           "title": {
            "standoff": 15
           },
           "zerolinecolor": "white",
           "zerolinewidth": 2
          }
         }
        },
        "title": {
         "text": "3d TSNE Plot for Clusters"
        },
        "width": 900
       }
      }
     },
     "metadata": {},
     "output_type": "display_data"
    }
   ],
   "source": [
    "plot_model(kmeans_4, plot = 'tsne')"
   ]
  },
  {
   "cell_type": "code",
   "execution_count": null,
   "metadata": {},
   "outputs": [],
   "source": []
  }
 ],
 "metadata": {
  "kernelspec": {
   "display_name": "base",
   "language": "python",
   "name": "python3"
  },
  "language_info": {
   "codemirror_mode": {
    "name": "ipython",
    "version": 3
   },
   "file_extension": ".py",
   "mimetype": "text/x-python",
   "name": "python",
   "nbconvert_exporter": "python",
   "pygments_lexer": "ipython3",
   "version": "3.10.10"
  },
  "orig_nbformat": 4
 },
 "nbformat": 4,
 "nbformat_minor": 2
}
