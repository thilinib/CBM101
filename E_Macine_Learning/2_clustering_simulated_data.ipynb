{
  "cells": [
    {
      "cell_type": "markdown",
      "metadata": {
        "id": "I9NOKi4KQEsN"
      },
      "source": [
        "\n",
        "## Unsupervised Learning in Machine Learning - Clustering\n",
        "\n",
        "In this notebook you will get familiar with K means clustering algorithm using PyCaret python package. First lets dive through PyCaret clustering functions along dummy data set.\n",
        "\n",
        "\n"
      ]
    },
    {
      "cell_type": "markdown",
      "metadata": {
        "id": "tKWJ7DtXHq1h"
      },
      "source": [
        "# **Import libraries**"
      ]
    },
    {
      "cell_type": "code",
      "execution_count": null,
      "metadata": {
        "colab": {
          "base_uri": "https://localhost:8080/"
        },
        "id": "8sVWWXigJMrk",
        "outputId": "66417eff-3a97-414a-f095-867d2a10c07c"
      },
      "outputs": [],
      "source": [
        "# install pycaret this way if you are running this notebook in google colab environment.\n",
        "# !pip install joblib==1.3.2\n",
        "# !pip install pycaret "
      ]
    },
    {
      "cell_type": "code",
      "execution_count": null,
      "metadata": {
        "id": "Tb0Va1akHYZA"
      },
      "outputs": [],
      "source": [
        "from pycaret.clustering import * #importing pycaret clustering module\n",
        "import plotly.express as px\n",
        "\n",
        "import pandas as pd\n",
        "\n",
        "from matplotlib import pyplot as plt\n",
        "import seaborn as sns\n",
        "\n",
        "from sklearn.datasets import make_blobs # to generate new datasets/dummy dataset\n",
        "import random\n",
        "\n"
      ]
    },
    {
      "cell_type": "markdown",
      "metadata": {
        "id": "ScM38GchII6l"
      },
      "source": [
        "# **Make simple dummy dataset for clustering**\n"
      ]
    },
    {
      "cell_type": "code",
      "execution_count": null,
      "metadata": {
        "id": "qqfPOIEdI6Yt"
      },
      "outputs": [],
      "source": [
        "random.seed(42)\n",
        "# create points on 4 clusters\n",
        "# X contains the features (coordinates) of the generated data points, while y contains the corresponding cluster labels for each data point.\n",
        "X, y = make_blobs(n_samples=200, centers=4, random_state=42, cluster_std=1.5)"
      ]
    },
    {
      "cell_type": "code",
      "execution_count": null,
      "metadata": {
        "id": "8gjjchP6Yd1J"
      },
      "outputs": [],
      "source": [
        "X"
      ]
    },
    {
      "cell_type": "code",
      "execution_count": null,
      "metadata": {
        "colab": {
          "base_uri": "https://localhost:8080/"
        },
        "id": "WINHoHvEYphz",
        "outputId": "fe97c756-f5c3-4b8a-d754-7852cd34935b"
      },
      "outputs": [],
      "source": [
        "y"
      ]
    },
    {
      "cell_type": "code",
      "execution_count": null,
      "metadata": {
        "colab": {
          "base_uri": "https://localhost:8080/",
          "height": 501
        },
        "id": "MvWADtBfI2yd",
        "outputId": "a1318b4c-e062-4ce7-a434-a3da31e41569"
      },
      "outputs": [],
      "source": [
        "# visualize the example data\n",
        "\n",
        "# call that function to draw a scatterplot\n",
        "sns.scatterplot(x=X[:,0], y=X[:,1], palette='viridis')\n",
        "#X[:,0] selects the values from the first column of the X array. The first column typically represents the first feature of the dataset.\n",
        "#y=X[:,1]: This specifies the y-axis values for the scatter plot. Similarly, X[:,1] selects the values from the second column of the X array. The second column typically represents the second feature of the dataset."
      ]
    },
    {
      "cell_type": "markdown",
      "metadata": {
        "id": "Jvl7TKOwRNhX"
      },
      "source": [
        "# **Pycaret**\n",
        "Pycaret is a low-code and beginner-friendly machine learning (ML) library in Python that automates and speeds up the ML-workflow. Pycaret replaces hundreds of lines of code with only a few.\n",
        "\n",
        "# **Clustering in Pycaret**\n",
        "* PyCaret's clustering module provides several pre-processing features that can be configured when initializing the setup through the **`setup()`** function.\n",
        "\n",
        "* It has several algorithms and plots to analyze the results. PyCaret's clustering module also implements a unique function called **`tune_model()` ** that allows you to tune the hyperparameters of a clustering model to optimize a supervised learning objective such as R^2 for regression.\n",
        "\n",
        "* **`setup()`** is Pycaret's main function and it needs to be run before executing any other function in pycaret. The setup() function initializes the environment in pycaret and creates the transformation pipeline to prepare the data for modeling and deployment.\n",
        "\n",
        "* When setup() is executed, PyCaret's inference algorithm will automatically infer the data types for all features based on certain properties. Ensuring that the data types are correct is of fundamental importance in PyCaret as it automatically performs a few pre-processing tasks which are imperative to any machine learning experiment.\n",
        "\n",
        "* These tasks are performed differently for each data type which means it is very important for them to be correctly configured.\n",
        "\n",
        "\n"
      ]
    },
    {
      "cell_type": "code",
      "execution_count": null,
      "metadata": {
        "colab": {
          "base_uri": "https://localhost:8080/",
          "height": 457
        },
        "id": "xofWfNfOST8n",
        "outputId": "500c811a-9772-4824-bb78-17270c1bb2c3"
      },
      "outputs": [],
      "source": [
        "# setup() has lots of optional parameters for e.g. preprocessing, but let's run it with defaults\n",
        "s = setup(X)"
      ]
    },
    {
      "cell_type": "code",
      "execution_count": null,
      "metadata": {
        "colab": {
          "base_uri": "https://localhost:8080/",
          "height": 332
        },
        "id": "BQq33HC2SWK6",
        "outputId": "f3576b3a-d6c6-47c2-9a7d-a5417c738057"
      },
      "outputs": [],
      "source": [
        "# pycaret offers many clustering algorithms we can compare\n",
        "models()"
      ]
    },
    {
      "cell_type": "markdown",
      "metadata": {
        "id": "fLWclJN2Sk1h"
      },
      "source": [
        "# **Create a model**\n",
        "Next let's create and train a **kmeans model**. Without additional parameters it will use **4 clusters** as default but if you know the number of clusters beforehand you can pass it using num_clusters parameter. In this case we know there is supposed to be 5 clusters and we're gonna use that."
      ]
    },
    {
      "cell_type": "code",
      "execution_count": null,
      "metadata": {
        "colab": {
          "base_uri": "https://localhost:8080/",
          "height": 81,
          "referenced_widgets": [
            "42606ee94b0241ecb160a49ea2dab018",
            "c6ac730baf9c4b2eae4769b4d69746d2",
            "dddb285919e44b5194399bbb30938739",
            "773ee1519448403ebaddaa8ef27ab13b",
            "5202916bc9334b9aa6c4d49dd6eb551e",
            "c60aa63ae194458a97a50b026ababcc7",
            "871945d70d5a438db9cf4e963dcf9604",
            "ee9ae68a19e44864a4cb0a18dca54bcd",
            "0ac15060eb9d40c296af64960125871b",
            "1b24666f8d3e4adeb795beeb4bf01114",
            "b7338dcb62734de6bd1e7ad52eb688bc"
          ]
        },
        "id": "wSkU5stTSgTL",
        "outputId": "5b8efcb2-7a72-4d35-9c41-6a70b1251089"
      },
      "outputs": [],
      "source": [
        "kmeans = create_model('kmeans', num_clusters=4)"
      ]
    },
    {
      "cell_type": "code",
      "execution_count": null,
      "metadata": {
        "colab": {
          "base_uri": "https://localhost:8080/",
          "height": 424
        },
        "id": "FhXul2JKkMFd",
        "outputId": "353b23e7-cb6a-45d5-af90-06989badbc99"
      },
      "outputs": [],
      "source": [
        "kmeans_cluster = assign_model(kmeans)\n",
        "kmeans_cluster"
      ]
    },
    {
      "cell_type": "markdown",
      "metadata": {
        "id": "Fv_nGX3LWT44"
      },
      "source": [
        "\n",
        "# **Silhouette Coefficient/silhouette score**\n",
        "Pycaret will print some useful metrics.\n",
        "\n",
        "**Silhouette Coefficient** or **silhouette score** is a metric used to calculate the goodness of a clustering technique.\n",
        "* Its value ranges from -1 to 1.\n",
        "* 1 means that clusters are well apart\n",
        "from each other and clearly distinguished,\n",
        "* 0 means that clusters are indifferent ie. the distance between clusters is not significant,\n",
        "* -1 means that clusters are assigned in the wrong way.\n",
        "\n",
        "We can plot silhouette scores per cluster and get validation of consistency within clusters of data. The technique provides a succinct graphical representation of how well each object has been classified. In other words, the silhouette value is a measure of how similar an object is to its own cluster (cohesion) compared to other clusters (separation)."
      ]
    },
    {
      "cell_type": "code",
      "execution_count": null,
      "metadata": {
        "colab": {
          "base_uri": "https://localhost:8080/",
          "height": 524
        },
        "id": "QJzzbvjtV0v0",
        "outputId": "eff363ba-56cd-43fd-ecc6-02dc0470c582"
      },
      "outputs": [],
      "source": [
        "plot_model(kmeans, plot = 'silhouette')"
      ]
    },
    {
      "cell_type": "markdown",
      "metadata": {
        "id": "R8nsUnjWW7IQ"
      },
      "source": [
        "\n",
        "# **Elbow method**\n",
        "Another useful method is the **elbow method**, which is a heuristic method of interpretation and validation of consistency within cluster analysis designed to help find the appropriate number of clusters in a dataset."
      ]
    },
    {
      "cell_type": "code",
      "execution_count": null,
      "metadata": {
        "colab": {
          "base_uri": "https://localhost:8080/",
          "height": 524
        },
        "id": "cu9sIjvRW0XL",
        "outputId": "621a7542-de9f-4bb0-b26b-7e43c94638d7"
      },
      "outputs": [],
      "source": [
        "plot_model(kmeans, plot = 'elbow')"
      ]
    },
    {
      "cell_type": "markdown",
      "metadata": {
        "id": "PZp4YfCqXPkc"
      },
      "source": [
        "In this example the Elbow plot above suggests that 3 is the optimal number of clusters. Usually there is a clear angle, elbow, in the distortion scores, and that cutoff point is where adding another cluster doesn't give much better modeling of the data. You can use this suggestion to create a new model, but in this case we know there should be 5 clusters and we used that previously so we're not gonna create another model."
      ]
    },
    {
      "cell_type": "markdown",
      "metadata": {
        "id": "3Fmu0rRWXlmI"
      },
      "source": [
        "# **Centroids**\n",
        "The model here is a python object, and can thus have certain attributes, such as the centroids locations:"
      ]
    },
    {
      "cell_type": "code",
      "execution_count": null,
      "metadata": {
        "colab": {
          "base_uri": "https://localhost:8080/"
        },
        "id": "_RyBnrvQXz8l",
        "outputId": "d653e39d-ad6a-4617-d46c-a334291de752"
      },
      "outputs": [],
      "source": [
        "centroids = kmeans.cluster_centers_\n",
        "centroids"
      ]
    },
    {
      "cell_type": "code",
      "execution_count": null,
      "metadata": {
        "colab": {
          "base_uri": "https://localhost:8080/",
          "height": 501
        },
        "id": "c-INnoWOXhXI",
        "outputId": "08d25f2c-010b-4b34-b952-a4900f274f18"
      },
      "outputs": [],
      "source": [
        "sns.scatterplot(x=X[:, 0], y=X[:, 1], color='gray')\n",
        "sns.scatterplot(x=centroids[:, 0], y=centroids[:, 1], s=200, marker=\"X\") # this time for the centroids of the clusters.\n",
        "#x=centroids[:, 0] specifies that the x-coordinates of the centroids will be taken from the first column of the centroids array.\n",
        "#y=centroids[:, 1] specifies that the y-coordinates of the centroids will be taken from the second column of the centroids array.\n",
        "#s=200 sets the size of the markers"
      ]
    },
    {
      "cell_type": "markdown",
      "metadata": {
        "id": "36WH0GzFa3Ja"
      },
      "source": [
        "# **Plot the model results**\n",
        "The **`plot_model()`** function can be used to analyze different aspects of the clustering model. This function takes a trained model object and returns a plot. See examples below:\n",
        "\n",
        "PCA plot"
      ]
    },
    {
      "cell_type": "code",
      "execution_count": null,
      "metadata": {
        "colab": {
          "base_uri": "https://localhost:8080/",
          "height": 617
        },
        "id": "9aeYzRDXX6Vz",
        "outputId": "69e39a81-1d06-4afb-e793-81d0b6ddc199"
      },
      "outputs": [],
      "source": [
        "plot_model(kmeans, plot = 'cluster') #cluster is default"
      ]
    },
    {
      "cell_type": "markdown",
      "metadata": {
        "id": "BMfAflDYbRbl"
      },
      "source": [
        "# **Distribution plot**\n",
        "The distribution plot shows the size of each cluster. When hovering over the bars you will see the number of samples assigned to each cluster. We can also use the distribution plot to see the distribution of cluster labels in association with any other numeric or categorical feature. Features are column names of your dataframe, but in this case feature_1 has been autogenerated since column names weren't passed. See an example below:"
      ]
    },
    {
      "cell_type": "code",
      "execution_count": null,
      "metadata": {
        "colab": {
          "base_uri": "https://localhost:8080/",
          "height": 617
        },
        "id": "bE0MBUEIba3D",
        "outputId": "dbe9b783-3046-4fc0-db58-ad6644f0c182"
      },
      "outputs": [],
      "source": [
        "plot_model(kmeans, plot = 'distribution', feature='feature_2') # you can check with feature_1 as well"
      ]
    },
    {
      "cell_type": "markdown",
      "metadata": {
        "id": "Ww19QrEQbkAk"
      },
      "source": [
        "# **Compare to original clusters**\n",
        "Normally you wouldn't be able to compare clusters since you don't have anything to compare. In this case we know the original clusters and we can therefore compare kmeans results to them.\n",
        "\n",
        "Predicted clusters are saved in the model object:"
      ]
    },
    {
      "cell_type": "code",
      "execution_count": null,
      "metadata": {
        "colab": {
          "base_uri": "https://localhost:8080/"
        },
        "id": "mlG_-vp2bbT1",
        "outputId": "deeb01c0-7be2-4367-a940-dbd02355786d"
      },
      "outputs": [],
      "source": [
        "pred = kmeans.labels_\n",
        "pred"
      ]
    },
    {
      "cell_type": "code",
      "execution_count": null,
      "metadata": {
        "colab": {
          "base_uri": "https://localhost:8080/",
          "height": 483
        },
        "id": "2UD-Qu3TbtuN",
        "outputId": "bb47f184-9a4c-4ac8-afc1-139c5fb08a96"
      },
      "outputs": [],
      "source": [
        "# figure size\n",
        "plt.figure(figsize=(12,5))\n",
        "\n",
        "# original clusters with first and 3rd feature\n",
        "plt.subplot(1, 2, 1)\n",
        "sns.scatterplot(x=X[:,0], y=X[:,1],hue=y, palette='viridis').set(title='Original clusters')\n",
        "\n",
        "# predicted clusters\n",
        "plt.subplot(1, 2, 2)\n",
        "sns.scatterplot(x=X[:,0], y=X[:,1],hue=pred, palette='viridis').set(title='Predicted clusters')"
      ]
    }
  ],
  "metadata": {
    "colab": {
      "provenance": []
    },
    "kernelspec": {
      "display_name": "cbm3_2025",
      "language": "python",
      "name": "python3"
    },
    "language_info": {
      "codemirror_mode": {
        "name": "ipython",
        "version": 3
      },
      "file_extension": ".py",
      "mimetype": "text/x-python",
      "name": "python",
      "nbconvert_exporter": "python",
      "pygments_lexer": "ipython3",
      "version": "3.10.16"
    },
    "widgets": {
      "application/vnd.jupyter.widget-state+json": {
        "0ac15060eb9d40c296af64960125871b": {
          "model_module": "@jupyter-widgets/controls",
          "model_module_version": "1.5.0",
          "model_name": "ProgressStyleModel",
          "state": {
            "_model_module": "@jupyter-widgets/controls",
            "_model_module_version": "1.5.0",
            "_model_name": "ProgressStyleModel",
            "_view_count": null,
            "_view_module": "@jupyter-widgets/base",
            "_view_module_version": "1.2.0",
            "_view_name": "StyleView",
            "bar_color": null,
            "description_width": ""
          }
        },
        "1b24666f8d3e4adeb795beeb4bf01114": {
          "model_module": "@jupyter-widgets/base",
          "model_module_version": "1.2.0",
          "model_name": "LayoutModel",
          "state": {
            "_model_module": "@jupyter-widgets/base",
            "_model_module_version": "1.2.0",
            "_model_name": "LayoutModel",
            "_view_count": null,
            "_view_module": "@jupyter-widgets/base",
            "_view_module_version": "1.2.0",
            "_view_name": "LayoutView",
            "align_content": null,
            "align_items": null,
            "align_self": null,
            "border": null,
            "bottom": null,
            "display": null,
            "flex": null,
            "flex_flow": null,
            "grid_area": null,
            "grid_auto_columns": null,
            "grid_auto_flow": null,
            "grid_auto_rows": null,
            "grid_column": null,
            "grid_gap": null,
            "grid_row": null,
            "grid_template_areas": null,
            "grid_template_columns": null,
            "grid_template_rows": null,
            "height": null,
            "justify_content": null,
            "justify_items": null,
            "left": null,
            "margin": null,
            "max_height": null,
            "max_width": null,
            "min_height": null,
            "min_width": null,
            "object_fit": null,
            "object_position": null,
            "order": null,
            "overflow": null,
            "overflow_x": null,
            "overflow_y": null,
            "padding": null,
            "right": null,
            "top": null,
            "visibility": null,
            "width": null
          }
        },
        "42606ee94b0241ecb160a49ea2dab018": {
          "model_module": "@jupyter-widgets/controls",
          "model_module_version": "1.5.0",
          "model_name": "HBoxModel",
          "state": {
            "_dom_classes": [],
            "_model_module": "@jupyter-widgets/controls",
            "_model_module_version": "1.5.0",
            "_model_name": "HBoxModel",
            "_view_count": null,
            "_view_module": "@jupyter-widgets/controls",
            "_view_module_version": "1.5.0",
            "_view_name": "HBoxView",
            "box_style": "",
            "children": [
              "IPY_MODEL_c6ac730baf9c4b2eae4769b4d69746d2",
              "IPY_MODEL_dddb285919e44b5194399bbb30938739",
              "IPY_MODEL_773ee1519448403ebaddaa8ef27ab13b"
            ],
            "layout": "IPY_MODEL_5202916bc9334b9aa6c4d49dd6eb551e"
          }
        },
        "5202916bc9334b9aa6c4d49dd6eb551e": {
          "model_module": "@jupyter-widgets/base",
          "model_module_version": "1.2.0",
          "model_name": "LayoutModel",
          "state": {
            "_model_module": "@jupyter-widgets/base",
            "_model_module_version": "1.2.0",
            "_model_name": "LayoutModel",
            "_view_count": null,
            "_view_module": "@jupyter-widgets/base",
            "_view_module_version": "1.2.0",
            "_view_name": "LayoutView",
            "align_content": null,
            "align_items": null,
            "align_self": null,
            "border": null,
            "bottom": null,
            "display": null,
            "flex": null,
            "flex_flow": null,
            "grid_area": null,
            "grid_auto_columns": null,
            "grid_auto_flow": null,
            "grid_auto_rows": null,
            "grid_column": null,
            "grid_gap": null,
            "grid_row": null,
            "grid_template_areas": null,
            "grid_template_columns": null,
            "grid_template_rows": null,
            "height": null,
            "justify_content": null,
            "justify_items": null,
            "left": null,
            "margin": null,
            "max_height": null,
            "max_width": null,
            "min_height": null,
            "min_width": null,
            "object_fit": null,
            "object_position": null,
            "order": null,
            "overflow": null,
            "overflow_x": null,
            "overflow_y": null,
            "padding": null,
            "right": null,
            "top": null,
            "visibility": "hidden",
            "width": null
          }
        },
        "773ee1519448403ebaddaa8ef27ab13b": {
          "model_module": "@jupyter-widgets/controls",
          "model_module_version": "1.5.0",
          "model_name": "HTMLModel",
          "state": {
            "_dom_classes": [],
            "_model_module": "@jupyter-widgets/controls",
            "_model_module_version": "1.5.0",
            "_model_name": "HTMLModel",
            "_view_count": null,
            "_view_module": "@jupyter-widgets/controls",
            "_view_module_version": "1.5.0",
            "_view_name": "HTMLView",
            "description": "",
            "description_tooltip": null,
            "layout": "IPY_MODEL_1b24666f8d3e4adeb795beeb4bf01114",
            "placeholder": "​",
            "style": "IPY_MODEL_b7338dcb62734de6bd1e7ad52eb688bc",
            "value": " 0/3 [00:00&lt;?, ?it/s]"
          }
        },
        "871945d70d5a438db9cf4e963dcf9604": {
          "model_module": "@jupyter-widgets/controls",
          "model_module_version": "1.5.0",
          "model_name": "DescriptionStyleModel",
          "state": {
            "_model_module": "@jupyter-widgets/controls",
            "_model_module_version": "1.5.0",
            "_model_name": "DescriptionStyleModel",
            "_view_count": null,
            "_view_module": "@jupyter-widgets/base",
            "_view_module_version": "1.2.0",
            "_view_name": "StyleView",
            "description_width": ""
          }
        },
        "b7338dcb62734de6bd1e7ad52eb688bc": {
          "model_module": "@jupyter-widgets/controls",
          "model_module_version": "1.5.0",
          "model_name": "DescriptionStyleModel",
          "state": {
            "_model_module": "@jupyter-widgets/controls",
            "_model_module_version": "1.5.0",
            "_model_name": "DescriptionStyleModel",
            "_view_count": null,
            "_view_module": "@jupyter-widgets/base",
            "_view_module_version": "1.2.0",
            "_view_name": "StyleView",
            "description_width": ""
          }
        },
        "c60aa63ae194458a97a50b026ababcc7": {
          "model_module": "@jupyter-widgets/base",
          "model_module_version": "1.2.0",
          "model_name": "LayoutModel",
          "state": {
            "_model_module": "@jupyter-widgets/base",
            "_model_module_version": "1.2.0",
            "_model_name": "LayoutModel",
            "_view_count": null,
            "_view_module": "@jupyter-widgets/base",
            "_view_module_version": "1.2.0",
            "_view_name": "LayoutView",
            "align_content": null,
            "align_items": null,
            "align_self": null,
            "border": null,
            "bottom": null,
            "display": null,
            "flex": null,
            "flex_flow": null,
            "grid_area": null,
            "grid_auto_columns": null,
            "grid_auto_flow": null,
            "grid_auto_rows": null,
            "grid_column": null,
            "grid_gap": null,
            "grid_row": null,
            "grid_template_areas": null,
            "grid_template_columns": null,
            "grid_template_rows": null,
            "height": null,
            "justify_content": null,
            "justify_items": null,
            "left": null,
            "margin": null,
            "max_height": null,
            "max_width": null,
            "min_height": null,
            "min_width": null,
            "object_fit": null,
            "object_position": null,
            "order": null,
            "overflow": null,
            "overflow_x": null,
            "overflow_y": null,
            "padding": null,
            "right": null,
            "top": null,
            "visibility": null,
            "width": null
          }
        },
        "c6ac730baf9c4b2eae4769b4d69746d2": {
          "model_module": "@jupyter-widgets/controls",
          "model_module_version": "1.5.0",
          "model_name": "HTMLModel",
          "state": {
            "_dom_classes": [],
            "_model_module": "@jupyter-widgets/controls",
            "_model_module_version": "1.5.0",
            "_model_name": "HTMLModel",
            "_view_count": null,
            "_view_module": "@jupyter-widgets/controls",
            "_view_module_version": "1.5.0",
            "_view_name": "HTMLView",
            "description": "",
            "description_tooltip": null,
            "layout": "IPY_MODEL_c60aa63ae194458a97a50b026ababcc7",
            "placeholder": "​",
            "style": "IPY_MODEL_871945d70d5a438db9cf4e963dcf9604",
            "value": "Processing:   0%"
          }
        },
        "dddb285919e44b5194399bbb30938739": {
          "model_module": "@jupyter-widgets/controls",
          "model_module_version": "1.5.0",
          "model_name": "FloatProgressModel",
          "state": {
            "_dom_classes": [],
            "_model_module": "@jupyter-widgets/controls",
            "_model_module_version": "1.5.0",
            "_model_name": "FloatProgressModel",
            "_view_count": null,
            "_view_module": "@jupyter-widgets/controls",
            "_view_module_version": "1.5.0",
            "_view_name": "ProgressView",
            "bar_style": "",
            "description": "",
            "description_tooltip": null,
            "layout": "IPY_MODEL_ee9ae68a19e44864a4cb0a18dca54bcd",
            "max": 3,
            "min": 0,
            "orientation": "horizontal",
            "style": "IPY_MODEL_0ac15060eb9d40c296af64960125871b",
            "value": 3
          }
        },
        "ee9ae68a19e44864a4cb0a18dca54bcd": {
          "model_module": "@jupyter-widgets/base",
          "model_module_version": "1.2.0",
          "model_name": "LayoutModel",
          "state": {
            "_model_module": "@jupyter-widgets/base",
            "_model_module_version": "1.2.0",
            "_model_name": "LayoutModel",
            "_view_count": null,
            "_view_module": "@jupyter-widgets/base",
            "_view_module_version": "1.2.0",
            "_view_name": "LayoutView",
            "align_content": null,
            "align_items": null,
            "align_self": null,
            "border": null,
            "bottom": null,
            "display": null,
            "flex": null,
            "flex_flow": null,
            "grid_area": null,
            "grid_auto_columns": null,
            "grid_auto_flow": null,
            "grid_auto_rows": null,
            "grid_column": null,
            "grid_gap": null,
            "grid_row": null,
            "grid_template_areas": null,
            "grid_template_columns": null,
            "grid_template_rows": null,
            "height": null,
            "justify_content": null,
            "justify_items": null,
            "left": null,
            "margin": null,
            "max_height": null,
            "max_width": null,
            "min_height": null,
            "min_width": null,
            "object_fit": null,
            "object_position": null,
            "order": null,
            "overflow": null,
            "overflow_x": null,
            "overflow_y": null,
            "padding": null,
            "right": null,
            "top": null,
            "visibility": null,
            "width": null
          }
        }
      }
    }
  },
  "nbformat": 4,
  "nbformat_minor": 0
}
