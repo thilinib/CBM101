{
 "cells": [
  {
   "cell_type": "markdown",
   "metadata": {
    "id": "Xy-4DU789nRu"
   },
   "source": [
    "## Unsupervised Learning in Machine Learning - Clustering\n",
    "\n",
    "In this notebook you will get familiar with K means clustering algorithm using PyCaret python package with preprocessed \"Pima Indians Diabetes Database\" dataset.\n",
    "\n",
    "\n",
    "**Please create a report by addressing the provided questions(Q1-Q5) throughout the notebook.**"
   ]
  },
  {
   "cell_type": "markdown",
   "metadata": {
    "id": "SJvT-yfU9-_E"
   },
   "source": [
    "## Import libraries"
   ]
  },
  {
   "cell_type": "markdown",
   "metadata": {
    "id": "-PX3hXeM-KGJ"
   },
   "source": [
    "The following code should be adapted if you run this on your laptop. You should already have a conda environment where you have installed pycaret so you can skip the pip install step (comment it out or remove cell). Change also the path (and file name) to load your preprocessed data."
   ]
  },
  {
   "cell_type": "code",
   "execution_count": null,
   "metadata": {
    "colab": {
     "base_uri": "https://localhost:8080/"
    },
    "id": "a8IehKmCyAAd",
    "outputId": "c7a6a4b8-bf30-4411-941d-f21eccfd3a17"
   },
   "outputs": [],
   "source": [
    "!pip install joblib==1.3.0"
   ]
  },
  {
   "cell_type": "code",
   "execution_count": null,
   "metadata": {
    "colab": {
     "base_uri": "https://localhost:8080/"
    },
    "id": "DMl5JWW7-HGN",
    "outputId": "bed809d8-61d5-43d9-f4f6-eac393adb91e"
   },
   "outputs": [],
   "source": [
    "!pip install pycaret # install pycaret this way if you are running this notebook in google colab environment."
   ]
  },
  {
   "cell_type": "code",
   "execution_count": null,
   "metadata": {
    "id": "VupHIXxoz1nk"
   },
   "outputs": [],
   "source": [
    "from pycaret.clustering import * #importing pycaret clustering module\n",
    "import plotly.express as px\n",
    "\n",
    "import pandas as pd\n",
    "\n",
    "from matplotlib import pyplot as plt\n",
    "import seaborn as sns"
   ]
  },
  {
   "cell_type": "code",
   "execution_count": null,
   "metadata": {
    "id": "SVy-Jr2iz1nl"
   },
   "outputs": [],
   "source": [
    "# load the preprocessed data\n",
    "\n",
    "url = \"https://raw.githubusercontent.com/thilinib/CBM101/main/E_Macine_Learning/data/preprocessed_diabetes.csv\"\n",
    "df = pd.read_csv(url)"
   ]
  },
  {
   "cell_type": "code",
   "execution_count": null,
   "metadata": {
    "colab": {
     "base_uri": "https://localhost:8080/"
    },
    "id": "E0lq_SG2z1nl",
    "outputId": "a9f4c97a-45f2-435e-af70-e20ee82fad99"
   },
   "outputs": [],
   "source": [
    "# check the shape of the preprocessed data\n",
    "df.shape"
   ]
  },
  {
   "cell_type": "code",
   "execution_count": null,
   "metadata": {
    "colab": {
     "base_uri": "https://localhost:8080/",
     "height": 206
    },
    "id": "c2MYVFUNz1nl",
    "outputId": "96a04aab-6a72-4217-e452-a4d6d47b8ee8"
   },
   "outputs": [],
   "source": [
    "# check how preprocessed data looks like\n",
    "df.head()"
   ]
  },
  {
   "cell_type": "markdown",
   "metadata": {
    "id": "TvdNL5a4z1nn"
   },
   "source": [
    "As you may remember, you have 8 measurement features and one column specifying the outcome. Let's try to cluster this data considering all measured features.\n",
    "\n",
    "You have already explored the data by plotting it along axis that show two features, e.g. with the seaborn scatterplot. Below, is an example plot of Insulin vs Glucose.\n",
    "\n",
    "After we cluster the data, we would like to know whether the clusters are separating in the high-dimensional (in this data 8-dimensional) feature space. For that purpose we will apply dimensionality reduction methods, including PCA, t-SNE and UMAP to visualize clustering results and examine how they relate to the outcome variable."
   ]
  },
  {
   "cell_type": "code",
   "execution_count": null,
   "metadata": {
    "colab": {
     "base_uri": "https://localhost:8080/",
     "height": 520
    },
    "id": "3V28YStNz1nn",
    "outputId": "586a4cd5-3672-442d-ffc8-cf4f0d4d5cf9"
   },
   "outputs": [],
   "source": [
    "sns.scatterplot(data=df, x=df.Insulin, y=df.Glucose, hue=df.Outcome, palette='viridis')"
   ]
  },
  {
   "cell_type": "markdown",
   "metadata": {
    "id": "YS7VsQ51CAtp"
   },
   "source": [
    "#1. Setup\n",
    "Initialize PyCaret's clustering module with the dataset.\n"
   ]
  },
  {
   "cell_type": "markdown",
   "metadata": {
    "id": "iJYR1sCHz1no"
   },
   "source": [
    "Are you wondering what this function will do to your data? You should :-) The pycaret package tries to do clever things with your data. Check carefully the function description for setup and make notes about default settings.\n",
    "\n",
    "Remember also that your dataset has one column that indicates the outcome. The main goal here is to examine how the other measured features relate to outcome, specifically here we are interested to find out if the diabetic cases separate from non-diabetic using clustering-based methods. You should therefore perform clustering on those features (set parameter ignore accordingly to omit \"outcome\" feature)."
   ]
  },
  {
   "cell_type": "code",
   "execution_count": null,
   "metadata": {
    "id": "uyUs5-G6z1no"
   },
   "outputs": [],
   "source": [
    "?setup"
   ]
  },
  {
   "cell_type": "code",
   "execution_count": null,
   "metadata": {
    "colab": {
     "base_uri": "https://localhost:8080/",
     "height": 488
    },
    "id": "-mG31sczz1nn",
    "outputId": "5eff5d04-ecb2-491e-e503-bd7d93ad630d"
   },
   "outputs": [],
   "source": [
    "s = setup(df, ignore_features='Outcome')"
   ]
  },
  {
   "cell_type": "markdown",
   "metadata": {
    "id": "z8Xtg8iYF-ng"
   },
   "source": [
    "**Q1**\n",
    "\n",
    "> Why we need to call setup function and what are the key pre-processing tasks automatically performed by PyCaret?\n",
    "\n"
   ]
  },
  {
   "cell_type": "markdown",
   "metadata": {
    "id": "znZYk1PMD4Y1"
   },
   "source": [
    "Get all the clustering models list"
   ]
  },
  {
   "cell_type": "code",
   "execution_count": null,
   "metadata": {
    "colab": {
     "base_uri": "https://localhost:8080/",
     "height": 332
    },
    "id": "Rbh4HbBOD-UU",
    "outputId": "48c149e1-ee04-40d8-c85e-5d0d90577523"
   },
   "outputs": [],
   "source": [
    "models()"
   ]
  },
  {
   "cell_type": "markdown",
   "metadata": {
    "id": "TvKLyr4hGNpF"
   },
   "source": [
    "#2. Create a k-means model\n"
   ]
  },
  {
   "cell_type": "code",
   "execution_count": null,
   "metadata": {
    "colab": {
     "base_uri": "https://localhost:8080/",
     "height": 81,
     "referenced_widgets": [
      "a81a623ff8e34479b58f5523d9638108",
      "32f1f8f200704a71a59a76dccb87c76c",
      "ba446f4f4a324a729fb0fd4e92c9622d",
      "2ff40817bcb34eed9ade33951a438ff7",
      "4a8ba65b89d4490495439516ea303067",
      "4f020d0d433e4025a12f9b7ec7e1ca99",
      "a98d2529c99b434b9c0eb909817e76f1",
      "f06e530248bd4f48a0c6a93ee70b20eb",
      "2d35b5d9fd7e4e5e9e5ec323c168da63",
      "0a38734bd7494261a4e8be8e42376774",
      "de99c0a766d240e79b3fab5f56d6a265"
     ]
    },
    "id": "JKeNXb9lz1no",
    "outputId": "764503e3-45d1-4d30-e298-ed80f29dae49"
   },
   "outputs": [],
   "source": [
    "kmeans = create_model('kmeans')"
   ]
  },
  {
   "cell_type": "markdown",
   "metadata": {
    "id": "IHGOM1vzI1JJ"
   },
   "source": [
    "**Q2**\n",
    "\n",
    "> When creating a clustering model, such as K-Means clustering using PyCaret's create_model() function, what value for k is used by default? What metrics and values are returned as part of the model creation process?\n",
    "\n"
   ]
  },
  {
   "cell_type": "markdown",
   "metadata": {
    "id": "wg5B26ieh0yK"
   },
   "source": [
    "You can try to create other clustering models like ap, hclust etc. and compare the metrics scores."
   ]
  },
  {
   "cell_type": "markdown",
   "metadata": {
    "id": "hFm5w-ouiTmq"
   },
   "source": [
    "#3. Analyze the model"
   ]
  },
  {
   "cell_type": "code",
   "execution_count": null,
   "metadata": {
    "colab": {
     "base_uri": "https://localhost:8080/",
     "height": 205,
     "referenced_widgets": [
      "5608f66fc9dc4e6ea4d22eaf7d454bb9",
      "252cde1e997c4cb1a2335b25bf92b42e",
      "89303adccbcb453ab664099cf74fe815",
      "c8b2bf77d0c64daa91c64604ca4287ce",
      "e4d2340956054798a99aeb2db23b0b16",
      "46fd55cf5cf84632b7b9e59eb09f6119",
      "fa95b53ecc284842850ceaac09bf3666"
     ]
    },
    "id": "i-DdF3fce1Y0",
    "outputId": "ba67d1c7-63a8-489d-905d-f132ab9db2d2"
   },
   "outputs": [],
   "source": [
    "#This function analyzes the performance of the trained model.\n",
    "\n",
    "evaluate_model(kmeans)\n"
   ]
  },
  {
   "cell_type": "markdown",
   "metadata": {
    "id": "aqANFQ93hGPS"
   },
   "source": [
    "You can also use the `plot_model` function to generate plots individually."
   ]
  },
  {
   "cell_type": "code",
   "execution_count": null,
   "metadata": {
    "id": "ZI_lXdnhg5FO"
   },
   "outputs": [],
   "source": [
    "?plot_model"
   ]
  },
  {
   "cell_type": "code",
   "execution_count": null,
   "metadata": {
    "colab": {
     "base_uri": "https://localhost:8080/",
     "height": 524
    },
    "id": "c-chAbSSz1no",
    "outputId": "de36382e-d119-493e-f64b-a20ed1649d0e",
    "scrolled": true
   },
   "outputs": [],
   "source": [
    "plot_model(kmeans, plot = 'silhouette')"
   ]
  },
  {
   "cell_type": "code",
   "execution_count": null,
   "metadata": {
    "colab": {
     "base_uri": "https://localhost:8080/",
     "height": 524
    },
    "id": "k1t_gX9Jz1no",
    "outputId": "e9127f0e-f125-4a37-9944-6cd8efe80882",
    "scrolled": true
   },
   "outputs": [],
   "source": [
    "plot_model(kmeans, plot = 'elbow')"
   ]
  },
  {
   "cell_type": "markdown",
   "metadata": {
    "id": "W8cHgAoHkp4d"
   },
   "source": [
    "**Q3**\n",
    "\n",
    "> What is the plot suggesting could be a good cluster number? Justify your answer.\n",
    "\n"
   ]
  },
  {
   "cell_type": "code",
   "execution_count": null,
   "metadata": {
    "colab": {
     "base_uri": "https://localhost:8080/"
    },
    "id": "fIbzpSCTz1no",
    "outputId": "736a3ae3-ab73-4e57-93b6-87b3a96ea3c2"
   },
   "outputs": [],
   "source": [
    "centroids = kmeans.cluster_centers_\n",
    "centroids"
   ]
  },
  {
   "cell_type": "code",
   "execution_count": null,
   "metadata": {
    "colab": {
     "base_uri": "https://localhost:8080/",
     "height": 617
    },
    "id": "weANRBx-z1no",
    "outputId": "f168b191-13ee-43a4-93c2-5b9f02662d4a",
    "scrolled": true
   },
   "outputs": [],
   "source": [
    "plot_model(kmeans, plot = 'cluster') #plot PCA"
   ]
  },
  {
   "cell_type": "code",
   "execution_count": null,
   "metadata": {
    "colab": {
     "base_uri": "https://localhost:8080/",
     "height": 617
    },
    "id": "Evt7dprTz1no",
    "outputId": "30ef8854-216e-40a3-de72-bb2bc202424b"
   },
   "outputs": [],
   "source": [
    "plot_model(kmeans, plot = 'distribution')"
   ]
  },
  {
   "cell_type": "markdown",
   "metadata": {
    "id": "LsBJdGLbngrZ"
   },
   "source": [
    "PyCaret generates distribution plots to visualize the distribution of data points within each cluster.\n",
    "\n",
    "Distribution plots help in understanding,\n",
    "* how the data points are distributed within each cluster.\n",
    "* potential outliers or anomalies within cluster.\n",
    "* the density of data points within each cluster.\n",
    "* similar or dissimilar characteristics among clusters."
   ]
  },
  {
   "cell_type": "code",
   "execution_count": null,
   "metadata": {
    "colab": {
     "base_uri": "https://localhost:8080/",
     "height": 617
    },
    "id": "XOap5QQWz1no",
    "outputId": "c3beb350-f980-4337-b3a6-987a50ca092a"
   },
   "outputs": [],
   "source": [
    "plot_model(kmeans, plot = 'distribution', feature=\"Glucose\")"
   ]
  },
  {
   "cell_type": "markdown",
   "metadata": {
    "id": "BYR6yRsrpbwp"
   },
   "source": [
    "**Q4**\n",
    "\n",
    "> What information you can get from the above distribution plot?\n",
    "\n"
   ]
  },
  {
   "cell_type": "markdown",
   "metadata": {
    "id": "cagJZEw7z1nv"
   },
   "source": [
    "From the above plot we can see the feature ranges are quite different. As there are different scales in the features of the dataset, so there is definitely a need to normalize the dataset to ensure a better result.  Let's try what effect this has!\n",
    "\n",
    "We can use normalize=True in setup()\n"
   ]
  },
  {
   "cell_type": "code",
   "execution_count": null,
   "metadata": {
    "colab": {
     "base_uri": "https://localhost:8080/",
     "height": 551
    },
    "id": "7vcdjyhyz1nv",
    "outputId": "df025fbe-d1d6-49df-c2c1-f41b35898441"
   },
   "outputs": [],
   "source": [
    "s = setup(df, normalize=True, ignore_features='Outcome')"
   ]
  },
  {
   "cell_type": "markdown",
   "metadata": {
    "id": "e6BOTqV_jqyC"
   },
   "source": [
    "# Clustering with normalized dataset"
   ]
  },
  {
   "cell_type": "code",
   "execution_count": null,
   "metadata": {
    "colab": {
     "base_uri": "https://localhost:8080/",
     "height": 81,
     "referenced_widgets": [
      "a6081576a5e24e92890fdd9a8e33494a",
      "30dc9f8b7b1141f0a0de90a4122e67fd",
      "b95edb5464b64a9ea43c73c58eb8ce11",
      "de03701e91b84e41b1f2f60144a314e0",
      "eaa024c1d88f4776a16fa8248aadd15e",
      "bf70b6043d9347f682e7230724a107be",
      "c9b45ca1debe4e29aaed6bad267d1cb4",
      "03f955f283e14e97a9aeb0e2842e5b5a",
      "f8162c9398cd442cb78caadb4851e324",
      "91aabc24a1b944e6bc8a2598917ed9a0",
      "240cc68d958d4af3821da39dfb7c1da1"
     ]
    },
    "id": "1lTutSy_0JZ-",
    "outputId": "571efd34-823b-4f60-9c1c-20403515a4a9"
   },
   "outputs": [],
   "source": [
    "kmeans_4 = create_model('kmeans')"
   ]
  },
  {
   "cell_type": "code",
   "execution_count": null,
   "metadata": {
    "colab": {
     "base_uri": "https://localhost:8080/",
     "height": 524
    },
    "id": "uylyWdhO0JZ_",
    "outputId": "ca1e7640-52cc-415d-fcb4-ec8ba16fddf0"
   },
   "outputs": [],
   "source": [
    "plot_model(kmeans_4, plot = 'silhouette')"
   ]
  },
  {
   "cell_type": "code",
   "execution_count": null,
   "metadata": {
    "colab": {
     "base_uri": "https://localhost:8080/"
    },
    "id": "CiIy7tPE0JZ_",
    "outputId": "8b368888-3be0-45a6-d932-154d14cc5d55"
   },
   "outputs": [],
   "source": [
    "centroids = kmeans_4.cluster_centers_\n",
    "centroids"
   ]
  },
  {
   "cell_type": "code",
   "execution_count": null,
   "metadata": {
    "colab": {
     "base_uri": "https://localhost:8080/",
     "height": 617
    },
    "id": "5xRXZmKZ0JZ_",
    "outputId": "ad025fec-bc76-42d4-8336-94a95e4c5404"
   },
   "outputs": [],
   "source": [
    "plot_model(kmeans_4, plot = 'cluster')"
   ]
  },
  {
   "cell_type": "code",
   "execution_count": null,
   "metadata": {
    "colab": {
     "base_uri": "https://localhost:8080/",
     "height": 617
    },
    "id": "nL_GMlTb0JZ_",
    "outputId": "dfbf60cb-ace0-4fa1-f114-8683a87571c2"
   },
   "outputs": [],
   "source": [
    "plot_model(kmeans_4, plot = 'distribution', feature=\"Glucose\")"
   ]
  },
  {
   "cell_type": "code",
   "execution_count": null,
   "metadata": {
    "colab": {
     "base_uri": "https://localhost:8080/",
     "height": 617
    },
    "id": "_4kLxk0E0JZ_",
    "outputId": "0f5751c5-07e0-43a8-faff-e3b7d7ebf041"
   },
   "outputs": [],
   "source": [
    "plot_model(kmeans_4, plot = 'distribution', feature=\"Insulin\")"
   ]
  },
  {
   "cell_type": "markdown",
   "metadata": {
    "id": "6Vy04peMszUn"
   },
   "source": [
    "Upto now you have worked with a linear clustering method - Kmeans.\n",
    "When we're trying to group our data points into clusters, sometimes the relationships between them are simple and straight, like connecting dots with lines. As we mentioned in the clustering moodle book, that's where K-means clustering comes in. It's great at finding these *straight-line patterns*.\n",
    "\n",
    "But what if our data is more like a tangled web of connections, with curves and twists, we need to use non-linear clustering methods like Mean Shift, DBSCAN, and OPTICS.\n",
    "You can try the other clustering methods and see how they make clusters.\n",
    "\n",
    "As we discussed under dimensionality reduction section in clustering moodle book, when we want to take a big jumble of data and shrink it down into a simpler picture, we use non-linear techniques like t-SNE and UMAP. They're tools that can preserve non-linear relationships between points while making everything easier to understand. Let's plot also these visualisations."
   ]
  },
  {
   "cell_type": "code",
   "execution_count": null,
   "metadata": {
    "colab": {
     "base_uri": "https://localhost:8080/",
     "height": 817
    },
    "id": "97VCmw_z0JZ_",
    "outputId": "d7047b64-4ac9-43d0-a318-6d28cee55178"
   },
   "outputs": [],
   "source": [
    "plot_model(kmeans_4, plot = 'tsne')"
   ]
  },
  {
   "cell_type": "code",
   "execution_count": null,
   "metadata": {
    "colab": {
     "base_uri": "https://localhost:8080/"
    },
    "id": "SP2zajKm0ulA",
    "outputId": "e1e1c842-662c-4b15-bb4b-0cae436b3aae"
   },
   "outputs": [],
   "source": [
    "!pip install umap-learn\n"
   ]
  },
  {
   "cell_type": "code",
   "execution_count": null,
   "metadata": {
    "colab": {
     "base_uri": "https://localhost:8080/"
    },
    "id": "xeG99cVZ0JZ_",
    "outputId": "41f037b1-6b26-44e7-8bd8-6a2b0253ad04"
   },
   "outputs": [],
   "source": [
    "import umap\n",
    "reducer = umap.UMAP()\n",
    "embedding = reducer.fit_transform(df)\n",
    "pred_4 = kmeans_4.labels_\n",
    "pred_4"
   ]
  },
  {
   "cell_type": "code",
   "execution_count": null,
   "metadata": {
    "colab": {
     "base_uri": "https://localhost:8080/",
     "height": 504
    },
    "id": "eeIJTZV70JaA",
    "outputId": "93d0f7a7-f777-4f02-89d3-36a8c59e5c9c"
   },
   "outputs": [],
   "source": [
    "sns.scatterplot(x=embedding[:, 0], y= embedding[:, 1], hue=df.Outcome)\n",
    "plt.title('UMAP projection of the dataset', fontsize=12);"
   ]
  },
  {
   "cell_type": "code",
   "execution_count": null,
   "metadata": {
    "colab": {
     "base_uri": "https://localhost:8080/",
     "height": 504
    },
    "id": "w1ZSfdIE0JaA",
    "outputId": "1b5f09a5-888d-422d-d30f-72ef35b96076"
   },
   "outputs": [],
   "source": [
    "sns.scatterplot(x=embedding[:, 0], y= embedding[:, 1], hue=pred_4)\n",
    "plt.title('UMAP projection of the dataset', fontsize=12);"
   ]
  },
  {
   "cell_type": "markdown",
   "metadata": {
    "id": "6b57Ns1djUhu"
   },
   "source": [
    "# Clustering with pre-defined cluster count"
   ]
  },
  {
   "cell_type": "markdown",
   "metadata": {
    "id": "1erHuiMVjG_7"
   },
   "source": [
    "Now let's try to plot with defining the cluster number as 2. (Our true Outcome column has 0 and 1 values.)"
   ]
  },
  {
   "cell_type": "code",
   "execution_count": null,
   "metadata": {
    "colab": {
     "base_uri": "https://localhost:8080/",
     "height": 81,
     "referenced_widgets": [
      "f538c7be893a40638c8fea0f70fb04e5",
      "876f30ff80de488cbd6e7c8de5b23b3e",
      "82c6271f37454713a06dcb44004874c8",
      "89b7fb8c99554b589997c189f376e52d",
      "928a3a2553534a6b8408e36756d77295",
      "c3acc62dc1344f9da222e66cae86b55b",
      "27bbaa7ae91d4e39be02a843a956fcc3",
      "65399c8fb35b4914b7b46b4722d0695e",
      "437cf75b00434c7296a719187192e47e",
      "4069bcdf928a4fa79a4f0f5bec4eba70",
      "57f0123e2b8544b1853ea48a4fbcfb42"
     ]
    },
    "id": "QtX8tez6z1nv",
    "outputId": "21978e6b-caf5-414f-ed3e-45f561931899"
   },
   "outputs": [],
   "source": [
    "kmeans = create_model('kmeans', num_clusters=2)"
   ]
  },
  {
   "cell_type": "code",
   "execution_count": null,
   "metadata": {
    "colab": {
     "base_uri": "https://localhost:8080/",
     "height": 524
    },
    "id": "e5o4BTTNz1nw",
    "outputId": "953f0c65-f4a2-42e1-f3da-5a38731621a1"
   },
   "outputs": [],
   "source": [
    "plot_model(kmeans, plot = 'silhouette')"
   ]
  },
  {
   "cell_type": "code",
   "execution_count": null,
   "metadata": {
    "colab": {
     "base_uri": "https://localhost:8080/"
    },
    "id": "86d4TRR0z1nw",
    "outputId": "57b30215-a985-4ce5-823b-c9faa121a139"
   },
   "outputs": [],
   "source": [
    "centroids = kmeans.cluster_centers_\n",
    "centroids"
   ]
  },
  {
   "cell_type": "code",
   "execution_count": null,
   "metadata": {
    "colab": {
     "base_uri": "https://localhost:8080/",
     "height": 617
    },
    "id": "X_c38AXMz1nw",
    "outputId": "5532e9cf-5434-4db6-d20c-a1cd8f872e3d"
   },
   "outputs": [],
   "source": [
    "plot_model(kmeans, plot = 'cluster')"
   ]
  },
  {
   "cell_type": "code",
   "execution_count": null,
   "metadata": {
    "colab": {
     "base_uri": "https://localhost:8080/",
     "height": 617
    },
    "id": "ftEGrI7yz1nw",
    "outputId": "26c92416-5275-4ede-d55f-99a134b2fc43"
   },
   "outputs": [],
   "source": [
    "plot_model(kmeans, plot = 'distribution', feature=\"Glucose\")"
   ]
  },
  {
   "cell_type": "code",
   "execution_count": null,
   "metadata": {
    "colab": {
     "base_uri": "https://localhost:8080/",
     "height": 617
    },
    "id": "3v3WAPE3z1nw",
    "outputId": "ffe6d42f-d6d0-4933-8b27-5addfab48a71"
   },
   "outputs": [],
   "source": [
    "plot_model(kmeans, plot = 'distribution', feature=\"Insulin\")"
   ]
  },
  {
   "cell_type": "code",
   "execution_count": null,
   "metadata": {
    "colab": {
     "base_uri": "https://localhost:8080/",
     "height": 817
    },
    "id": "9E4fgaziz1nw",
    "outputId": "01703a73-3295-4375-d91b-18c8a97b5bf4"
   },
   "outputs": [],
   "source": [
    "plot_model(kmeans, plot = 'tsne')"
   ]
  },
  {
   "cell_type": "code",
   "execution_count": null,
   "metadata": {
    "colab": {
     "base_uri": "https://localhost:8080/"
    },
    "id": "DJvq2aJqswno",
    "outputId": "c717b4ed-633e-444b-bab5-03307691126f"
   },
   "outputs": [],
   "source": [
    "!pip install umap-learn"
   ]
  },
  {
   "cell_type": "code",
   "execution_count": null,
   "metadata": {
    "id": "xNjtwJOQrp0Q"
   },
   "outputs": [],
   "source": [
    "import umap\n",
    "reducer = umap.UMAP()\n",
    "embedding = reducer.fit_transform(df)\n",
    "pred = kmeans.labels_\n"
   ]
  },
  {
   "cell_type": "code",
   "execution_count": null,
   "metadata": {
    "colab": {
     "base_uri": "https://localhost:8080/"
    },
    "id": "YgV4k_aCtHBG",
    "outputId": "98035076-93a8-4ce0-c114-29f21994e143"
   },
   "outputs": [],
   "source": [
    "pred"
   ]
  },
  {
   "cell_type": "code",
   "execution_count": null,
   "metadata": {
    "colab": {
     "base_uri": "https://localhost:8080/",
     "height": 504
    },
    "id": "wEcRAf2EsuTp",
    "outputId": "5fc071e1-98fc-40c5-f92b-9724edf15dab"
   },
   "outputs": [],
   "source": [
    "sns.scatterplot(x=embedding[:, 0], y= embedding[:, 1], hue=df.Outcome)\n",
    "plt.title('UMAP projection of the dataset', fontsize=12);"
   ]
  },
  {
   "cell_type": "code",
   "execution_count": null,
   "metadata": {
    "colab": {
     "base_uri": "https://localhost:8080/",
     "height": 504
    },
    "id": "SUJpPo-StXgV",
    "outputId": "a1dcd761-4259-4b0f-a6eb-670d952d09ac"
   },
   "outputs": [],
   "source": [
    "sns.scatterplot(x=embedding[:, 0], y= embedding[:, 1], hue=pred)\n",
    "plt.title('UMAP projection of the dataset', fontsize=12);"
   ]
  },
  {
   "cell_type": "markdown",
   "metadata": {
    "id": "Su7MPFc9tiPb"
   },
   "source": [
    "**Q5**\n",
    "\n",
    "> What can you say about glucose and insulin distribution within different clusters? Have you noticed any specific tendencies? Do you consider these results biologically relevant? Please justify your answers.\n"
   ]
  }
 ],
 "metadata": {
  "colab": {
   "provenance": []
  },
  "kernelspec": {
   "display_name": "Python 3 (ipykernel)",
   "language": "python",
   "name": "python3"
  },
  "language_info": {
   "codemirror_mode": {
    "name": "ipython",
    "version": 3
   },
   "file_extension": ".py",
   "mimetype": "text/x-python",
   "name": "python",
   "nbconvert_exporter": "python",
   "pygments_lexer": "ipython3",
   "version": "3.11.5"
  },
  "widgets": {
   "application/vnd.jupyter.widget-state+json": {
    "03f955f283e14e97a9aeb0e2842e5b5a": {
     "model_module": "@jupyter-widgets/base",
     "model_module_version": "1.2.0",
     "model_name": "LayoutModel",
     "state": {
      "_model_module": "@jupyter-widgets/base",
      "_model_module_version": "1.2.0",
      "_model_name": "LayoutModel",
      "_view_count": null,
      "_view_module": "@jupyter-widgets/base",
      "_view_module_version": "1.2.0",
      "_view_name": "LayoutView",
      "align_content": null,
      "align_items": null,
      "align_self": null,
      "border": null,
      "bottom": null,
      "display": null,
      "flex": null,
      "flex_flow": null,
      "grid_area": null,
      "grid_auto_columns": null,
      "grid_auto_flow": null,
      "grid_auto_rows": null,
      "grid_column": null,
      "grid_gap": null,
      "grid_row": null,
      "grid_template_areas": null,
      "grid_template_columns": null,
      "grid_template_rows": null,
      "height": null,
      "justify_content": null,
      "justify_items": null,
      "left": null,
      "margin": null,
      "max_height": null,
      "max_width": null,
      "min_height": null,
      "min_width": null,
      "object_fit": null,
      "object_position": null,
      "order": null,
      "overflow": null,
      "overflow_x": null,
      "overflow_y": null,
      "padding": null,
      "right": null,
      "top": null,
      "visibility": null,
      "width": null
     }
    },
    "0a38734bd7494261a4e8be8e42376774": {
     "model_module": "@jupyter-widgets/base",
     "model_module_version": "1.2.0",
     "model_name": "LayoutModel",
     "state": {
      "_model_module": "@jupyter-widgets/base",
      "_model_module_version": "1.2.0",
      "_model_name": "LayoutModel",
      "_view_count": null,
      "_view_module": "@jupyter-widgets/base",
      "_view_module_version": "1.2.0",
      "_view_name": "LayoutView",
      "align_content": null,
      "align_items": null,
      "align_self": null,
      "border": null,
      "bottom": null,
      "display": null,
      "flex": null,
      "flex_flow": null,
      "grid_area": null,
      "grid_auto_columns": null,
      "grid_auto_flow": null,
      "grid_auto_rows": null,
      "grid_column": null,
      "grid_gap": null,
      "grid_row": null,
      "grid_template_areas": null,
      "grid_template_columns": null,
      "grid_template_rows": null,
      "height": null,
      "justify_content": null,
      "justify_items": null,
      "left": null,
      "margin": null,
      "max_height": null,
      "max_width": null,
      "min_height": null,
      "min_width": null,
      "object_fit": null,
      "object_position": null,
      "order": null,
      "overflow": null,
      "overflow_x": null,
      "overflow_y": null,
      "padding": null,
      "right": null,
      "top": null,
      "visibility": null,
      "width": null
     }
    },
    "240cc68d958d4af3821da39dfb7c1da1": {
     "model_module": "@jupyter-widgets/controls",
     "model_module_version": "1.5.0",
     "model_name": "DescriptionStyleModel",
     "state": {
      "_model_module": "@jupyter-widgets/controls",
      "_model_module_version": "1.5.0",
      "_model_name": "DescriptionStyleModel",
      "_view_count": null,
      "_view_module": "@jupyter-widgets/base",
      "_view_module_version": "1.2.0",
      "_view_name": "StyleView",
      "description_width": ""
     }
    },
    "252cde1e997c4cb1a2335b25bf92b42e": {
     "model_module": "@jupyter-widgets/controls",
     "model_module_version": "1.5.0",
     "model_name": "ToggleButtonsModel",
     "state": {
      "_dom_classes": [],
      "_model_module": "@jupyter-widgets/controls",
      "_model_module_version": "1.5.0",
      "_model_name": "ToggleButtonsModel",
      "_options_labels": [
       "Pipeline Plot",
       "t-SNE (3d) Dimension Plot",
       "Cluster t-SNE (3d)",
       "Elbow Plot",
       "Silhouette Plot",
       "Distance Plot",
       "Distribution Plot"
      ],
      "_view_count": null,
      "_view_module": "@jupyter-widgets/controls",
      "_view_module_version": "1.5.0",
      "_view_name": "ToggleButtonsView",
      "button_style": "",
      "description": "Plot Type:",
      "description_tooltip": null,
      "disabled": false,
      "icons": [
       ""
      ],
      "index": 0,
      "layout": "IPY_MODEL_e4d2340956054798a99aeb2db23b0b16",
      "style": "IPY_MODEL_46fd55cf5cf84632b7b9e59eb09f6119",
      "tooltips": []
     }
    },
    "27bbaa7ae91d4e39be02a843a956fcc3": {
     "model_module": "@jupyter-widgets/controls",
     "model_module_version": "1.5.0",
     "model_name": "DescriptionStyleModel",
     "state": {
      "_model_module": "@jupyter-widgets/controls",
      "_model_module_version": "1.5.0",
      "_model_name": "DescriptionStyleModel",
      "_view_count": null,
      "_view_module": "@jupyter-widgets/base",
      "_view_module_version": "1.2.0",
      "_view_name": "StyleView",
      "description_width": ""
     }
    },
    "2d35b5d9fd7e4e5e9e5ec323c168da63": {
     "model_module": "@jupyter-widgets/controls",
     "model_module_version": "1.5.0",
     "model_name": "ProgressStyleModel",
     "state": {
      "_model_module": "@jupyter-widgets/controls",
      "_model_module_version": "1.5.0",
      "_model_name": "ProgressStyleModel",
      "_view_count": null,
      "_view_module": "@jupyter-widgets/base",
      "_view_module_version": "1.2.0",
      "_view_name": "StyleView",
      "bar_color": null,
      "description_width": ""
     }
    },
    "2ff40817bcb34eed9ade33951a438ff7": {
     "model_module": "@jupyter-widgets/controls",
     "model_module_version": "1.5.0",
     "model_name": "HTMLModel",
     "state": {
      "_dom_classes": [],
      "_model_module": "@jupyter-widgets/controls",
      "_model_module_version": "1.5.0",
      "_model_name": "HTMLModel",
      "_view_count": null,
      "_view_module": "@jupyter-widgets/controls",
      "_view_module_version": "1.5.0",
      "_view_name": "HTMLView",
      "description": "",
      "description_tooltip": null,
      "layout": "IPY_MODEL_0a38734bd7494261a4e8be8e42376774",
      "placeholder": "​",
      "style": "IPY_MODEL_de99c0a766d240e79b3fab5f56d6a265",
      "value": " 0/3 [00:00&lt;?, ?it/s]"
     }
    },
    "30dc9f8b7b1141f0a0de90a4122e67fd": {
     "model_module": "@jupyter-widgets/controls",
     "model_module_version": "1.5.0",
     "model_name": "HTMLModel",
     "state": {
      "_dom_classes": [],
      "_model_module": "@jupyter-widgets/controls",
      "_model_module_version": "1.5.0",
      "_model_name": "HTMLModel",
      "_view_count": null,
      "_view_module": "@jupyter-widgets/controls",
      "_view_module_version": "1.5.0",
      "_view_name": "HTMLView",
      "description": "",
      "description_tooltip": null,
      "layout": "IPY_MODEL_bf70b6043d9347f682e7230724a107be",
      "placeholder": "​",
      "style": "IPY_MODEL_c9b45ca1debe4e29aaed6bad267d1cb4",
      "value": "Processing:   0%"
     }
    },
    "32f1f8f200704a71a59a76dccb87c76c": {
     "model_module": "@jupyter-widgets/controls",
     "model_module_version": "1.5.0",
     "model_name": "HTMLModel",
     "state": {
      "_dom_classes": [],
      "_model_module": "@jupyter-widgets/controls",
      "_model_module_version": "1.5.0",
      "_model_name": "HTMLModel",
      "_view_count": null,
      "_view_module": "@jupyter-widgets/controls",
      "_view_module_version": "1.5.0",
      "_view_name": "HTMLView",
      "description": "",
      "description_tooltip": null,
      "layout": "IPY_MODEL_4f020d0d433e4025a12f9b7ec7e1ca99",
      "placeholder": "​",
      "style": "IPY_MODEL_a98d2529c99b434b9c0eb909817e76f1",
      "value": "Processing:   0%"
     }
    },
    "4069bcdf928a4fa79a4f0f5bec4eba70": {
     "model_module": "@jupyter-widgets/base",
     "model_module_version": "1.2.0",
     "model_name": "LayoutModel",
     "state": {
      "_model_module": "@jupyter-widgets/base",
      "_model_module_version": "1.2.0",
      "_model_name": "LayoutModel",
      "_view_count": null,
      "_view_module": "@jupyter-widgets/base",
      "_view_module_version": "1.2.0",
      "_view_name": "LayoutView",
      "align_content": null,
      "align_items": null,
      "align_self": null,
      "border": null,
      "bottom": null,
      "display": null,
      "flex": null,
      "flex_flow": null,
      "grid_area": null,
      "grid_auto_columns": null,
      "grid_auto_flow": null,
      "grid_auto_rows": null,
      "grid_column": null,
      "grid_gap": null,
      "grid_row": null,
      "grid_template_areas": null,
      "grid_template_columns": null,
      "grid_template_rows": null,
      "height": null,
      "justify_content": null,
      "justify_items": null,
      "left": null,
      "margin": null,
      "max_height": null,
      "max_width": null,
      "min_height": null,
      "min_width": null,
      "object_fit": null,
      "object_position": null,
      "order": null,
      "overflow": null,
      "overflow_x": null,
      "overflow_y": null,
      "padding": null,
      "right": null,
      "top": null,
      "visibility": null,
      "width": null
     }
    },
    "437cf75b00434c7296a719187192e47e": {
     "model_module": "@jupyter-widgets/controls",
     "model_module_version": "1.5.0",
     "model_name": "ProgressStyleModel",
     "state": {
      "_model_module": "@jupyter-widgets/controls",
      "_model_module_version": "1.5.0",
      "_model_name": "ProgressStyleModel",
      "_view_count": null,
      "_view_module": "@jupyter-widgets/base",
      "_view_module_version": "1.2.0",
      "_view_name": "StyleView",
      "bar_color": null,
      "description_width": ""
     }
    },
    "46fd55cf5cf84632b7b9e59eb09f6119": {
     "model_module": "@jupyter-widgets/controls",
     "model_module_version": "1.5.0",
     "model_name": "ToggleButtonsStyleModel",
     "state": {
      "_model_module": "@jupyter-widgets/controls",
      "_model_module_version": "1.5.0",
      "_model_name": "ToggleButtonsStyleModel",
      "_view_count": null,
      "_view_module": "@jupyter-widgets/base",
      "_view_module_version": "1.2.0",
      "_view_name": "StyleView",
      "button_width": "",
      "description_width": "",
      "font_weight": ""
     }
    },
    "4a8ba65b89d4490495439516ea303067": {
     "model_module": "@jupyter-widgets/base",
     "model_module_version": "1.2.0",
     "model_name": "LayoutModel",
     "state": {
      "_model_module": "@jupyter-widgets/base",
      "_model_module_version": "1.2.0",
      "_model_name": "LayoutModel",
      "_view_count": null,
      "_view_module": "@jupyter-widgets/base",
      "_view_module_version": "1.2.0",
      "_view_name": "LayoutView",
      "align_content": null,
      "align_items": null,
      "align_self": null,
      "border": null,
      "bottom": null,
      "display": null,
      "flex": null,
      "flex_flow": null,
      "grid_area": null,
      "grid_auto_columns": null,
      "grid_auto_flow": null,
      "grid_auto_rows": null,
      "grid_column": null,
      "grid_gap": null,
      "grid_row": null,
      "grid_template_areas": null,
      "grid_template_columns": null,
      "grid_template_rows": null,
      "height": null,
      "justify_content": null,
      "justify_items": null,
      "left": null,
      "margin": null,
      "max_height": null,
      "max_width": null,
      "min_height": null,
      "min_width": null,
      "object_fit": null,
      "object_position": null,
      "order": null,
      "overflow": null,
      "overflow_x": null,
      "overflow_y": null,
      "padding": null,
      "right": null,
      "top": null,
      "visibility": "hidden",
      "width": null
     }
    },
    "4f020d0d433e4025a12f9b7ec7e1ca99": {
     "model_module": "@jupyter-widgets/base",
     "model_module_version": "1.2.0",
     "model_name": "LayoutModel",
     "state": {
      "_model_module": "@jupyter-widgets/base",
      "_model_module_version": "1.2.0",
      "_model_name": "LayoutModel",
      "_view_count": null,
      "_view_module": "@jupyter-widgets/base",
      "_view_module_version": "1.2.0",
      "_view_name": "LayoutView",
      "align_content": null,
      "align_items": null,
      "align_self": null,
      "border": null,
      "bottom": null,
      "display": null,
      "flex": null,
      "flex_flow": null,
      "grid_area": null,
      "grid_auto_columns": null,
      "grid_auto_flow": null,
      "grid_auto_rows": null,
      "grid_column": null,
      "grid_gap": null,
      "grid_row": null,
      "grid_template_areas": null,
      "grid_template_columns": null,
      "grid_template_rows": null,
      "height": null,
      "justify_content": null,
      "justify_items": null,
      "left": null,
      "margin": null,
      "max_height": null,
      "max_width": null,
      "min_height": null,
      "min_width": null,
      "object_fit": null,
      "object_position": null,
      "order": null,
      "overflow": null,
      "overflow_x": null,
      "overflow_y": null,
      "padding": null,
      "right": null,
      "top": null,
      "visibility": null,
      "width": null
     }
    },
    "5608f66fc9dc4e6ea4d22eaf7d454bb9": {
     "model_module": "@jupyter-widgets/controls",
     "model_module_version": "1.5.0",
     "model_name": "VBoxModel",
     "state": {
      "_dom_classes": [
       "widget-interact"
      ],
      "_model_module": "@jupyter-widgets/controls",
      "_model_module_version": "1.5.0",
      "_model_name": "VBoxModel",
      "_view_count": null,
      "_view_module": "@jupyter-widgets/controls",
      "_view_module_version": "1.5.0",
      "_view_name": "VBoxView",
      "box_style": "",
      "children": [
       "IPY_MODEL_252cde1e997c4cb1a2335b25bf92b42e",
       "IPY_MODEL_89303adccbcb453ab664099cf74fe815"
      ],
      "layout": "IPY_MODEL_c8b2bf77d0c64daa91c64604ca4287ce"
     }
    },
    "57f0123e2b8544b1853ea48a4fbcfb42": {
     "model_module": "@jupyter-widgets/controls",
     "model_module_version": "1.5.0",
     "model_name": "DescriptionStyleModel",
     "state": {
      "_model_module": "@jupyter-widgets/controls",
      "_model_module_version": "1.5.0",
      "_model_name": "DescriptionStyleModel",
      "_view_count": null,
      "_view_module": "@jupyter-widgets/base",
      "_view_module_version": "1.2.0",
      "_view_name": "StyleView",
      "description_width": ""
     }
    },
    "65399c8fb35b4914b7b46b4722d0695e": {
     "model_module": "@jupyter-widgets/base",
     "model_module_version": "1.2.0",
     "model_name": "LayoutModel",
     "state": {
      "_model_module": "@jupyter-widgets/base",
      "_model_module_version": "1.2.0",
      "_model_name": "LayoutModel",
      "_view_count": null,
      "_view_module": "@jupyter-widgets/base",
      "_view_module_version": "1.2.0",
      "_view_name": "LayoutView",
      "align_content": null,
      "align_items": null,
      "align_self": null,
      "border": null,
      "bottom": null,
      "display": null,
      "flex": null,
      "flex_flow": null,
      "grid_area": null,
      "grid_auto_columns": null,
      "grid_auto_flow": null,
      "grid_auto_rows": null,
      "grid_column": null,
      "grid_gap": null,
      "grid_row": null,
      "grid_template_areas": null,
      "grid_template_columns": null,
      "grid_template_rows": null,
      "height": null,
      "justify_content": null,
      "justify_items": null,
      "left": null,
      "margin": null,
      "max_height": null,
      "max_width": null,
      "min_height": null,
      "min_width": null,
      "object_fit": null,
      "object_position": null,
      "order": null,
      "overflow": null,
      "overflow_x": null,
      "overflow_y": null,
      "padding": null,
      "right": null,
      "top": null,
      "visibility": null,
      "width": null
     }
    },
    "82c6271f37454713a06dcb44004874c8": {
     "model_module": "@jupyter-widgets/controls",
     "model_module_version": "1.5.0",
     "model_name": "FloatProgressModel",
     "state": {
      "_dom_classes": [],
      "_model_module": "@jupyter-widgets/controls",
      "_model_module_version": "1.5.0",
      "_model_name": "FloatProgressModel",
      "_view_count": null,
      "_view_module": "@jupyter-widgets/controls",
      "_view_module_version": "1.5.0",
      "_view_name": "ProgressView",
      "bar_style": "",
      "description": "",
      "description_tooltip": null,
      "layout": "IPY_MODEL_65399c8fb35b4914b7b46b4722d0695e",
      "max": 3,
      "min": 0,
      "orientation": "horizontal",
      "style": "IPY_MODEL_437cf75b00434c7296a719187192e47e",
      "value": 3
     }
    },
    "876f30ff80de488cbd6e7c8de5b23b3e": {
     "model_module": "@jupyter-widgets/controls",
     "model_module_version": "1.5.0",
     "model_name": "HTMLModel",
     "state": {
      "_dom_classes": [],
      "_model_module": "@jupyter-widgets/controls",
      "_model_module_version": "1.5.0",
      "_model_name": "HTMLModel",
      "_view_count": null,
      "_view_module": "@jupyter-widgets/controls",
      "_view_module_version": "1.5.0",
      "_view_name": "HTMLView",
      "description": "",
      "description_tooltip": null,
      "layout": "IPY_MODEL_c3acc62dc1344f9da222e66cae86b55b",
      "placeholder": "​",
      "style": "IPY_MODEL_27bbaa7ae91d4e39be02a843a956fcc3",
      "value": "Processing:   0%"
     }
    },
    "89303adccbcb453ab664099cf74fe815": {
     "model_module": "@jupyter-widgets/output",
     "model_module_version": "1.0.0",
     "model_name": "OutputModel",
     "state": {
      "_dom_classes": [],
      "_model_module": "@jupyter-widgets/output",
      "_model_module_version": "1.0.0",
      "_model_name": "OutputModel",
      "_view_count": null,
      "_view_module": "@jupyter-widgets/output",
      "_view_module_version": "1.0.0",
      "_view_name": "OutputView",
      "layout": "IPY_MODEL_fa95b53ecc284842850ceaac09bf3666",
      "msg_id": "",
      "outputs": [
       {
        "data": {
         "image/png": "iVBORw0KGgoAAAANSUhEUgAABKAAAACDCAYAAAC6LmM3AAAAOXRFWHRTb2Z0d2FyZQBNYXRwbG90bGliIHZlcnNpb24zLjcuMSwgaHR0cHM6Ly9tYXRwbG90bGliLm9yZy/bCgiHAAAACXBIWXMAAA9hAAAPYQGoP6dpAAAuIElEQVR4nO3deVwV9f7H8fewuCCKC4IL7mbaNTWz3Ndc0rQy7WpqhaLXzL1N6+Ea9rupmS1aZrmES2q522ZqWahJ7ru4IWiSkgsmKnqY3x90Jo4gIFcYltfz8ejRMMwZ3sPjy9czn/P9fscwTdMUAAAAAAAAkEnc7A4AAAAAAACA3I0CFAAAAAAAADIVBSgAAAAAAABkKgpQAAAAAAAAyFQUoAAAAAAAAJCpKEABAAAAAAAgU1GAAgAAAAAAQKaiAAUAAAAAAIBMRQEKAAAAAAAAmYoCFAAAAAAAADIVBSgAAAAAAABkKgpQAAAAAAAAyFQedgcAgNzCNE0dO3ZMYWFhOnjwoKKionThwgXFx8fbHQ3IkwzDkJeXl3x9fVW5cmXdf//9atCggYoVK2Z3tFzPNE2dOHFCYWFhOnDggCIjI+kPARsZhqGCBQvK19dXlSpVsvrDEiVK2B0tx1q2bJnmzp2rGzdu2B0FOUylSpU0efJkFSpUyO4oWc4wTdO0O4QdvvzyS40ZM0aXL1++K+e7evWqLl++rMKFC6tgwYJ35ZzAncqMdli4cGEFBwera9eud+V8udG2bdsUEhKilStXKjIy0u44AFJhGIYefvhhde3aVc8++6z8/f3tjpSr7Nq1S59//rlWrFihiIgIu+MASEO9evWs/rBMmTJ2x8kxrly5Ij8/P8XFxdkdBTnURx99pAEDBtgdI8vl2QJUjRo1dOjQIbtjADlC9erVdfDgQbtjZCumaeqbb75RcHCwtm7danccABng6empnj17atSoUapSpYrdcXIs0zT1ww8/KDg4WKGhoXbHAZABHh4e6t69u0aNGqV7773X7jjZ3qFDh1SjRg27YyAHmzFjhvr37293jCyXZwtQAQEBOn36tNzc3FS6dOn/+XxnzpxRQkLCXTsfkBF3ux06z1e2bFmdOnXqLiTMHQ4fPqwBAwboxx9/dNmfL18+NW/eXM2aNVPt2rVVuXJl+fr6Kl++fDIMw6a0QN6VkJCgK1euKDo6WuHh4frtt9+0fv167du3z+U4T09PDR8+XGPHjpWXl5dNaXOmo0ePauDAgVq7dq3Lfk9PTzVt2lTNmzdXnTp1rP4wf/789IeADRISEhQXF2f1h9u2bdOGDRu0e/dul+Pc3d01ePBgBQcHy9vb26a02d+GDRv0yCOPSJKGDBmi8ePH25wIOcHEiRP19ttvS5JWrlypxx9/3OZEWS/PrwFVunTpu3Jj7Sxo3a3zARlxt9uh83xIZJqmPv74Y7300ku6fv26tf/+++/XkCFD9PTTT8vHx8fGhABuVbx4cZUrV04PPfSQevbsKUkKDw/X7Nmz9cknn+jixYu6ceOGJk2apBUrVmjRokV64IEHbE6d/ZmmqdmzZ2vIkCEuU1Duu+8+DR48WN26dWOtLSCbKV68uAICAlSvXj316NFDknTs2DHNmTNHM2bM0J9//imHw6H33ntPK1eu1KJFi/Twww/bnDp7OnPmjLVdqVIlFS1a1L4wyDEuXrxobefVKa88BQ8A0iE+Pl5BQUEaOHCgVXyqXLmyvvrqK+3evVt9+/al+ATkENWqVdPbb7+tkydPatSoUcqfP7+kxMJUo0aN9OWXX9qcMHu7efOmXnzxRfXt29cqPpUvX15ffPGF9u7dqxdeeIHiE5BDVKlSRRMmTFBERITGjx9vrSF64sQJNW3aVPPmzbM5Yfb0+++/W9t5tZCAO0e7oQAFAGm6du2annrqKc2ZM8faN3jwYO3du1ddunRhOgmQQxUpUkTBwcHavXu36tWrJynx771bt26aOXOmzemypxs3bqhbt26aMWOGta9///7av3+/unfvLjc33loCOZG3t7fGjBmjvXv3qmHDhpISP3x77rnn9MEHH9icLvtJWkhg+RWkl7PdGIYhPz8/m9PYg3cJAJAKh8OhHj166Ouvv5YkFShQQIsXL9YHH3zAWjFALnHvvfcqNDRUvXv3lpQ4vax///764osvbE6WvSQkJCgwMFDLli2TlLjOU0hIiGbMmMFaMUAuUaVKFW3cuNHl6VxDhw7V7NmzbUyV/SSdgpdXR7Lgzjnbjb+/vzw88uZqSBSgACAVo0aN0vLlyyVJXl5e+u677/Tvf//b5lQA7rb8+fNr1qxZeuWVV6x9gYGBPOUyiQkTJmjhwoWSEovxa9as0bPPPmtzKgB3m6enp6ZPn67Ro0db+/r376+ff/7ZxlTZCyOgcKccDoeio6Ml5e02QwEKAG7j+++/t55U4e7urmXLlql58+Y2pwKQWQzD0KRJk/Sf//xHUuL0k27duunSpUs2J7Pfxo0bNW7cOEmJv6fFixerbdu29oYCkGkMw9D48eM1dOhQSYlrv3Xv3l1//vmnzcmyB+dIFh8fH0bEI11iYmLkcDgk5e1RcxSgACAFly9fVt++fa2v33nnHbVr187GRACygmEYmjZtmho3bixJOnnypEaMGGFzKntdvXpVffr0kWmakhJHQuXFR0cDeY1hGJoyZYoeeeQRSYlFl5deesnmVPYzTdMaAZWXCwm4MyxAnogCFACk4O2339apU6ckSW3btrU+AQSQ+3l6emrBggXWukYzZ87Url277A1loylTpuj48eOSpKZNm2rkyJE2JwKQVdzd3RUSEqKiRYtKkkJCQvTrr7/aG8pmsbGx1hNA8/JUKtwZpm0mogAFALc4d+6c3nvvPUlSvnz59NFHH/GkOyCPqVChgsaOHSsp8dPuMWPG2JzIHhcvXtTkyZMlJd6IzpgxgyfdAXlMmTJl9NZbb1lfJ10bKi9iAXJkBO0mEe8gAOAWH3/8sfXJVv/+/VWlShWbEwGww+DBgxUQECBJWr16tQ4fPmxzoqz36aefKjY2VpLUu3dv3XfffTYnAmCHfv36We+H1q1bl6dHhTKSBRlBu0lEAQoAkkhISNCsWbMkSW5ubnr55ZdtTgTALvnz59ewYcOsrz/77DP7wtjANE2Xa3711VdtTAPATp6eni7rP+W1/jApRrIgI2g3iShAAUASW7duVWRkpCSpXbt2qlChgs2JANjp+eefl4eHhyRpyZIl1kLcecGePXsUHh4uSWrRooWqVatmcyIAdurVq5cKFCggSfrqq6+UkJBgcyJ7sJg0MoJ2k4gCFAAk8e2331rbXbt2tTEJgOzA19dXrVq1kiRFRkbq4MGDNifKOt988421TX8IoEiRItYTgf/44w/t2LHD5kT2YCoVMsLZbgzDkJ+fn81p7EMBCgCSCA0Ntbbbtm1rYxIA2UWbNm2s7aR9RG5HfwjgVnm1P0yKqVTICGe78ff3t0ZW50UUoADgb6Zpavfu3ZIS31A4Fx8GkLfVr1/f2nb2EXmB81qLFi2qqlWr2pwGQHaQV/vDpBgBhTvlcDgUHR0tiTZDAQoA/nbp0iWdP39eklS9enWb0wDILpL2B8eOHbMxSda5du2aTp8+LUmqUaOGDMOwORGA7CAv9oe3co5k8fHxkZeXl81pkBPExMTI4XBIYtQcBSgA+Nsff/xhbef1fxwA/MPX11eenp6SXPuJ3Ozs2bPWNv0hACdvb28VKVJEUt7pD5MyTdMaAUXfiPRiAfJ/UIACgL9duXLF2i5cuLCNSQBkJ4ZhyNvbW5JrP5GbJb1O57UDgKQ81x8mFRsbq7i4OElMpUL6MW3zHxSgAOBvSR+v7uZG9wjgH84+IWk/kZslvU53d3cbkwDIbpx9Ql7pD5NiAXJkBO3mH9xhAQAAAACQBkayICNoN/+gAAUAAAAAQBoYyYKMoN38gwIUAAAAAABpYDFpZATt5h8UoAAAAAAASANTqZARznZjGIb8/PxsTmMvClAAAAAAAKSBqVTICGe78ff3l4eHh81p7EUBCgAAAACANDACCnfK4XAoOjpaEm1GogAFAAAAAECanCNZfHx85OXlZXMa5AQxMTFyOBySGDUnUYACAAAAACBVpmlaI6AoJCC9WIDcFQUoAAAAAABSERsbq7i4OElMpUL6MW3TFQUoAAAAAABSwQLkyAjajSsKUAAAAAAApIKRLMgI2o0rClAAAAAAAKSCkSzICNqNKwpQAAAAAACkgsWkkRG0G1cUoAAAAAAASAVTqZARznZjGIb8/PxsTmM/ClAAAAAAAKSCqVTICGe78ff3l4eHh81p7EcBCgAAAACAVDACCnfK4XAoOjpaEm3GiQIUAAAAAACpcI5k8fHxkZeXl81pkBPExMTI4XBIYtScEwUoAAAAAABuwzRNawQUhQSkFwuQJ0cBCgAAAACA24iNjVVcXJwkplIh/Zi2mRwFKAAAAAAAboMFyJERtJvkKEABAAAAAHAbjGRBRtBukqMABQAAAADAbTCSBRlBu0mOAlQeFxgYKMMwkv1XsGBB1alTR1OnTrVW7s8u5s6dK8MwFBoaancUALc4evSohg4dqnvvvVfe3t7Knz+/KlasqN69eysyMlKS9NNPP8kwDM2fPz9LMmW0z6CvAfC/oD8Eco+csph0YGCgPDw8ku2Pj49X+/btVaRIEf3666+KiIiw7vv27Nlz2/O1adNGhmFo3LhxmZg698op7SYrUYCC3N3ddebMGZf/tm7dqs6dO+uVV17RgAED7I54V+zevVuGYdgdA8i1jh49qgcffFBhYWGaOnWqDhw4oN27d+vNN9/UDz/8oMaNG+vcuXNq1KiRzpw5o65du9odOcfq3LkzbwaBbIz+MOvQHyIr5OSpVDdv3lS3bt30yy+/6JtvvlGDBg2s73l7e+uTTz5J8XXHjx/Xhg0bVKhQoayKmus4241hGPLz87M5TfaQvDyKPKlUqVLJvq5Vq5ZOnz6tzz77TBMmTMjxfzQ///yz3RGAXG3WrFmKjY3VihUr5O/vb+2vXr26qlevrn79+mnr1q3q2LFjsj4H6WeapkJDQ1W7dm27owC4DfrDrEF/iKySU6dSJSQk6Pnnn9f333+vr7/+Wk2aNHH5fps2bTR//nxNmjQpWaFp1qxZql27ts6fP5+VkXMVZ7vx9/dPcWRaXsQIKKSqTp06Mk3TGiouJQ4Xb9OmjYoUKaICBQqoWrVqCg4O1s2bNyVJzz77rKpWrepynunTp8swDE2YMMFl/8MPP6zHH3/8tj9/x44datKkiQoUKCA/Pz8NHjxYV69eTXbcsmXL1KhRIxUqVEheXl6qWbOmPvroI+v7gYGBGjJkiKTECnRgYKAk6fz583rhhRdUtmxZeXp6qnTp0uratauOHTt2Z78oANbfpvMxxUk9/PDD2r17tzp27JhsyknSqR2dOnVS4cKF5evrqxEjRuj69esaNmyY/Pz8VKxYMXXv3l2xsbHWeQ3D0KuvvqqpU6eqYsWKyp8/v/71r39pxYoVqWbdu3evnnjiCQUEBKhgwYKqVauWZs+eneY1GoahUaNG6f/+7/8UEBAgLy8vtWjRQlFRUVqxYoVq1qwpLy8v1alTR5s2bbJeFxgYqJIlS2rnzp1q1KiRChYsqJIlS2rYsGGKj493OX/fvn1dfmZoaKgMw9DcuXMVEREhNzc3xcTEaPz48TIMQxEREem+pooVKyowMFCvvfaaChcunKxPBnB30B/SHyJ3yYkjoEzTVP/+/bVs2TKtXLlSLVu2THbMk08+qcuXL2vRokUu+2/evKk5c+aoS5cuyV7jcDg0ceJE1a5dW97e3vL19VWPHj106tQpl+PSumeUEvuDihUravfu3WrRooW8vb1VunRp9e/f3+Web8uWLWrbtq1KliypAgUKqEqVKnrjjTdc+ozsxuFwKDo6WlLOaTNZgQIUUnXgwAG5ubmpYsWKkqTIyEg9+uij8vHx0ZYtW3T48GGNHj1ab775pt5++21JUvv27XXs2DGXTuiHH35Q+fLltWHDBmvfxYsXtWPHDj322GMp/uxLly6pXbt2unTpktatW6eff/5ZJUqU0FtvveVy3K+//qquXbuqbt262rlzp/bt26fevXtr4MCB1hu6999/Xz169JCUWIl+//33JUk9e/bUihUrFBISouPHj2v58uU6duyYOnTokO3WvgKyu44dO0qSmjVrpunTp+vkyZN39Prhw4frueee065du9SrVy9NmjRJrVu3lp+fnzZv3qxp06Zp8eLFmjZtmsvrlixZot27d2vNmjXasmWLypQpo6efflr79u1L8eecOHFCTZs21enTp7Vo0SLt2rVLXbt2VVBQkGbOnJlmzkWLFumPP/7Q+vXrtWzZMoWFhenpp5/W9OnTFRISok2bNik+Pl69e/d2ed2lS5c0ZMgQBQcHa8+ePXrttdf0wQcfaMyYMen+HZUrV047duyQJL388ss6c+aMypUrd0fXtGnTJv3+++/67bffNGjQoHT/bADpR39If4jcxTmSxcfHR15eXjanSZ/hw4crJCREy5YtU5s2bVI8pnz58mrRokWyv42vv/5a0dHR6tmzZ4rnfeONN9SjRw/t3r1bS5Ys0Z49e9SiRQur6J6ee0any5cv68UXX9TIkSO1Z88eDR48WDNnzrQGE8TGxurRRx9V0aJFtWHDBoWHh2vSpEn69NNP9dprr92NX1WmiImJse4nc9KouUxn5lFly5Y1JZlly5bNlufLKs8//7zp7u6ebP9ff/1lzp0718yfP78ZGBho7b927Zp56NAh8+LFiy7HP/TQQ2b9+vVN0zTNmJgY083NzQwJCTFN0zRv3LhhFilSxJw8ebJZoEAB8+rVq6ZpmuayZctMSWZkZGSK2WbPnm1KMn/++WeX/U8++aQpyfzll1+srPv37zfj4uJcjitZsqTZrVs36+ugoCDz1iYfGRlpnjhxwmXf9OnTTUnmwYMHU8yVndGu71xMTIy1vW3bNlOSKckcOHCgjalyrs8//9wsVaqU9XssW7as2aNHD3PRokVmfHy8aZqm+eOPP5qSzHnz5pmmaZpz5swxJZkTJkywzvPHH3+YksxWrVq5nL9GjRpm586dra8lmaVKlTJv3Lhh7Tt+/LgpyXz99dddzu/sMwYNGmR6eHiYp06dcjl3p06dzLJly5oJCQkpvs7586pVq2YdY5qm2b59e1OSefLkSWvfxIkTTUnmpUuXTNNM7GslmatXr3b5mc2bNzdLly7tcv6goCCXY3755RdTkjlnzhzTNE0zKirKlGSOHTvWOia911ShQgWzYMGC5uXLl03cmRIlSpiSzKpVq9odJdMk7Q/3799v/R336dPHxlQ5F/1hIvrD3KdcuXKmJLNMmTJ2R8k0SfvDhIQE08vLy5Rk1qhRw8ZUaXPe273++uumJLN27drmtWvXkh134sQJU5L5448/mvPnzzclmTt37rS+36FDB7Nly5amaSb+rTj/xqKjo013d3dzwIABLufbvn27KcmcOXOmaZrpu2d05pVkrl+/3tqXkJBgFilSxOzSpYtpmqa5detWU5K5aNEil3MdPHjQPHLkyB3+hrLOjh07rP6/X79+dsfJNvLsRMTTp0+7/D8vczgc8vb2dtkXFxcnPz8/DRs2TMHBwdb+/Pnz68iRI3rppZe0d+9eXbhwQaZp6urVq6pUqZIkqUSJEnr44Yf1448/6tlnn1VYWJiuX7+uF154QcHBwdq8ebNatWql9evX6/7771e5cuVSzOV8IsODDz7osr9Zs2Yuw8kLFSqk7du3a9CgQTp8+LBiY2Nlmqbi4uIUExOT6rUnJCTonXfe0bp16/THH3/oxo0b1rDQtF6bFziHvp45c0YBAQE2p8kcZ8+eVUBAQIpTR3HnnnvuOT3zzDPauHGjNm7cqNDQUC1dulQLFy5UzZo1tXbt2tu+tl69etZ2yZIlJUl169Z1OaZkyZK6cOGCy76GDRu6zKuvVKmSSpQooePHj6f4czZv3qyaNWuqbNmyLvvbtWun1atXKzo6OtWh0nXr1nV5oEHJkiXl6+ur8uXLJ8t/4cIFFSlSxNrfrFmzZNe8ceNGXbt2TQUKFLjtz0zLnVzTfffdl6zPR9quX78uKXHESG7tD8+dO6fSpUurV69eqlmzpt1xcjz6Q9f89Ie5j/M9VG4UExMjPz8/9erVy2VkT06YSuVwODR79my9++67GjlypPr06aMFCxbc9vguXbpo0KBB+uSTT/Txxx8rKipK3333nebMmZPs2LCwMDkcDrVr185lf926deXr66tt27apX79+6bpnTKphw4bWtmEY8vX11Z9//ilJqlmzpu6991698MIL2rFjh1q3bq3GjRurevXqGf0VZYmcOG0zK+TZAhT+4e7url27dllfx8bG6pFHHlHTpk2TDZFcvXq1Hn/8cbVr105z5sxRQECA3N3d1bNnT6uTkBKn4Tk7rR9++EGNGjWSt7e3mjZtqg0bNqhVq1Zat26dOnfufNtcsbGxMgwj2TDXpG9eJGnatGkaPHiwevToofHjx8vf319ubm5q0aJFqtcdFxenZs2a6erVq5o8ebLq1q2rggULatmyZRoxYkSqr80rLl++LCmxUJebi7UnTpzQm2++qWrVqtkdJVfw9PRU69at1bp1a0mJUy2mTJmi4OBgvfHGG3r++edTfF3SxS+dNzS3LohpGIZM03TZV7Ro0WTn8vb2TnZj5nTp0iWdOHEi2U2Hc5j06dOnU32jkFKmlPZJcslqGEay/suZ4cKFC//Tm5M7uaaUfl9Im7Mg73A4cnV/ePLkSb311lv0h3cJ/SH9YW528+bNXN0fRkVF6b///a+WLFli7csJhQQ3Nzft3LlTpUuXVpEiRdS3b1/dc889t31aZIECBdSjRw/Nnz9f77zzjmbPnq1ChQql+HTOS5cuSZK6d+8ud3d3l+9dvXrVag/pvWeUEu9FCxYs6LIvaf/m5eWlzZs364MPPtCyZcs0adIkFShQQJ07d9bUqVNdHvSQneTUheszGwUoSFKykR+TJ09Wv379tGjRInXv3t3a//nnn8vb21srVqxw+XTq4sWLLq9v3769xo4dq4iICK1du1YdOnSQJLVs2VJLly7V6dOndfjwYWt/Sry9vWWaZrJPwm59EsPcuXN1zz33aP78+dabnISEhDSf2LBhwwZFRkZq/vz5LvObWfvpH4ULF9b58+fl5uaWI/7BzYi//vpLTz/9tMaMGaOzZ8+6fOqMO3Pz5k1dvXpVhQsXdtnv4+OjN998U6tXr9b27dtve8OVUc5C6a37SpQokeLxxYsXV6FChbR06dIUv3/rp+Z3i2maunLlisvNmTN78eLFXY5LKqXru5Vd15SXFCxYUH/99Zfc3d1z7VPLrly5oqeeekqjR49WXFyc/vWvf9kdKceiP0wd/WHu4OHhkW1v/v9XcXFxeuKJJzR69GhFRETokUcekZQzCgmGYVjv24OCgrRnzx6NHz9e1apVs9bEvVVQUJA++ugjLV++XJ9//rmefvrpFNe6cv59Tps2Tc2bN0/2fWchKb33jOlVvHhxjRs3TuPGjdPZs2e1dOlSvfHGGzpz5ox+/PHHDJ0zszECKmV5tgBVtmxZnT59mn+EbiMoKEgLFizQoEGD1LJlS+sfl/j4eHl7e7t0JKGhoQoPD1flypWtffXq1ZOfn59WrlypsLAwvfvuu5ISC1AjR47UqlWrVKxYMTVq1Oi2Ge677z5JiU89SPrUhp9++snluPj4eJUoUcJlCPgXX3yhq1evJnvjIiW+mTEMw3pqgq+vr/W9mzdvKiQkxDour3P+I1K6dOlkT7bIjc6ePWt3hBwrLi5O5cuXV6NGjbRq1apk379+/brOnTuXKY/KDg0NVXx8vPLlyydJOnbsmM6fP2/1Ibdq3LixZs2aJV9fX5dPv3///Xfly5cv2adwd9OGDRvUqVMn6+uwsDBVqVJF+fPnl5T4afy5c+dcXhMaGpriuZL2UXZeU16RP39+/fXXX6pUqZKOHDlid5xMd+DAAbsj5Fj0h+lDf5jz+fn55Yn3h1u2bLG2c0IB6lbvvvuuDh48qD59+qhixYop3n/VrVtXderU0cSJE3XixAnrfuhWDz30kDw9PRUREaGgoCCX7+3bt8+6H0zvPWN6HDlyRDt37tS///1vSYntbsCAATpw4IA+++yzOzpXVmIEVMp4Ch5SZBiGPv30U8XFxal///7W/saNGys6OlofffSRIiIitHDhQg0cOFCdOnXS77//rn379un69esyDEPt2rXT1KlTVahQIWtUSZ06deTt7a0pU6aoXbt2yYZuJtWlSxcVKVJEw4cP15YtW3To0CGNHj1a+/fvdzmucePG2rZtm5YuXaqIiAhNnz5dH3/8sRo0aKDw8HAdPXpUDofDqtgvX75chw4d0kMPPaR8+fLpvffeU3h4uMLCwtS2bVur2BUaGnrbIesAXHl5eWns2LFas2aNOnfurHXr1ikyMlJHjx7VqlWr1KZNG124cOGOnnCUXm5ubgoKCtLevXu1Y8cO/ec//5Gnp6d69eqV4vHDhg2Tm5ubunTpok2bNunkyZNavXq1mjRpomefffau53Nyd3fXf//7X61du1ZHjhzR22+/rU2bNqlPnz7WMQ0aNNC6deu0Zs0aHT9+XJ999pm+//57l/MUK1ZMhmFoy5Yt2rNnjy5cuGDbNQFIjv4wbfSHyEly+kgWd3d3LV68WOXLl9eTTz552zXhgoKCtG/fPlWtWlVNmjRJ8ZiSJUtq4MCBevfddzV9+nSFh4dr3759GjZsmOrUqWMV69J7z5geJ06cULdu3TRq1CgdOHBAUVFRWrt2rVatWmVNb86OkrYbClD/oACF26patarGjRunlStXat68eZKkoUOHql+/fhozZoxq1aqlefPmaenSpRo5cqR8fHzUqFEjhYeHS0qchnfy5Ek1b97cKjS5ubmpefPmOnbsWKrT76TEkUlff/218uXLpxYtWqhp06Y6f/68Jk6c6HLchAkT9OSTTyooKEgPPPCAfv75Zy1btkyvvvqqLl++rPr16+vixYvq27evqlevru7du2vEiBEqV66cQkJCdOzYMdWuXVuBgYHq06eP3n//fTVv3lzjxo2zRm4BSNvgwYP1ww8/yNPTU/369VP16tVVs2ZNvfTSS6pWrZq2b9+u+vXr3/Wf2759e9WqVUudOnVSw4YNFR0draVLl6pixYopHl+hQgVt2rRJhQsXVqdOnVSlShUNHDhQXbp00VdffXXX8yX1/vvva9y4capVq5amTJmioUOHujxCePr06WrSpIl69OihunXrav369frkk09czlGoUCGNGDFCmzdvVtOmTbV//35brwlAcvSHaaM/RE6RGwoJxYoV06pVqxQfH6+OHTumOBWuZ8+eKlCgQJpTg6dMmaJx48bpww8/VM2aNdWgQQPt2bNH33//vRo3bizpzu4Z09K2bVstXrxY69atU8OGDVWtWjW9+OKLeuqpp1JdXN1uznZjGIb8/PxsTpN9GGYenWcUEBBgTcG7G0NH7/b5gIygXf9vtm/fbo3WGzhwoKZNm2ZzIqTFMAwFBQVl6yHYkhQYGKj58+dbT9lEzuN8Ik/VqlXzzBQ85xpQffr00axZs2xOhLTQHyKrlC9fXlFRUSpTpkyuXoTcqXv37lq8eLEk6ejRo6pSpYrNiZATOO+jSpUq5TIdL69jBBQAAAAAACnI6VPwkPUcDoeio6Ml0WZuRQEKAAAAAIAUOEev+Pj4pPhkOOBWMTEx1pPVc+q0zcySZ5+CBwDI+XLKLPK5c+dq7ty5dscAkIvRHwJ3n2ma1ggoRrIgvXLDumGZhRFQAAAAAADcIjY2VnFxcZIoJCD9mLZ5exSgAAAAAAC4RdLFoylAIb1oN7dHAQoAAAAAgFswkgUZQbu5PQpQAAAAAADcgpEsyAjaze1RgAIAAAAA4BaMZEFGsAj57VGAAgAAAADgFhQSkBHOdmMYhvz8/GxOk71QgAIAAAAA4BZMpUJGONuNv7+/PDw8bE6TvVCAAgAAAADgFkzBw51yOByKjo6WRJtJCQUoAAAAAABu4RzJ4uPjIy8vL5vTICeIiYmRw+GQxKi5lFCAAgAAAAAgCdM0rRFQjGRBejFqLnUUoAAAAAAASCI2NlZxcXGSGMmC9GPh+tRRgAIAAAAAIAkWIEdG0G5SRwEKAAAAAIAkmEqFjKDdpI4CFAAAAAAASTCSBRlBu0kdBSgAAAAAAJJgJAsygnaTOgpQAAAAAAAkwWLSyAhnuzEMQ/7+/janyX4oQAEAAAAAkARTqZARznbj7+8vDw8Pm9NkPxSgAAAAAABIgqlUuFMOh0PR0dGSaDO3QwEKAAAAAIAknCNZfHx85OXlZXMa5AQxMTFyOBySGDV3OxSgAAAAAAD4m2ma1ggoRrIgvRg1lzYKUAAAAAAA/C02NlZxcXGSGMmC9GPh+rRRgAKAFJimaXcEANlIXu4T8vK1A0guL/QJLECOjKDdpI0CFAD8LemTKm7evGljEgDZjbNPyCtPtEl6nTdu3LAxCYDsxtkn5Ob+kKlUyAjaTdooQAHA33x8fKzt8+fP25gEQHZy48YNxcbGSnLtJ3KzokWLWtsXLlywLwiAbMU0TatPSNpP5DaMZEFG0G7SRgEKAP5WunRpGYYhSYqIiLA3DIBsIzIy0toOCAiwMUnW8fX1Vb58+STRHwL4R3R0tOLj4yXl7v6QkSzICNpN2ihAAcDf8ufPr8qVK0uSDhw4wDQ8AJKkPXv2WNvVq1e3MUnWcXNzU7Vq1SRJhw8f1rVr12xOBCA72L17t7V977332pgkc7GYNDLC2W4Mw5C/v7/NabInClAAkES9evUkSXFxcdq5c6fNaQBkB6Ghoda2s4/IC5zXevPmTYWFhdmcBkB2sGnTJms7N/eHTKVCRjjbjb+/f65eI+1/QQEKAJJo0aKFtf3111/bFwRAtmCaptUXuLm5qWnTpjYnyjotW7a0ttesWWNjEgDZRdK+IOl7ptyGqVS4Uw6HQ9HR0ZJoM6mhAAUASXTq1MnaXrhwYZ541DCA29uxY4cOHz4sSWrSpIlKlChhc6Ks06FDB7m7u0uSFi1aJIfDYXMiAHY6cOCAdu3aJUl66KGHcvXIIOdIFh8fH3l5edmcBjlBTEyM9e9kbv7b+F9RgAKAJMqWLatWrVpJko4cOaK1a9fanAiAnaZNm2Zt9+rVy8YkWc/X11ePPvqoJCkqKkqrVq2yOREAOyXtD3v27GljksxlmqY1AoqRLEgvRs2lDwUoALjFwIEDre0333yTUVBAHnX8+HHNnz9fUuLjxp955hmbE2W9pP3hhAkTlJCQYGMaAHY5deqUZs+eLUkqVKiQnnvuOZsTZZ7Y2FjFxcVJYiQL0o+F69OHAhQA3OKJJ55QjRo1JEmbN2/WkiVLbE4EwA6vvPKK9TTMIUOGyNvb2+ZEWe/RRx/VAw88IClxOmJISIjNiQDYYcSIEbp+/bok6cUXX1SxYsVsTpR5WIAcGUG7SR8KUABwC3d3d02cONH6esiQITp79qyNiQBktSVLlmj58uWSEp9m8/LLL9ucyB6GYWjSpEnW1y+99JJOnz5tYyIAWW316tVauHChJKl48eIaOXKkzYkyF1OpkBG0m/ShAAUAKejYsaOeeOIJSdLZs2fVs2dPayQEgNwtPDxc/fr1s76eOnWqihQpYmMie7Vu3Vrdu3eXJF24cEHPPPOM4uPjbU4FICucOHFCgYGB1teTJ09W8eLF7QuUBRjJgoyg3aQPBSgASIFhGPrkk0/k7+8vSVq3bp0GDBjAelBALhcdHa0OHTooNjZWktS9e3er+JKXTZs2TQEBAZKkX375RUFBQawHBeRyMTExeuyxx3T+/HlJiUsU9O7d2+ZUmY+RLMgI2k36UIACgNvw9/fXl19+KU9PT0nSZ599phdeeIFHkQO5VFRUlFq2bKljx45Jku6//37NnDlThmHYnMx+JUqU0FdffaUCBQpIkubPn6/evXvrxo0bNicDkBnOnDmjVq1a6eDBg5KkatWqae7cuXmiP2QxaWSEs90YhmF9gI3kKEABQCqaNm2qefPmWW+4Zs6cqU6dOlmfBgLIHbZs2aL69evr0KFDkqTy5cvrm2++UeHChW1Oln3Ur19fixYtkru7uyQpJCRE7du317lz52xOBuBu2rZtm+rXr6+9e/dKSizCfPfddypatKi9wbIIU6mQEc524+/vLw8PD5vTZF8UoAAgDd26ddOCBQusf0y+/fZb1a5dW998843NyQD8r65du6YxY8aoadOm1pvHKlWqaOPGjdaUM/zjiSee0JIlS5QvXz5J0vr161WrVi2tWLGCKcpADnf9+nVNmDBBjRo1UlRUlKTEYvxPP/2kSpUq2Zwu6zCVCnfK4XAoOjpaEm0mLRSgACAdnnnmGa1du1YlSpSQJJ06dUqPPfaYOnTooLCwMJvTAbhT8fHxmjt3rmrUqKHg4GBram2zZs20ZcsWVaxY0d6A2dhTTz2l9evXW1MMoqOj1blzZ7Vt21abN2+2OR2AO3Xz5k0tWLBANWvW1OjRo62ptQ0bNtSvv/6qe+65x+aEWcv5YYSPj4+8vLxsToOcICYmxnofwai51FGAAoB0atmypXbt2qXWrVtb+7799lvVr19fDRo00PTp061PDAFkPw6HQ2FhYRoxYoQqVKig3r17KyIiQpLk4eGhsWPHav369SpZsqS9QXOAJk2aaNeuXerQoYO1b926dWrcuLHq1aunDz74wPrdAsh+EhIStH37dr3xxhuqWLGievXqpaNHj0qS3Nzc9Prrr+unn37Kc6M5TNO0RkDltWtHxjFqLv2YnAgAdyAgIEBr167VwoUL9frrr1sFp61bt2rr1q0aNGiQKlasqNq1a6tSpUry9fVVvnz58sSinUB2Y5qmrly5oujoaB0+fFg7duywnm6XVJs2bfTuu++qZs2aNqTMuUqVKqU1a9boyy+/1MiRI3XixAlJ0vbt27V9+3YNHTpU5cuXV+3atVW5cmWVLFmS/hCwiWmaiouLU3R0tMLDw7Vjxw5dvHgx2XEtWrTQ1KlTVadOnSzPmB3ExsYqLi5OUuIU7XfeecfmRMgJwsPDrW1GQKXOMPPohP2AgACdPn1abm5ud6VKeebMGSUkJNy18wEZcbfbofN8ZcuW1alTp+5Cwtzl+vXrmjdvnj788EPt2bPH7jgA7oCHh4cef/xxDR8+XE2aNLE7To5348YNLViwQB9++KF27NhhdxwAd8DNzU0dO3bU8OHD1bx58zxdJD58+LCqV69udwzkYDNmzFD//v3tjpFt5dkCVI0aNawn3QBIXfXq1a3H8CI50zS1Z88erVy5UuvXr9e2bdusT88AZB9lypRRo0aN1LZtWz355JNMtcsk+/fv1/Lly7Vhwwb99ttv+uuvv+yOBOAWpUqVUsOGDdW2bVt17tyZx8b/7dKlS6pUqZIuXLhgdxTkQG5ubjp48KCqVatmd5RsK88WoL766iuNHj1aly9fvivnu3r1qi5fvqzChQurYMGCd+WcwJ3KjHZYuHBhBQcHq2vXrnflfHlBQkKCIiMjFRUVpQsXLliLeQLIel5eXipZsqQqVapkPUQAWSchIUFRUVGKiorS+fPn6Q8BGxUsWNDqD319fe2Ok22dOnVKYWFhPNkTd+zBBx/kISZpyLMFKAAAAAAAAGQNnoIHAAAAAACATEUBCgAAAAAAAJmKAhQAAAAAAAAyFQUoAAAAAAAAZCoKUAAAAAAAAMhUFKAAAAAAAACQqShAAQAAAAAAIFNRgAIAAAAAAECmogAFAAAAAACATEUBCgAAAAAAAJmKAhQAAAAAAAAyFQUoAAAAAAAAZKr/B3R53rwC7CNGAAAAAElFTkSuQmCC\n",
         "text/plain": "<Figure size 1200x600 with 1 Axes>"
        },
        "metadata": {},
        "output_type": "display_data"
       }
      ]
     }
    },
    "89b7fb8c99554b589997c189f376e52d": {
     "model_module": "@jupyter-widgets/controls",
     "model_module_version": "1.5.0",
     "model_name": "HTMLModel",
     "state": {
      "_dom_classes": [],
      "_model_module": "@jupyter-widgets/controls",
      "_model_module_version": "1.5.0",
      "_model_name": "HTMLModel",
      "_view_count": null,
      "_view_module": "@jupyter-widgets/controls",
      "_view_module_version": "1.5.0",
      "_view_name": "HTMLView",
      "description": "",
      "description_tooltip": null,
      "layout": "IPY_MODEL_4069bcdf928a4fa79a4f0f5bec4eba70",
      "placeholder": "​",
      "style": "IPY_MODEL_57f0123e2b8544b1853ea48a4fbcfb42",
      "value": " 0/3 [00:00&lt;?, ?it/s]"
     }
    },
    "91aabc24a1b944e6bc8a2598917ed9a0": {
     "model_module": "@jupyter-widgets/base",
     "model_module_version": "1.2.0",
     "model_name": "LayoutModel",
     "state": {
      "_model_module": "@jupyter-widgets/base",
      "_model_module_version": "1.2.0",
      "_model_name": "LayoutModel",
      "_view_count": null,
      "_view_module": "@jupyter-widgets/base",
      "_view_module_version": "1.2.0",
      "_view_name": "LayoutView",
      "align_content": null,
      "align_items": null,
      "align_self": null,
      "border": null,
      "bottom": null,
      "display": null,
      "flex": null,
      "flex_flow": null,
      "grid_area": null,
      "grid_auto_columns": null,
      "grid_auto_flow": null,
      "grid_auto_rows": null,
      "grid_column": null,
      "grid_gap": null,
      "grid_row": null,
      "grid_template_areas": null,
      "grid_template_columns": null,
      "grid_template_rows": null,
      "height": null,
      "justify_content": null,
      "justify_items": null,
      "left": null,
      "margin": null,
      "max_height": null,
      "max_width": null,
      "min_height": null,
      "min_width": null,
      "object_fit": null,
      "object_position": null,
      "order": null,
      "overflow": null,
      "overflow_x": null,
      "overflow_y": null,
      "padding": null,
      "right": null,
      "top": null,
      "visibility": null,
      "width": null
     }
    },
    "928a3a2553534a6b8408e36756d77295": {
     "model_module": "@jupyter-widgets/base",
     "model_module_version": "1.2.0",
     "model_name": "LayoutModel",
     "state": {
      "_model_module": "@jupyter-widgets/base",
      "_model_module_version": "1.2.0",
      "_model_name": "LayoutModel",
      "_view_count": null,
      "_view_module": "@jupyter-widgets/base",
      "_view_module_version": "1.2.0",
      "_view_name": "LayoutView",
      "align_content": null,
      "align_items": null,
      "align_self": null,
      "border": null,
      "bottom": null,
      "display": null,
      "flex": null,
      "flex_flow": null,
      "grid_area": null,
      "grid_auto_columns": null,
      "grid_auto_flow": null,
      "grid_auto_rows": null,
      "grid_column": null,
      "grid_gap": null,
      "grid_row": null,
      "grid_template_areas": null,
      "grid_template_columns": null,
      "grid_template_rows": null,
      "height": null,
      "justify_content": null,
      "justify_items": null,
      "left": null,
      "margin": null,
      "max_height": null,
      "max_width": null,
      "min_height": null,
      "min_width": null,
      "object_fit": null,
      "object_position": null,
      "order": null,
      "overflow": null,
      "overflow_x": null,
      "overflow_y": null,
      "padding": null,
      "right": null,
      "top": null,
      "visibility": "hidden",
      "width": null
     }
    },
    "a6081576a5e24e92890fdd9a8e33494a": {
     "model_module": "@jupyter-widgets/controls",
     "model_module_version": "1.5.0",
     "model_name": "HBoxModel",
     "state": {
      "_dom_classes": [],
      "_model_module": "@jupyter-widgets/controls",
      "_model_module_version": "1.5.0",
      "_model_name": "HBoxModel",
      "_view_count": null,
      "_view_module": "@jupyter-widgets/controls",
      "_view_module_version": "1.5.0",
      "_view_name": "HBoxView",
      "box_style": "",
      "children": [
       "IPY_MODEL_30dc9f8b7b1141f0a0de90a4122e67fd",
       "IPY_MODEL_b95edb5464b64a9ea43c73c58eb8ce11",
       "IPY_MODEL_de03701e91b84e41b1f2f60144a314e0"
      ],
      "layout": "IPY_MODEL_eaa024c1d88f4776a16fa8248aadd15e"
     }
    },
    "a81a623ff8e34479b58f5523d9638108": {
     "model_module": "@jupyter-widgets/controls",
     "model_module_version": "1.5.0",
     "model_name": "HBoxModel",
     "state": {
      "_dom_classes": [],
      "_model_module": "@jupyter-widgets/controls",
      "_model_module_version": "1.5.0",
      "_model_name": "HBoxModel",
      "_view_count": null,
      "_view_module": "@jupyter-widgets/controls",
      "_view_module_version": "1.5.0",
      "_view_name": "HBoxView",
      "box_style": "",
      "children": [
       "IPY_MODEL_32f1f8f200704a71a59a76dccb87c76c",
       "IPY_MODEL_ba446f4f4a324a729fb0fd4e92c9622d",
       "IPY_MODEL_2ff40817bcb34eed9ade33951a438ff7"
      ],
      "layout": "IPY_MODEL_4a8ba65b89d4490495439516ea303067"
     }
    },
    "a98d2529c99b434b9c0eb909817e76f1": {
     "model_module": "@jupyter-widgets/controls",
     "model_module_version": "1.5.0",
     "model_name": "DescriptionStyleModel",
     "state": {
      "_model_module": "@jupyter-widgets/controls",
      "_model_module_version": "1.5.0",
      "_model_name": "DescriptionStyleModel",
      "_view_count": null,
      "_view_module": "@jupyter-widgets/base",
      "_view_module_version": "1.2.0",
      "_view_name": "StyleView",
      "description_width": ""
     }
    },
    "b95edb5464b64a9ea43c73c58eb8ce11": {
     "model_module": "@jupyter-widgets/controls",
     "model_module_version": "1.5.0",
     "model_name": "FloatProgressModel",
     "state": {
      "_dom_classes": [],
      "_model_module": "@jupyter-widgets/controls",
      "_model_module_version": "1.5.0",
      "_model_name": "FloatProgressModel",
      "_view_count": null,
      "_view_module": "@jupyter-widgets/controls",
      "_view_module_version": "1.5.0",
      "_view_name": "ProgressView",
      "bar_style": "",
      "description": "",
      "description_tooltip": null,
      "layout": "IPY_MODEL_03f955f283e14e97a9aeb0e2842e5b5a",
      "max": 3,
      "min": 0,
      "orientation": "horizontal",
      "style": "IPY_MODEL_f8162c9398cd442cb78caadb4851e324",
      "value": 3
     }
    },
    "ba446f4f4a324a729fb0fd4e92c9622d": {
     "model_module": "@jupyter-widgets/controls",
     "model_module_version": "1.5.0",
     "model_name": "FloatProgressModel",
     "state": {
      "_dom_classes": [],
      "_model_module": "@jupyter-widgets/controls",
      "_model_module_version": "1.5.0",
      "_model_name": "FloatProgressModel",
      "_view_count": null,
      "_view_module": "@jupyter-widgets/controls",
      "_view_module_version": "1.5.0",
      "_view_name": "ProgressView",
      "bar_style": "",
      "description": "",
      "description_tooltip": null,
      "layout": "IPY_MODEL_f06e530248bd4f48a0c6a93ee70b20eb",
      "max": 3,
      "min": 0,
      "orientation": "horizontal",
      "style": "IPY_MODEL_2d35b5d9fd7e4e5e9e5ec323c168da63",
      "value": 3
     }
    },
    "bf70b6043d9347f682e7230724a107be": {
     "model_module": "@jupyter-widgets/base",
     "model_module_version": "1.2.0",
     "model_name": "LayoutModel",
     "state": {
      "_model_module": "@jupyter-widgets/base",
      "_model_module_version": "1.2.0",
      "_model_name": "LayoutModel",
      "_view_count": null,
      "_view_module": "@jupyter-widgets/base",
      "_view_module_version": "1.2.0",
      "_view_name": "LayoutView",
      "align_content": null,
      "align_items": null,
      "align_self": null,
      "border": null,
      "bottom": null,
      "display": null,
      "flex": null,
      "flex_flow": null,
      "grid_area": null,
      "grid_auto_columns": null,
      "grid_auto_flow": null,
      "grid_auto_rows": null,
      "grid_column": null,
      "grid_gap": null,
      "grid_row": null,
      "grid_template_areas": null,
      "grid_template_columns": null,
      "grid_template_rows": null,
      "height": null,
      "justify_content": null,
      "justify_items": null,
      "left": null,
      "margin": null,
      "max_height": null,
      "max_width": null,
      "min_height": null,
      "min_width": null,
      "object_fit": null,
      "object_position": null,
      "order": null,
      "overflow": null,
      "overflow_x": null,
      "overflow_y": null,
      "padding": null,
      "right": null,
      "top": null,
      "visibility": null,
      "width": null
     }
    },
    "c3acc62dc1344f9da222e66cae86b55b": {
     "model_module": "@jupyter-widgets/base",
     "model_module_version": "1.2.0",
     "model_name": "LayoutModel",
     "state": {
      "_model_module": "@jupyter-widgets/base",
      "_model_module_version": "1.2.0",
      "_model_name": "LayoutModel",
      "_view_count": null,
      "_view_module": "@jupyter-widgets/base",
      "_view_module_version": "1.2.0",
      "_view_name": "LayoutView",
      "align_content": null,
      "align_items": null,
      "align_self": null,
      "border": null,
      "bottom": null,
      "display": null,
      "flex": null,
      "flex_flow": null,
      "grid_area": null,
      "grid_auto_columns": null,
      "grid_auto_flow": null,
      "grid_auto_rows": null,
      "grid_column": null,
      "grid_gap": null,
      "grid_row": null,
      "grid_template_areas": null,
      "grid_template_columns": null,
      "grid_template_rows": null,
      "height": null,
      "justify_content": null,
      "justify_items": null,
      "left": null,
      "margin": null,
      "max_height": null,
      "max_width": null,
      "min_height": null,
      "min_width": null,
      "object_fit": null,
      "object_position": null,
      "order": null,
      "overflow": null,
      "overflow_x": null,
      "overflow_y": null,
      "padding": null,
      "right": null,
      "top": null,
      "visibility": null,
      "width": null
     }
    },
    "c8b2bf77d0c64daa91c64604ca4287ce": {
     "model_module": "@jupyter-widgets/base",
     "model_module_version": "1.2.0",
     "model_name": "LayoutModel",
     "state": {
      "_model_module": "@jupyter-widgets/base",
      "_model_module_version": "1.2.0",
      "_model_name": "LayoutModel",
      "_view_count": null,
      "_view_module": "@jupyter-widgets/base",
      "_view_module_version": "1.2.0",
      "_view_name": "LayoutView",
      "align_content": null,
      "align_items": null,
      "align_self": null,
      "border": null,
      "bottom": null,
      "display": null,
      "flex": null,
      "flex_flow": null,
      "grid_area": null,
      "grid_auto_columns": null,
      "grid_auto_flow": null,
      "grid_auto_rows": null,
      "grid_column": null,
      "grid_gap": null,
      "grid_row": null,
      "grid_template_areas": null,
      "grid_template_columns": null,
      "grid_template_rows": null,
      "height": null,
      "justify_content": null,
      "justify_items": null,
      "left": null,
      "margin": null,
      "max_height": null,
      "max_width": null,
      "min_height": null,
      "min_width": null,
      "object_fit": null,
      "object_position": null,
      "order": null,
      "overflow": null,
      "overflow_x": null,
      "overflow_y": null,
      "padding": null,
      "right": null,
      "top": null,
      "visibility": null,
      "width": null
     }
    },
    "c9b45ca1debe4e29aaed6bad267d1cb4": {
     "model_module": "@jupyter-widgets/controls",
     "model_module_version": "1.5.0",
     "model_name": "DescriptionStyleModel",
     "state": {
      "_model_module": "@jupyter-widgets/controls",
      "_model_module_version": "1.5.0",
      "_model_name": "DescriptionStyleModel",
      "_view_count": null,
      "_view_module": "@jupyter-widgets/base",
      "_view_module_version": "1.2.0",
      "_view_name": "StyleView",
      "description_width": ""
     }
    },
    "de03701e91b84e41b1f2f60144a314e0": {
     "model_module": "@jupyter-widgets/controls",
     "model_module_version": "1.5.0",
     "model_name": "HTMLModel",
     "state": {
      "_dom_classes": [],
      "_model_module": "@jupyter-widgets/controls",
      "_model_module_version": "1.5.0",
      "_model_name": "HTMLModel",
      "_view_count": null,
      "_view_module": "@jupyter-widgets/controls",
      "_view_module_version": "1.5.0",
      "_view_name": "HTMLView",
      "description": "",
      "description_tooltip": null,
      "layout": "IPY_MODEL_91aabc24a1b944e6bc8a2598917ed9a0",
      "placeholder": "​",
      "style": "IPY_MODEL_240cc68d958d4af3821da39dfb7c1da1",
      "value": " 0/3 [00:00&lt;?, ?it/s]"
     }
    },
    "de99c0a766d240e79b3fab5f56d6a265": {
     "model_module": "@jupyter-widgets/controls",
     "model_module_version": "1.5.0",
     "model_name": "DescriptionStyleModel",
     "state": {
      "_model_module": "@jupyter-widgets/controls",
      "_model_module_version": "1.5.0",
      "_model_name": "DescriptionStyleModel",
      "_view_count": null,
      "_view_module": "@jupyter-widgets/base",
      "_view_module_version": "1.2.0",
      "_view_name": "StyleView",
      "description_width": ""
     }
    },
    "e4d2340956054798a99aeb2db23b0b16": {
     "model_module": "@jupyter-widgets/base",
     "model_module_version": "1.2.0",
     "model_name": "LayoutModel",
     "state": {
      "_model_module": "@jupyter-widgets/base",
      "_model_module_version": "1.2.0",
      "_model_name": "LayoutModel",
      "_view_count": null,
      "_view_module": "@jupyter-widgets/base",
      "_view_module_version": "1.2.0",
      "_view_name": "LayoutView",
      "align_content": null,
      "align_items": null,
      "align_self": null,
      "border": null,
      "bottom": null,
      "display": null,
      "flex": null,
      "flex_flow": null,
      "grid_area": null,
      "grid_auto_columns": null,
      "grid_auto_flow": null,
      "grid_auto_rows": null,
      "grid_column": null,
      "grid_gap": null,
      "grid_row": null,
      "grid_template_areas": null,
      "grid_template_columns": null,
      "grid_template_rows": null,
      "height": null,
      "justify_content": null,
      "justify_items": null,
      "left": null,
      "margin": null,
      "max_height": null,
      "max_width": null,
      "min_height": null,
      "min_width": null,
      "object_fit": null,
      "object_position": null,
      "order": null,
      "overflow": null,
      "overflow_x": null,
      "overflow_y": null,
      "padding": null,
      "right": null,
      "top": null,
      "visibility": null,
      "width": null
     }
    },
    "eaa024c1d88f4776a16fa8248aadd15e": {
     "model_module": "@jupyter-widgets/base",
     "model_module_version": "1.2.0",
     "model_name": "LayoutModel",
     "state": {
      "_model_module": "@jupyter-widgets/base",
      "_model_module_version": "1.2.0",
      "_model_name": "LayoutModel",
      "_view_count": null,
      "_view_module": "@jupyter-widgets/base",
      "_view_module_version": "1.2.0",
      "_view_name": "LayoutView",
      "align_content": null,
      "align_items": null,
      "align_self": null,
      "border": null,
      "bottom": null,
      "display": null,
      "flex": null,
      "flex_flow": null,
      "grid_area": null,
      "grid_auto_columns": null,
      "grid_auto_flow": null,
      "grid_auto_rows": null,
      "grid_column": null,
      "grid_gap": null,
      "grid_row": null,
      "grid_template_areas": null,
      "grid_template_columns": null,
      "grid_template_rows": null,
      "height": null,
      "justify_content": null,
      "justify_items": null,
      "left": null,
      "margin": null,
      "max_height": null,
      "max_width": null,
      "min_height": null,
      "min_width": null,
      "object_fit": null,
      "object_position": null,
      "order": null,
      "overflow": null,
      "overflow_x": null,
      "overflow_y": null,
      "padding": null,
      "right": null,
      "top": null,
      "visibility": "hidden",
      "width": null
     }
    },
    "f06e530248bd4f48a0c6a93ee70b20eb": {
     "model_module": "@jupyter-widgets/base",
     "model_module_version": "1.2.0",
     "model_name": "LayoutModel",
     "state": {
      "_model_module": "@jupyter-widgets/base",
      "_model_module_version": "1.2.0",
      "_model_name": "LayoutModel",
      "_view_count": null,
      "_view_module": "@jupyter-widgets/base",
      "_view_module_version": "1.2.0",
      "_view_name": "LayoutView",
      "align_content": null,
      "align_items": null,
      "align_self": null,
      "border": null,
      "bottom": null,
      "display": null,
      "flex": null,
      "flex_flow": null,
      "grid_area": null,
      "grid_auto_columns": null,
      "grid_auto_flow": null,
      "grid_auto_rows": null,
      "grid_column": null,
      "grid_gap": null,
      "grid_row": null,
      "grid_template_areas": null,
      "grid_template_columns": null,
      "grid_template_rows": null,
      "height": null,
      "justify_content": null,
      "justify_items": null,
      "left": null,
      "margin": null,
      "max_height": null,
      "max_width": null,
      "min_height": null,
      "min_width": null,
      "object_fit": null,
      "object_position": null,
      "order": null,
      "overflow": null,
      "overflow_x": null,
      "overflow_y": null,
      "padding": null,
      "right": null,
      "top": null,
      "visibility": null,
      "width": null
     }
    },
    "f538c7be893a40638c8fea0f70fb04e5": {
     "model_module": "@jupyter-widgets/controls",
     "model_module_version": "1.5.0",
     "model_name": "HBoxModel",
     "state": {
      "_dom_classes": [],
      "_model_module": "@jupyter-widgets/controls",
      "_model_module_version": "1.5.0",
      "_model_name": "HBoxModel",
      "_view_count": null,
      "_view_module": "@jupyter-widgets/controls",
      "_view_module_version": "1.5.0",
      "_view_name": "HBoxView",
      "box_style": "",
      "children": [
       "IPY_MODEL_876f30ff80de488cbd6e7c8de5b23b3e",
       "IPY_MODEL_82c6271f37454713a06dcb44004874c8",
       "IPY_MODEL_89b7fb8c99554b589997c189f376e52d"
      ],
      "layout": "IPY_MODEL_928a3a2553534a6b8408e36756d77295"
     }
    },
    "f8162c9398cd442cb78caadb4851e324": {
     "model_module": "@jupyter-widgets/controls",
     "model_module_version": "1.5.0",
     "model_name": "ProgressStyleModel",
     "state": {
      "_model_module": "@jupyter-widgets/controls",
      "_model_module_version": "1.5.0",
      "_model_name": "ProgressStyleModel",
      "_view_count": null,
      "_view_module": "@jupyter-widgets/base",
      "_view_module_version": "1.2.0",
      "_view_name": "StyleView",
      "bar_color": null,
      "description_width": ""
     }
    },
    "fa95b53ecc284842850ceaac09bf3666": {
     "model_module": "@jupyter-widgets/base",
     "model_module_version": "1.2.0",
     "model_name": "LayoutModel",
     "state": {
      "_model_module": "@jupyter-widgets/base",
      "_model_module_version": "1.2.0",
      "_model_name": "LayoutModel",
      "_view_count": null,
      "_view_module": "@jupyter-widgets/base",
      "_view_module_version": "1.2.0",
      "_view_name": "LayoutView",
      "align_content": null,
      "align_items": null,
      "align_self": null,
      "border": null,
      "bottom": null,
      "display": null,
      "flex": null,
      "flex_flow": null,
      "grid_area": null,
      "grid_auto_columns": null,
      "grid_auto_flow": null,
      "grid_auto_rows": null,
      "grid_column": null,
      "grid_gap": null,
      "grid_row": null,
      "grid_template_areas": null,
      "grid_template_columns": null,
      "grid_template_rows": null,
      "height": null,
      "justify_content": null,
      "justify_items": null,
      "left": null,
      "margin": null,
      "max_height": null,
      "max_width": null,
      "min_height": null,
      "min_width": null,
      "object_fit": null,
      "object_position": null,
      "order": null,
      "overflow": null,
      "overflow_x": null,
      "overflow_y": null,
      "padding": null,
      "right": null,
      "top": null,
      "visibility": null,
      "width": null
     }
    }
   }
  }
 },
 "nbformat": 4,
 "nbformat_minor": 1
}
