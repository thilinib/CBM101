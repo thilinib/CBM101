{
 "cells": [
  {
   "cell_type": "markdown",
   "metadata": {},
   "source": [
    "# EDA on Breast Cancer Wisconsin (Diagnostic) "
   ]
  },
  {
   "cell_type": "markdown",
   "metadata": {},
   "source": [
    "About Dataset\n",
    "\n",
    "\n",
    "<img src=\"assets/breast_cancer.png\"/>\n",
    "\n",
    "The above picture includes sample images derived from breast biopsies. Images on the left belong to patients who were diagnosed with benign tumors and images on the right belong to patients who were diagnosed with malignant tumors.\n",
    "\n",
    "The Breast Cancer Wisconsin data set contains 569 observations across 32 attributes. The attribute set includes the patient ID number, the diagnosis (malignant or benign) and 30 real-valued numerical variables derived from 10 features which are extracted from the images. \n",
    "\n",
    "1. radius (mean of distances from center to points on the perimeter)\n",
    "2. texture (standard deviation of gray-scale values)\n",
    "3. perimeter\n",
    "4. area\n",
    "5. smoothness (local variation in radius lengths)\n",
    "6. compactness (perimeter2 / area - 1.0)\n",
    "7. concavity (severity of concave portions of the contour)\n",
    "8. concave points (number of concave portions of the contour)\n",
    "9. symmetry\n",
    "10. fractal dimension (“coastline approximation” - 1)\n",
    "\n",
    "\n",
    "For each of the 10 features, there are 3 numerical variables, representing the mean, the standard error of the mean and the “worst” (mean of three largest values)."
   ]
  },
  {
   "cell_type": "markdown",
   "metadata": {},
   "source": [
    "Load packages"
   ]
  },
  {
   "cell_type": "code",
   "execution_count": 1,
   "metadata": {},
   "outputs": [],
   "source": [
    "# import libraries\n",
    "import pandas as pd\n",
    "from matplotlib import pyplot as plt\n",
    "import seaborn as sns"
   ]
  },
  {
   "cell_type": "markdown",
   "metadata": {},
   "source": [
    "Use this Breast cancer dataset to do the following tasks."
   ]
  },
  {
   "cell_type": "markdown",
   "metadata": {},
   "source": [
    "Load csv\n"
   ]
  },
  {
   "cell_type": "code",
   "execution_count": null,
   "metadata": {},
   "outputs": [],
   "source": [
    "data = pd.read_csv('data/breast_cancer.csv')"
   ]
  },
  {
   "cell_type": "markdown",
   "metadata": {},
   "source": [
    "What do the rows and columns represent here?\n",
    "\n",
    "How many samples does the data have? What about features?\n",
    "\n"
   ]
  },
  {
   "cell_type": "code",
   "execution_count": null,
   "metadata": {},
   "outputs": [],
   "source": []
  },
  {
   "cell_type": "markdown",
   "metadata": {},
   "source": [
    "Do you have categorical variables?\n",
    "\n",
    "If yes you can do following.\n",
    "You can change categorical (non-numeric) features to dummy variables (1/0 i.e. True/False) using pd.get_dummies() method. E.g. If you have DataFrame df that has column Gender that has M and F values, you can run get_dummies(df, column=['Gender']) and you get two new columns: Gender_F and Gender_M that both consist of boolean values 1 and 0."
   ]
  },
  {
   "cell_type": "code",
   "execution_count": null,
   "metadata": {},
   "outputs": [],
   "source": []
  },
  {
   "cell_type": "markdown",
   "metadata": {},
   "source": [
    "Choose a few features and plot histograms of them. What do they tell you? Describe the plots.\n",
    "\n"
   ]
  },
  {
   "cell_type": "code",
   "execution_count": null,
   "metadata": {},
   "outputs": [],
   "source": []
  },
  {
   "cell_type": "markdown",
   "metadata": {},
   "source": [
    "The dataset has something called a target variable. It's the feature of the dataset you want to gain better understanding and other features might explain. Usually its some kind of class. For example in iris dataset the target would be the species and explaining variables are the length and the width of the sepals and petals. \n",
    "\n",
    "What is the target variable in your data? What are the different classes (e.g. if the values are 0s and 1s, what do they mean?)\n",
    "\n"
   ]
  },
  {
   "cell_type": "code",
   "execution_count": null,
   "metadata": {},
   "outputs": [],
   "source": []
  },
  {
   "cell_type": "markdown",
   "metadata": {},
   "source": [
    "Data cleaning and preprocessing\n",
    "\n",
    "Are there any null or missing values? Any unrelated columns?\n",
    "\n",
    "If yes, show the way you identify them and how to remove/impute them?"
   ]
  },
  {
   "cell_type": "code",
   "execution_count": null,
   "metadata": {},
   "outputs": [],
   "source": []
  },
  {
   "cell_type": "markdown",
   "metadata": {},
   "source": [
    "Calculate correlation between all numeric features using DataFrame function corr(). Then use it to make a heatmap.\n",
    "\n"
   ]
  },
  {
   "cell_type": "code",
   "execution_count": null,
   "metadata": {},
   "outputs": [],
   "source": []
  },
  {
   "cell_type": "markdown",
   "metadata": {},
   "source": [
    "Choose features that correlate (positively or negatively) with your target and make a pairplot using your target as hue. Can you make any interesting observations?"
   ]
  },
  {
   "cell_type": "code",
   "execution_count": null,
   "metadata": {},
   "outputs": [],
   "source": []
  },
  {
   "cell_type": "markdown",
   "metadata": {},
   "source": [
    "Now make at least three other plots of your choice to see what the data is like. You can also calculate statistics and use the information from the heatmap to get ideas what could be interesting to plot. Feel free to experiment and write down any observations you can make from the plots."
   ]
  }
 ],
 "metadata": {
  "kernelspec": {
   "display_name": "Python 3 (ipykernel)",
   "language": "python",
   "name": "python3"
  },
  "orig_nbformat": 4
 },
 "nbformat": 4,
 "nbformat_minor": 2
}
