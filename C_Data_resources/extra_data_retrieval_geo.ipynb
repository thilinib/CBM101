{
 "cells": [
  {
   "cell_type": "markdown",
   "metadata": {
    "collapsed": true
   },
   "source": [
    "<h1 style=\"color:blue\"> Data retrieval from GEO</h1>"
   ]
  },
  {
   "cell_type": "markdown",
   "metadata": {},
   "source": [
    "In this exercise, we are downloading data from the NCBI GEO database via programmatic access. This exercise is based on the example from https://geoparse.readthedocs.io/en/latest/usage.html#examples."
   ]
  },
  {
   "cell_type": "markdown",
   "metadata": {},
   "source": [
    "GEOparse is a Python library to access Gene Expression Omnibus Database (GEO). GEOparse.get_GEO() will check the GEO database for a specified accession ID and download it to specified directory. The result will be loaded into GEOparse.GSE file. See the documentation in https://geoparse.readthedocs.io/en/latest/introduction.html#features.\n",
    "\n",
    "\n",
    "We will get familiar with exploring unfamiliar data."
   ]
  },
  {
   "cell_type": "markdown",
   "metadata": {},
   "source": [
    "## Import libraries"
   ]
  },
  {
   "cell_type": "markdown",
   "metadata": {},
   "source": [
    "The first step is to import the required Python libraries. \n"
   ]
  },
  {
   "cell_type": "code",
   "execution_count": 1,
   "metadata": {},
   "outputs": [],
   "source": [
    "import GEOparse\n",
    "# To read, write and process tabular data:\n",
    "import pandas as pd"
   ]
  },
  {
   "cell_type": "markdown",
   "metadata": {},
   "source": [
    "## Exercise 1"
   ]
  },
  {
   "cell_type": "markdown",
   "metadata": {},
   "source": [
    "Let's download an example data set from the study \"Kidney Transplant Rejection and Tissue Injury by Gene Profiling of Biopsies and Peripheral Blood Lymphocytes\" by Flechner et al, 2007 (https://www.ncbi.nlm.nih.gov/pmc/articles/PMC2041877/)."
   ]
  },
  {
   "cell_type": "code",
   "execution_count": null,
   "metadata": {},
   "outputs": [],
   "source": [
    "# Check your current working folder if necessary:\n",
    "import os\n",
    "os.getcwd()"
   ]
  },
  {
   "cell_type": "code",
   "execution_count": 3,
   "metadata": {
    "scrolled": true
   },
   "outputs": [
    {
     "name": "stderr",
     "output_type": "stream",
     "text": [
      "28-Jun-2022 15:36:48 DEBUG utils - Directory ./ already exists. Skipping.\n",
      "28-Jun-2022 15:36:48 INFO GEOparse - Downloading ftp://ftp.ncbi.nlm.nih.gov/geo/series/GSE1nnn/GSE1563/soft/GSE1563_family.soft.gz to ./GSE1563_family.soft.gz\n",
      "100%|█████████████████████████████████████████████████████████████████████████████| 9.62M/9.62M [00:07<00:00, 1.31MB/s]\n",
      "28-Jun-2022 15:36:57 DEBUG downloader - Size validation passed\n",
      "28-Jun-2022 15:36:57 DEBUG downloader - Moving C:\\Users\\Aleksi\\AppData\\Local\\Temp\\tmptv8quqtf to C:\\Users\\Aleksi\\Documents\\UEF_laskennallinen_biomed\\CBM101\\C_Data_resources\\GSE1563_family.soft.gz\n",
      "28-Jun-2022 15:36:58 DEBUG downloader - Successfully downloaded ftp://ftp.ncbi.nlm.nih.gov/geo/series/GSE1nnn/GSE1563/soft/GSE1563_family.soft.gz\n",
      "28-Jun-2022 15:36:58 INFO GEOparse - Parsing ./GSE1563_family.soft.gz: \n",
      "28-Jun-2022 15:36:58 DEBUG GEOparse - DATABASE: GeoMiame\n",
      "28-Jun-2022 15:36:58 DEBUG GEOparse - SERIES: GSE1563\n",
      "28-Jun-2022 15:36:58 DEBUG GEOparse - PLATFORM: GPL8300\n",
      "28-Jun-2022 15:36:59 DEBUG GEOparse - SAMPLE: GSM26805\n",
      "28-Jun-2022 15:36:59 DEBUG GEOparse - SAMPLE: GSM26806\n",
      "28-Jun-2022 15:36:59 DEBUG GEOparse - SAMPLE: GSM26807\n",
      "28-Jun-2022 15:36:59 DEBUG GEOparse - SAMPLE: GSM26808\n",
      "28-Jun-2022 15:36:59 DEBUG GEOparse - SAMPLE: GSM26809\n",
      "28-Jun-2022 15:36:59 DEBUG GEOparse - SAMPLE: GSM26810\n",
      "28-Jun-2022 15:36:59 DEBUG GEOparse - SAMPLE: GSM26811\n",
      "28-Jun-2022 15:36:59 DEBUG GEOparse - SAMPLE: GSM26812\n",
      "28-Jun-2022 15:36:59 DEBUG GEOparse - SAMPLE: GSM26813\n",
      "28-Jun-2022 15:36:59 DEBUG GEOparse - SAMPLE: GSM26814\n",
      "28-Jun-2022 15:36:59 DEBUG GEOparse - SAMPLE: GSM26815\n",
      "28-Jun-2022 15:36:59 DEBUG GEOparse - SAMPLE: GSM26816\n",
      "28-Jun-2022 15:36:59 DEBUG GEOparse - SAMPLE: GSM26817\n",
      "28-Jun-2022 15:36:59 DEBUG GEOparse - SAMPLE: GSM26818\n",
      "28-Jun-2022 15:36:59 DEBUG GEOparse - SAMPLE: GSM26819\n",
      "28-Jun-2022 15:36:59 DEBUG GEOparse - SAMPLE: GSM26820\n",
      "28-Jun-2022 15:36:59 DEBUG GEOparse - SAMPLE: GSM26821\n",
      "28-Jun-2022 15:37:00 DEBUG GEOparse - SAMPLE: GSM26822\n",
      "28-Jun-2022 15:37:00 DEBUG GEOparse - SAMPLE: GSM26823\n",
      "28-Jun-2022 15:37:00 DEBUG GEOparse - SAMPLE: GSM26824\n",
      "28-Jun-2022 15:37:00 DEBUG GEOparse - SAMPLE: GSM26825\n",
      "28-Jun-2022 15:37:00 DEBUG GEOparse - SAMPLE: GSM26826\n",
      "28-Jun-2022 15:37:00 DEBUG GEOparse - SAMPLE: GSM26827\n",
      "28-Jun-2022 15:37:00 DEBUG GEOparse - SAMPLE: GSM26828\n",
      "28-Jun-2022 15:37:00 DEBUG GEOparse - SAMPLE: GSM26829\n",
      "28-Jun-2022 15:37:00 DEBUG GEOparse - SAMPLE: GSM26830\n",
      "28-Jun-2022 15:37:00 DEBUG GEOparse - SAMPLE: GSM26831\n",
      "28-Jun-2022 15:37:00 DEBUG GEOparse - SAMPLE: GSM26832\n",
      "28-Jun-2022 15:37:00 DEBUG GEOparse - SAMPLE: GSM26833\n",
      "28-Jun-2022 15:37:00 DEBUG GEOparse - SAMPLE: GSM26834\n",
      "28-Jun-2022 15:37:00 DEBUG GEOparse - SAMPLE: GSM26835\n",
      "28-Jun-2022 15:37:00 DEBUG GEOparse - SAMPLE: GSM26836\n",
      "28-Jun-2022 15:37:00 DEBUG GEOparse - SAMPLE: GSM26837\n",
      "28-Jun-2022 15:37:01 DEBUG GEOparse - SAMPLE: GSM26838\n",
      "28-Jun-2022 15:37:01 DEBUG GEOparse - SAMPLE: GSM26839\n",
      "28-Jun-2022 15:37:01 DEBUG GEOparse - SAMPLE: GSM26840\n",
      "28-Jun-2022 15:37:01 DEBUG GEOparse - SAMPLE: GSM26841\n",
      "28-Jun-2022 15:37:01 DEBUG GEOparse - SAMPLE: GSM26842\n",
      "28-Jun-2022 15:37:01 DEBUG GEOparse - SAMPLE: GSM26843\n",
      "28-Jun-2022 15:37:01 DEBUG GEOparse - SAMPLE: GSM26844\n",
      "28-Jun-2022 15:37:01 DEBUG GEOparse - SAMPLE: GSM26845\n",
      "28-Jun-2022 15:37:01 DEBUG GEOparse - SAMPLE: GSM26846\n",
      "28-Jun-2022 15:37:01 DEBUG GEOparse - SAMPLE: GSM26847\n",
      "28-Jun-2022 15:37:01 DEBUG GEOparse - SAMPLE: GSM26848\n",
      "28-Jun-2022 15:37:01 DEBUG GEOparse - SAMPLE: GSM26849\n",
      "28-Jun-2022 15:37:01 DEBUG GEOparse - SAMPLE: GSM26850\n",
      "28-Jun-2022 15:37:01 DEBUG GEOparse - SAMPLE: GSM26851\n",
      "28-Jun-2022 15:37:01 DEBUG GEOparse - SAMPLE: GSM26852\n",
      "28-Jun-2022 15:37:01 DEBUG GEOparse - SAMPLE: GSM26853\n",
      "28-Jun-2022 15:37:02 DEBUG GEOparse - SAMPLE: GSM26854\n",
      "28-Jun-2022 15:37:02 DEBUG GEOparse - SAMPLE: GSM26855\n",
      "28-Jun-2022 15:37:02 DEBUG GEOparse - SAMPLE: GSM26856\n",
      "28-Jun-2022 15:37:02 DEBUG GEOparse - SAMPLE: GSM26857\n",
      "28-Jun-2022 15:37:02 DEBUG GEOparse - SAMPLE: GSM26858\n",
      "28-Jun-2022 15:37:02 DEBUG GEOparse - SAMPLE: GSM26859\n",
      "28-Jun-2022 15:37:02 DEBUG GEOparse - SAMPLE: GSM26860\n",
      "28-Jun-2022 15:37:02 DEBUG GEOparse - SAMPLE: GSM26861\n",
      "28-Jun-2022 15:37:02 DEBUG GEOparse - SAMPLE: GSM26862\n",
      "28-Jun-2022 15:37:02 DEBUG GEOparse - SAMPLE: GSM26863\n",
      "28-Jun-2022 15:37:02 DEBUG GEOparse - SAMPLE: GSM26864\n",
      "28-Jun-2022 15:37:02 DEBUG GEOparse - SAMPLE: GSM26865\n",
      "28-Jun-2022 15:37:02 DEBUG GEOparse - SAMPLE: GSM26866\n"
     ]
    }
   ],
   "source": [
    "# download the data set using GEOparse(the data is available in GEO database with the accession ID GSE1563)\n",
    "\n",
    "kidney_data = GEOparse.get_GEO(geo=\"GSE1563\", destdir=\"./\")\n",
    "\n"
   ]
  },
  {
   "cell_type": "markdown",
   "metadata": {},
   "source": [
    "<div class='alert alert-warning'>\n",
    "<h4>Exercise 1.  </h4>Inspect your downloaded data. a) what data type is it?"
   ]
  },
  {
   "cell_type": "code",
   "execution_count": null,
   "metadata": {},
   "outputs": [],
   "source": [
    "# Ex1\n"
   ]
  },
  {
   "cell_type": "code",
   "execution_count": null,
   "metadata": {},
   "outputs": [],
   "source": [
    "# %load solutions/ex1_1a.py"
   ]
  },
  {
   "cell_type": "markdown",
   "metadata": {},
   "source": [
    "<div class='alert alert-warning'>\n",
    " b) what does it contain? Try to play around to access these different contents.\n",
    "Hint: use `dir` or write `kidney_data.` and press Tab"
   ]
  },
  {
   "cell_type": "code",
   "execution_count": null,
   "metadata": {},
   "outputs": [],
   "source": [
    "# b)\n"
   ]
  },
  {
   "cell_type": "code",
   "execution_count": null,
   "metadata": {},
   "outputs": [],
   "source": [
    "# %load solutions/ex1_1b.py"
   ]
  },
  {
   "cell_type": "markdown",
   "metadata": {},
   "source": [
    "<div class='alert alert-warning'>\n",
    "c) look into the GSMs of `kidney_data`. \n",
    "Hint: you can also use the Tab trick multiple times to go deeper e.g. `kidney_data.gsms.` and press Tab"
   ]
  },
  {
   "cell_type": "code",
   "execution_count": null,
   "metadata": {},
   "outputs": [],
   "source": [
    "kidney_data.gsms"
   ]
  },
  {
   "cell_type": "code",
   "execution_count": null,
   "metadata": {},
   "outputs": [],
   "source": [
    "# c)\n"
   ]
  },
  {
   "cell_type": "code",
   "execution_count": null,
   "metadata": {},
   "outputs": [],
   "source": [
    "# %load solutions/ex1_1c.py"
   ]
  },
  {
   "cell_type": "markdown",
   "metadata": {},
   "source": [
    "### Printing a summary\n",
    "We could then do something like this:"
   ]
  },
  {
   "cell_type": "code",
   "execution_count": null,
   "metadata": {
    "scrolled": true
   },
   "outputs": [],
   "source": [
    "# A GSM (or a Sample) contains information the conditions and preparation of the sample\n",
    "\n",
    "print(\"GSM example:\\n-------------\")\n",
    "for gsm_name, gsm in kidney_data.gsms.items():\n",
    "    print(\"Name: \", gsm_name)\n",
    "    print(\"Metadata:\",)\n",
    "    for key, value in gsm.metadata.items():\n",
    "        print(\" - %s : %s\" % (key, \", \".join(value)))\n",
    "    print (\"Table data:\",)\n",
    "    print()\n",
    "    print (gsm.table.head())\n",
    "    break # so we stop after the first\n",
    "    "
   ]
  },
  {
   "cell_type": "markdown",
   "metadata": {},
   "source": [
    "or this:"
   ]
  },
  {
   "cell_type": "code",
   "execution_count": null,
   "metadata": {},
   "outputs": [],
   "source": [
    "# A GPL (or a Platform) contains a tab-delimited table containing the array definition eg. mappings from probe IDs to RefSeq IDs\n",
    "\n",
    "print()\n",
    "print(\"GPL example:\\n-------------\")\n",
    "for gpl_name, gpl in kidney_data.gpls.items():\n",
    "    print(\"Name: \", gpl_name)\n",
    "    print(\"Metadata:\",)\n",
    "    for key, value in gpl.metadata.items():\n",
    "        print(\" - %s : %s\" % (key, \", \".join(value)))\n",
    "    print(\"Table data:\",)\n",
    "    print(gpl.table.head())\n",
    "    break"
   ]
  },
  {
   "cell_type": "markdown",
   "metadata": {},
   "source": [
    "<div class='alert alert-warning'>\n",
    "<h4>Exercise 2. </h4>a.\n",
    "Now your task is to load the data set from the study \"A circadian gene expression atlas in mammals assayed by microarray\" by Zhang et al (http://www.pnas.org/content/111/45/16219.long). The data is available in the GEO database (https://www.ncbi.nlm.nih.gov/geo/query/acc.cgi?acc=GSE54650, accession ID 54650)."
   ]
  },
  {
   "cell_type": "code",
   "execution_count": null,
   "metadata": {},
   "outputs": [],
   "source": [
    "# Ex2\n"
   ]
  },
  {
   "cell_type": "code",
   "execution_count": null,
   "metadata": {},
   "outputs": [],
   "source": [
    "# %load solutions/ex1_2a.py"
   ]
  },
  {
   "cell_type": "markdown",
   "metadata": {},
   "source": [
    "<div class='alert alert-warning'>\n",
    "b) use the GSM example and GPL example codes above to print information of the data"
   ]
  },
  {
   "cell_type": "code",
   "execution_count": null,
   "metadata": {},
   "outputs": [],
   "source": [
    "# b)"
   ]
  },
  {
   "cell_type": "code",
   "execution_count": null,
   "metadata": {},
   "outputs": [],
   "source": [
    "# %load solutions/ex1_2b.py"
   ]
  }
 ],
 "metadata": {
  "kernelspec": {
   "display_name": "Python 3 (ipykernel)",
   "language": "python",
   "name": "python3"
  },
  "language_info": {
   "codemirror_mode": {
    "name": "ipython",
    "version": 3
   },
   "file_extension": ".py",
   "mimetype": "text/x-python",
   "name": "python",
   "nbconvert_exporter": "python",
   "pygments_lexer": "ipython3",
   "version": "3.10.4"
  },
  "toc": {
   "base_numbering": 1,
   "nav_menu": {},
   "number_sections": false,
   "sideBar": true,
   "skip_h1_title": false,
   "title_cell": "Table of Contents",
   "title_sidebar": "Contents",
   "toc_cell": true,
   "toc_position": {},
   "toc_section_display": true,
   "toc_window_display": true
  }
 },
 "nbformat": 4,
 "nbformat_minor": 2
}
