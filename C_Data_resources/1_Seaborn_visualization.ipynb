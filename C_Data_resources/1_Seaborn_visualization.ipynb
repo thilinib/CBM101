{
 "cells": [
  {
   "cell_type": "markdown",
   "metadata": {},
   "source": [
    "# Data visualization basics with Seaborn"
   ]
  },
  {
   "cell_type": "markdown",
   "metadata": {},
   "source": [
    "In data-intensive research it is important to visualize data. Data visualization gives us a clear idea of what the information (inside your data) means by giving it visual context through graphs. This makes the data more natural for the human mind for data interpretation and therefore makes it easier to identify trends, patterns, and outliers within large datasets.\n",
    "\n",
    "For Python, there are multiple different data visualization libraries, such as:\n",
    "\n",
    "* [Matplotlib](https://matplotlib.org/) (basic visualization library)\n",
    "* [Seaborn](https://seaborn.pydata.org) (low-code visualization library)\n",
    "* [Plotly](https://plotly.com/python/) (highly interactive library)\n",
    "* [Plotnine](https://plotnine.readthedocs.io/en/stable/) (R's ggplot2 like library)\n",
    "\n",
    "### Goal of this notebook\n",
    "\n",
    "In this notebook you will go over data visualization examples using famous Iris dataset and Seaborn library. Iris data can be found from UCI Machine Learning repository and you can read more information about this from [here](https://archive.ics.uci.edu/ml/datasets/iris)."
   ]
  },
  {
   "cell_type": "code",
   "execution_count": 1,
   "metadata": {},
   "outputs": [],
   "source": [
    "import pandas as pd\n",
    "import numpy as np\n",
    "import matplotlib.pyplot as plt\n",
    "import seaborn as sns"
   ]
  },
  {
   "cell_type": "code",
   "execution_count": 2,
   "metadata": {},
   "outputs": [],
   "source": [
    "#Let's fetch Iris data directly from UCI Machine Learning Repository and add column names to it\n",
    "df = pd.read_csv('https://archive.ics.uci.edu/ml/machine-learning-databases/iris/iris.data',header=None, names=['sepal length','sepal width','petal length','petal width','class'])"
   ]
  },
  {
   "cell_type": "code",
   "execution_count": null,
   "metadata": {},
   "outputs": [],
   "source": [
    "#Check few first lines of the data\n",
    "df.head()"
   ]
  },
  {
   "cell_type": "markdown",
   "metadata": {},
   "source": [
    "Now we have read the data into our notebook. Note that we have read it directly from UCI Machine learning repository and not from our local repository. If you want, you can save the file using Pandas' `write_csv()` function. To remind us about the data let's see what we have inside the dataframe."
   ]
  },
  {
   "cell_type": "code",
   "execution_count": null,
   "metadata": {},
   "outputs": [],
   "source": [
    "df.info()"
   ]
  },
  {
   "cell_type": "markdown",
   "metadata": {},
   "source": [
    "So, we have four numerical columns and one categorical. This gives us an idea what we can visualize. Also note that we have no missing values in the data which might have caused an issue when doing machine learning (this will be covered later in the course). \n",
    "\n",
    "You might be familiar with data visualization from your previous studies in statistics. In short, Seaborn offers vast possibilities of graphs, such as:\n",
    "\n",
    "* scatterplot (relationship between two numerical variables)\n",
    "* histogram (distribution of numerical variable)\n",
    "* boxplot (distribution of variable)\n",
    "* violinplot (different visualiation of distribution)\n",
    "* barplot (point estimate such as mean of the variable, can add e.g. error bars)\n",
    "* heatmap (correlation between variables)\n",
    "* pairplot (pairwise relationships in data)\n",
    "\n",
    "For more extensive list with examples check Seaborn graph library [here](https://seaborn.pydata.org/examples/index.html)."
   ]
  },
  {
   "cell_type": "markdown",
   "metadata": {},
   "source": [
    "## Scatterplot"
   ]
  },
  {
   "cell_type": "markdown",
   "metadata": {},
   "source": [
    "Simple scatterplot can be done by giving x and y values for the plot."
   ]
  },
  {
   "cell_type": "code",
   "execution_count": null,
   "metadata": {},
   "outputs": [],
   "source": [
    "sns.scatterplot(data=df, x='sepal length', y='sepal width')"
   ]
  },
  {
   "cell_type": "markdown",
   "metadata": {},
   "source": [
    "When you add `hue` argument as something categorical you can add colors to dots from different categories. This might be useful when you want to see if there are specific groupings of dots in your data."
   ]
  },
  {
   "cell_type": "code",
   "execution_count": null,
   "metadata": {},
   "outputs": [],
   "source": [
    "#note that you can change the plot using matplotlib library, don't worry about it now :D\n",
    "sns.scatterplot(data=df, x='sepal length', y='sepal width', hue='class')\n",
    "plt.legend(bbox_to_anchor=(1.35, 0.5), loc='right') #move legend outside the plot"
   ]
  },
  {
   "cell_type": "markdown",
   "metadata": {},
   "source": [
    "For additional settings you can try e.g. `style` and `size` parameters. You can play around as much as you want."
   ]
  },
  {
   "cell_type": "code",
   "execution_count": null,
   "metadata": {},
   "outputs": [],
   "source": [
    "sns.scatterplot(data=df, x='sepal length', y='sepal width', hue='class', style='class', size='class')\n",
    "plt.legend(bbox_to_anchor=(1.35, 0.5), loc='right') #move legend outside the plot"
   ]
  },
  {
   "cell_type": "markdown",
   "metadata": {},
   "source": [
    "## Histogram"
   ]
  },
  {
   "cell_type": "code",
   "execution_count": null,
   "metadata": {},
   "outputs": [],
   "source": [
    "sns.histplot(data=df, x='sepal length',bins=15) #bins is the number of bars in the histogram"
   ]
  },
  {
   "cell_type": "markdown",
   "metadata": {},
   "source": [
    "Kernel density estimation (KDE) can be used for univariate density plot."
   ]
  },
  {
   "cell_type": "code",
   "execution_count": null,
   "metadata": {},
   "outputs": [],
   "source": [
    "sns.kdeplot(data=df, x='sepal length') #kernel density estimation"
   ]
  },
  {
   "cell_type": "markdown",
   "metadata": {},
   "source": [
    "As with scatterplots you can use `hue` argument to see differences between groups in the distribution. "
   ]
  },
  {
   "cell_type": "code",
   "execution_count": null,
   "metadata": {},
   "outputs": [],
   "source": [
    "sns.histplot(data=df, x='sepal length',bins=15, hue='class')"
   ]
  },
  {
   "cell_type": "markdown",
   "metadata": {},
   "source": [
    "Density plot might be easier to interpret than traditional histograms."
   ]
  },
  {
   "cell_type": "code",
   "execution_count": null,
   "metadata": {},
   "outputs": [],
   "source": [
    "sns.kdeplot(data=df, x='sepal length', hue='class', fill=True) #fill=True fills the area under the curve"
   ]
  },
  {
   "cell_type": "markdown",
   "metadata": {},
   "source": [
    "## Boxplot and violinplot"
   ]
  },
  {
   "cell_type": "code",
   "execution_count": null,
   "metadata": {},
   "outputs": [],
   "source": [
    "sns.boxplot(data=df,x='class', y='sepal width')"
   ]
  },
  {
   "cell_type": "code",
   "execution_count": null,
   "metadata": {},
   "outputs": [],
   "source": [
    "sns.violinplot(data=df,x='class', y='sepal width')"
   ]
  },
  {
   "cell_type": "markdown",
   "metadata": {},
   "source": [
    "## Barplot"
   ]
  },
  {
   "cell_type": "code",
   "execution_count": null,
   "metadata": {},
   "outputs": [],
   "source": [
    "sns.barplot(data=df,x='class', y='sepal width')"
   ]
  },
  {
   "cell_type": "markdown",
   "metadata": {},
   "source": [
    "## Heatmap"
   ]
  },
  {
   "cell_type": "code",
   "execution_count": null,
   "metadata": {},
   "outputs": [],
   "source": [
    "sns.heatmap(df.corr(),cmap = 'coolwarm', annot=True)"
   ]
  },
  {
   "cell_type": "markdown",
   "metadata": {},
   "source": [
    "Since heatmap is diagonally symmetric we can remove either upper triangle matrix or lower triangle matrix. In addition to this we can remove the diagonal since correlation of variable with itself is always one."
   ]
  },
  {
   "cell_type": "code",
   "execution_count": null,
   "metadata": {},
   "outputs": [],
   "source": [
    "#Don't worry about the mask argument, it's just to make the heatmap look nicer :)\n",
    "sns.heatmap(df.corr(),cmap = 'coolwarm', annot=True, mask=np.triu(np.ones_like(df.corr(), dtype=bool)))"
   ]
  },
  {
   "cell_type": "markdown",
   "metadata": {},
   "source": [
    "## Pairplot"
   ]
  },
  {
   "cell_type": "markdown",
   "metadata": {},
   "source": [
    "Seaborn's pairplot is a quick and simple way to plot multiple variables in one large pairwise plot. Again, `hue` is used for getting categories."
   ]
  },
  {
   "cell_type": "code",
   "execution_count": null,
   "metadata": {},
   "outputs": [],
   "source": [
    "sns.pairplot(df, hue='class')"
   ]
  },
  {
   "cell_type": "markdown",
   "metadata": {},
   "source": [
    "## Customizing plots"
   ]
  },
  {
   "cell_type": "markdown",
   "metadata": {},
   "source": [
    "Seaborn is very flexible library. You can add things to your graphs using matplotlib's pyplot (imported as plt), e.g. plot title. In this section we are looking into some customatization options. As simple base plot we will use scatterplot."
   ]
  },
  {
   "cell_type": "code",
   "execution_count": null,
   "metadata": {},
   "outputs": [],
   "source": [
    "sns.scatterplot(data=df, x='sepal length', y='sepal width', hue='class',palette=['red','blue','green'])\n",
    "plt.legend(bbox_to_anchor=(1.35, 0.5), loc='right') #move legend outside the plot"
   ]
  },
  {
   "cell_type": "markdown",
   "metadata": {},
   "source": [
    "You can use hex-codes for colors!"
   ]
  },
  {
   "cell_type": "code",
   "execution_count": null,
   "metadata": {},
   "outputs": [],
   "source": [
    "sns.scatterplot(data=df, x='sepal length', y='sepal width', hue='class',palette=['#D60270', '#9B4F96', '#0038A8'])\n",
    "plt.legend(bbox_to_anchor=(1.35, 0.5), loc='right')"
   ]
  },
  {
   "cell_type": "code",
   "execution_count": null,
   "metadata": {},
   "outputs": [],
   "source": [
    "sns.scatterplot(data=df, x='sepal length', y='sepal width', hue='class',palette=['red','blue','green'])\n",
    "plt.legend(bbox_to_anchor=(1.35, 0.5), loc='right')\n",
    "plt.title('Sepal length vs. Sepal width') #add title\n",
    "plt.xlabel('Sepal length') #add x label\n",
    "plt.ylabel('Sepal width') #add y label"
   ]
  },
  {
   "cell_type": "code",
   "execution_count": null,
   "metadata": {},
   "outputs": [],
   "source": [
    "sns.scatterplot(data=df, x='sepal length', y='sepal width', hue='class',palette=['red','blue','green'])\n",
    "plt.legend(bbox_to_anchor=(1.35, 0.5), loc='right')\n",
    "plt.title('Sepal length vs. Sepal width') #add title\n",
    "plt.xlabel('Sepal length') #add x label\n",
    "plt.ylabel('Sepal width') #add y label\n",
    "plt.xlim(4,8) #set x axis limits\n",
    "plt.ylim(1,5) #set y axis limits"
   ]
  }
 ],
 "metadata": {
  "kernelspec": {
   "display_name": "Python 3 (ipykernel)",
   "language": "python",
   "name": "python3"
  },
  "language_info": {
   "codemirror_mode": {
    "name": "ipython",
    "version": 3
   },
   "file_extension": ".py",
   "mimetype": "text/x-python",
   "name": "python",
   "nbconvert_exporter": "python",
   "pygments_lexer": "ipython3",
   "version": "3.10.4"
  },
  "toc": {
   "base_numbering": 1,
   "nav_menu": {},
   "number_sections": false,
   "sideBar": true,
   "skip_h1_title": false,
   "title_cell": "Table of Contents",
   "title_sidebar": "Contents",
   "toc_cell": false,
   "toc_position": {},
   "toc_section_display": true,
   "toc_window_display": false
  },
  "vscode": {
   "interpreter": {
    "hash": "c16c7fc3e7e337d3e6bd24fdc932065790a6f6042edc1a7eebc7ad2b2baa681c"
   }
  }
 },
 "nbformat": 4,
 "nbformat_minor": 2
}
