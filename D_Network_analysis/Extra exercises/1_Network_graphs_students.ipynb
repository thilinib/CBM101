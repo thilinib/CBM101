{
 "cells": [
  {
   "cell_type": "markdown",
   "metadata": {},
   "source": [
    "<h1> A social network of interactions</h1><br>\n",
    "In this notebook we will show you some of the common commands you can use when you study and make network graphs using Python.We will use a simple example with a bunch of kids who have been interacting with eachother during a school day. Some of them got sick with a virus infection later same day. We will study the network to see if it can tell us something about the transmission of the virus among the kids. "
   ]
  },
  {
   "cell_type": "code",
   "execution_count": null,
   "metadata": {},
   "outputs": [],
   "source": [
    "import networkx as nx\n",
    "from datetime import datetime\n",
    "import matplotlib.pyplot as plt\n",
    "import numpy as np\n",
    "import warnings\n",
    "#from custom import load_data as cf\n",
    "import csv\n",
    "#from operator import itemgetter\n",
    "#import community \n",
    "import pandas as pd\n",
    "#from custom import ecdf\n",
    "from statsmodels.distributions.empirical_distribution import ECDF\n",
    "\n",
    "warnings.filterwarnings('ignore')\n",
    "\n",
    "%load_ext autoreload\n",
    "%autoreload 2\n",
    "%matplotlib inline\n",
    "%config InlineBackend.figure_format = 'retina'"
   ]
  },
  {
   "cell_type": "markdown",
   "metadata": {},
   "source": [
    "## Loading data¶\n",
    "\n",
    "- Load the two csv files: \n",
    "        Kids_nodes.csv (contains names and information about whether the kid got sick or not) \n",
    "        Kids_edges.cvs (contains information about who played with whom)\n",
    "        (If you would like to see the content of the two files use pd.read_csv(\"kids_nodes.csv\") and pd.read_csv(\"kids_edges.csv\"))"
   ]
  },
  {
   "cell_type": "code",
   "execution_count": null,
   "metadata": {},
   "outputs": [],
   "source": [
    "# Open the file with nodes\n",
    "with open('./data/kids_nodes.csv', 'r') as nodecsv:                 \n",
    "    nodereader = csv.reader(nodecsv) \n",
    "    nodes = [n for n in nodereader][1:]       \n",
    "    \n",
    "# Get a list of only the node names                                       \n",
    "node_names = [n[0] for n in nodes]   "
   ]
  },
  {
   "cell_type": "code",
   "execution_count": null,
   "metadata": {},
   "outputs": [],
   "source": [
    "# Open the file with edges\n",
    "with open('./data/kids_edges.csv', 'r') as edgecsv:\n",
    "    edgereader = csv.reader(edgecsv) \n",
    "    edges = [tuple(e) for e in edgereader][1:] \n",
    " "
   ]
  },
  {
   "cell_type": "code",
   "execution_count": null,
   "metadata": {},
   "outputs": [],
   "source": [
    "# create a new graph\n",
    "G = nx.Graph()\n",
    "\n",
    "# add nodes and edges to that graph\n",
    "G.add_nodes_from(node_names)\n",
    "G.add_edges_from(edges)"
   ]
  },
  {
   "cell_type": "markdown",
   "metadata": {},
   "source": [
    "##  Nodes and edges\n",
    "Let us first look at the nodes and edges in the network that we are going to create. "
   ]
  },
  {
   "cell_type": "markdown",
   "metadata": {},
   "source": [
    "We can start by examining out how many nodes the network contains. We do so by finding the length of the list containing the nodes of the networks.\n",
    "At the same time we would also like to see the names of the nodes. The list may though be very long so we can limit the number of nodes we would like to see by using [0:5] which will only return the first five nodes."
   ]
  },
  {
   "cell_type": "code",
   "execution_count": null,
   "metadata": {
    "scrolled": true
   },
   "outputs": [],
   "source": [
    "# The number of nodes in the network\n",
    "print(len(G.nodes()))\n",
    "\n",
    "# The first five nodes in the network\n",
    "print(list(G.nodes())[0:5])"
   ]
  },
  {
   "cell_type": "markdown",
   "metadata": {
    "tags": [
     "style-student"
    ]
   },
   "source": [
    "<div class='alert alert-warning'>\n",
    "<h4>Exercise 1.</h4>  Now, it turned out that this list was not very long. Edit the code to get the name of the rest of the nodes (excl. the names of the first five nodes)"
   ]
  },
  {
   "cell_type": "code",
   "execution_count": null,
   "metadata": {},
   "outputs": [],
   "source": [
    "# Ex1\n"
   ]
  },
  {
   "cell_type": "code",
   "execution_count": null,
   "metadata": {},
   "outputs": [],
   "source": [
    "# %load solutions/ex1_1.py"
   ]
  },
  {
   "cell_type": "markdown",
   "metadata": {},
   "source": [
    "Now let us look at the same for the edges. Firstly, the links in this network is represented in the form of edge list (a list of each connected pair). \n",
    "\n",
    "The number of edges in the network is also represented by the lenght of the list of edges. So we can simply reuse the command for the length of the list of nodes and exchange the word nodes with the word edges. The same can be done for the list-commands."
   ]
  },
  {
   "cell_type": "code",
   "execution_count": null,
   "metadata": {},
   "outputs": [],
   "source": [
    "G.edges()"
   ]
  },
  {
   "cell_type": "markdown",
   "metadata": {},
   "source": [
    "<div class='alert alert-warning'>\n",
    "<h4>Exercise 2.</h4> How many edges are there in G?"
   ]
  },
  {
   "cell_type": "code",
   "execution_count": null,
   "metadata": {},
   "outputs": [],
   "source": [
    "# Ex2\n"
   ]
  },
  {
   "cell_type": "code",
   "execution_count": null,
   "metadata": {},
   "outputs": [],
   "source": [
    "# %load solutions/ex1_2.py"
   ]
  },
  {
   "cell_type": "markdown",
   "metadata": {},
   "source": [
    "The `print` statement also let's us report the data in a more readable fassion, for instance:"
   ]
  },
  {
   "cell_type": "code",
   "execution_count": null,
   "metadata": {},
   "outputs": [],
   "source": [
    "print(\"number of nodes: \",  G.number_of_nodes())"
   ]
  },
  {
   "cell_type": "markdown",
   "metadata": {},
   "source": [
    "<div class='alert alert-warning'>\n",
    "<h4>Exercise 3a.</h4> Are there any students named Lea in G? Remember that the names in the graph are in lowercase.\n",
    "  </div> \n",
    "  \n",
    "*Tip: write `G.` and press Tab to pop up a window of available attributes and methods. Maybe what you are looking for is in there?*"
   ]
  },
  {
   "cell_type": "code",
   "execution_count": null,
   "metadata": {},
   "outputs": [],
   "source": [
    "# a)\n"
   ]
  },
  {
   "cell_type": "code",
   "execution_count": null,
   "metadata": {},
   "outputs": [],
   "source": [
    "# %load solutions/ex1_3a.py"
   ]
  },
  {
   "cell_type": "markdown",
   "metadata": {},
   "source": [
    "<div class='alert alert-warning'>\n",
    "<h4>Exercise 3b.</h4> Did Mette and Anna have any contact at the day of the study?"
   ]
  },
  {
   "cell_type": "code",
   "execution_count": null,
   "metadata": {},
   "outputs": [],
   "source": [
    "# b)\n"
   ]
  },
  {
   "cell_type": "code",
   "execution_count": null,
   "metadata": {},
   "outputs": [],
   "source": [
    "# %load solutions/ex1_3b.py"
   ]
  },
  {
   "cell_type": "markdown",
   "metadata": {},
   "source": [
    "##  Drawing the network\n",
    "Now we know a bit about the size and nature of the network. Let's try to draw the network - without and with names on the nodes."
   ]
  },
  {
   "cell_type": "markdown",
   "metadata": {},
   "source": [
    "We do so by using the command nx.draw from the networkx package"
   ]
  },
  {
   "cell_type": "code",
   "execution_count": null,
   "metadata": {},
   "outputs": [],
   "source": [
    "# Draw network\n",
    "nx.draw(G)"
   ]
  },
  {
   "cell_type": "markdown",
   "metadata": {},
   "source": [
    "The graph/network is drawn without labels on the nodes by default. You can change that by using the command nx.draw(G, with_labels=True)"
   ]
  },
  {
   "cell_type": "code",
   "execution_count": null,
   "metadata": {},
   "outputs": [],
   "source": [
    "# Draw network with labels\n",
    "nx.draw(G, with_labels=True, node_color='#d2eaf7')"
   ]
  },
  {
   "cell_type": "markdown",
   "metadata": {},
   "source": [
    "The two networks displayed probably look different because there is some randomness in the projection algorithm. However, keep in mind that the edges are the exact same, so they are **topologically** identical - an important concept."
   ]
  },
  {
   "cell_type": "markdown",
   "metadata": {},
   "source": [
    "Below you can see a code that can help you substract a sub-graph showing only the play mates of a specific kid. In the example below you will see who Anna has been playing with that day (you do not need to understand the entire code)."
   ]
  },
  {
   "cell_type": "code",
   "execution_count": null,
   "metadata": {},
   "outputs": [],
   "source": [
    "# create function for creating a subgraph\n",
    "def extract_subgraph(G, node):\n",
    "    new_G = nx.Graph()                   # new graph\n",
    "    for neighbor in G.neighbors(node):   # loop through neighbors of selected node\n",
    "        new_G.add_edge(node, neighbor)   # add edges \n",
    "    return new_G\n",
    "\n",
    "# make new subgraph and draw it with labels\n",
    "newG = extract_subgraph(G, 'anna')\n",
    "nx.draw(newG, with_labels=True)"
   ]
  },
  {
   "cell_type": "markdown",
   "metadata": {},
   "source": [
    "<div class='alert alert-warning'>\n",
    "<h4>Exercise 4a.</h4> Use the above function to display all the friends of Mads."
   ]
  },
  {
   "cell_type": "code",
   "execution_count": null,
   "metadata": {},
   "outputs": [],
   "source": [
    "# Ex4 a)\n"
   ]
  },
  {
   "cell_type": "code",
   "execution_count": null,
   "metadata": {},
   "outputs": [],
   "source": [
    "#%load solutions/ex1_4a.py"
   ]
  },
  {
   "cell_type": "markdown",
   "metadata": {},
   "source": [
    "<div class='alert alert-warning'>\n",
    "<h4> Exercise 4b.</h4> How many kids did Mads play with that day?"
   ]
  },
  {
   "cell_type": "code",
   "execution_count": null,
   "metadata": {},
   "outputs": [],
   "source": [
    "# 4b)\n"
   ]
  },
  {
   "cell_type": "code",
   "execution_count": null,
   "metadata": {},
   "outputs": [],
   "source": [
    "# %load solutions/ex1_4b.py"
   ]
  },
  {
   "cell_type": "markdown",
   "metadata": {},
   "source": [
    "## Extracting information about neighbors (centrality), degree of centrality and ranking based on centrality. \n",
    "We just saw how we could get subgraphs containing the playmates of a specific kid - in graph theory these will be the neighbors of a specific node. We can also make commands that will give us the information as numbers and lists. "
   ]
  },
  {
   "cell_type": "markdown",
   "metadata": {},
   "source": [
    "If we would like to know the neighbors (here playmates) of e.g. the first node (here Mads), we can use the G.neighbors(node) function."
   ]
  },
  {
   "cell_type": "code",
   "execution_count": null,
   "metadata": {},
   "outputs": [],
   "source": [
    "# Neighbors of the node with the name \"mads\"\n",
    "list(G.neighbors('mads'))"
   ]
  },
  {
   "cell_type": "markdown",
   "metadata": {},
   "source": [
    "The number of neighbors - i.e. the number of other nodes, that one node is connected to - is a measure of the nodes centrality. We could count them like we did above - or we could use the len function to find out the length of the list above. Let's use the `len` function."
   ]
  },
  {
   "cell_type": "code",
   "execution_count": null,
   "metadata": {},
   "outputs": [],
   "source": [
    "# The number of neighbors of the node \"mads\"? (i.e. what is the centrality of \"mads\")\n",
    "len(list(G.neighbors('mads')))"
   ]
  },
  {
   "cell_type": "markdown",
   "metadata": {},
   "source": [
    "Now pick any kid and calculate its centrality and see who the kid played with\n"
   ]
  },
  {
   "cell_type": "code",
   "execution_count": null,
   "metadata": {},
   "outputs": [],
   "source": [
    "# List of neighbors\n",
    "list(G.neighbors('jesper'))"
   ]
  },
  {
   "cell_type": "code",
   "execution_count": null,
   "metadata": {},
   "outputs": [],
   "source": [
    "# Calculation of centrality\n",
    "len(list(G.neighbors('jesper')))"
   ]
  },
  {
   "cell_type": "markdown",
   "metadata": {},
   "source": [
    "We can now rank the nodes based on how many nodes they have (the *degree*):"
   ]
  },
  {
   "cell_type": "code",
   "execution_count": null,
   "metadata": {},
   "outputs": [],
   "source": [
    "degs = G.degree\n",
    "print(degs)"
   ]
  },
  {
   "cell_type": "markdown",
   "metadata": {},
   "source": [
    "<div class='alert alert-warning'>\n",
    "<h4>Exercise 5a. </h4> Present nodes sorted by the number of degrees (descending order). We recommend using the built-in `sorted` function for this.\n",
    "    \n",
    "Problem: it sorts by default by the first element in the items (i.e. names alphabetically). Can you change that?"
   ]
  },
  {
   "cell_type": "code",
   "execution_count": null,
   "metadata": {},
   "outputs": [],
   "source": [
    "# this will not work:\n",
    "sorted(degs)"
   ]
  },
  {
   "cell_type": "markdown",
   "metadata": {},
   "source": [
    "To help you get started, inspect the documentation: "
   ]
  },
  {
   "cell_type": "code",
   "execution_count": null,
   "metadata": {},
   "outputs": [],
   "source": [
    "sorted??"
   ]
  },
  {
   "cell_type": "code",
   "execution_count": null,
   "metadata": {},
   "outputs": [],
   "source": [
    "# 5a)\n"
   ]
  },
  {
   "cell_type": "code",
   "execution_count": null,
   "metadata": {},
   "outputs": [],
   "source": [
    "# %load solutions/ex1_5a.py"
   ]
  },
  {
   "cell_type": "markdown",
   "metadata": {},
   "source": [
    "It is by default sorted from highest to lowest."
   ]
  },
  {
   "cell_type": "markdown",
   "metadata": {},
   "source": [
    "<div class='alert alert-warning'>\n",
    "<h4>Exercise 5b. </h4> Who has the second highest number of friends?\n",
    "</div>\n",
    "\n",
    "**Hint:** The degrees are stored in a custom made data structure by networkx:"
   ]
  },
  {
   "cell_type": "code",
   "execution_count": null,
   "metadata": {},
   "outputs": [],
   "source": [
    "# 5b)"
   ]
  },
  {
   "cell_type": "code",
   "execution_count": null,
   "metadata": {},
   "outputs": [],
   "source": [
    "# %load solutions/ex1_5b.py"
   ]
  },
  {
   "cell_type": "markdown",
   "metadata": {},
   "source": [
    "An equivalent function yields the degree normalized from 0-1"
   ]
  },
  {
   "cell_type": "code",
   "execution_count": null,
   "metadata": {
    "scrolled": true
   },
   "outputs": [],
   "source": [
    "degs = nx.algorithms.centrality.degree_centrality(G) #notice some floating point errors..."
   ]
  },
  {
   "cell_type": "code",
   "execution_count": null,
   "metadata": {},
   "outputs": [],
   "source": [
    "type(degs)"
   ]
  },
  {
   "cell_type": "markdown",
   "metadata": {},
   "source": [
    "This returns a `dict`, from which we can extract only the numerical values:"
   ]
  },
  {
   "cell_type": "code",
   "execution_count": null,
   "metadata": {},
   "outputs": [],
   "source": [
    "vals = list(degs.values())\n",
    "vals"
   ]
  },
  {
   "cell_type": "markdown",
   "metadata": {},
   "source": [
    "And now we can plot them. Here are a few different ways to represent them."
   ]
  },
  {
   "cell_type": "code",
   "execution_count": null,
   "metadata": {
    "scrolled": false
   },
   "outputs": [],
   "source": [
    "plt.boxplot(vals)\n",
    "plt.title('Degree Centralities')\n",
    "plt.show()"
   ]
  },
  {
   "cell_type": "code",
   "execution_count": null,
   "metadata": {},
   "outputs": [],
   "source": [
    "plt.hist(vals)\n",
    "plt.title('Degree Centralities')\n",
    "plt.show()"
   ]
  },
  {
   "cell_type": "code",
   "execution_count": null,
   "metadata": {},
   "outputs": [],
   "source": [
    "# let's make a empirical distribution function (eCDF)\n",
    "ecdf = ECDF(vals)\n",
    "x,y = ecdf.x, ecdf.y"
   ]
  },
  {
   "cell_type": "code",
   "execution_count": null,
   "metadata": {},
   "outputs": [],
   "source": [
    "plt.scatter(x,y)\n",
    "plt.title('Degree Centralities')"
   ]
  },
  {
   "cell_type": "markdown",
   "metadata": {},
   "source": [
    "<div class='alert alert-warning'>\n",
    "<h4>Exercise 6.</h4> How many of the kids only had a single playmate at the day of the study?"
   ]
  },
  {
   "cell_type": "code",
   "execution_count": null,
   "metadata": {},
   "outputs": [],
   "source": [
    "# Ex6\n"
   ]
  },
  {
   "cell_type": "code",
   "execution_count": null,
   "metadata": {},
   "outputs": [],
   "source": [
    "# %load solutions/ex1_6.py"
   ]
  },
  {
   "cell_type": "markdown",
   "metadata": {},
   "source": [
    "## Sick or not sick?\n",
    "Now, in the csv file we also have information about whether or not the kids got sick or not. Let us use this information and see if it can tell us something about the contamination."
   ]
  },
  {
   "cell_type": "code",
   "execution_count": null,
   "metadata": {},
   "outputs": [],
   "source": [
    "df = pd.read_csv('data/kids_nodes.csv')\n",
    "df.head()"
   ]
  },
  {
   "cell_type": "markdown",
   "metadata": {},
   "source": [
    "<div class='alert alert-warning'>\n",
    "<h4>Exercise 7. </h4> Display only those who were sick"
   ]
  },
  {
   "cell_type": "code",
   "execution_count": null,
   "metadata": {},
   "outputs": [],
   "source": [
    "# Ex7\n"
   ]
  },
  {
   "cell_type": "code",
   "execution_count": null,
   "metadata": {},
   "outputs": [],
   "source": [
    "# %load solutions/ex1_7.py"
   ]
  },
  {
   "cell_type": "markdown",
   "metadata": {},
   "source": [
    "Let us highlight the sick kids and redraw the network. Do you see any pattern?"
   ]
  },
  {
   "cell_type": "code",
   "execution_count": null,
   "metadata": {},
   "outputs": [],
   "source": [
    "#don't worry about the code\n",
    "color_map = []\n",
    "for node in G:\n",
    "    if node in sick.source.values:\n",
    "        color_map.append('magenta')\n",
    "    else: \n",
    "        color_map.append('green')      \n",
    "nx.draw(G, node_color=color_map, with_labels=True)\n",
    "plt.show()"
   ]
  },
  {
   "cell_type": "markdown",
   "metadata": {},
   "source": [
    "By visual inspection we see that Mads is the common denominator for the sick kids, pointing to him as a source of contamination. Below we plot only the subgraph consisting of the sick kids."
   ]
  },
  {
   "cell_type": "code",
   "execution_count": null,
   "metadata": {},
   "outputs": [],
   "source": [
    "sub_G = G.subgraph(sick.source)\n",
    "nx.draw(sub_G, with_labels=True, node_color='magenta')"
   ]
  },
  {
   "cell_type": "markdown",
   "metadata": {},
   "source": [
    "We should also warn the children who were in contact with the contaminated kids. We use the `set` data structure: an unordered list without duplicates."
   ]
  },
  {
   "cell_type": "code",
   "execution_count": null,
   "metadata": {},
   "outputs": [],
   "source": [
    "kids_to_warn = set()"
   ]
  },
  {
   "cell_type": "code",
   "execution_count": null,
   "metadata": {},
   "outputs": [],
   "source": [
    "for sick_kid in sick.source:\n",
    "    print(sick_kid)\n",
    "    nbs = list(G.neighbors(sick_kid)) #list of kids the contaminated ones were in contact with\n",
    "    for nb in nbs:\n",
    "        kids_to_warn.add(nb)\n"
   ]
  },
  {
   "cell_type": "markdown",
   "metadata": {},
   "source": [
    "<div class='alert alert-warning'>\n",
    "<h4>Exercise 8. </h4>  Finally drop those we already know were sick from the set.\n",
    "Tip: write `kids_to_warn.` and press Tab to see available methods"
   ]
  },
  {
   "cell_type": "code",
   "execution_count": null,
   "metadata": {},
   "outputs": [],
   "source": [
    "# Ex8\n"
   ]
  },
  {
   "cell_type": "code",
   "execution_count": null,
   "metadata": {},
   "outputs": [],
   "source": [
    "# %load solutions/ex1_8.py"
   ]
  },
  {
   "cell_type": "code",
   "execution_count": null,
   "metadata": {},
   "outputs": [],
   "source": [
    "print(\"The kids to warn:\")\n",
    "print(kids_to_warn)"
   ]
  },
  {
   "cell_type": "markdown",
   "metadata": {},
   "source": [
    "## Adding nodes and edges\n",
    "During the data collection some of the kids forgot that they also played with Hans that day! Here we will show you how to add Hans to the network. You may try to add even more kids to the network."
   ]
  },
  {
   "cell_type": "code",
   "execution_count": null,
   "metadata": {},
   "outputs": [],
   "source": [
    "G.add_node('hans')\n",
    "\n",
    "# Add multiple edges\n",
    "G.add_edges_from([\n",
    "    ('hans', 'lars'),\n",
    "    ('hans', 'line'),\n",
    "])\n",
    "\n",
    "nx.draw(G, with_labels=True)"
   ]
  }
 ],
 "metadata": {
  "kernelspec": {
   "display_name": "Python 3 (ipykernel)",
   "language": "python",
   "name": "python3"
  },
  "language_info": {
   "codemirror_mode": {
    "name": "ipython",
    "version": 3
   },
   "file_extension": ".py",
   "mimetype": "text/x-python",
   "name": "python",
   "nbconvert_exporter": "python",
   "pygments_lexer": "ipython3",
   "version": "3.10.4"
  },
  "toc": {
   "base_numbering": 1,
   "nav_menu": {},
   "number_sections": false,
   "sideBar": true,
   "skip_h1_title": false,
   "title_cell": "Table of Contents",
   "title_sidebar": "Contents",
   "toc_cell": false,
   "toc_position": {
    "height": "calc(100% - 180px)",
    "left": "10px",
    "top": "150px",
    "width": "384px"
   },
   "toc_section_display": true,
   "toc_window_display": true
  }
 },
 "nbformat": 4,
 "nbformat_minor": 2
}
