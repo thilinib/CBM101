{
 "cells": [
  {
   "cell_type": "markdown",
   "metadata": {
    "cell_id": "afe110c5471b43158e6ecc5194318e11",
    "deepnote_cell_type": "markdown"
   },
   "source": [
    "## Introduction to network-based analysis in biomedicine with python (Part 3)\n",
    "\n",
    "#### Topic overview:\n",
    "\n",
    "##### 1. Proximities in biological network\n",
    "\n",
    "##### 2. Disease-disease relationship\n",
    "\n",
    "##### 3. Drug repurposing"
   ]
  },
  {
   "cell_type": "markdown",
   "metadata": {
    "cell_id": "02cf702ab27e4e3db6acc9e0d17a6dea",
    "deepnote_cell_type": "markdown"
   },
   "source": [
    "### Proximities in Network Medicine\n",
    "<i>\"Network Medicine combines principles and approaches from network sciences, systems biology, and human dynamics to understand the causes of human diseases and develop new treatments.\"</i>\n",
    "(From <a href=\"https://www.network-medicine.org/\" target=\"_blank\">Network Medicine Institute and Global Alliance</a>)\n",
    "\n",
    "Network-based proximities between nodes can be used for a wide-range of applications including identifying disease-disease relationships, drug efficacy screening, drug repurposing, and drug combination identification. Simply put, the distances between the nodes or groups of nodes representing disease genes or drug targets within a protein-protein interaction (PPI) network can be used to identify which two diseases are pathobiologically similar or if a drug already approved for one disease can be used for another disease. While distances between any two individual nodes in a network can be easily calulated as the shortest path between them, there might be different ways how we define distances or network proximity between groups of nodes. \n",
    "\n",
    "In this tutorial, we focus on a series of studies from <a href=\"https://www.barabasilab.com/\" target=\"_blank\">Barabasi-LAB</a> that utilized network-based proximities in network medicine. In their works, Barabasi's group has explored five different types of network-based proximity measures between genesets or modules within a PPI network. The different network-based proximity measures are explained below.\n",
    "\n",
    "<img style=\"border:1px solid black;\" src=\"Figures/Network_proximities_illustrations.png\" alt=\"Network proximities\" width=100%/>\n",
    "\n",
    "<b>Figure:</b> Network-based proximity measures\n",
    "Image from: <a href=\"https://doi.org/10.1038/ncomms10331\" target=\"_blank\">Network-based in silico drug efficacy screening</a>\n",
    "\n",
    "\n",
    "\n",
    "For example, given ${P}$, the set of disease proteins, ${T}$, the set of drug targets and ${d(p,t)}$, the shortest path length between nodes ${p}$ and ${t}$ in the network, we define:\n",
    "\n",
    "<b>Closest:</b> mean of the minimum distances of genes in ${T}$ to the genes in ${P}$. It considers the shortest path lengths from each target to the closest disease protein.\n",
    "\n",
    "$$\n",
    "\\text{d}_{c}{(P,T)} =  \\frac{1}{||T||}\\sum_{t \\in T}\\min_{p \\in P}\\text{d(p,t)}\n",
    "$$\n",
    "\n",
    "<b>Shortest:</b> mean of the mean distances of genes in ${T}$ to all the genes in ${P}$. It averages over all shortest path lengths to the disease protein.\n",
    "\n",
    "$$\n",
    "\\text{d}_{p}{(P,T)} = \\frac{1}{||T||}\\sum_{t \\in T}\\frac{1}{||P||}\\sum_{p \\in P}\\text{d(p,t)}\n",
    "$$\n",
    "\n",
    "<b>Kernel:</b> a transformation that downweights longer paths using an exponential penalty.\n",
    "\n",
    "$$\n",
    "\\text{d}_{k}{(P,T)} = \\frac{-1}{||T||}\\sum_{t \\in T}\\ln\\sum_{p \\in P}\\frac{e^{-(d(p,t)+1)}}{|P|}\n",
    "$$\n",
    "\n",
    "<b>Centre:</b> mean of the distances of genes in ${T}$ to the topological centre of the genes in ${P}$. \n",
    "\n",
    "$$\n",
    "\\text{d}_{cc}{(P,T)} = \\frac{1}{||T||}\\text{d(centre}_{p}{,t)}\n",
    "$$\n",
    "\n",
    "where ${centre}_{P}$, the topological centre of ${P}$ was defined as:\n",
    "\n",
    "$$\n",
    "\\text{centre}_{P} = {argmin}_{u \\in P}\\sum_{p \\in P} {d(p, u)}\n",
    "$$\n",
    "\n",
    "in case the ${centre}_{P}$ is not unique, all the nodes are used to define the centre and the shortest path lengths to these nodes are averages.\n",
    "\n",
    "Based on these proximity measures, they also recently introduced a network separation measure between two protein sets or modules. The network-based separation $S_{PT}$ can be quantified by comparing the mean shortest distances $\\langle d_{PP} \\rangle$ and $\\langle d_{TT} \\rangle$ within the respective sets of proteins, to the mean shortest distance $\\langle d_{PT} \\rangle$ between the two sets of proteins:\n",
    "\n",
    "$$\n",
    "\\text{S}_{PT} \\equiv \\langle{d}_{PT}\\rangle - \\frac{\\langle{d}_{PP}\\rangle + \\langle{d}_{TT}\\rangle}{2}\n",
    "$$\n",
    "\n",
    "We explain this network-based separation measure and its application a little further down this tutorial.\n",
    "\n",
    "While we define here the proximity measures between drug targets and disease proteins, the measures can be generalised for any two sets of proteins (or genes). Barabasi et al have used these measures with minor modifications for different tasks and have been defined within the respective papers.\n",
    "\n",
    "<b>Further reading:</b>\n",
    "- <a href=\"https://doi.org/10.1126/science.1257601\" target=\"_blank\">Uncovering disease-disease relationships through the incomplete interactome (2015)</a>\n",
    "- <a href=\"https://doi.org/10.1038/ncomms10331\" target=\"_blank\">Network-based in silico drug efficacy screening (2016)</a>\n",
    "- <a href=\"https://doi.org/10.1038/s41467-019-09186-x\" target=\"_blank\">Network-based prediction of drug combinations (2019)</a>\n",
    "- <a href=\"https://doi.org/10.1073/pnas.2025581118\" target=\"_blank\">Network medicine framework for identifying drug-repurposing opportunities for COVID-19 (2021)</a>"
   ]
  },
  {
   "cell_type": "markdown",
   "metadata": {
    "cell_id": "2dc5874f7bde431da41b5e2944e57e70",
    "deepnote_cell_type": "markdown"
   },
   "source": [
    "#### Drug repurposing for COVID-19\n",
    "\n",
    "Here, we demonstrate how we can use these network-based proximity measures for repurposing drugs for Covid-19, an infectious disease caused by the SARS-CoV-2 virus. The tutorial is based on the study <a href=\"https://doi.org/10.1073/pnas.2025581118\" target=\"_blank\"><em>Network medicine framework for identifying drug-repurposing opportunities for COVID-19</em></a> from Barabasi Lab."
   ]
  },
  {
   "cell_type": "markdown",
   "metadata": {
    "cell_id": "cf5b97dbea2f4a7f83fb477ba70970b2",
    "deepnote_cell_type": "markdown"
   },
   "source": [
    "Let us start by importing the necessary python modules.  "
   ]
  },
  {
   "cell_type": "code",
   "execution_count": 1,
   "metadata": {
    "cell_id": "cf811363c8e443e1ac81d00250697c5e",
    "deepnote_cell_type": "code",
    "deepnote_to_be_reexecuted": false,
    "execution_millis": 86,
    "execution_start": 1692359528518,
    "source_hash": "19515fc4"
   },
   "outputs": [],
   "source": [
    "# Import Python modules\n",
    "import networkx as nx\n",
    "import numpy as np\n",
    "import pandas as pd\n",
    "import separation # from Barabasi-lab"
   ]
  },
  {
   "cell_type": "code",
   "execution_count": 2,
   "metadata": {
    "cell_id": "53d14c41922540d6b441b7c093badbb0",
    "deepnote_cell_type": "code",
    "deepnote_to_be_reexecuted": false,
    "execution_millis": 1972,
    "execution_start": 1692360452910,
    "source_hash": "7e1c2726"
   },
   "outputs": [],
   "source": [
    "# Import python modules for visualizations\n",
    "import tqdm\n",
    "import matplotlib.pylab as plt\n",
    "import seaborn as sns\n",
    "sns.set_style('whitegrid')\n",
    "\n",
    "%matplotlib inline"
   ]
  },
  {
   "cell_type": "markdown",
   "metadata": {
    "cell_id": "208e5776cba04b80933ab9b16b4acc09",
    "deepnote_cell_type": "markdown"
   },
   "source": [
    "Here, the source code <em>separation.py</em> computes network-based separation between two input genesets. The separation.py file has been sourced from <a href=\"https://github.com/Barabasi-Lab/COVID-19/blob/main/utils/separation.py\" target=\"_blank\">GitHub</a>."
   ]
  },
  {
   "cell_type": "markdown",
   "metadata": {
    "cell_id": "cd36648814664517ab1def1374f98618",
    "deepnote_cell_type": "markdown"
   },
   "source": [
    "##### Human protein-protein interaction network\n",
    "First, we upload known PPIs compiled from different annotation databases and then build a network with *NetworkX*"
   ]
  },
  {
   "cell_type": "code",
   "execution_count": 3,
   "metadata": {
    "cell_id": "5b69dd3ef7264c3e808ea13562506a41",
    "deepnote_cell_type": "code",
    "deepnote_to_be_reexecuted": false,
    "execution_millis": 358,
    "execution_start": 1692359604529,
    "source_hash": "a94963af"
   },
   "outputs": [
    {
     "data": {
      "text/html": [
       "<div>\n",
       "<style scoped>\n",
       "    .dataframe tbody tr th:only-of-type {\n",
       "        vertical-align: middle;\n",
       "    }\n",
       "\n",
       "    .dataframe tbody tr th {\n",
       "        vertical-align: top;\n",
       "    }\n",
       "\n",
       "    .dataframe thead th {\n",
       "        text-align: right;\n",
       "    }\n",
       "</style>\n",
       "<table border=\"1\" class=\"dataframe\">\n",
       "  <thead>\n",
       "    <tr style=\"text-align: right;\">\n",
       "      <th></th>\n",
       "      <th>proteinA_entrezid</th>\n",
       "      <th>proteinB_entrezid</th>\n",
       "      <th>databases</th>\n",
       "    </tr>\n",
       "  </thead>\n",
       "  <tbody>\n",
       "    <tr>\n",
       "      <th>0</th>\n",
       "      <td>9796</td>\n",
       "      <td>56992</td>\n",
       "      <td>bioplex|HIPPIE</td>\n",
       "    </tr>\n",
       "    <tr>\n",
       "      <th>1</th>\n",
       "      <td>7918</td>\n",
       "      <td>9240</td>\n",
       "      <td>instruct|hiunion|APID|biogrid|HINT-binary|intact</td>\n",
       "    </tr>\n",
       "    <tr>\n",
       "      <th>2</th>\n",
       "      <td>8233</td>\n",
       "      <td>23548</td>\n",
       "      <td>bioplex|HIPPIE</td>\n",
       "    </tr>\n",
       "    <tr>\n",
       "      <th>3</th>\n",
       "      <td>4899</td>\n",
       "      <td>11253</td>\n",
       "      <td>encode</td>\n",
       "    </tr>\n",
       "    <tr>\n",
       "      <th>4</th>\n",
       "      <td>5297</td>\n",
       "      <td>8601</td>\n",
       "      <td>bioplex</td>\n",
       "    </tr>\n",
       "  </tbody>\n",
       "</table>\n",
       "</div>"
      ],
      "text/plain": [
       "   proteinA_entrezid  proteinB_entrezid  \\\n",
       "0               9796              56992   \n",
       "1               7918               9240   \n",
       "2               8233              23548   \n",
       "3               4899              11253   \n",
       "4               5297               8601   \n",
       "\n",
       "                                          databases  \n",
       "0                                    bioplex|HIPPIE  \n",
       "1  instruct|hiunion|APID|biogrid|HINT-binary|intact  \n",
       "2                                    bioplex|HIPPIE  \n",
       "3                                            encode  \n",
       "4                                           bioplex  "
      ]
     },
     "execution_count": 3,
     "metadata": {},
     "output_type": "execute_result"
    }
   ],
   "source": [
    "ppi = pd.read_csv(\"Data/Barabasi_CoV2_PPI.csv\")\n",
    "ppi.head()"
   ]
  },
  {
   "cell_type": "markdown",
   "metadata": {
    "cell_id": "a58cd6c05f6946ada3345e827f7f16c0",
    "deepnote_cell_type": "markdown"
   },
   "source": [
    "Now we create a graph object by using the python package NetworkX."
   ]
  },
  {
   "cell_type": "code",
   "execution_count": 4,
   "metadata": {
    "cell_id": "e9dee3b5d4434504b085c583e857116a",
    "deepnote_cell_type": "code",
    "deepnote_to_be_reexecuted": false,
    "execution_millis": 720,
    "execution_start": 1692359692133,
    "source_hash": "c1679dc3"
   },
   "outputs": [],
   "source": [
    "edges = zip(ppi.proteinA_entrezid, ppi.proteinB_entrezid)\n",
    "ppi = nx.Graph()\n",
    "ppi.add_edges_from(edges)"
   ]
  },
  {
   "cell_type": "markdown",
   "metadata": {
    "cell_id": "b33f0345c41a4c0bb17c639e4724103d",
    "deepnote_cell_type": "markdown"
   },
   "source": [
    "<p style=\"padding: 10px 10px 10px 10px; border: 2px solid red;\">\n",
    "<b>Box 3.1: Exercise</b><br>\n",
    "How many connected components are there in the network? Extract the largest connected component.\n",
    "</p>"
   ]
  },
  {
   "cell_type": "code",
   "execution_count": 5,
   "metadata": {
    "cell_id": "4cf01c45ba494840b623d215f9916c65",
    "deepnote_cell_type": "code",
    "deepnote_to_be_reexecuted": false,
    "execution_millis": 4349,
    "execution_start": 1692359768485,
    "source_hash": "17b5cc3f"
   },
   "outputs": [
    {
     "name": "stdout",
     "output_type": "stream",
     "text": [
      "Number of connected components: 56\n",
      "--------------\n",
      "18446\n",
      "327868\n",
      "--------------\n",
      "3\n",
      "2\n",
      "--------------\n",
      "2\n",
      "1\n",
      "--------------\n",
      "2\n",
      "1\n"
     ]
    }
   ],
   "source": [
    "# Extract the connected components \n",
    "graphs = (ppi.subgraph(c).copy() for c in nx.connected_components(ppi))\n",
    "\n",
    "print(\"Number of connected components:\", nx.number_connected_components(ppi))\n",
    "\n",
    "# let's check the number of edges and node of each connected component\n",
    "for g in graphs:\n",
    "    if g.number_of_nodes() == 1: # skip the iteration if the connected component contains only one node\n",
    "        continue\n",
    "    else:\n",
    "        print(\"--------------\")\n",
    "        print(g.number_of_nodes())\n",
    "        print(g.number_of_edges())"
   ]
  },
  {
   "cell_type": "code",
   "execution_count": 6,
   "metadata": {
    "cell_id": "2789c7777c1343ccad374ccce1cb4665",
    "deepnote_cell_type": "code",
    "deepnote_to_be_reexecuted": false,
    "execution_millis": 3692,
    "execution_start": 1692359785277,
    "source_hash": "897270f1"
   },
   "outputs": [
    {
     "name": "stdout",
     "output_type": "stream",
     "text": [
      "18446 327868\n"
     ]
    }
   ],
   "source": [
    "# Select the largest connected component\n",
    "G = list(ppi.subgraph(c).copy() for c in sorted(nx.connected_components(ppi), key = len, reverse = True))[0]\n",
    "print(len(G.nodes()), len(G.edges()))"
   ]
  },
  {
   "cell_type": "code",
   "execution_count": 7,
   "metadata": {
    "cell_id": "89e687c9910e4de7955b3750b1a12d56",
    "deepnote_cell_type": "code",
    "deepnote_to_be_reexecuted": false,
    "execution_millis": 68,
    "execution_start": 1692359801371,
    "source_hash": "2257d31e"
   },
   "outputs": [],
   "source": [
    "# remove self-loops\n",
    "G.remove_edges_from(nx.selfloop_edges(G))"
   ]
  },
  {
   "cell_type": "markdown",
   "metadata": {
    "cell_id": "c2a0c18ae4ab4638b551027c5ac843c4",
    "deepnote_cell_type": "markdown"
   },
   "source": [
    "##### SARS-CoV-2 targets in human\n",
    "Let us now upload the known associations between SARS-CoV-2 proteins and human proteins. "
   ]
  },
  {
   "cell_type": "code",
   "execution_count": 8,
   "metadata": {
    "cell_id": "ff7171d91398457da6e49cd04cf57fd7",
    "deepnote_cell_type": "code",
    "deepnote_to_be_reexecuted": false,
    "execution_millis": 121,
    "execution_start": 1692359838974,
    "source_hash": "e418beab"
   },
   "outputs": [
    {
     "data": {
      "text/html": [
       "<div>\n",
       "<style scoped>\n",
       "    .dataframe tbody tr th:only-of-type {\n",
       "        vertical-align: middle;\n",
       "    }\n",
       "\n",
       "    .dataframe tbody tr th {\n",
       "        vertical-align: top;\n",
       "    }\n",
       "\n",
       "    .dataframe thead th {\n",
       "        text-align: right;\n",
       "    }\n",
       "</style>\n",
       "<table border=\"1\" class=\"dataframe\">\n",
       "  <thead>\n",
       "    <tr style=\"text-align: right;\">\n",
       "      <th></th>\n",
       "      <th>SARS</th>\n",
       "      <th>EntrezID</th>\n",
       "      <th>Symbol</th>\n",
       "    </tr>\n",
       "  </thead>\n",
       "  <tbody>\n",
       "    <tr>\n",
       "      <th>0</th>\n",
       "      <td>sars-cov2e</td>\n",
       "      <td>8546</td>\n",
       "      <td>AP3B1</td>\n",
       "    </tr>\n",
       "    <tr>\n",
       "      <th>1</th>\n",
       "      <td>sars-cov2e</td>\n",
       "      <td>23476</td>\n",
       "      <td>BRD4</td>\n",
       "    </tr>\n",
       "    <tr>\n",
       "      <th>2</th>\n",
       "      <td>sars-cov2e</td>\n",
       "      <td>6046</td>\n",
       "      <td>BRD2</td>\n",
       "    </tr>\n",
       "    <tr>\n",
       "      <th>3</th>\n",
       "      <td>sars-cov2e</td>\n",
       "      <td>10283</td>\n",
       "      <td>CWC27</td>\n",
       "    </tr>\n",
       "    <tr>\n",
       "      <th>4</th>\n",
       "      <td>sars-cov2e</td>\n",
       "      <td>124245</td>\n",
       "      <td>ZC3H18</td>\n",
       "    </tr>\n",
       "  </tbody>\n",
       "</table>\n",
       "</div>"
      ],
      "text/plain": [
       "         SARS  EntrezID  Symbol\n",
       "0  sars-cov2e      8546   AP3B1\n",
       "1  sars-cov2e     23476    BRD4\n",
       "2  sars-cov2e      6046    BRD2\n",
       "3  sars-cov2e     10283   CWC27\n",
       "4  sars-cov2e    124245  ZC3H18"
      ]
     },
     "execution_count": 8,
     "metadata": {},
     "output_type": "execute_result"
    }
   ],
   "source": [
    "dt = pd.read_csv(\"Data/SARSCoV2_Targets.csv\")\n",
    "dt.head()"
   ]
  },
  {
   "cell_type": "markdown",
   "metadata": {
    "cell_id": "9a7c0d2135fb4d3eab75c457c94a33dc",
    "deepnote_cell_type": "markdown"
   },
   "source": [
    "Are all the human protein targets of the SARS-CoV-2 virus present in the interactome?"
   ]
  },
  {
   "cell_type": "code",
   "execution_count": 9,
   "metadata": {
    "cell_id": "af0e165a686041208ddee4a0c08bb107",
    "deepnote_cell_type": "code",
    "deepnote_to_be_reexecuted": false,
    "execution_millis": 15,
    "execution_start": 1692359882009,
    "source_hash": "57af819e"
   },
   "outputs": [
    {
     "name": "stdout",
     "output_type": "stream",
     "text": [
      "(332, 3)\n",
      "332\n"
     ]
    }
   ],
   "source": [
    "# check if the PPI includes all knonw SARS-CoV-2 targets\n",
    "print(dt.shape)\n",
    "print(len(set(G.nodes()).intersection(set(dt[\"EntrezID\"]))))"
   ]
  },
  {
   "cell_type": "markdown",
   "metadata": {
    "cell_id": "5bc9c271b4f1457cb28a816d642bda35",
    "deepnote_cell_type": "markdown"
   },
   "source": [
    "### Disease-disease relationship\n",
    "The first objective of this NDM application is to study the association between COVID-19 and other diseases. Understanding disease-disease relationships can help in identifying pathobiological similarities between diseases and can aid in drug repurposing between similar diseases.\n",
    "\n",
    "To this end we need to upload known disease-gene associations."
   ]
  },
  {
   "cell_type": "code",
   "execution_count": 10,
   "metadata": {
    "cell_id": "f6b83983adc04459a893c9858f34ca53",
    "deepnote_cell_type": "code",
    "deepnote_to_be_reexecuted": false,
    "execution_millis": 28,
    "execution_start": 1692360182761,
    "source_hash": "d99773ae"
   },
   "outputs": [
    {
     "name": "stdout",
     "output_type": "stream",
     "text": [
      "299\n"
     ]
    }
   ],
   "source": [
    "# Disease-gene associations were retrieved from OMIM and GWAS catalog using UniProtKB and PheGenI \n",
    "disease2genes = {}\n",
    "for i in open(\"Data/Guney2016_GenesDisease.tsv\").readlines():\n",
    "    v = i.rstrip().split(\"\\t\")\n",
    "    disease = v[1]\n",
    "    genes = v[2:]\n",
    "    if len(genes) > 19:\n",
    "        disease2genes[disease] = [int(i) for i in genes]\n",
    "\n",
    "# Total number of diseases\n",
    "print(len(disease2genes)) "
   ]
  },
  {
   "cell_type": "code",
   "execution_count": 11,
   "metadata": {
    "cell_id": "8d7472b9a20746cfacd068d745e969b5",
    "deepnote_cell_type": "code",
    "deepnote_to_be_reexecuted": false,
    "execution_millis": 11,
    "execution_start": 1692360198742,
    "source_hash": "c80d5597"
   },
   "outputs": [
    {
     "data": {
      "text/plain": [
       "3173"
      ]
     },
     "execution_count": 11,
     "metadata": {},
     "output_type": "execute_result"
    }
   ],
   "source": [
    "diseasegenes = list(disease2genes.values())\n",
    "diseasegenes = sum(diseasegenes, [])\n",
    "diseasegenes = list(set(diseasegenes))\n",
    "len(diseasegenes)"
   ]
  },
  {
   "cell_type": "markdown",
   "metadata": {
    "cell_id": "bee58085cb2c4eeca8ef3c700ff2f39f",
    "deepnote_cell_type": "markdown"
   },
   "source": [
    "<b>Network separation between the SARS-CoV-2 targets and known targets of other diseases</b>\n",
    "\n",
    "<b>Network-based localization measures</b>\n",
    "\n",
    "Network-based proximity is based on network-based localization measures. The figure below is an example of disease genes (red) that form one connected cluster of six genes, one cluster of two genes and one gene without connection to other disease genes. The size of the observable module is therefore given by S = 6. For three genes, A,B and C, the respective shortest distance to the next closest other disease gene is shown. \n",
    "\n",
    "<img src=\"Figures/Network_localization.png\" alt=\"drawing\" width=\"500\">\n",
    "<b>Figure:</b> Illustration of network based localization measure.\n",
    "Image from <a href=\"https://doi.org/10.1126/science.1257601\" target=\"_blank\">Uncovering disease-disease relationships through the incomplete interactome</a>\n",
    "\n",
    "<br>\n",
    "<b>Network separation</b>\n",
    "\n",
    "Network-based separation $S_{AB}$ between proteins of two diseases ${A}$ and ${B}$ can be quantified by comparing the mean shortest distances $\\langle d_{AA} \\rangle$ and $\\langle d_{BB} \\rangle$ within the respective diseases, to the mean shortest distance $\\langle d_{AB} \\rangle$ between the proteins of the two diseases. It is defined as:\n",
    "\n",
    "$$\n",
    "\\text{S}_{AB} \\equiv \\langle{d}_{AB}\\rangle - \\frac{\\langle{d}_{AA}\\rangle + \\langle{d}_{BB}\\rangle}{2}\n",
    "$$\n",
    "\n",
    "The figure below shows the network-based separation measure for two diseases A (blue) and B (red) with one shared protein (“c”). The tables on the right give the values of the mean shortest distances within the diseases, $\\langle d_{AA} \\rangle$ and $\\langle d_{BB} \\rangle$, as well as the distances for all protein pairs between them, $\\langle d_{AB} \\rangle$. \n",
    "\n",
    "<img src=\"Figures/Network_based_separation.png\" alt=\"drawing\" width=\"700\">\n",
    "<b>Figure:</b> Illustration of network-based separation between two diseases.\n",
    "Image from <a href=\"https://doi.org/10.1126/science.1257601\" target=\"_blank\">Uncovering disease-disease relationships through the incomplete interactome</a>\n",
    "\n",
    "\n",
    "A positive $S_{AB}$ indicates that the two disease modules are separated on the interactome, whereas negative values correspond to overlapping modules."
   ]
  },
  {
   "cell_type": "markdown",
   "metadata": {
    "cell_id": "750c09c885204ca584e4539291e61a29",
    "deepnote_cell_type": "markdown"
   },
   "source": [
    "Let us compute the overlap of proteins targeted by SARS-CoV-2 in human with genes associated with six diseases."
   ]
  },
  {
   "cell_type": "code",
   "execution_count": 12,
   "metadata": {
    "cell_id": "6f6692df003a49a7b286c198e0bcf273",
    "deepnote_cell_type": "code",
    "deepnote_to_be_reexecuted": false,
    "execution_millis": 9,
    "execution_start": 1692360326342,
    "source_hash": "6edc1bcc"
   },
   "outputs": [
    {
     "name": "stdout",
     "output_type": "stream",
     "text": [
      "neurodegenerative diseases 281\n",
      "cardiovascular diseases 462\n",
      "peroxisomal disorders 20\n",
      "sarcoma 27\n",
      "psoriasis 77\n",
      "osteoporosis 23\n"
     ]
    }
   ],
   "source": [
    "select_diseases = [\"neurodegenerative diseases\", \"cardiovascular diseases\", \"peroxisomal disorders\", \"sarcoma\", \"psoriasis\", \"osteoporosis\" ]\n",
    "disease2genes = {key: disease2genes[key] for key in select_diseases}\n",
    "\n",
    "# Print number of genes associated with each disease\n",
    "for key in disease2genes.keys():\n",
    "    print(key, len(disease2genes[key]))"
   ]
  },
  {
   "cell_type": "code",
   "execution_count": 13,
   "metadata": {
    "cell_id": "646bd386934e4d309f74ac10c234478b",
    "deepnote_cell_type": "code",
    "deepnote_to_be_reexecuted": false,
    "execution_millis": 30548,
    "execution_start": 1692360458448,
    "source_hash": "8cdcccf"
   },
   "outputs": [
    {
     "name": "stderr",
     "output_type": "stream",
     "text": [
      "100%|███████████████████████████████████████████████████████████████████████████████████████████████████████████████████████████████████████████████████████████| 6/6 [00:23<00:00,  3.89s/it]\n"
     ]
    }
   ],
   "source": [
    "# Calculate network-based separation \n",
    "sab = {}\n",
    "for disease in tqdm.tqdm(disease2genes.keys()):\n",
    "# for disease in tqdm.tqdm(list(disease2genes.keys())[0:5]):\n",
    "\n",
    "    genes_A = set(dt.EntrezID) & set(G.nodes())\n",
    "    genes_B = set(disease2genes[disease]) & set(G.nodes())\n",
    "    d_A = separation.calc_single_set_distance(G,genes_A)\n",
    "    d_B = separation.calc_single_set_distance(G,genes_B)\n",
    "\n",
    "    # distances BETWEEN the two gene sets:\n",
    "    d_AB = separation.calc_set_pair_distances(G,genes_A,genes_B)\n",
    "\n",
    "    # calculate separation\n",
    "    s_AB = d_AB - (d_A + d_B)/2.\n",
    "    sab[disease] = s_AB"
   ]
  },
  {
   "cell_type": "code",
   "execution_count": 14,
   "metadata": {
    "cell_id": "f229c6efdf704489868b28f55543a8ad",
    "deepnote_cell_type": "code",
    "deepnote_to_be_reexecuted": false,
    "execution_millis": 125,
    "execution_start": 1692360553954,
    "source_hash": "2b21b03e"
   },
   "outputs": [
    {
     "data": {
      "text/html": [
       "<div>\n",
       "<style scoped>\n",
       "    .dataframe tbody tr th:only-of-type {\n",
       "        vertical-align: middle;\n",
       "    }\n",
       "\n",
       "    .dataframe tbody tr th {\n",
       "        vertical-align: top;\n",
       "    }\n",
       "\n",
       "    .dataframe thead th {\n",
       "        text-align: right;\n",
       "    }\n",
       "</style>\n",
       "<table border=\"1\" class=\"dataframe\">\n",
       "  <thead>\n",
       "    <tr style=\"text-align: right;\">\n",
       "      <th></th>\n",
       "      <th>disease</th>\n",
       "      <th>sab</th>\n",
       "    </tr>\n",
       "  </thead>\n",
       "  <tbody>\n",
       "    <tr>\n",
       "      <th>0</th>\n",
       "      <td>neurodegenerative diseases</td>\n",
       "      <td>0.034062</td>\n",
       "    </tr>\n",
       "    <tr>\n",
       "      <th>1</th>\n",
       "      <td>cardiovascular diseases</td>\n",
       "      <td>0.066427</td>\n",
       "    </tr>\n",
       "    <tr>\n",
       "      <th>2</th>\n",
       "      <td>osteoporosis</td>\n",
       "      <td>0.298515</td>\n",
       "    </tr>\n",
       "    <tr>\n",
       "      <th>3</th>\n",
       "      <td>psoriasis</td>\n",
       "      <td>0.306077</td>\n",
       "    </tr>\n",
       "    <tr>\n",
       "      <th>4</th>\n",
       "      <td>sarcoma</td>\n",
       "      <td>0.569504</td>\n",
       "    </tr>\n",
       "    <tr>\n",
       "      <th>5</th>\n",
       "      <td>peroxisomal disorders</td>\n",
       "      <td>0.826246</td>\n",
       "    </tr>\n",
       "  </tbody>\n",
       "</table>\n",
       "</div>"
      ],
      "text/plain": [
       "                      disease       sab\n",
       "0  neurodegenerative diseases  0.034062\n",
       "1     cardiovascular diseases  0.066427\n",
       "2                osteoporosis  0.298515\n",
       "3                   psoriasis  0.306077\n",
       "4                     sarcoma  0.569504\n",
       "5       peroxisomal disorders  0.826246"
      ]
     },
     "execution_count": 14,
     "metadata": {},
     "output_type": "execute_result"
    }
   ],
   "source": [
    "dx = pd.DataFrame.from_dict(sab, orient='index')\n",
    "dx = dx.reset_index()\n",
    "dx.columns = ['disease', 'sab']\n",
    "dx.sort_values(by = \"sab\", ascending = True).reset_index(drop = True)"
   ]
  },
  {
   "cell_type": "markdown",
   "metadata": {
    "cell_id": "e5c48b9a21ba41ad8a372a122c9392bd",
    "deepnote_cell_type": "markdown"
   },
   "source": [
    "Here we can see that the genes associated with neurodegenerative diseases are the closest to the genes/proteins targeted by SARS-CoV-2 while genes associated with peroxisomal disorders are the farthest in the network. Further, since none of the diseases have negative $S_{AB}$ values, none of the diseases have genes overlapping with SARS-CoV-2 targets."
   ]
  },
  {
   "cell_type": "code",
   "execution_count": 15,
   "metadata": {
    "cell_id": "a060fdf3818248b383fe30f21f98a146",
    "deepnote_cell_type": "code"
   },
   "outputs": [
    {
     "name": "stderr",
     "output_type": "stream",
     "text": [
      "/research/work/aghosh/Tools/Conda/miniconda3/envs/interactome/lib/python3.9/site-packages/seaborn/distributions.py:2619: FutureWarning: `distplot` is a deprecated function and will be removed in a future version. Please adapt your code to use either `displot` (a figure-level function with similar flexibility) or `histplot` (an axes-level function for histograms).\n",
      "  warnings.warn(msg, FutureWarning)\n"
     ]
    },
    {
     "data": {
      "image/png": "[encoded data removed]",
      "text/plain": [
       "<Figure size 640x480 with 1 Axes>"
      ]
     },
     "metadata": {},
     "output_type": "display_data"
    }
   ],
   "source": [
    "# Distribution of separation measure\n",
    "fig, ax = plt.subplots(1,1)\n",
    "sns.distplot(dx['sab'],ax=ax)\n",
    "ax.set_xlabel('$S_{ab}$')\n",
    "ax.set_ylabel('Density')\n",
    "# fig.savefig('./Outputs/sab_virus_dist.png', dpi = 300)\n",
    "plt.show()"
   ]
  },
  {
   "cell_type": "markdown",
   "metadata": {
    "cell_id": "142eb92bd6c34680ad8fb0fec3ae8bd6",
    "deepnote_cell_type": "markdown"
   },
   "source": [
    "### Drug repurposing\n",
    "<b>Drug repurposing opportunities by crossing known SARS-CoV2 target (genes) with knonw drug-target associations</b>\n",
    "\n",
    "Similar to using the network-based separation measure to study the overlap between the genes of two diseases, we can use it to understand the overlap between genes associated to diseases and known targets of drugs.\n",
    "\n",
    "We measure the network proximity between drug–targets (A) and  SARS-CoV2-targets (B) as: \n",
    "\n",
    "$$\n",
    "\\text{S}_{AB} \\equiv \\langle{d}_{AB}\\rangle - \\frac{\\langle{d}_{AA}\\rangle + \\langle{d}_{BB}\\rangle}{2}\n",
    "$$\n",
    "\n",
    "For $S_{AB}$ < 0, the targets of the two drugs are located in the same network neighborhood, while for $S_{AB}$ ≥ 0, the two target sets are topologically separated. "
   ]
  },
  {
   "cell_type": "code",
   "execution_count": 16,
   "metadata": {
    "cell_id": "5b5c44a430e94f10999a6bb704bde641",
    "deepnote_cell_type": "code",
    "deepnote_to_be_reexecuted": false,
    "execution_millis": 313,
    "execution_start": 1692360993441,
    "source_hash": "c89434e1"
   },
   "outputs": [
    {
     "data": {
      "text/html": [
       "<div>\n",
       "<style scoped>\n",
       "    .dataframe tbody tr th:only-of-type {\n",
       "        vertical-align: middle;\n",
       "    }\n",
       "\n",
       "    .dataframe tbody tr th {\n",
       "        vertical-align: top;\n",
       "    }\n",
       "\n",
       "    .dataframe thead th {\n",
       "        text-align: right;\n",
       "    }\n",
       "</style>\n",
       "<table border=\"1\" class=\"dataframe\">\n",
       "  <thead>\n",
       "    <tr style=\"text-align: right;\">\n",
       "      <th></th>\n",
       "      <th>Unnamed: 0</th>\n",
       "      <th>type</th>\n",
       "      <th>ID</th>\n",
       "      <th>Name</th>\n",
       "      <th>State</th>\n",
       "      <th>Approved</th>\n",
       "      <th>Indication</th>\n",
       "      <th>Gene_Target</th>\n",
       "      <th>DB_id</th>\n",
       "      <th>name</th>\n",
       "      <th>organism</th>\n",
       "      <th>Type</th>\n",
       "      <th>entrez_id</th>\n",
       "      <th>ATC_code</th>\n",
       "    </tr>\n",
       "  </thead>\n",
       "  <tbody>\n",
       "    <tr>\n",
       "      <th>0</th>\n",
       "      <td>0</td>\n",
       "      <td>biotech</td>\n",
       "      <td>DB00001</td>\n",
       "      <td>Lepirudin</td>\n",
       "      <td>liquid</td>\n",
       "      <td>approved</td>\n",
       "      <td>For the treatment of heparin-induced thrombocy...</td>\n",
       "      <td>F2</td>\n",
       "      <td>BE0000048</td>\n",
       "      <td>Prothrombin</td>\n",
       "      <td>Humans</td>\n",
       "      <td>Polypeptide</td>\n",
       "      <td>2147.0</td>\n",
       "      <td>B01AE02</td>\n",
       "    </tr>\n",
       "    <tr>\n",
       "      <th>1</th>\n",
       "      <td>1</td>\n",
       "      <td>biotech</td>\n",
       "      <td>DB00002</td>\n",
       "      <td>Cetuximab</td>\n",
       "      <td>liquid</td>\n",
       "      <td>approved</td>\n",
       "      <td>Cetuximab, used in combination with irinotecan...</td>\n",
       "      <td>EGFR</td>\n",
       "      <td>BE0002100</td>\n",
       "      <td>Low affinity immunoglobulin gamma Fc region re...</td>\n",
       "      <td>Humans</td>\n",
       "      <td>Polypeptide</td>\n",
       "      <td>1956.0</td>\n",
       "      <td>L01XC06</td>\n",
       "    </tr>\n",
       "    <tr>\n",
       "      <th>2</th>\n",
       "      <td>2</td>\n",
       "      <td>biotech</td>\n",
       "      <td>DB00002</td>\n",
       "      <td>Cetuximab</td>\n",
       "      <td>liquid</td>\n",
       "      <td>approved</td>\n",
       "      <td>Cetuximab, used in combination with irinotecan...</td>\n",
       "      <td>FCGR3B</td>\n",
       "      <td>BE0002100</td>\n",
       "      <td>Low affinity immunoglobulin gamma Fc region re...</td>\n",
       "      <td>Humans</td>\n",
       "      <td>Polypeptide</td>\n",
       "      <td>2215.0</td>\n",
       "      <td>L01XC06</td>\n",
       "    </tr>\n",
       "    <tr>\n",
       "      <th>3</th>\n",
       "      <td>3</td>\n",
       "      <td>biotech</td>\n",
       "      <td>DB00002</td>\n",
       "      <td>Cetuximab</td>\n",
       "      <td>liquid</td>\n",
       "      <td>approved</td>\n",
       "      <td>Cetuximab, used in combination with irinotecan...</td>\n",
       "      <td>C1R</td>\n",
       "      <td>BE0002100</td>\n",
       "      <td>Low affinity immunoglobulin gamma Fc region re...</td>\n",
       "      <td>Humans</td>\n",
       "      <td>Polypeptide</td>\n",
       "      <td>715.0</td>\n",
       "      <td>L01XC06</td>\n",
       "    </tr>\n",
       "    <tr>\n",
       "      <th>4</th>\n",
       "      <td>4</td>\n",
       "      <td>biotech</td>\n",
       "      <td>DB00002</td>\n",
       "      <td>Cetuximab</td>\n",
       "      <td>liquid</td>\n",
       "      <td>approved</td>\n",
       "      <td>Cetuximab, used in combination with irinotecan...</td>\n",
       "      <td>C1QA</td>\n",
       "      <td>BE0002100</td>\n",
       "      <td>Low affinity immunoglobulin gamma Fc region re...</td>\n",
       "      <td>Humans</td>\n",
       "      <td>Polypeptide</td>\n",
       "      <td>712.0</td>\n",
       "      <td>L01XC06</td>\n",
       "    </tr>\n",
       "  </tbody>\n",
       "</table>\n",
       "</div>"
      ],
      "text/plain": [
       "   Unnamed: 0     type       ID       Name   State  Approved  \\\n",
       "0           0  biotech  DB00001  Lepirudin  liquid  approved   \n",
       "1           1  biotech  DB00002  Cetuximab  liquid  approved   \n",
       "2           2  biotech  DB00002  Cetuximab  liquid  approved   \n",
       "3           3  biotech  DB00002  Cetuximab  liquid  approved   \n",
       "4           4  biotech  DB00002  Cetuximab  liquid  approved   \n",
       "\n",
       "                                          Indication Gene_Target      DB_id  \\\n",
       "0  For the treatment of heparin-induced thrombocy...          F2  BE0000048   \n",
       "1  Cetuximab, used in combination with irinotecan...        EGFR  BE0002100   \n",
       "2  Cetuximab, used in combination with irinotecan...      FCGR3B  BE0002100   \n",
       "3  Cetuximab, used in combination with irinotecan...         C1R  BE0002100   \n",
       "4  Cetuximab, used in combination with irinotecan...        C1QA  BE0002100   \n",
       "\n",
       "                                                name organism         Type  \\\n",
       "0                                        Prothrombin   Humans  Polypeptide   \n",
       "1  Low affinity immunoglobulin gamma Fc region re...   Humans  Polypeptide   \n",
       "2  Low affinity immunoglobulin gamma Fc region re...   Humans  Polypeptide   \n",
       "3  Low affinity immunoglobulin gamma Fc region re...   Humans  Polypeptide   \n",
       "4  Low affinity immunoglobulin gamma Fc region re...   Humans  Polypeptide   \n",
       "\n",
       "   entrez_id ATC_code  \n",
       "0     2147.0  B01AE02  \n",
       "1     1956.0  L01XC06  \n",
       "2     2215.0  L01XC06  \n",
       "3      715.0  L01XC06  \n",
       "4      712.0  L01XC06  "
      ]
     },
     "execution_count": 16,
     "metadata": {},
     "output_type": "execute_result"
    }
   ],
   "source": [
    "# Read known drug-gene associations\n",
    "drug_gene_ixn = pd.read_csv(\"Data/drug2targets.csv\")\n",
    "drug_gene_ixn.head()"
   ]
  },
  {
   "cell_type": "markdown",
   "metadata": {
    "cell_id": "24b351e93fb34648ac1913f62ad3b66b",
    "deepnote_cell_type": "markdown"
   },
   "source": [
    "Since our drug-gene assoication data contains withdrawn and illicit drugs as well, we filter them prior to further processing. We also remove any drugs that have no known status (marked as NaN)."
   ]
  },
  {
   "cell_type": "code",
   "execution_count": 17,
   "metadata": {
    "cell_id": "d2fb6f4ea3b346c481c53d4895b698f8",
    "deepnote_cell_type": "code",
    "deepnote_to_be_reexecuted": false,
    "execution_millis": 173,
    "execution_start": 1692361019988,
    "source_hash": "5018ffc"
   },
   "outputs": [
    {
     "name": "stdout",
     "output_type": "stream",
     "text": [
      "Number of drugs after filtering:  6057\n"
     ]
    }
   ],
   "source": [
    "drug_gene_ixn = drug_gene_ixn.loc[drug_gene_ixn['Approved'].isin(['approved', 'experimental', 'investigational', 'vet_approved'])]\n",
    "drug_gene_ixn = drug_gene_ixn.dropna(subset = ['entrez_id'])\n",
    "print(\"Number of drugs after filtering: \", len(drug_gene_ixn['Name'].unique()))"
   ]
  },
  {
   "cell_type": "markdown",
   "metadata": {
    "cell_id": "8c527bceee8244519aefc6ed3aac2ba1",
    "deepnote_cell_type": "markdown"
   },
   "source": [
    "<img src=\"Figures/Table1.png\" alt=\"drawing\" width=\"600\"/>"
   ]
  },
  {
   "cell_type": "code",
   "execution_count": 18,
   "metadata": {
    "cell_id": "a18053d5615a42c49e8c0c0e75712b47",
    "deepnote_cell_type": "code",
    "deepnote_to_be_reexecuted": false,
    "execution_millis": 11,
    "execution_start": 1692361074564,
    "source_hash": "eaf49e5d"
   },
   "outputs": [
    {
     "name": "stdout",
     "output_type": "stream",
     "text": [
      "True\n",
      "True\n",
      "True\n",
      "True\n",
      "True\n",
      "True\n"
     ]
    }
   ],
   "source": [
    "print('Chloroquine' in set(drug_gene_ixn['Name']))\n",
    "print('Vincristine' in set(drug_gene_ixn['Name']))\n",
    "print('Doxazosin' in set(drug_gene_ixn['Name']))\n",
    "print('Promazine' in set(drug_gene_ixn['Name']))\n",
    "print('Ivermectin' in set(drug_gene_ixn['Name']))\n",
    "print('Ulipristal' in set(drug_gene_ixn['Name']))"
   ]
  },
  {
   "cell_type": "code",
   "execution_count": 19,
   "metadata": {
    "cell_id": "b919f2b44897471284f5b8af3bb779d5",
    "deepnote_cell_type": "code",
    "deepnote_to_be_reexecuted": false,
    "execution_millis": 9,
    "execution_start": 1692361092908,
    "source_hash": "eeb4fbd5"
   },
   "outputs": [],
   "source": [
    "# Prepare known drug-target associations for a select list of drugs\n",
    "drug2targets = {}\n",
    "list_drugs_to_inv = ['Chloroquine', 'Vincristine','Doxazosin', 'Promazine', 'Ivermectin','Ulipristal']\n",
    "for d in list_drugs_to_inv: \n",
    "    drug2targets[d] = [int(e) for e in drug_gene_ixn.loc[drug_gene_ixn['Name'] == d, 'entrez_id']]"
   ]
  },
  {
   "cell_type": "code",
   "execution_count": 20,
   "metadata": {
    "cell_id": "7039f37079aa4b9985802c68a58223b4",
    "deepnote_cell_type": "code",
    "deepnote_to_be_reexecuted": false,
    "execution_millis": 14,
    "execution_start": 1692361102649,
    "source_hash": "61bf9bf0"
   },
   "outputs": [
    {
     "name": "stdout",
     "output_type": "stream",
     "text": [
      "Chloroquine 9\n",
      "Vincristine 16\n",
      "Doxazosin 12\n",
      "Promazine 19\n",
      "Ivermectin 9\n",
      "Ulipristal 7\n"
     ]
    }
   ],
   "source": [
    "# Print the number of known targets for each of the selected drugs\n",
    "for key in drug2targets:\n",
    "    print(key, len(drug2targets[key]))"
   ]
  },
  {
   "cell_type": "code",
   "execution_count": 21,
   "metadata": {
    "cell_id": "bd998fab5ac045ffab2ba29aabe54c30",
    "deepnote_cell_type": "code",
    "deepnote_to_be_reexecuted": false,
    "execution_millis": 19241,
    "execution_start": 1692361111431,
    "source_hash": "aa75673a"
   },
   "outputs": [
    {
     "data": {
      "text/html": [
       "<div>\n",
       "<style scoped>\n",
       "    .dataframe tbody tr th:only-of-type {\n",
       "        vertical-align: middle;\n",
       "    }\n",
       "\n",
       "    .dataframe tbody tr th {\n",
       "        vertical-align: top;\n",
       "    }\n",
       "\n",
       "    .dataframe thead th {\n",
       "        text-align: right;\n",
       "    }\n",
       "</style>\n",
       "<table border=\"1\" class=\"dataframe\">\n",
       "  <thead>\n",
       "    <tr style=\"text-align: right;\">\n",
       "      <th></th>\n",
       "      <th>Drug</th>\n",
       "      <th>Number of targets in network</th>\n",
       "      <th>Separation</th>\n",
       "      <th>Overlaping genes</th>\n",
       "    </tr>\n",
       "  </thead>\n",
       "  <tbody>\n",
       "    <tr>\n",
       "      <th>0</th>\n",
       "      <td>Chloroquine</td>\n",
       "      <td>9</td>\n",
       "      <td>0.398146</td>\n",
       "      <td>[{}]</td>\n",
       "    </tr>\n",
       "    <tr>\n",
       "      <th>1</th>\n",
       "      <td>Ulipristal</td>\n",
       "      <td>7</td>\n",
       "      <td>0.399490</td>\n",
       "      <td>[{}]</td>\n",
       "    </tr>\n",
       "    <tr>\n",
       "      <th>2</th>\n",
       "      <td>Ivermectin</td>\n",
       "      <td>8</td>\n",
       "      <td>0.420898</td>\n",
       "      <td>[{4363}]</td>\n",
       "    </tr>\n",
       "    <tr>\n",
       "      <th>3</th>\n",
       "      <td>Vincristine</td>\n",
       "      <td>15</td>\n",
       "      <td>0.438388</td>\n",
       "      <td>[{4363}]</td>\n",
       "    </tr>\n",
       "    <tr>\n",
       "      <th>4</th>\n",
       "      <td>Doxazosin</td>\n",
       "      <td>12</td>\n",
       "      <td>0.600145</td>\n",
       "      <td>[{}]</td>\n",
       "    </tr>\n",
       "    <tr>\n",
       "      <th>5</th>\n",
       "      <td>Promazine</td>\n",
       "      <td>19</td>\n",
       "      <td>0.684113</td>\n",
       "      <td>[{}]</td>\n",
       "    </tr>\n",
       "  </tbody>\n",
       "</table>\n",
       "</div>"
      ],
      "text/plain": [
       "          Drug  Number of targets in network  Separation Overlaping genes\n",
       "0  Chloroquine                             9    0.398146             [{}]\n",
       "1   Ulipristal                             7    0.399490             [{}]\n",
       "2   Ivermectin                             8    0.420898         [{4363}]\n",
       "3  Vincristine                            15    0.438388         [{4363}]\n",
       "4    Doxazosin                            12    0.600145             [{}]\n",
       "5    Promazine                            19    0.684113             [{}]"
      ]
     },
     "execution_count": 21,
     "metadata": {},
     "output_type": "execute_result"
    }
   ],
   "source": [
    "# Calculate the network-based separation of the drug targets from the proteins interacting with SARS-CoV-2\n",
    "Drug_proximities = pd.DataFrame()\n",
    "\n",
    "for drug in list_drugs_to_inv:\n",
    "\n",
    "    genes_A = set(dt.EntrezID) & set(G.nodes())\n",
    "    genes_B = set(drug2targets[drug]) & set(G.nodes())\n",
    "\n",
    "    overlapping_genes = [[(set(genes_A) & set(genes_B))]]\n",
    "\n",
    "    d_A = separation.calc_single_set_distance(G,genes_A)\n",
    "    d_B = separation.calc_single_set_distance(G,genes_B)\n",
    "\n",
    "    # distances BETWEEN the two gene sets:\n",
    "    d_AB = separation.calc_set_pair_distances(G,genes_A,genes_B)\n",
    "\n",
    "    # calculate separation\n",
    "    s_AB = d_AB - (d_A + d_B)/2\n",
    "\n",
    "    tmp = pd.DataFrame({\"Drug\" : drug,\n",
    "                            \"Number of targets in network\" : len(genes_B),\n",
    "                            \"Separation\" : s_AB,\n",
    "                            \"Overlaping genes\" : overlapping_genes}, index = [0])\n",
    "    Drug_proximities = pd.concat([Drug_proximities, tmp]).reset_index(drop = True)\n",
    "\n",
    "\n",
    "Drug_proximities.sort_values(by = \"Separation\").reset_index(drop = True)"
   ]
  },
  {
   "cell_type": "markdown",
   "metadata": {
    "cell_id": "12314bd992234f748c2c610fe408680e",
    "deepnote_cell_type": "markdown"
   },
   "source": [
    "Here, we can see that the targets of Chloroquine had the least network topological separation from the SARS-CoV-2 targets signifying its potentential for the treatment of COVID-19. In fact, chloroquine was among the initial drugs that were approved for emergency use by FDA for treating COVID-19."
   ]
  },
  {
   "cell_type": "markdown",
   "metadata": {
    "cell_id": "9f51666aa7f244a2be5c9bebc60f4065",
    "deepnote_cell_type": "markdown"
   },
   "source": [
    "### Self-study material:\n",
    "- <a href=\"https://doi.org/10.1093/bib/bbac229\" target=\"_blank\">Network approaches for modeling the effect of drugs and diseases</a>\n"
   ]
  }
 ],
 "metadata": {
  "deepnote": {},
  "deepnote_execution_queue": [],
  "deepnote_notebook_id": "f10adbcf71874e128bb224d489e19d03",
  "kernelspec": {
   "display_name": "Python 3 (ipykernel)",
   "language": "python",
   "name": "python3"
  },
  "language_info": {
   "codemirror_mode": {
    "name": "ipython",
    "version": 3
   },
   "file_extension": ".py",
   "mimetype": "text/x-python",
   "name": "python",
   "nbconvert_exporter": "python",
   "pygments_lexer": "ipython3",
   "version": "3.9.12"
  }
 },
 "nbformat": 4,
 "nbformat_minor": 1
}
