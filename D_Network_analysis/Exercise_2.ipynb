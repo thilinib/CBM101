{
 "cells": [
  {
   "cell_type": "markdown",
   "metadata": {
    "cell_id": "45aea490efcb4f0dba1ef4deba68a29d",
    "deepnote_cell_height": 380.296875,
    "deepnote_cell_type": "markdown",
    "tags": []
   },
   "source": [
    "### Exercise session 2\n",
    "\n",
    "<strong>Overview</strong>\n",
    "\n",
    "Part A: Explore the basic topological properties of the given protein-protein interaction network. \n",
    "\n",
    "Part B: From provided human PPI network identify the gene module(s) enriched with Covid-19 related genes. The genes in this module might be important for the infection (guilt-by-association) and might act as a potential drug targets.\n",
    "\n",
    "Part C: Use network centralities to prioritize the genes in the module identified in exercise 1 to find potential drug targets for treatment of Covid-19.\n",
    "\n",
    "Part D: Use network proximities between the potential drug targets identified in exercise 2 and the targets of known drugs to identify potential drugs for Covid-19.\n",
    "\n",
    "<strong>Files to use:</strong>\n",
    "- Network: Data/Exercise_PPI_Net.csv\n",
    "- Covid-19 genes: Data/Exercise_SARS-Cov_genes.csv\n",
    "- Drugs and targets : Data/Exercise_Drugs.csv"
   ]
  },
  {
   "cell_type": "markdown",
   "metadata": {},
   "source": [
    "#### Part A: Basic network properties \n",
    "- Load the network in Data/Exercise_PPI_Net.csv\n",
    "- Retrieve the basic properties of the network like number of nodes, edges, density, diameter, radius, etc\n",
    "- How many connected components are there in the network?\n",
    "- Is the network modular?\n",
    "- Plot the degree distribution? Is the network a scale free network?"
   ]
  },
  {
   "cell_type": "markdown",
   "metadata": {
    "cell_id": "b4bdea3c9a914a1dbff5093b9282506e",
    "deepnote_cell_height": 127.78125,
    "deepnote_cell_type": "markdown",
    "tags": []
   },
   "source": [
    "#### Part B: Identify network modules in PPI network consisting of known Covid-19 genes\n",
    "- Identify modules in the provided network using Girvan-Newman method\n",
    "- For each module detected check how many known known Covid-19 genes it contain"
   ]
  },
  {
   "cell_type": "markdown",
   "metadata": {
    "cell_id": "6ae82040b71b4df79c2e50034172e9e4",
    "deepnote_cell_height": 178.5625,
    "deepnote_cell_type": "markdown",
    "tags": []
   },
   "source": [
    "#### Part C: Prioritization of genes based on network centralities\n",
    "- Extract the module from the PPI identified to be important to Covid-19 in exercise 1\n",
    "- Calculate the centralities for each target\n",
    "- Identify the genes that are ranked highly by the degree centrality, closeness centrality and betweenness centrality.\n",
    "- Are there any genes that are common?"
   ]
  },
  {
   "cell_type": "markdown",
   "metadata": {
    "cell_id": "ec0621c6c2744c4592455c942abed6b6",
    "deepnote_cell_height": 127.78125,
    "deepnote_cell_type": "markdown",
    "tags": []
   },
   "source": [
    "#### Part D: Drug repurposing using network based proximities\n",
    "- Calculate network proximities between known drug targets and genes identified in exercise 2 as potential targets.\n",
    "- Identify which drugs could be used for the treatment of Covid-19."
   ]
  }
 ],
 "metadata": {
  "deepnote": {},
  "deepnote_execution_queue": [],
  "deepnote_notebook_id": "36b82032aefc41a89ca61f52cdb04afa",
  "kernelspec": {
   "display_name": "Python 3 (ipykernel)",
   "language": "python",
   "name": "python3"
  },
  "language_info": {
   "codemirror_mode": {
    "name": "ipython",
    "version": 3
   },
   "file_extension": ".py",
   "mimetype": "text/x-python",
   "name": "python",
   "nbconvert_exporter": "python",
   "pygments_lexer": "ipython3",
   "version": "3.13.0"
  }
 },
 "nbformat": 4,
 "nbformat_minor": 4
}
