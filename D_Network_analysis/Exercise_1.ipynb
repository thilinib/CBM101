{
 "cells": [
  {
   "cell_type": "markdown",
   "metadata": {
    "cell_id": "82a6a536ba494373a235bdc4645fcd50",
    "deepnote_cell_type": "markdown"
   },
   "source": [
    "### Exercise session 1"
   ]
  },
  {
   "cell_type": "markdown",
   "metadata": {
    "cell_id": "6d044ae911a94418b97fddaf97d98905",
    "deepnote_cell_type": "markdown"
   },
   "source": [
    "#### Part A: Basic network properties\n",
    "- Load the network in Data/Human_drug_target_net.csv\n",
    "- Retrieve the basic properties of the network like number of nodes, edges, density, diameter, radius, etc\n",
    "- How many connected components are there in the network?\n",
    "- Is the network modular?\n",
    "- Plot the degree distribution? Is the network a scale free network?\n",
    "\n",
    "Note: Instead of using the entire network, you may use the largest connected component.\n"
   ]
  },
  {
   "cell_type": "markdown",
   "metadata": {
    "cell_id": "aab295a74f5e4df5a97ceac9368f6ff8",
    "deepnote_cell_type": "markdown"
   },
   "source": [
    "#### Part B: Network data mining\n",
    "Drug repurposing involves the use approved drugs for new diseases. This is usually done by identifying drugs that are known to directly target the known disease genes or those that are in the same biological pathway. Network biology can particularly aid the process by providing a holistic view of the interactions between the disease genes and the genes targeted by approved drugs. Network data mining algorithms can then be used to identify potential drugs for the disease. Let us consider the case of SARS-Cov-2 infection. SARS-Cov-2 infection requires binding of the virus spike protein to human ACE2 protein and priming of the spike protein by TMPRSS2. Thus, ACE2 has been suggested to be a potential target for developing drugs against SARS-Cov-2. Assuming that all the approved drugs are listed in Drugs.csv identify which of them could be used for the treatment of SARS-Cov-2.\n",
    "\n",
    "Hint: The drugs that target ACE2 or genes closest to ACE2 can be considered potential drugs for SARS-Cov-2.\n",
    "\n",
    "\n",
    "<strong>Files to use:</strong>\n",
    "- Network: Data/Human_drug_target_net.csv\n",
    "- Drugs: Data/Drugs.csv"
   ]
  }
 ],
 "metadata": {
  "deepnote": {},
  "deepnote_execution_queue": [],
  "deepnote_notebook_id": "9ea16718f869434f9a601c1ecff0bd7a",
  "kernelspec": {
   "display_name": "Python 3 (ipykernel)",
   "language": "python",
   "name": "python3"
  },
  "language_info": {
   "codemirror_mode": {
    "name": "ipython",
    "version": 3
   },
   "file_extension": ".py",
   "mimetype": "text/x-python",
   "name": "python",
   "nbconvert_exporter": "python",
   "pygments_lexer": "ipython3",
   "version": "3.13.0"
  }
 },
 "nbformat": 4,
 "nbformat_minor": 4
}
