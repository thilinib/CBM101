{
 "cells": [
  {
   "cell_type": "code",
   "execution_count": 1,
   "metadata": {
    "scrolled": true
   },
   "outputs": [],
   "source": [
    "#  pip install powerlaw"
   ]
  },
  {
   "cell_type": "markdown",
   "metadata": {
    "cell_id": "6e2ea85c4b6d483bb48b8b4028f7d478",
    "deepnote_app_coordinates": {
     "h": 5,
     "w": 12,
     "x": 0,
     "y": 0
    },
    "deepnote_cell_height": 318,
    "deepnote_cell_type": "markdown",
    "tags": []
   },
   "source": [
    "## Introduction to network-based analysis in biomedicine with python (Part 1)\n",
    "\n",
    "#### Topic overview:\n",
    "\n",
    "##### 1. Introduction to networks and its construction\n",
    "\n",
    "##### 2. Construction of networks\n",
    "\n",
    "##### 3. Databases for creating biological networks\n",
    "\n",
    "##### 4. Basic concepts of network analysis"
   ]
  },
  {
   "cell_type": "markdown",
   "metadata": {
    "cell_id": "3857066a35684a859bb291c9cdb9f245",
    "deepnote_app_coordinates": {
     "h": 5,
     "w": 12,
     "x": 0,
     "y": 0
    },
    "deepnote_cell_height": 2000.234375,
    "deepnote_cell_type": "markdown",
    "tags": []
   },
   "source": [
    "### What are networks?\n",
    "Networks are a group or system of interconnected entities. Here, entities could be anything — persons, computers, proteins, drugs, etc. Networks are used to represent and study the complex associations between the entities. They are usually represented as graphs of a collection of nodes connected by edges denoting the interaction or association between the nodes.\n",
    "\n",
    "<img src=\"Figures/Network_node_edge.png\" alt=\"Network node edge\" width=\"400\"/>\n",
    "<b>Figure:</b> Network represented as set a of nodes connected by edges.\n",
    "\n",
    "Image from https://builtin.com/data-science/social-network-analysis\n",
    "\n"
   ]
  },
  {
   "cell_type": "markdown",
   "metadata": {
    "cell_id": "03a9813c608f47268b2c93fe0ca8b515",
    "deepnote_app_coordinates": {
     "h": 5,
     "w": 12,
     "x": 0,
     "y": 0
    },
    "deepnote_cell_height": 691.828125,
    "deepnote_cell_type": "markdown",
    "tags": []
   },
   "source": [
    "### How are networks visualized and represented?\n",
    "\n",
    "<img src=\"Figures/Graph_representation.png\" alt=\"Network representation\" width=700/>\n",
    "\n",
    "<b>Figure:</b> Visualization of network as (a) a set of nodes connected by edges and its equivalent (b) adjacency matrix and (c) edge list.\n",
    "\n",
    "\n",
    "Networks are most naturally visualized as a set of points (nodes) connected by lines (edges). They are represented by the notation <b>G(V,E)</b>, which infers that a graph <b>G</b> is composed of vertices <b>V</b> and edges <b>E</b>. If <b>G</b> is the graph shown in the figure above, it could be represented as:\n",
    "\n",
    "<b><i>\n",
    "G = (V,E)</i></b>; where\n",
    "<b><i>V = {A, B, C, D, E}\n",
    "E = {{A,B}, {A,C}, {A,D}, {B,D}, {B,E}, {C,D}, {D,D}, {D,E}}\n",
    "</i></b>\n",
    "\n",
    "A more mathematically appealing form of representation of graphs are adjacency matrices (shown on right of the above figure). It is a boolean matrix (i.e., consisting of 0s and 1s) of dimention n x n, where n is the number of vertices (V) in the graph. In an adjacency matrix, 1s represent the presence of edges while 0s represent no edges.\n",
    "\n",
    "A practical approach to represent network is in the form of edge list. This is more frequently used for storing the networks as flat files in databases. \n",
    "\n",
    "Besides the above methods, we can also visualise networks in more artistic way as shown here:\n"
   ]
  },
  {
   "cell_type": "markdown",
   "metadata": {},
   "source": [
    "<img src=\"Figures/Forms_of_netwok_visualisation.png\" alt=\"Forms of network visualisation\" width=700/><br>\n",
    "\n",
    "<b>Figure:</b> Some other forms of network visualisations.<br>\n",
    "\n",
    "Image from Image from https://kateto.net/polnet2017.html\n"
   ]
  },
  {
   "cell_type": "markdown",
   "metadata": {
    "cell_id": "24a38c71bba24ab393fa06616b81793f",
    "deepnote_app_coordinates": {
     "h": 5,
     "w": 12,
     "x": 0,
     "y": 0
    },
    "deepnote_cell_height": 233.125,
    "deepnote_cell_type": "markdown",
    "tags": []
   },
   "source": [
    "<p style=\"padding: 10px 10px 10px 10px; border: 2px solid blue;\">\n",
    "<b>Box 1.1: Tools for creating and visualising networks</b><br>\n",
    "<b>Python: </b>NetworkX, python-igraph<br>\n",
    "<b>R: </b>igraph<br>\n",
    "<b>Interactive tools: </b> Cytoscape, Gephi\n",
    "</p>"
   ]
  },
  {
   "cell_type": "markdown",
   "metadata": {},
   "source": [
    "### Network visualisations goals\n",
    "\n",
    "<img src=\"Figures/Network_visualisation_goals.png\" alt=\"Network visualisations goals\" width=800/><br>\n",
    "\n",
    "<b>Figure:</b> Goals of network visualisation.<br>\n",
    "\n",
    "Image from Image from https://kateto.net/polnet2017.html\n",
    "\n",
    "Some of the most interesting artworks based on network has been created by Barabasi Lab. Check them here: https://www.barabasilab.com/art\n"
   ]
  },
  {
   "cell_type": "markdown",
   "metadata": {
    "cell_id": "afc4376fbf4c4cf9858f3457b650776f",
    "deepnote_app_coordinates": {
     "h": 5,
     "w": 12,
     "x": 0,
     "y": 0
    },
    "deepnote_cell_height": 390.921875,
    "deepnote_cell_type": "markdown",
    "tags": []
   },
   "source": [
    "### How to construct a network from scratch?\n",
    "\n",
    "Suppose we have to recreate the following network from scratch. \n",
    "\n",
    "<img src=\"Figures/Network_construction_1.png\" width=200/>\n",
    "\n",
    "The first step would be to create the adjacency matrix. This can be done by using the Python module numpy. \n",
    "\n",
    "Since the network consists of five nodes, we must construct a 5x5 matrix. We will write the connection from row to column. For example, the link from A to B should be at the 1st row and 2nd column. The presence of edges would be denoted by 1 else 0. \n",
    "\n",
    "Also to be noted here that the edges are arrows instead of a stright line. An arrow as an edge represents the direction of interaction between the nodes. As such, in the adjacency matrix, we must only represent the edge for A to B (row 1, column 2) and not B to A (row 2, column 1)."
   ]
  },
  {
   "cell_type": "code",
   "execution_count": 2,
   "metadata": {
    "cell_id": "15d35f3ac733413789524ddd852def06",
    "deepnote_app_coordinates": {
     "h": 5,
     "w": 12,
     "x": 0,
     "y": 0
    },
    "deepnote_cell_type": "code",
    "deepnote_to_be_reexecuted": false,
    "execution_millis": 2153,
    "execution_start": 1692276139376,
    "source_hash": null
   },
   "outputs": [],
   "source": [
    "# Upload python modules\n",
    "import numpy as np\n",
    "import networkx as nx\n",
    "import powerlaw\n",
    "\n",
    "# Import python modules for visualizations\n",
    "import matplotlib.pylab as plt\n",
    "import seaborn as sns\n",
    "\n",
    "%matplotlib inline"
   ]
  },
  {
   "cell_type": "code",
   "execution_count": null,
   "metadata": {
    "cell_id": "0aa7b515f66d4a00ab78857351197bc7",
    "deepnote_app_coordinates": {
     "h": 5,
     "w": 12,
     "x": 0,
     "y": 0
    },
    "deepnote_cell_height": 315.9375,
    "deepnote_cell_type": "code",
    "deepnote_output_heights": [
     97.9375
    ],
    "deepnote_to_be_reexecuted": false,
    "execution_millis": 21,
    "execution_start": 1692276141508,
    "source_hash": null,
    "tags": []
   },
   "outputs": [],
   "source": [
    "# Create the adjacency matrix\n",
    "import numpy as np\n",
    "adj_mat = np.array([\n",
    "       [0., 1., 0., 1., 0.],\n",
    "       [0., 0., 0., 0., 0.],\n",
    "       [1., 0., 0., 0., 0.],\n",
    "       [0., 0., 1., 0., 1.],\n",
    "       [0., 0., 0., 0., 0.]])\n",
    "       \n",
    "adj_mat"
   ]
  },
  {
   "cell_type": "markdown",
   "metadata": {
    "cell_id": "10dc7f72088f4435866043b7df7bbf7b",
    "deepnote_app_coordinates": {
     "h": 5,
     "w": 12,
     "x": 0,
     "y": 0
    },
    "deepnote_cell_height": 74.78125,
    "deepnote_cell_type": "markdown",
    "tags": []
   },
   "source": [
    "Once we have the adjacency matrix, we can use the python library NetworkX to convert it to a graph object. NetworkX provides various modules specialized for working with graphs. The networks created or imported into NetworkX are stored as <code>networkx.Graph</code> class. \n",
    "\n",
    "We can use the function <code>from_numpy_array()</code> to read the adjacency matrix we created earlier. By default, while reading a network from adjacency matrix, the nodes are labelled as integers starting fom 0. However, it can be easily relabbeled using the function <code>relabel_nodes</code>."
   ]
  },
  {
   "cell_type": "code",
   "execution_count": null,
   "metadata": {
    "cell_id": "8c6b70ec452e49e9b20171acaa5d3488",
    "deepnote_app_coordinates": {
     "h": 5,
     "w": 12,
     "x": 0,
     "y": 0
    },
    "deepnote_cell_height": 432,
    "deepnote_cell_type": "code",
    "deepnote_output_heights": [
     304
    ],
    "deepnote_to_be_reexecuted": false,
    "execution_millis": 342,
    "execution_start": 1692276141523,
    "source_hash": null,
    "tags": []
   },
   "outputs": [],
   "source": [
    "# Import the NetworkX library\n",
    "import networkx as nx\n",
    "\n",
    "# Read the adjacency matrix as graph\n",
    "G = nx.from_numpy_array(adj_mat)\n",
    "\n",
    "# Create node label mapping\n",
    "node_labels = {0: \"A\", 1: \"B\", 2: \"C\", 3: \"D\", 4: \"E\"}\n",
    "G = nx.relabel_nodes(G, node_labels)\n",
    "\n",
    "# Draw the network\n",
    "nx.draw(G, with_labels = True)"
   ]
  },
  {
   "cell_type": "markdown",
   "metadata": {
    "cell_id": "e3014b6861d24cc297f780353d5a60a1",
    "deepnote_app_coordinates": {
     "h": 5,
     "w": 12,
     "x": 0,
     "y": 0
    },
    "deepnote_cell_height": 186.953125,
    "deepnote_cell_type": "markdown",
    "tags": []
   },
   "source": [
    "The above network does not yet explicitly mention the direction of interactions as was shown in the reference picture. This is because by default from_numpy_array create a simple graph. We can use the graph constructor <code>DiGraph</code> to force it to create a directed graph."
   ]
  },
  {
   "cell_type": "code",
   "execution_count": null,
   "metadata": {
    "cell_id": "b1e3af9c57224e74acfe185d84334bae",
    "deepnote_app_coordinates": {
     "h": 5,
     "w": 12,
     "x": 0,
     "y": 0
    },
    "deepnote_cell_height": 414,
    "deepnote_cell_type": "code",
    "deepnote_output_heights": [
     304
    ],
    "deepnote_to_be_reexecuted": false,
    "execution_millis": 296,
    "execution_start": 1692276141790,
    "source_hash": null,
    "tags": []
   },
   "outputs": [],
   "source": [
    "G_dir = nx.from_numpy_array(adj_mat, create_using=nx.DiGraph)\n",
    "node_labels = {0: \"A\", 1: \"B\", 2: \"C\", 3: \"D\", 4: \"E\"}\n",
    "G_dir = nx.relabel_nodes(G_dir, node_labels)\n",
    "nx.draw(G_dir, with_labels = True)"
   ]
  },
  {
   "cell_type": "code",
   "execution_count": null,
   "metadata": {
    "cell_id": "322102d645cc49809625485455d76bf9",
    "deepnote_app_coordinates": {
     "h": 5,
     "w": 12,
     "x": 0,
     "y": 0
    },
    "deepnote_cell_type": "code",
    "deepnote_to_be_reexecuted": false,
    "execution_millis": 42,
    "execution_start": 1692276142043,
    "source_hash": null
   },
   "outputs": [],
   "source": [
    "print(\"Simple graph: \", type(G))\n",
    "print(\"Directed graph: \", type(G_dir))"
   ]
  },
  {
   "cell_type": "markdown",
   "metadata": {
    "cell_id": "9ff8dc4ada594527a63b284b5a8b99db",
    "deepnote_app_coordinates": {
     "h": 5,
     "w": 12,
     "x": 0,
     "y": 0
    },
    "deepnote_cell_height": 52.390625,
    "deepnote_cell_type": "markdown",
    "tags": []
   },
   "source": [
    "**Number of nodes and edges**"
   ]
  },
  {
   "cell_type": "code",
   "execution_count": null,
   "metadata": {
    "cell_id": "bad551f30a974f13be00c3b9f052e41b",
    "deepnote_app_coordinates": {
     "h": 5,
     "w": 12,
     "x": 0,
     "y": 0
    },
    "deepnote_cell_height": 145.375,
    "deepnote_cell_type": "code",
    "deepnote_to_be_reexecuted": false,
    "execution_millis": 5,
    "execution_start": 1692276142044,
    "source_hash": null,
    "tags": []
   },
   "outputs": [],
   "source": [
    "print(\"Number of nodes: \",  G.number_of_nodes())\n",
    "print(\"Number of edges: \", G.number_of_edges())"
   ]
  },
  {
   "cell_type": "markdown",
   "metadata": {
    "cell_id": "34f7e6bf1f594fbfa3302f91fdbc6362",
    "deepnote_app_coordinates": {
     "h": 5,
     "w": 12,
     "x": 0,
     "y": 0
    },
    "deepnote_cell_height": 228.734375,
    "deepnote_cell_type": "markdown",
    "tags": []
   },
   "source": [
    "<p style=\"padding: 10px 10px 10px 10px; border: 2px solid blue;\">\n",
    "<b>Box 1.2: How to compute the total number of possible edges in a network?</b><br>\n",
    "Let’s assume an undirected graph with N vertices. Further, we’re also assuming that the graph has a maximum number of edges. In such a case, from the starting vertex, we can draw (N-1) edges in the graph. Continuing this way, from the next vertex we can draw (N-2) edges, etc. <br>\n",
    "<br> \n",
    "<i>(N-1) + (N-2) + ... + 2 + 1 = (N*(N-1))/2</i><br>\n",
    "<br>    \n",
    "We can convert an undirected graph into a directed graph by replacing each edge with two directed edges. Hence the revised formula for the maximum number of edges in a directed graph is: <i>N*(N-1)</i> <br>\n",
    "</p>"
   ]
  },
  {
   "cell_type": "markdown",
   "metadata": {
    "cell_id": "f2db63168b7449edb6343ed00e70f660",
    "deepnote_app_coordinates": {
     "h": 5,
     "w": 12,
     "x": 0,
     "y": 0
    },
    "deepnote_cell_height": 52.390625,
    "deepnote_cell_type": "markdown",
    "tags": []
   },
   "source": [
    "**Node and edge names**"
   ]
  },
  {
   "cell_type": "code",
   "execution_count": null,
   "metadata": {
    "cell_id": "ac9fbac82a464c28b6c2f7b56616e42b",
    "deepnote_app_coordinates": {
     "h": 5,
     "w": 12,
     "x": 0,
     "y": 0
    },
    "deepnote_cell_height": 183.5625,
    "deepnote_cell_type": "code",
    "deepnote_to_be_reexecuted": false,
    "execution_millis": 7,
    "execution_start": 1692276142087,
    "source_hash": null,
    "tags": []
   },
   "outputs": [],
   "source": [
    "print(G.nodes)\n",
    "print(\"A\" in G.nodes())\n",
    "print(\"E\" in G.nodes())"
   ]
  },
  {
   "cell_type": "code",
   "execution_count": null,
   "metadata": {
    "cell_id": "b794810685364b4e904eaf019d828aa5",
    "deepnote_app_coordinates": {
     "h": 5,
     "w": 12,
     "x": 0,
     "y": 0
    },
    "deepnote_cell_type": "code",
    "deepnote_to_be_reexecuted": false,
    "execution_millis": 24,
    "execution_start": 1692276142088,
    "source_hash": null
   },
   "outputs": [],
   "source": [
    "print(G.edges)"
   ]
  },
  {
   "cell_type": "markdown",
   "metadata": {
    "cell_id": "4f0237de1a5e42d4a2eeb8952ac960d7",
    "deepnote_app_coordinates": {
     "h": 5,
     "w": 12,
     "x": 0,
     "y": 0
    },
    "deepnote_cell_type": "markdown"
   },
   "source": [
    "### Networks in biology\n",
    "Biological system functions as a result of interaction between its components (proteins, genes, metabolites, etc). Networks provide a way to understand the patterns of interactions within a biological system.\n",
    "\n",
    "### Types of networks\n",
    "- <b>Directed or undirected:</b> A network in which the edges infer the direction of interaction between the nodes is referred to as directed network. An undirected network does not inform the direction of interaction between the nodes. Gene regulatory neworks are usually represented as directed networks while gene co-expression networks are usually represented as undirected networks.\n",
    "- <b>Weighted or unweighted:</b> In a weighted network, the strengths of interaction between the nodes is represented as an edge attribute. Unweighted networks do not provide information on the strength of interactions. \n",
    "- <b>Homogeneous or heterogeneous:</b> A network in which all the nodes are of same type are referred to as homogeneous network (eg. protein-protein interaction network) whereas networks containing nodes of different types are reperred to as heterogenous network (eg. drug-target network).\n",
    "- <b>Knowledge-based or data driven:</b> Knowledge-based networks are created by aggregating interaction information between different biological entities that are spread across the literature while data driven networks are created from high-throughput experimental data. A list of databases that can be used to create knowledge-based or data-driven network can be found <a href=\"https://doi.org/10.1093/bib/bbac229\" target = \"_blank\">here</a>.\n",
    "</br>\n",
    "<img src=\"Figures/BIB_Network_Review_Fig1.jpeg\" alt=\"types of network\" style=\"margin: auto; width:70%\"/>\n",
    "</br>\n",
    "<b>Figure:</b> Different types of networks. (A) An undirected-unweighted network provide information only regarding the possible connections between the nodes. No information is provided regarding the type of interaction or its strength. (B) Directed network on the other hand provides information about the direction of interaction, (C) while weighted network tell about the strength of the interaction often denoted by edge. (D) Multiplex networks are formed by obtaining interaction information from different sources for the same set of nodes. Each layer on a multiplex network refers to interaction from different sources. As the nodes within each layer is of similar type, the network within each layer could be referred to as homogenous network. (E) In contrast to homogenous network, heterogenous network involves interaction between different types of nodes.\n",
    "\n",
    "Image from <a href=\"https://doi.org/10.1093/bib/bbac229\" target=\"_blank\">Network approaches for modeling the effect of drugs and diseases </a>\n",
    "\n",
    "</br>\n",
    "In following sections we will introduce the differnt databases that can be used to create a knowledge-based network.\n",
    "\n",
    "### Databases for creating biological networks\n",
    "- <strong>STRING: </strong>STRING (<a href=\"https://string-db.org/cgi/input\" target = \"_blank\">string-db.org</a>) is a database of known and predicted, direct physical and indirect functional protein-protein interactions. The data in STRING is obtained from five major sources including automated text mining or scientific literature, primary protein-protein interaction knowledgebases, co-expression, high-throughput experiments, and genomic context prediction. STRING is probably the largest protein-protein interaction network covering over 14000 organisms (Licata et al., 2012).\n",
    "- <strong>BioGRID: </strong> BioGRID (<a href=\"https://thebiogrid.org/\" target = \"_blank\">thebiogrid.org</a>) is a primary database archiving genetic and protein interaction data from human and other model organisms (Oughtred et al., 2021). Besides archiving all reported interactions for organisms, current focus is also on to curate conserved networks and pathways that are relevant to human health. The interactions are curated from published biomedical literature involving both low-throughput and high-throughput experiments. Apart from the protein-protein interactions and interaction between proteins and functional genetic elements, BioGRID also stores information on chemical-protein interactions retrieved from databases like DrugBank, ChemSpider, BindingDB and PDB.\n",
    "- <strong>DrugBank: </strong> DrugBank (<a href=\"https://go.drugbank.com/\" target = \"_blank\">go.drugbank.com</a>) is a comprehensive repertoire of approved as well as experimental and investigational drugs. Besides molecular information of each drug, it also provides information pertaining to associations between drugs, drug-targets, and diseases. DrugBank is also one of the largest resources of manually curated drug–drug interactions reporting both adverse and beneficial interactions. \n",
    "- <strong>Therapeutic Target Database: </strong> The Therapeutic Target Database (TTD) (<a href=\"http://db.idrblab.net/ttd/\" target = \"_blank\">db.idrblab.net/ttd</a>) collects information on known and explored therapeutic protein and nucleic acid targets along with information on the targeted disease, pathway information and the corresponding drugs for each of the targets.\n",
    "- <strong>DisGeNET: </strong> DisGeNET (<a href=\"https://www.disgenet.org/\" target = \"_blank\">www.disgenet.org</a>) is one of largest publicly available resource of genes and variants associated to human diseases. The data in DisGeNET is sourced from expert curated repositories, GWAS catalogues, animal models and the scientific literature. \n",
    "- <strong>PharmGKB: </strong> PharmGKB (<a href=\"https://www.pharmgkb.org/\" target = \"_blank\">www.pharmgkb.org</a>) is a pharmacogenomic knowledgebase hosting information on impact of genetic variation on drug responses in human. \n",
    "- <strong>OpenTargets: </strong> The OpenTargets (<a href=\"https://www.opentargets.org/\" target = \"_blank\">www.opentargets.org</a>)  project is aimed at identification and prioritization of drug targets based on human genetics and genomics data."
   ]
  },
  {
   "cell_type": "markdown",
   "metadata": {
    "cell_id": "3d1a9353953343c48fe917ba9505acb5",
    "deepnote_app_coordinates": {
     "h": 5,
     "w": 12,
     "x": 0,
     "y": 0
    },
    "deepnote_cell_height": 133.5625,
    "deepnote_cell_type": "markdown",
    "tags": []
   },
   "source": [
    "**Let us try creating a small protein protein interaction network from STRINGdb.**\n",
    "\n",
    "Most of the aforementioned databases stores interaction information as table of interacting nodes where each row of the table represents an edge. This edge list can be imported into NetworkX framework to create a network object. Besides the two connected nodes, the table may include other related information that can be used as node or edge attribute in the network.\n"
   ]
  },
  {
   "cell_type": "markdown",
   "metadata": {
    "cell_id": "22a44074ac464a058ddd593e408f6f7b",
    "deepnote_app_coordinates": {
     "h": 5,
     "w": 12,
     "x": 0,
     "y": 0
    },
    "deepnote_cell_height": 253.125,
    "deepnote_cell_type": "markdown",
    "tags": []
   },
   "source": [
    "<p style=\"padding: 10px 10px 10px 10px; border: 2px solid blue;\">\n",
    "<b>Box 1.3: Example STRING PPI network</b></br>\n",
    "The example PPI network used in this tutorial is a part of the larger human interactome in STRINGdb. The network contains proteins surrounding JAK1, JAK2, TMPRSS2 and AR, connected by reported physical interactions. The proteins JAK1 AND JAK2 are established drug target for myelofibrosis and currently in clinical trial to establish their potential as drug target for Covid-19. Similarly, TMPRSS2 is also under clinical trial for Covid-19. AR is a successful target for acute myeloid leukaemia and alcoholic hepatitis.\n",
    "</p>"
   ]
  },
  {
   "cell_type": "code",
   "execution_count": null,
   "metadata": {
    "cell_id": "84535343cc8c4c3491b1052150660564",
    "deepnote_app_coordinates": {
     "h": 5,
     "w": 12,
     "x": 0,
     "y": 0
    },
    "deepnote_cell_height": 461,
    "deepnote_cell_type": "code",
    "deepnote_to_be_reexecuted": false,
    "execution_millis": 1966,
    "execution_start": 1692276142089,
    "source_hash": null,
    "tags": []
   },
   "outputs": [],
   "source": [
    "# Reading the edgelist from STRING\n",
    "import pandas as pd\n",
    "edge_list = pd.read_table(\"Data/STRING_network.tsv\")\n",
    "edge_list.head()"
   ]
  },
  {
   "cell_type": "code",
   "execution_count": null,
   "metadata": {
    "cell_id": "f12bb5d1f7e34fd191aa0bab4b265ae0",
    "deepnote_app_coordinates": {
     "h": 5,
     "w": 12,
     "x": 0,
     "y": 0
    },
    "deepnote_cell_height": 540,
    "deepnote_cell_type": "code",
    "deepnote_output_heights": [
     304
    ],
    "deepnote_to_be_reexecuted": false,
    "execution_millis": 537,
    "execution_start": 1692195065461,
    "source_hash": null,
    "tags": []
   },
   "outputs": [],
   "source": [
    "# Creating network from edge list \n",
    "import networkx as nx\n",
    "STRING_PPI = nx.from_pandas_edgelist(df = edge_list,\n",
    "                            source = \"node1\", \n",
    "                            target = \"node2\",\n",
    "                            edge_attr = \"combined_score\")\n",
    "STRING_PPI_pos = nx.spring_layout(STRING_PPI, seed = 20)\n",
    "# STRING_PPI_pos = nx.circular_layout(STRING_PPI)\n",
    "nx.draw(STRING_PPI, with_labels = True, pos = STRING_PPI_pos, node_size = 1000, node_color = \"#1BB3F5\")"
   ]
  },
  {
   "cell_type": "markdown",
   "metadata": {
    "cell_id": "5094a3d25eb447b29c5b3e725e8c294b",
    "deepnote_app_coordinates": {
     "h": 5,
     "w": 12,
     "x": 0,
     "y": 0
    },
    "deepnote_cell_height": 532.859375,
    "deepnote_cell_type": "markdown",
    "tags": []
   },
   "source": [
    "### Network properties\n",
    "A primary task after creating a network is to explore its properties, and particularly topological properties, which can help us identify relevant sub-structures within a network.\n",
    "\n",
    "*Properties derived from element-level analysis:*\n",
    "\n",
    "- <b>Centrality</b>\n",
    "\n",
    "*Properties derived from group-level analysis*: \n",
    "\n",
    "- **Connected components**\n",
    "- **Communities**\n",
    "\n",
    "*Properties derived from network-level analysis*: \n",
    "\n",
    "- **Density**\n",
    "- **Network diameter**\n",
    "- **Clustering coefficient**\n",
    "- **Network modularity**\n",
    "- **Network topology: Scale-free networks**"
   ]
  },
  {
   "cell_type": "code",
   "execution_count": null,
   "metadata": {
    "cell_id": "f780602b1cca47ee859a6ee157353f29",
    "deepnote_app_coordinates": {
     "h": 5,
     "w": 12,
     "x": 0,
     "y": 0
    },
    "deepnote_cell_height": 239.75,
    "deepnote_cell_type": "code",
    "deepnote_to_be_reexecuted": true,
    "execution_millis": 31,
    "execution_start": 1692195065701,
    "source_hash": null,
    "tags": []
   },
   "outputs": [],
   "source": [
    "# Get basic properties of the network\n",
    "print(\"Number of nodes:\", STRING_PPI.number_of_nodes())\n",
    "print(\"Number of edges:\", STRING_PPI.number_of_edges())\n",
    "print(\"Number of isolated nodes:\", nx.number_of_isolates(STRING_PPI))\n",
    "print(\"Number of self loops:\", nx.number_of_selfloops(STRING_PPI))"
   ]
  },
  {
   "cell_type": "markdown",
   "metadata": {
    "cell_id": "039d3f755afd4e59bfaf42a294249fee",
    "deepnote_app_coordinates": {
     "h": 5,
     "w": 12,
     "x": 0,
     "y": 0
    },
    "deepnote_cell_height": 211.953125,
    "deepnote_cell_type": "markdown",
    "tags": []
   },
   "source": [
    "#### Quantifying the importance of a node within a network\n",
    "\n",
    "A bunch of graph metrics exist that quantify importance of a node within a network.\n",
    "These are collectively termed \"centrality\", but all quantify slightly different things.\n",
    "\n",
    "- degree centrality\n",
    "- betweenness centrality\n",
    "- closeness centrality\n"
   ]
  },
  {
   "cell_type": "markdown",
   "metadata": {
    "cell_id": "acc27223d7cb4616b4422656840581e5",
    "deepnote_app_coordinates": {
     "h": 5,
     "w": 12,
     "x": 0,
     "y": 0
    },
    "deepnote_cell_height": 294.265625,
    "deepnote_cell_type": "markdown",
    "tags": []
   },
   "source": [
    "##### Degree centrality\n",
    "\n",
    "The degree of a node measures the number of direct neighbours it has. It is calculated as the sum of all edges connected to that node (here indicated with *i*). Mathematically, for undirected network with an adjacency matrix ${A}$,\n",
    "\n",
    "$$\n",
    "\\text{C}_\\text{Degree}{(i)} = \\sum_{j=1}^{n}A_ij\n",
    "$$\n",
    "\n",
    "In a directed network, depending on the number of incoming and outgoing edges, degree can be in-degree or out-degree. Higher the degree of a node, more centrally located it is. \n",
    "\n",
    "To be noted, in the python package NetworkX, the <code>degree()</code> function returns the absolute number of edges connected to each node of the input graph."
   ]
  },
  {
   "cell_type": "code",
   "execution_count": null,
   "metadata": {
    "cell_id": "a0ff0526c13b41c2b4b5cabf7951bdbb",
    "deepnote_app_coordinates": {
     "h": 5,
     "w": 12,
     "x": 0,
     "y": 0
    },
    "deepnote_cell_height": 432,
    "deepnote_cell_type": "code",
    "deepnote_output_heights": [
     304
    ],
    "deepnote_to_be_reexecuted": true,
    "execution_millis": 441,
    "execution_start": 1692195065713,
    "source_hash": null,
    "tags": []
   },
   "outputs": [],
   "source": [
    "# Calculating degree for each node of the network\n",
    "node_degree = dict(STRING_PPI.degree())\n",
    "nx.draw(STRING_PPI, labels = node_degree, pos = STRING_PPI_pos, node_size = 1000, node_color = \"#1BB3F5\")"
   ]
  },
  {
   "cell_type": "markdown",
   "metadata": {
    "cell_id": "caa46c68805b45609ee29fd6454ae1e6",
    "deepnote_app_coordinates": {
     "h": 5,
     "w": 12,
     "x": 0,
     "y": 0
    },
    "deepnote_cell_height": 165.8125,
    "deepnote_cell_type": "markdown",
    "tags": []
   },
   "source": [
    "On the other hand, the function <code>degree_centrality()</code> returns degree of each node normalised by dividing with the maximum possible degree in a simple graph.\n",
    "\n",
    "$$\n",
    "\\text{C}_\\text{Degree}{(j)} = \\frac{\\sum_{j=1}^{n}A_ij}{n-1}\n",
    "$$\n",
    "where ${n}$ is the total number of nodes in the network."
   ]
  },
  {
   "cell_type": "code",
   "execution_count": null,
   "metadata": {
    "cell_id": "d3f7558c9a9d427cbb9dcb550feae3b1",
    "deepnote_app_coordinates": {
     "h": 5,
     "w": 12,
     "x": 0,
     "y": 0
    },
    "deepnote_cell_height": 437,
    "deepnote_cell_type": "code",
    "deepnote_output_heights": [
     304
    ],
    "deepnote_to_be_reexecuted": true,
    "execution_millis": 494,
    "execution_start": 1692195065962,
    "source_hash": null,
    "tags": []
   },
   "outputs": [],
   "source": [
    "degree_centrality = nx.degree_centrality(STRING_PPI)\n",
    "degree_centrality = {key : round(degree_centrality[key], 2) for key in degree_centrality}\n",
    "nx.draw(STRING_PPI, labels = degree_centrality, pos = STRING_PPI_pos, node_size = 1000, node_color = \"#1BB3F5\")"
   ]
  },
  {
   "cell_type": "markdown",
   "metadata": {
    "cell_id": "9567e71c4e5c432d8ee5caa91ee27e3d",
    "deepnote_app_coordinates": {
     "h": 5,
     "w": 12,
     "x": 0,
     "y": 0
    },
    "deepnote_cell_height": 254.984375,
    "deepnote_cell_type": "markdown",
    "tags": []
   },
   "source": [
    "##### Betweenness centrality\n",
    "\n",
    "The betweenness of node is the sum of all shortest paths that pass through that node. Nodes with high betweenness in a network often act as bridge between connecting different parts of the network. Nodes with high betweenness  play an important role in modularization of the network.\n",
    "\n",
    "$$\n",
    "\\text{C}_{Betweenness}{(v)} = \\sum_{s \\neq v \\neq t}\\frac{\\sigma_{st}{(v)}}{\\sigma_{st}}\n",
    "$$\n",
    "\n",
    "where $\\sigma_{st}$ is the total number of shortest paths from ${s}$ to node ${t}$ and $\\sigma_{st}{(v)}$ is the number of those paths passing through node ${v}$ (not where node ${v}$  is an end-point).\n"
   ]
  },
  {
   "cell_type": "code",
   "execution_count": null,
   "metadata": {
    "cell_id": "eaaccc022e804da29776f802159b13c4",
    "deepnote_app_coordinates": {
     "h": 5,
     "w": 12,
     "x": 0,
     "y": 0
    },
    "deepnote_cell_height": 437,
    "deepnote_cell_type": "code",
    "deepnote_output_heights": [
     304
    ],
    "deepnote_to_be_reexecuted": true,
    "execution_millis": 506,
    "execution_start": 1692195066197,
    "source_hash": null,
    "tags": []
   },
   "outputs": [],
   "source": [
    "betweenness_centrality = nx.betweenness_centrality(STRING_PPI)\n",
    "betweenness_centrality = {key : round(betweenness_centrality[key], 2) for key in betweenness_centrality}\n",
    "nx.draw(STRING_PPI, labels = betweenness_centrality, pos = STRING_PPI_pos, node_size = 1000, node_color = \"#1BB3F5\")"
   ]
  },
  {
   "cell_type": "markdown",
   "metadata": {
    "cell_id": "4180045fc02d4f148674ba3cb4dd932d",
    "deepnote_app_coordinates": {
     "h": 5,
     "w": 12,
     "x": 0,
     "y": 0
    },
    "deepnote_cell_height": 224.421875,
    "deepnote_cell_type": "markdown",
    "tags": []
   },
   "source": [
    "##### Closeness centrality\n",
    "\n",
    "The closeness centrality of a node measures how close the node is to all other nodes in the network. It is calculated as the sum of all shortest paths from the node to all other nodes in the network. A higher value of closeness centrality for a node indicate higher centrality. A node with high closeness centrality can quickly communicate with other nodes in the network. \n",
    "\n",
    "\n",
    "$$\n",
    "\\text{C}_{Closeness}{(v)} = \\frac{|N|-1}{\\sum_{u}{d(u,v)}}\n",
    "$$\n",
    "\n",
    "\n",
    "where ${d(u,v)}$ is the distance (length of shortest path) of node ${u}$ from node ${v}$ and ${|N|}$ is the total number of nodes the network."
   ]
  },
  {
   "cell_type": "code",
   "execution_count": null,
   "metadata": {
    "cell_id": "67bae32d739340bea405e067277c3b68",
    "deepnote_app_coordinates": {
     "h": 5,
     "w": 12,
     "x": 0,
     "y": 0
    },
    "deepnote_cell_height": 437,
    "deepnote_cell_type": "code",
    "deepnote_output_heights": [
     304
    ],
    "deepnote_to_be_reexecuted": true,
    "execution_millis": 416,
    "execution_start": 1692195066439,
    "source_hash": null,
    "tags": []
   },
   "outputs": [],
   "source": [
    "closeness_centrality = nx.closeness_centrality(STRING_PPI)\n",
    "closeness_centrality = {key : round(closeness_centrality[key], 2) for key in closeness_centrality}\n",
    "nx.draw(STRING_PPI, labels = closeness_centrality, pos = STRING_PPI_pos, node_size = 1000, node_color = \"#1BB3F5\")"
   ]
  },
  {
   "cell_type": "code",
   "execution_count": null,
   "metadata": {
    "cell_id": "44491a5ae8004c498c085aaecec9f1de",
    "deepnote_app_coordinates": {
     "h": 5,
     "w": 12,
     "x": 0,
     "y": 0
    },
    "deepnote_app_is_output_hidden": false,
    "deepnote_cell_height": 863,
    "deepnote_cell_type": "code",
    "deepnote_table_loading": false,
    "deepnote_table_state": {
     "filters": [],
     "pageIndex": 0,
     "pageSize": 100,
     "sortBy": [
      {
       "id": "Degree centrality",
       "type": "desc"
      }
     ]
    },
    "deepnote_to_be_reexecuted": true,
    "execution_millis": 112,
    "execution_start": 1692195066707,
    "is_output_hidden": false,
    "source_hash": null,
    "tags": []
   },
   "outputs": [],
   "source": [
    "centrality_table = pd.DataFrame({\"Degree centrality\" : pd.Series(degree_centrality),\n",
    "                                    \"Betweenness\" : pd.Series(betweenness_centrality),\n",
    "                                    \"Closeness centrality\" : pd.Series(closeness_centrality)})\n",
    "centrality_table"
   ]
  },
  {
   "cell_type": "markdown",
   "metadata": {
    "cell_id": "0fa7e998d119475a9689d890187bc37e",
    "deepnote_app_coordinates": {
     "h": 5,
     "w": 12,
     "x": 0,
     "y": 0
    },
    "deepnote_cell_height": 141.171875,
    "deepnote_cell_type": "markdown",
    "tags": []
   },
   "source": [
    "<p style=\"padding: 10px 10px 10px 10px; border: 2px solid red;\">\n",
    "<b>Box 1.4: Exercise</b><br>\n",
    "Are the nodes with the highest centralities same? In the network, plot the nodes with highest centralities.\n",
    "</p>"
   ]
  },
  {
   "cell_type": "code",
   "execution_count": 18,
   "metadata": {
    "cell_id": "ae3736b780a24ee88651a3de2bb182a1",
    "deepnote_app_coordinates": {
     "h": 5,
     "w": 12,
     "x": 0,
     "y": 0
    },
    "deepnote_cell_height": 473,
    "deepnote_cell_type": "code",
    "deepnote_output_heights": [
     304
    ],
    "deepnote_to_be_reexecuted": true,
    "execution_millis": 410,
    "execution_start": 1692195066728,
    "source_hash": null,
    "tags": []
   },
   "outputs": [],
   "source": [
    "# Hint\n",
    "top_degree = list(centrality_table.sort_values(by = \"Degree centrality\", ascending = False)[0:1].index)\n",
    "top_between = list(centrality_table.sort_values(by = \"Betweenness\", ascending = False)[0:1].index)\n",
    "top_closeness = list(centrality_table.sort_values(by = \"Closeness centrality\", ascending = False)[0:1].index)"
   ]
  },
  {
   "cell_type": "code",
   "execution_count": null,
   "metadata": {},
   "outputs": [],
   "source": [
    "top_degree"
   ]
  },
  {
   "cell_type": "code",
   "execution_count": null,
   "metadata": {},
   "outputs": [],
   "source": [
    "top_between"
   ]
  },
  {
   "cell_type": "code",
   "execution_count": null,
   "metadata": {},
   "outputs": [],
   "source": [
    "top_closeness"
   ]
  },
  {
   "cell_type": "code",
   "execution_count": null,
   "metadata": {},
   "outputs": [],
   "source": [
    "nx.draw(STRING_PPI, with_labels = True, pos = STRING_PPI_pos, node_size = 1000, node_color = \"#1BB3F5\")\n",
    "nx.draw_networkx_nodes(STRING_PPI, STRING_PPI_pos, nodelist = top_degree, node_size = 1000, node_color = \"green\")\n",
    "plt.show()"
   ]
  },
  {
   "cell_type": "code",
   "execution_count": null,
   "metadata": {},
   "outputs": [],
   "source": [
    "nx.draw(STRING_PPI, with_labels = True, pos = STRING_PPI_pos, node_size = 1000, node_color = \"#1BB3F5\")\n",
    "nx.draw_networkx_nodes(STRING_PPI, STRING_PPI_pos, nodelist = top_degree, node_size = 1000, node_color = \"green\")\n",
    "nx.draw_networkx_nodes(STRING_PPI, STRING_PPI_pos, nodelist = top_between, node_size = 1000, node_color = \"red\")\n",
    "nx.draw_networkx_nodes(STRING_PPI, STRING_PPI_pos, nodelist = top_closeness, node_size = 1000, node_color = \"blue\")\n",
    "plt.show()"
   ]
  },
  {
   "cell_type": "markdown",
   "metadata": {
    "cell_id": "3b98e724c89c4de59daea0950a6074f5",
    "deepnote_app_coordinates": {
     "h": 5,
     "w": 12,
     "x": 0,
     "y": 0
    },
    "deepnote_cell_height": 412.6875,
    "deepnote_cell_type": "markdown",
    "tags": []
   },
   "source": [
    "#### Group-level analysis\n",
    "\n",
    "Molecular networks are often made up of subsets of biological entities (or molecular features) that interact more intensely among each other than they do with the rest of the network, and it is often very important in research and analysis to identify or approximate these subsets as best as possible so that they can be studied more closely. In complex networks, this is not an easy task. Most of the computational methods we have available to us for finding densely connected subsets of vertices (usually called communities).\n",
    "\n",
    "##### Connected components\n",
    "\n",
    "An important concept within methods for community detection is \"connected component\".\n",
    "\n",
    "A connected component of a graph is a connected subset of vertices, none of which are connected to any other vertex in the graph. Alternately, a connected component can be defined as a group of nodes for which there exist at least one path  between any two nodes of the group but there exists no path between the nodes of another group. In a fully connected graph, there is only one component i.e. all nodes are connected to each other directly or indirectly. In an empty graph, there are no edges connecting the nodes and each node acts as an individual component.\n",
    "\n",
    "Connected components can help finding connected clusters.\n",
    "\n"
   ]
  },
  {
   "cell_type": "code",
   "execution_count": null,
   "metadata": {
    "cell_id": "f561002a777b47929a77a1b00eb17656",
    "deepnote_app_coordinates": {
     "h": 5,
     "w": 12,
     "x": 0,
     "y": 0
    },
    "deepnote_cell_height": 679.375,
    "deepnote_cell_type": "code",
    "deepnote_output_heights": [
     null,
     21.1875,
     304
    ],
    "deepnote_to_be_reexecuted": true,
    "execution_millis": 23,
    "execution_start": 1692195066969,
    "source_hash": null,
    "tags": []
   },
   "outputs": [],
   "source": [
    "# Example network with three connected component\n",
    "edge_remove = [(\"AR\", \"HSP90AA1\"), (\"AR\", \"FOXA1\")]\n",
    "STRING_PPI_cc = STRING_PPI.copy()\n",
    "STRING_PPI_cc.remove_edges_from(edge_remove)\n",
    "nx.draw(STRING_PPI_cc, with_labels = True, pos = STRING_PPI_pos, node_size = 1000, node_color = \"#1BB3F5\")\n",
    "\n",
    "print(\"Number of connected components:\", nx.number_connected_components(STRING_PPI_cc))\n",
    "\n",
    "# Print the number of nodes in each component\n",
    "[len(c) for c in sorted(nx.connected_components(STRING_PPI_cc), key = len, reverse = True)]\n"
   ]
  },
  {
   "cell_type": "code",
   "execution_count": null,
   "metadata": {
    "cell_id": "6d0d29dadd404702a0443a397eed7302",
    "deepnote_app_coordinates": {
     "h": 5,
     "w": 12,
     "x": 0,
     "y": 0
    },
    "deepnote_cell_height": 519.1875,
    "deepnote_cell_type": "code",
    "deepnote_output_heights": [
     null,
     304
    ],
    "deepnote_to_be_reexecuted": true,
    "execution_millis": 530,
    "execution_start": 1692195067221,
    "source_hash": null,
    "tags": []
   },
   "outputs": [],
   "source": [
    "# Extract the largest connected component\n",
    "STRING_PPI_largestComp = list(STRING_PPI_cc.subgraph(c).copy() for c in sorted(nx.connected_components(STRING_PPI_cc), key = len, reverse = True))[0]\n",
    "print(len(STRING_PPI_largestComp.nodes()), len(STRING_PPI_largestComp.edges()))\n",
    "nx.draw(STRING_PPI_largestComp, with_labels = True, pos = STRING_PPI_pos, node_size = 1000, node_color = \"#1BB3F5\")\n"
   ]
  },
  {
   "cell_type": "markdown",
   "metadata": {
    "cell_id": "89ab4e5b0016413580ffa09ee8b3c809",
    "deepnote_app_coordinates": {
     "h": 5,
     "w": 12,
     "x": 0,
     "y": 0
    },
    "deepnote_cell_height": 211.78125,
    "deepnote_cell_type": "markdown",
    "tags": []
   },
   "source": [
    "##### Communities\n",
    "In network biology or graph theory in general, a community is defined as a subset of nodes within the graph such that connections between the nodes are denser than connections with the rest of the network.\n",
    "We will talk about community detection algorithms in the next part."
   ]
  },
  {
   "cell_type": "markdown",
   "metadata": {
    "cell_id": "9c92eedf314547418cdd520e7951a918",
    "deepnote_app_coordinates": {
     "h": 5,
     "w": 12,
     "x": 0,
     "y": 0
    },
    "deepnote_cell_height": 435.921875,
    "deepnote_cell_type": "markdown",
    "tags": []
   },
   "source": [
    "#### Network-level analysis\n",
    "\n",
    "\n",
    "##### Density\n",
    "\n",
    "The density of a network is the ratio of the number of edges present in the network to the total number of possible edges. The density of a network can range from 0 for empty or disconnected network to 1 for completely connected network.\n",
    "\n",
    "$$\n",
    "Density = \\dfrac{\\text{Number of edges in the network}}{\\text{Total number of edges in the network}} = \\dfrac{2|E|}{|N|(|N|-1)}\n",
    "$$\n",
    "\n",
    "where${|E|}$ is the number of edges in the network and ${|N|}$ is the number of nodes in the network}.\n",
    "\n",
    "The density d(G) of a graph is a measure of how many links between nodes exist compared to how many links between nodes are possible, given the graph size (number of nodes) and the graph order (number of links).\n",
    "\n",
    "The density of a network is important to consider for two reasons. First, it can help us understand how connected the network is compared to how connected it might be. Second, when comparing two networks with the same number of nodes and the same type of relationships, it can tell us how the networks are different.\n",
    "\n",
    "For example, let us imagine that there are two gene networks representing two different stages, before and after treatment, of the same disease. Network density can be used to compare the two networks and assess the changes in connectivity and structure of the networks. By assessing the change in network density we can have a priliminary understanding if there has been a gain or loss of connections between the nodes.\n",
    "\n",
    "<b>Word of caution:</b> There might also be scenarios when the density has not changed. However, it does not mean that the network has not altered. It can happen that the same number of edges were lost and gained throughout the network. In such circumstances, a more detailed comparision of network must be carried out."
   ]
  },
  {
   "cell_type": "code",
   "execution_count": null,
   "metadata": {
    "cell_id": "6bf170d8f2bd4bb0ab9302476b1a08ff",
    "deepnote_app_coordinates": {
     "h": 5,
     "w": 12,
     "x": 0,
     "y": 0
    },
    "deepnote_cell_height": 537.1875,
    "deepnote_cell_type": "code",
    "deepnote_output_heights": [
     null,
     304
    ],
    "deepnote_to_be_reexecuted": true,
    "execution_millis": 400,
    "execution_start": 1692195067466,
    "source_hash": null,
    "tags": []
   },
   "outputs": [],
   "source": [
    "# Example network with density 0\n",
    "STRING_PPI_den0 = STRING_PPI.copy()\n",
    "edge_remove = list(STRING_PPI_den0.edges)\n",
    "STRING_PPI_den0.remove_edges_from(edge_remove)\n",
    "nx.draw(STRING_PPI_den0, with_labels = True, pos = STRING_PPI_pos, node_size = 1000, node_color = \"#1BB3F5\")\n",
    "print(\"Network density:\", nx.density(STRING_PPI_den0))"
   ]
  },
  {
   "cell_type": "code",
   "execution_count": null,
   "metadata": {
    "cell_id": "bb1e7860842d4370b69283876b9e70a0",
    "deepnote_app_coordinates": {
     "h": 5,
     "w": 12,
     "x": 0,
     "y": 0
    },
    "deepnote_cell_height": 478.1875,
    "deepnote_cell_type": "code",
    "deepnote_output_heights": [
     null,
     304
    ],
    "deepnote_to_be_reexecuted": true,
    "execution_millis": 401,
    "execution_start": 1692195067714,
    "source_hash": null,
    "tags": []
   },
   "outputs": [],
   "source": [
    "# Density of the STRING PPI network\n",
    "nx.draw(STRING_PPI, with_labels = True, pos = STRING_PPI_pos, node_size = 1000, node_color = \"#1BB3F5\")\n",
    "print(\"Network density:\", nx.density(STRING_PPI))"
   ]
  },
  {
   "cell_type": "code",
   "execution_count": null,
   "metadata": {
    "cell_id": "9fced41dc1454834b226956f63cf3345",
    "deepnote_app_coordinates": {
     "h": 5,
     "w": 12,
     "x": 0,
     "y": 0
    },
    "deepnote_cell_height": 501.1875,
    "deepnote_cell_type": "code",
    "deepnote_output_heights": [
     null,
     304
    ],
    "deepnote_to_be_reexecuted": true,
    "execution_millis": 456,
    "execution_start": 1692195068010,
    "source_hash": null,
    "tags": []
   },
   "outputs": [],
   "source": [
    "# Example network with density 1\n",
    "STRING_PPI_den1 = nx.complete_graph(STRING_PPI.nodes)\n",
    "nx.draw(STRING_PPI_den1, with_labels = True, pos = STRING_PPI_pos, node_size = 1000, node_color = \"#1BB3F5\")\n",
    "print(\"Network density:\", nx.density(STRING_PPI_den1))"
   ]
  },
  {
   "cell_type": "markdown",
   "metadata": {
    "cell_id": "2358c89c962a49679c0811ff408c2be5",
    "deepnote_app_coordinates": {
     "h": 5,
     "w": 12,
     "x": 0,
     "y": 0
    },
    "deepnote_cell_height": 269.6875,
    "deepnote_cell_type": "markdown",
    "tags": []
   },
   "source": [
    "##### Network diameter\n",
    "\n",
    "The diameter of a network is the shortest path connecting the most distant nodes in the network. It is defined as the longest of all the calculated shortest paths in a connected network. The diameter is a representative of the linear size of the network. In other words, it defines the maximum number of hops required to reach from one node to another. A network with a smaller diameter may be more efficient in transfer of information as well as more scalable.\n",
    "\n",
    "$$\n",
    "\\text{diameter} = \\max_{u,v \\in N} {d(u, v)}\n",
    "$$\n",
    "\n",
    "where ${d(u,v)}$ is the distance (length of shortest path) of node ${u}$ from node ${v}$ and ${N}$ is the set of all nodes in the network."
   ]
  },
  {
   "cell_type": "code",
   "execution_count": null,
   "metadata": {
    "cell_id": "f8c8f58ee9ed494a8dfbbf4b4c72a075",
    "deepnote_app_coordinates": {
     "h": 5,
     "w": 12,
     "x": 0,
     "y": 0
    },
    "deepnote_cell_height": 145.375,
    "deepnote_cell_type": "code",
    "deepnote_to_be_reexecuted": true,
    "execution_millis": 22,
    "execution_start": 1692195068363,
    "source_hash": null,
    "tags": []
   },
   "outputs": [],
   "source": [
    "print(\"Diameter of network:\", nx.diameter(STRING_PPI))"
   ]
  },
  {
   "cell_type": "markdown",
   "metadata": {
    "cell_id": "461116d5a2f1408ea7b5406318bb6020",
    "deepnote_app_coordinates": {
     "h": 5,
     "w": 12,
     "x": 0,
     "y": 0
    },
    "deepnote_cell_height": 520.515625,
    "deepnote_cell_type": "markdown",
    "owner_user_id": "f7ca5644-8a15-47aa-b939-64cefdde8fd2",
    "tags": []
   },
   "source": [
    "##### Clustering coefficient\n",
    "\n",
    "Clustering coefficient is a measure of the degree to which nodes in a graph tend to cluster together.\n",
    "\n",
    "Two versions of this measure exist: the global and the local. The global version was designed to give an overall indication of the clustering in the network, whereas the local gives an indication of the embeddedness of single nodes.\n",
    "\n",
    "The clustering coefficient of a node or local clustering coefficient is measured as the ratio of number of actual connections between the nodes of a neighbour to the number of all the possible connections. The clustering coefficient of a network is the average of the clustering coefficients of the nodes in the network. The value of clustering coefficient ranges from 0 to 1. A network with high clustering coefficient indicates it contains communities or densely connected group of nodes.\n",
    "\n",
    "<img src=\"./Figures/Clustering_coefficient.png\" alt=\"Clustering coefficient\" width=\"450\" height=\"450\"/>\n",
    "\n",
    "<strong>Figure:</strong> Calculation of clustering coefficient of a node. \n",
    "\n",
    "Image from https://www.geeksforgeeks.org/clustering-coefficient-graph-theory/"
   ]
  },
  {
   "cell_type": "code",
   "execution_count": null,
   "metadata": {
    "cell_id": "b241258fcebd4f55ac4d3496fea8b3dd",
    "deepnote_app_coordinates": {
     "h": 5,
     "w": 12,
     "x": 0,
     "y": 0
    },
    "deepnote_cell_height": 501.1875,
    "deepnote_cell_type": "code",
    "deepnote_output_heights": [
     null,
     304
    ],
    "deepnote_to_be_reexecuted": true,
    "execution_millis": 452,
    "execution_start": 1692195068371,
    "source_hash": null,
    "tags": []
   },
   "outputs": [],
   "source": [
    "clustering_coef = nx.clustering(STRING_PPI)\n",
    "clustering_coef = {key : round(clustering_coef[key], 2) for key in clustering_coef}\n",
    "nx.draw(STRING_PPI, labels = clustering_coef, pos = STRING_PPI_pos, node_size = 1000, node_color = \"#1BB3F5\")\n",
    "print(\"Average clustering coefficient:\", nx.average_clustering(STRING_PPI))"
   ]
  },
  {
   "cell_type": "markdown",
   "metadata": {
    "cell_id": "bb74cce279bc429da82b8e3684d08e36",
    "deepnote_app_coordinates": {
     "h": 5,
     "w": 12,
     "x": 0,
     "y": 0
    },
    "deepnote_cell_height": 421.234375,
    "deepnote_cell_type": "markdown",
    "tags": []
   },
   "source": [
    "##### Network modularity\n",
    "\n",
    "Modularity is a measure of the structure of networks or graphs which measures the strength of division of a network into modules (also called groups, clusters or communities). Networks with high modularity have dense connections between the nodes within modules but sparse connections between nodes in different modules. The modularity of a network is defined as:\n",
    "\n",
    "<img src=\"./Figures/Network_mod_formula.png\" alt=\"alt text\" title=\"Image from \" width=\"450\" height=\"450\"/>\n",
    "\n",
    "where $m$ is the number of edges, $A_{i,j}$  is the adjacency matrix of G, $k$ is the degree of $i$, $γ$ is the resolution parameter, and $δ(c_{i},c_{j})$ is 1 if node $i$ and node $j$ are in the same community else 0.\n",
    "\n",
    "If resolution is less than 1, modularity favors larger communities. Greater than 1 favors smaller communities.\n",
    "\n",
    "Modularity of a network can be either positive or negative, with positive values indicating presence of modular structure or communities in the network."
   ]
  },
  {
   "cell_type": "code",
   "execution_count": null,
   "metadata": {
    "cell_id": "fc70abf43cf64999938f9b8b78130ae2",
    "deepnote_app_coordinates": {
     "h": 5,
     "w": 12,
     "x": 0,
     "y": 0
    },
    "deepnote_cell_height": 522,
    "deepnote_cell_type": "code",
    "deepnote_output_heights": [
     304
    ],
    "deepnote_to_be_reexecuted": true,
    "execution_millis": 623,
    "execution_start": 1692195068670,
    "source_hash": null,
    "tags": []
   },
   "outputs": [],
   "source": [
    "Gm = nx.Graph()\n",
    "# add the nodes\n",
    "nodelist = ['A','B','C','D','E','F']\n",
    "Gm.add_nodes_from(nodelist)\n",
    "# add the edges\n",
    "edgeList = [('A','B'),('B','C'),('A','C'),('A','D'),('D','E'),('D','F')] #list of tuples\n",
    "Gm.add_edges_from(edgeList) \n",
    "nx.draw(Gm, with_labels =True, node_color = 'pink', node_size = 900)"
   ]
  },
  {
   "cell_type": "code",
   "execution_count": null,
   "metadata": {
    "cell_id": "1a3704e0de854b1887e07084567fb976",
    "deepnote_app_coordinates": {
     "h": 5,
     "w": 12,
     "x": 0,
     "y": 0
    },
    "deepnote_cell_height": 131.1875,
    "deepnote_cell_type": "code",
    "deepnote_output_heights": [
     21.1875
    ],
    "deepnote_to_be_reexecuted": true,
    "execution_millis": 49,
    "execution_start": 1692195069049,
    "source_hash": null,
    "tags": []
   },
   "outputs": [],
   "source": [
    "#import networkx.algorithms.community as nx_comm\n",
    "nx.algorithms.community.modularity(Gm, [{'A', 'B', 'C'}, {'E','D','F'}])"
   ]
  },
  {
   "cell_type": "code",
   "execution_count": null,
   "metadata": {
    "cell_id": "abbf2b750d07422fa5d7b4b779294f85",
    "deepnote_app_coordinates": {
     "h": 5,
     "w": 12,
     "x": 0,
     "y": 0
    },
    "deepnote_cell_height": 131.1875,
    "deepnote_cell_type": "code",
    "deepnote_output_heights": [
     21.1875
    ],
    "deepnote_to_be_reexecuted": true,
    "execution_millis": 14,
    "execution_start": 1692195069050,
    "source_hash": null,
    "tags": []
   },
   "outputs": [],
   "source": [
    "Gm.add_edge('E','C')\n",
    "nx.algorithms.community.modularity(Gm, [{'A', 'B', 'C'}, {'E','D','F'}])"
   ]
  },
  {
   "cell_type": "code",
   "execution_count": null,
   "metadata": {
    "cell_id": "2b4bbc08d4b44a18bd4bdc6329bb7956",
    "deepnote_app_coordinates": {
     "h": 5,
     "w": 12,
     "x": 0,
     "y": 0
    },
    "deepnote_cell_height": 149.1875,
    "deepnote_cell_type": "code",
    "deepnote_output_heights": [
     21.1875
    ],
    "deepnote_to_be_reexecuted": true,
    "execution_millis": 13,
    "execution_start": 1692195069051,
    "source_hash": null,
    "tags": []
   },
   "outputs": [],
   "source": [
    "Gm.remove_edge('E','C')\n",
    "Gm.add_edge('E','F')\n",
    "nx.algorithms.community.modularity(Gm, [{'A', 'B', 'C'}, {'E','D','F'}])"
   ]
  },
  {
   "cell_type": "code",
   "execution_count": null,
   "metadata": {
    "cell_id": "51e36e629cff49c19b3aa05f4fda4628",
    "deepnote_app_coordinates": {
     "h": 5,
     "w": 12,
     "x": 0,
     "y": 0
    },
    "deepnote_cell_height": 239.75,
    "deepnote_cell_type": "code",
    "deepnote_to_be_reexecuted": true,
    "execution_millis": 10,
    "execution_start": 1692195069057,
    "source_hash": null,
    "tags": []
   },
   "outputs": [],
   "source": [
    "# Modularity the STRING PPI networks used earlier\n",
    "print(nx.algorithms.community.modularity(STRING_PPI, nx.connected_components(STRING_PPI)))\n",
    "print(nx.algorithms.community.modularity(STRING_PPI, nx.connected_components(STRING_PPI_cc)))\n",
    "print(nx.algorithms.community.modularity(STRING_PPI, nx.connected_components(STRING_PPI_den0)))\n",
    "print(nx.algorithms.community.modularity(STRING_PPI, nx.connected_components(STRING_PPI_den1)))"
   ]
  },
  {
   "cell_type": "markdown",
   "metadata": {
    "cell_id": "3278c2e52292487c9c57010415ce2a35",
    "deepnote_app_coordinates": {
     "h": 5,
     "w": 12,
     "x": 0,
     "y": 0
    },
    "deepnote_cell_type": "markdown"
   },
   "source": [
    "##### Network topology\n",
    "\n",
    "Network topology refers to the overall physical and logical arrangement of nodes and  edges in a network. The topology dictates the flow of information within a network and thus its function. Networks can assume various topologies as shown in the figure below:\n",
    "\n",
    "<img src=\"Figures/Network_topologies.png\" alt=\"Network toplogies\" width=\"450\" height=\"450\"/>\n",
    "\n",
    "<b>Figure:</b> Different types of network toplogies. \n",
    "\n",
    "Image from https://simple.wikipedia.org/wiki/Network_topology\n",
    "\n",
    "In real world networks, it has been seen that networks often contain high number of nodes with smaller connections connected by small number of highly connected nodes or hubs. This type of topology is referred to as scale-free topology and has been found to be occuring in biological networks as well. In the following section, we discuss scale-free topology in grater detaila and show how to detect if a network is scale-free."
   ]
  },
  {
   "cell_type": "markdown",
   "metadata": {
    "cell_id": "4823ca316509477a9fdc01a8a447c81b",
    "deepnote_app_coordinates": {
     "h": 5,
     "w": 12,
     "x": 0,
     "y": 0
    },
    "deepnote_cell_height": 205.953125,
    "deepnote_cell_type": "markdown",
    "tags": []
   },
   "source": [
    "##### Scale-free topology\n",
    "\n",
    "A scale-free network is a network whose degree distribution follows a power law, at least asymptotically. \n",
    "\n",
    "A network is deemed scale free if the fraction of nodes with degree $k$ follows a power-law distribution $k^{-α}$, where $2<α<3$. The smaller the value of $α$ the more important the role of hubs in the network while at $α>3$ the hubs are not relevant.\n",
    "\n",
    "In more practical terms, in scale-free networks most of the nodes are connected to a low number of neighbours and there are a small number of high-degree nodes (hubs) that provide high connectivity to the network. "
   ]
  },
  {
   "cell_type": "code",
   "execution_count": null,
   "metadata": {
    "cell_id": "bc7bb61eb28b47d9b872cba288ee4ef7",
    "deepnote_app_coordinates": {
     "h": 5,
     "w": 12,
     "x": 0,
     "y": 0
    },
    "deepnote_cell_height": 752,
    "deepnote_cell_type": "code",
    "deepnote_output_heights": [
     282
    ],
    "deepnote_to_be_reexecuted": true,
    "execution_millis": 830,
    "execution_start": 1692195069110,
    "source_hash": null,
    "tags": []
   },
   "outputs": [],
   "source": [
    "# Let's create an example of scale-free network\n",
    "G = nx.scale_free_graph(100, seed=10374196)\n",
    "\n",
    "# Then, let's visualize how the node degree variate across the network\n",
    "\n",
    "degree_sequence = sorted((d for n, d in G.degree()), reverse=True)\n",
    "dmax = max(degree_sequence)\n",
    "\n",
    "fig, (ax1, ax2) = plt.subplots(1, 2, figsize=(12, 4))\n",
    "\n",
    "ax1.plot(degree_sequence, \"b-\", marker=\"o\")\n",
    "ax1.set_title(\"Degree Rank Plot\")\n",
    "ax1.set_ylabel(\"Degree\")\n",
    "ax1.set_xlabel(\"Rank\")\n",
    "\n",
    "ax2.bar(*np.unique(degree_sequence, return_counts=True))\n",
    "ax2.set_title(\"Degree histogram\")\n",
    "ax2.set_xlabel(\"Degree\")\n",
    "ax2.set_ylabel(\"# of Nodes\")\n",
    "\n",
    "fig.tight_layout()\n",
    "plt.show()"
   ]
  },
  {
   "cell_type": "markdown",
   "metadata": {
    "cell_id": "e200819ec8bf47ff9c980502ed68b532",
    "deepnote_app_coordinates": {
     "h": 5,
     "w": 12,
     "x": 0,
     "y": 0
    },
    "deepnote_cell_height": 52.390625,
    "deepnote_cell_type": "markdown",
    "tags": []
   },
   "source": [
    "Let's now see how to verify whether the given network follows a power law. "
   ]
  },
  {
   "cell_type": "code",
   "execution_count": null,
   "metadata": {
    "cell_id": "4730a318d61b4f659ce6da6af5dcd892",
    "deepnote_app_coordinates": {
     "h": 5,
     "w": 12,
     "x": 0,
     "y": 0
    },
    "deepnote_cell_height": 613.1875,
    "deepnote_cell_type": "code",
    "deepnote_output_heights": [
     254
    ],
    "deepnote_to_be_reexecuted": true,
    "execution_millis": 872,
    "execution_start": 1692195069838,
    "source_hash": null,
    "tags": []
   },
   "outputs": [],
   "source": [
    "# First, create a degree distribution variable from our network\n",
    "degree_sequence = sorted([d for n, d in G.degree()], reverse=True) # used for degree distribution and powerlaw test\n",
    "\n",
    "# Then fit the data to powerlaw distributions:\n",
    "# Power laws are probability disatributions with the form:p(x)∝x−α\n",
    "fit = powerlaw.Fit(degree_sequence, xmin=1) \n",
    "\n",
    "# Then you can plot:\n",
    "fig2 = fit.plot_pdf(color='b', linewidth=2)\n",
    "fit.power_law.plot_pdf(color='g', linestyle='--', ax=fig2)\n",
    "plt.show()\n",
    "print(\"Value of alpha:\", fit.power_law.alpha)\n"
   ]
  },
  {
   "cell_type": "markdown",
   "metadata": {
    "cell_id": "8b6880ee21d342e78ce11db33ed5ddc5",
    "deepnote_app_coordinates": {
     "h": 5,
     "w": 12,
     "x": 0,
     "y": 0
    },
    "deepnote_cell_height": 288.34375,
    "deepnote_cell_type": "markdown",
    "tags": []
   },
   "source": [
    "### Self-study material:\n",
    "\n",
    "- <a href = \"https://ona-book.org/\" target = \"_blank\">Handbook of Graphs and Networks in People Analytics by Keith McNulty</a>\n",
    "\n",
    "- <a href = \"https://olizardo.github.io/networks-textbook/\" target = \"_blank\">Social Networks - An Introduction by Omar Lizardo and Isaac Jilbert</a>\n",
    "\n",
    "#### Articles:\n",
    "\n",
    "- <a href = \"https://doi.org/10.3389/fbioe.2020.00034\" target = \"_blank\">A Guide to Conquer the Biological Network Era Using Graph Theory</a>\n",
    "\n",
    "- <a href = \"https://doi.org/10.1186/1756-0381-4-10\" target = \"_blank\">Using graph theory to analyze biological networks</a>\n",
    "\n",
    "- <a href = \"https://doi.org/10.1038/nrg1272\" target = \"_blank\">Network biology: understanding the cell's functional organization</a>\n",
    "\n",
    "- <a href = \"https://www.researchgate.net/publication/342764859_ROLE_OF_NETWORK_BIOLOGY_IN_CANCER_RESEARCH\" target = \"_blank\">Role of Network Biology in Cancer Research</a>"
   ]
  }
 ],
 "metadata": {
  "deepnote": {},
  "deepnote_app_layout": "powerful-article",
  "deepnote_execution_queue": [],
  "deepnote_notebook_id": "2449dba856c648afb0c2a37f78585a28",
  "deepnote_persisted_session": {
   "createdAt": "2023-08-17T13:01:35.848Z"
  },
  "kernelspec": {
   "display_name": "Python 3 (ipykernel)",
   "language": "python",
   "name": "python3"
  },
  "language_info": {
   "codemirror_mode": {
    "name": "ipython",
    "version": 3
   },
   "file_extension": ".py",
   "mimetype": "text/x-python",
   "name": "python",
   "nbconvert_exporter": "python",
   "pygments_lexer": "ipython3",
   "version": "3.13.0"
  }
 },
 "nbformat": 4,
 "nbformat_minor": 4
}
