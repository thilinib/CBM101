{
 "cells": [
  {
   "cell_type": "markdown",
   "metadata": {
    "cell_id": "aa8708ac42e646368f1f96c49cf617b1",
    "deepnote_cell_height": 738.90625,
    "deepnote_cell_type": "markdown",
    "tags": []
   },
   "source": [
    "## Introduction to network-based analysis in biomedicine with Python (Part 2)\n",
    "\n",
    "<b>Network data mining</b> is the process of discovering patterns, relationships and insights in networks or graphs. This section is dedicated to the study of network data mining algorithms which are often used to provide novel insights into pathogenesis and etiology, as well as in the identification of new targets and applications for drugs. \n",
    "\n",
    "Network data mining algorithms can be divided into 4 main categories:\n",
    "\n",
    "1. Traversal algorithms \n",
    "2. Algorithms to compute centrality scores \n",
    "3. Path-finding algorithms \n",
    "4. Algorithms for community detection \n",
    "\n",
    "In part 1 of this tutorial, we discussed the three most commonly used algorithms to compute the centrality scores in a network — degree, betweenness and closeness. Here, we take a deeper look into the other three types of network data mining algorithms. We will see how to use these algorithms to extract relevant information from a PPI network including information on SARS-CoV-2 targets and known drug-target associations.\n",
    "\n",
    "\n",
    "#### Topic overview:\n",
    "\n",
    "##### 0. Data preparation and network construction\n",
    "\n",
    "##### 1. Traversal algorithms: BFS and DFS\n",
    "\n",
    "##### 2. Path-finding algorithm: Shortest path (Dijkstra)\n",
    "\n",
    "##### 3. Sub-graph finding algorithm: Steiner tree\n",
    "\n",
    "##### 4. Network proximity finding algorithm: Random Walk with Restart\n",
    "\n",
    "##### 5. Community detection algorithm: Girvan-Newman method"
   ]
  },
  {
   "cell_type": "markdown",
   "metadata": {
    "cell_id": "4bf61103c2324cd78d8b359c9f0539f6",
    "deepnote_cell_height": 54,
    "deepnote_cell_type": "markdown",
    "tags": []
   },
   "source": [
    "#### Data preparation and network construction"
   ]
  },
  {
   "cell_type": "code",
   "execution_count": 1,
   "metadata": {
    "cell_id": "6af6e4648d4a4846a1c99df3e7f79c99",
    "deepnote_cell_height": 166,
    "deepnote_cell_type": "code",
    "deepnote_to_be_reexecuted": false,
    "execution_millis": 1295,
    "execution_start": 1692275078432,
    "source_hash": null,
    "tags": []
   },
   "outputs": [],
   "source": [
    "# Upload Python modules\n",
    "import itertools\n",
    "import pandas as pd\n",
    "import networkx as nx\n",
    "import matplotlib.pylab as plt\n",
    "from networkx.algorithms.approximation import steiner_tree\n",
    "from networkx.algorithms.community.centrality import girvan_newman"
   ]
  },
  {
   "cell_type": "code",
   "execution_count": 2,
   "metadata": {
    "cell_id": "a40cbd9a83bc41b7adf9afd6a426f96c",
    "deepnote_cell_height": 220,
    "deepnote_cell_type": "code",
    "deepnote_to_be_reexecuted": false,
    "execution_millis": 19,
    "execution_start": 1692268840284,
    "source_hash": null,
    "tags": []
   },
   "outputs": [],
   "source": [
    "# Reading the edge list from STRING\n",
    "edge_list = pd.read_table(\"Data/STRING_network.tsv\")\n",
    "\n",
    "# Creating network from edge list \n",
    "STRING_PPI = nx.from_pandas_edgelist(df = edge_list,\n",
    "                            source = \"node1\", \n",
    "                            target = \"node2\",\n",
    "                            edge_attr = \"combined_score\")\n",
    "STRING_PPI_pos = nx.spring_layout(STRING_PPI, seed = 20)"
   ]
  },
  {
   "cell_type": "markdown",
   "metadata": {
    "cell_id": "602a885d939e4577a1f838c67891cf22",
    "deepnote_cell_height": 723.171875,
    "deepnote_cell_type": "markdown",
    "deepnote_to_be_reexecuted": false,
    "execution_start": 1658827578397,
    "source_hash": "3bd9b3f4",
    "tags": []
   },
   "source": [
    "#### Graph search or traversal algorithms\n",
    "Graph search or graph traversal algorithms are used for exploring the graphs or networks either for general discovery or explicit search. They form the groundwork for moving through graphs. The algorithms carve paths within the network irrespective of the fact if the paths are optimal. The two fundamental graph traversal algorithms are breadth-first search (BFS) and depth-first search (DFS).\n",
    "\n",
    "The BFS algorithm starts from a selected node of a graph and explores all its neighbours at one hop away before visiting all the neighbours at two hops away, and so on. On the other hand, the DFS algorithm starts from a chosen node, picks one of its neighbours, and then traverses as far as it can along that path before backtracking. \n",
    "\n",
    "These two algorithms form the basis of several other network data mining algorithms.\n",
    "\n",
    "<img src = \"Figures/Breadth_first_search.gif\" alt = \"BFS\" width = \"400\" height = \"400\">\n",
    "\n",
    "<strong>Figure:</strong> The path taken by BFS.\n",
    "\n",
    "\n",
    "<img src = \"Figures/Depth_first_search.gif\" alt = \"DFS\" width = \"400\" height = \"400\">\n",
    "\n",
    "<strong>Figure:</strong> The path taken by DFS.\n",
    "\n",
    "Image from https://commons.wikimedia.org/\n"
   ]
  },
  {
   "cell_type": "markdown",
   "metadata": {
    "cell_id": "bad4765fd0c746ed918a8f653aa1296c",
    "deepnote_cell_type": "markdown"
   },
   "source": [
    "In NetworkX, the functions <code>bfs_tree</code> and <code>dfs_tree</code> are used to obtain the tree starting from a <code>source</code> node. Let us see how the BFS and DFS trees differ in our example network if JAK1 is considered as the starting node."
   ]
  },
  {
   "cell_type": "code",
   "execution_count": null,
   "metadata": {
    "cell_id": "5f0d14669e144acdad75ff9d9cbdec76",
    "deepnote_cell_height": 414,
    "deepnote_cell_type": "code",
    "deepnote_output_heights": [
     304
    ],
    "deepnote_to_be_reexecuted": false,
    "execution_millis": 367,
    "execution_start": 1692268840301,
    "source_hash": null,
    "tags": []
   },
   "outputs": [],
   "source": [
    "# The original STRING PPI network\n",
    "nx.draw(STRING_PPI, with_labels = True, pos = STRING_PPI_pos, node_size = 1000, node_color = \"#1BB3F5\")"
   ]
  },
  {
   "cell_type": "code",
   "execution_count": null,
   "metadata": {
    "cell_id": "be2a229e73fc4492857f417bfc657a1f",
    "deepnote_cell_height": 432,
    "deepnote_cell_type": "code",
    "deepnote_output_heights": [
     304
    ],
    "deepnote_to_be_reexecuted": false,
    "execution_millis": 452,
    "execution_start": 1692268840607,
    "source_hash": null,
    "tags": []
   },
   "outputs": [],
   "source": [
    "# BFS starting from JAK1\n",
    "bfs_net = nx.bfs_tree(STRING_PPI, source = \"JAK1\")\n",
    "nx.draw(bfs_net, with_labels = True, pos = STRING_PPI_pos, node_size = 1000, node_color = \"#1BB3F5\")"
   ]
  },
  {
   "cell_type": "code",
   "execution_count": null,
   "metadata": {
    "cell_id": "f63b36d19c244ef5a0c429e4ea60910f",
    "deepnote_cell_height": 432,
    "deepnote_cell_type": "code",
    "deepnote_output_heights": [
     304
    ],
    "deepnote_to_be_reexecuted": false,
    "execution_millis": 412,
    "execution_start": 1692268840929,
    "source_hash": null,
    "tags": []
   },
   "outputs": [],
   "source": [
    "# DFS tree starting from JAK1\n",
    "dfs_net = nx.dfs_tree(STRING_PPI, source = \"JAK1\")\n",
    "nx.draw(dfs_net, with_labels = True, pos = STRING_PPI_pos, node_size = 1000, node_color = \"#1BB3F5\")"
   ]
  },
  {
   "cell_type": "markdown",
   "metadata": {
    "cell_id": "5bb1c463058c4090bd5cbaa7a6a522c2",
    "deepnote_cell_type": "markdown"
   },
   "source": [
    "We can clearly see the difference between the two algorithms. In BFS, all the six immediate neighbours of JAK1 are explored first and only then the node at two hops. Contrastingly, even thogh SOCS1 is a direct neighbour of JAK1, it is only explored after EPOR since the algorithm chooses to explore the network through HSP90AA1 first."
   ]
  },
  {
   "cell_type": "markdown",
   "metadata": {
    "cell_id": "bad9f41103b74a66ab37e79a74564b99",
    "deepnote_cell_height": 133.171875,
    "deepnote_cell_type": "markdown",
    "tags": []
   },
   "source": [
    "#### Path finding algorithms\n",
    "Unlike the graph search algorithms discussed above, the path finding algorithms are more focussed on identifying optimal paths between a pair of nodes in the network. However, the graph search algorithms forms the foundation of the path finding algorithms."
   ]
  },
  {
   "cell_type": "markdown",
   "metadata": {
    "cell_id": "e4a9a0fa61a64ddb85e6d624645309bd",
    "deepnote_cell_height": 169.5625,
    "deepnote_cell_type": "markdown",
    "tags": []
   },
   "source": [
    "##### Shortest Path (Dijkstra)\n",
    "The shortest path algorithms calculates the shortest paths between a pair of nodes. In other words, it identifies the path between two nodes with the minimum number of hops or the least weight in case of a weighted network.\n",
    "\n",
    "For example, let us try and find the shortest path between the proteins LEPR and FOXA1 in the example network. The simpliest way is to first identify all the possible paths between the two proteins and then identify the path with the smallest hops. In NetworkX, the function <code>all_simple_paths</code> can be used to retrieve all the possible paths betwen the <code>source</code> and the <code>target</code> nodes. The following table shows all the possible paths and the number of hops required. "
   ]
  },
  {
   "cell_type": "code",
   "execution_count": null,
   "metadata": {
    "cell_id": "f8cfba99a9144342832c6ea8ec19e580",
    "deepnote_cell_type": "code",
    "deepnote_to_be_reexecuted": false,
    "execution_millis": 213,
    "execution_start": 1692268841209,
    "source_hash": null
   },
   "outputs": [],
   "source": [
    "# Print all possible paths and their lengths\n",
    "paths_df = pd.DataFrame({\"Path\": pd.Series(dtype = \"str\"), \"Hops\": pd.Series(dtype = \"int\")})\n",
    "all_paths = nx.all_simple_paths(STRING_PPI, source = \"LEPR\", target = \"FOXA1\")\n",
    "for i, path in enumerate(all_paths):\n",
    "    paths_df.loc[i] = [path, len(path) - 1]\n",
    "    \n",
    "paths_df = paths_df.sort_values(by = \"Hops\")\n",
    "paths_df"
   ]
  },
  {
   "cell_type": "markdown",
   "metadata": {
    "cell_id": "68e946d452614d56b2cca72b613444dc",
    "deepnote_cell_type": "markdown"
   },
   "source": [
    "While the above method looks easy in case of a small unweighted network, it may become computationally expensive with a larger, complex and weighted network. While dealing with such networks, it thus becomes imperative to use more efficient algorithms like that of Dijkstra's for identifying the shortest paths between two nodes in a network.\n",
    "\n",
    "Dijkstra's algorithm scans the network iteratively to find a path with the lowest weight from the source node to the other nodes in the network until it has visited all the nodes. At the end, there exist's at least one path from the source node to all other nodes in the network with lowest cumulative edge weight which can be used to identify the shortest path from the source to the target node. The algorithm is tailored to work with networks having positive edge weights, however, in several  implementations of the algorithm, an edge weight of 1 is assigned to unweighted networks.\n",
    "\n",
    "<img src = \"Figures/Dijkstras_algo.png\" alt = \"Dijkstra's algorithm\" width = \"700\" height = \"400\">\n",
    "\n",
    "<strong>Figure:</strong> Steps of execution of Dijkstra's algorithm.\n",
    "\n",
    "Image from <a href = \"https://steemit.com/popularscience/@krishtopa/dijkstra-s-algorithm-of-finding-optimal-paths\" target = \"_blank\">Dijkstra’s algorithm of finding optimal paths</a>\n",
    "\n",
    "\n",
    "In NetworkX, the function <code>shortest_path</code> uses the Dijkstra's algorithm by default to calculate the shortest path between the <code>source</code> and <code>target</code> nodes. "
   ]
  },
  {
   "cell_type": "code",
   "execution_count": null,
   "metadata": {
    "cell_id": "281339579fea4e208dad2e7113bd3933",
    "deepnote_cell_height": 522,
    "deepnote_cell_type": "code",
    "deepnote_output_heights": [
     304
    ],
    "deepnote_to_be_reexecuted": false,
    "execution_millis": 309,
    "execution_start": 1692268954866,
    "source_hash": null,
    "tags": []
   },
   "outputs": [],
   "source": [
    "# Highlight the shortest path in the network\n",
    "nx.draw(STRING_PPI, with_labels = True, pos = STRING_PPI_pos, node_size = 1000, node_color = \"#1BB3F5\")\n",
    "shortest_path = nx.shortest_path(STRING_PPI, source = \"LEPR\", target = \"FOXA1\", method = \"dijkstra\")\n",
    "path_edges = list(zip(shortest_path,shortest_path[1:]))\n",
    "# edge_weights = nx.get_edge_attributes(STRING_PPI, \"combined_score\")\n",
    "# nx.draw_networkx_edge_labels(STRING_PPI, pos = STRING_PPI_pos, edge_labels = edge_weights)\n",
    "nx.draw_networkx_edges(STRING_PPI, STRING_PPI_pos, edgelist = path_edges, edge_color = \"red\", width = 2)\n",
    "plt.show()"
   ]
  },
  {
   "cell_type": "markdown",
   "metadata": {},
   "source": [
    "#### Sub-graph finding algorithm"
   ]
  },
  {
   "cell_type": "markdown",
   "metadata": {},
   "source": [
    "##### Steiner tree (Approximation)\n",
    "Steiner tree algorithms solve a classical combinatorial optimization problem which focuses on identifying a subgraph of minimum cost connecting a given set of seed nodes. The input biological network must include edges with costs which correspond to confidence or frequency of that interaction, and prizes for the nodes, which could be linked to the measurements of differential expression. "
   ]
  },
  {
   "cell_type": "code",
   "execution_count": null,
   "metadata": {},
   "outputs": [],
   "source": [
    "steiner_tree_net = steiner_tree(STRING_PPI, terminal_nodes = [\"LEPR\", \"FOXA1\", \"JAK1\"])\n",
    "nx.draw(STRING_PPI, with_labels = True, pos = STRING_PPI_pos, node_size = 1000, node_color = \"#1BB3F5\")\n",
    "nx.draw(steiner_tree_net, with_labels = True, pos = STRING_PPI_pos, node_size = 1000, node_color = \"red\", edge_color = \"red\", width = 2)"
   ]
  },
  {
   "cell_type": "markdown",
   "metadata": {},
   "source": [
    "#### Network proximity finding algorithm"
   ]
  },
  {
   "cell_type": "markdown",
   "metadata": {},
   "source": [
    "##### Random Walk with Restart (RWR)\n",
    "The Random Walk algorithm is used to identify the nodes that are more frequently visited on a random path in a graph. It simulates a traversal of the graph in which the crossed graph edges are chosen at random. After repeating this process several times, it should then be possible to measure the node-to-node proximities. In a classic RW, each edge has the same, possibly weighted, probability of being selected, and this probability is not influenced by the previously visited nodes. \n",
    "\n",
    "The most used variant of RWs is called Random Walk with Restart. It contains an additional component called restart probability that decides the probability of the walker to return to the origin node after each step taken.\n",
    "\n",
    "RWR has been used to explore the network vicinity of gene/protein seeds to study their functions by virtue of guilt-by-association i.e., genes that are closely associated tend to have similar functions. Similarly, RWR has also been used to prioritize candidate disease genes by estimating the proximities of the genes in the network from known disease genes."
   ]
  },
  {
   "cell_type": "markdown",
   "metadata": {
    "cell_id": "0302e0deb2b1450c81e5a17400b5e2ec",
    "deepnote_cell_height": 185.953125,
    "deepnote_cell_type": "markdown",
    "tags": []
   },
   "source": [
    "<p style=\"padding: 10px 10px 10px 10px; border: 2px solid blue;\">\n",
    "<b>Box 2.1: Guilt by association (GBA)</b><br>\n",
    "The biological principle of guilt by association states that genes with related functions tend to share similar properties such as genetic or physical interactions. Conversely, interacting genes may have similar functions. This principle has been extensively used in network biology to infer the function of genes with previously unreported functions.\n",
    "</p>"
   ]
  },
  {
   "cell_type": "code",
   "execution_count": null,
   "metadata": {},
   "outputs": [],
   "source": [
    "rwr = nx.pagerank(STRING_PPI, personalization = {\"JAK1\": 1})\n",
    "rwr_df = pd.DataFrame.from_dict(rwr, orient = \"index\").reset_index()\n",
    "rwr_df.columns = [\"Protein\", \"Visiting probability\"]\n",
    "rwr_df.sort_values(by = [\"Visiting probability\"], ascending = False, inplace = True)\n",
    "rwr_df.reset_index(drop = True, inplace = True)\n",
    "rwr_df"
   ]
  },
  {
   "cell_type": "code",
   "execution_count": null,
   "metadata": {},
   "outputs": [],
   "source": [
    "# Plot the RWR probability values on the network\n",
    "rwr = {key : round(rwr[key], 2) for key in rwr}\n",
    "nx.draw(STRING_PPI, with_labels = True, pos = STRING_PPI_pos, node_size = 1000, node_color = list(rwr.values()), cmap=plt.cm.Blues)"
   ]
  },
  {
   "cell_type": "markdown",
   "metadata": {
    "cell_id": "9f02d1eb7f8b4eeababf97975fa898f5",
    "deepnote_cell_height": 457.859375,
    "deepnote_cell_type": "markdown",
    "deepnote_to_be_reexecuted": false,
    "execution_start": 1658827578397,
    "source_hash": "59eba365",
    "tags": []
   },
   "source": [
    "#### Community detection algorithms\n",
    "In network biology or graph theory in general, a community is defined as a subset of nodes within the graph such that connections between the nodes are denser than connections with the rest of the network. Community detection algorithms are used to find such densely connected groups of nodes in a network. Community detection is an integral part of biological network analysis as genes/proteins with similar function tend to be closely connected in a network. Community detection is a regularly used approach for assigning functions to genes/proteins by virtue of <i>guilt-by-association</i>. "
   ]
  },
  {
   "cell_type": "markdown",
   "metadata": {
    "cell_id": "67fbb86504674028aa1c90b995338698",
    "deepnote_cell_type": "markdown"
   },
   "source": [
    "\n",
    "Community detection algorithms can be primarily grouped into two classes: agglomerative and divisive. \n",
    "\n",
    "The agglomerative method starts from an empty graph i.e., all sets of nodes and no edges. Edges or links between nodes are iteratively added based on how close a node is to the source node. The communities detected by agglomerative methods are dependent on the method used for calculating distances or closeness beween nodes. An example of agglomerative community detection algorithm is hierarchical clustering.\n",
    "\n",
    "The divisive method on the other hand, starts from the whole graph and edges are removed iteratively dividing the network into smaller sub-networks until no edges are left. A critical decision involved in this method is the selection of edge to be removed at each stage — the edge should connect communities and not those within them. One of the widely used community detection algorithms of this class is the Girvan-Newman algorithm that use edge betweenness to select which edge to be removed.\n",
    "\n",
    "Let us try and understand the working of the Girvan-Newman method of community detection. The method can be divided into four main steps:\n",
    "\n",
    "    Step 1: Calculate edge betweenness for all the edges in the network.\n",
    "    Step 2: Remove the edge(s) with the highest edge betweeness.\n",
    "    Step 3: Recalculate the edge betweenness for the remaining edges in the network.\n",
    "    Step 4: Repeat steps 2 and 3 until no edges remain in the network.\n"
   ]
  },
  {
   "cell_type": "markdown",
   "metadata": {},
   "source": [
    "We can use the <code>edge_betweenness_centrality</code> function to calculate the edge betweenness for the edges of the network. This function can be used within a loop to itiratively identify and remove the edge(s) with highest edge betweenness followed by recalculating the edge betweenness for the remaining edges."
   ]
  },
  {
   "cell_type": "code",
   "execution_count": null,
   "metadata": {
    "cell_id": "0f446de2ad7c422dab4514df674c532b",
    "deepnote_cell_height": 491,
    "deepnote_cell_type": "code",
    "deepnote_output_heights": [
     304
    ],
    "deepnote_to_be_reexecuted": false,
    "execution_millis": 385,
    "execution_start": 1692268841668,
    "source_hash": null,
    "tags": []
   },
   "outputs": [],
   "source": [
    "# Calculate the edge betweenness for all edges in the network\n",
    "edge_betweenness_centrality = nx.edge_betweenness_centrality(STRING_PPI)\n",
    "edge_betweenness_centrality = {key : round(edge_betweenness_centrality[key], 2) for key in edge_betweenness_centrality}\n",
    "nx.draw(STRING_PPI, with_labels = True, pos = STRING_PPI_pos, node_size = 1000, node_color = \"#1BB3F5\")\n",
    "nx.draw_networkx_edge_labels(STRING_PPI, pos = STRING_PPI_pos, edge_labels = edge_betweenness_centrality)\n",
    "plt.show()"
   ]
  },
  {
   "cell_type": "markdown",
   "metadata": {},
   "source": [
    "NetworkX provides the <code>girvan_newman</code> function that executes all the aforementioned steps of the algorithim for a given input network."
   ]
  },
  {
   "cell_type": "code",
   "execution_count": 12,
   "metadata": {},
   "outputs": [],
   "source": [
    "# Use Girvan-Newman algorithm to detect communities in the network\n",
    "community = girvan_newman(STRING_PPI)"
   ]
  },
  {
   "cell_type": "markdown",
   "metadata": {},
   "source": [
    "The output of the above function is an iterator object that contains the communities formed by iteratively removing edges from the network. We can use a for loop to iterate over the communities and check the modularity at each stage. Modularity is one of the most widely used metric to evaluate the quality of community structure.  "
   ]
  },
  {
   "cell_type": "code",
   "execution_count": null,
   "metadata": {},
   "outputs": [],
   "source": [
    "k = STRING_PPI.number_of_nodes()\n",
    "\n",
    "results  = []\n",
    "\n",
    "for i, components in enumerate(itertools.islice(community, k)):\n",
    "    modules = tuple(sorted(c) for c in components)\n",
    "    modularity = nx.algorithms.community.modularity(STRING_PPI, modules)\n",
    "    results.append({'Level': i + 1, 'Module Nodes': modules, 'Number of Components' : len(modules), 'Modularity': modularity})\n",
    "\n",
    "pd.DataFrame(results)"
   ]
  },
  {
   "cell_type": "markdown",
   "metadata": {},
   "source": [
    "Here, the community structure formed at level 1 showed the highest modularity. This means that at this stage, the grouping of nodes is represented by denser connections between nodes of the same module but sparse connections across modules. In other words, the network showed best partitioning at this stage. "
   ]
  },
  {
   "cell_type": "code",
   "execution_count": null,
   "metadata": {},
   "outputs": [],
   "source": [
    "# Plot the modules at level 1\n",
    "nx.draw(STRING_PPI, with_labels = True, pos = STRING_PPI_pos, node_size = 1000, node_color = \"#1BB3F5\")\n",
    "nx.draw_networkx_edge_labels(STRING_PPI, pos = STRING_PPI_pos, edge_labels = edge_betweenness_centrality)\n",
    "\n",
    "module_nodes = results[0][\"Module Nodes\"]\n",
    "nx.draw_networkx_nodes(STRING_PPI, STRING_PPI_pos, nodelist = module_nodes[0], node_size = 1000, node_color = \"green\")\n",
    "nx.draw_networkx_nodes(STRING_PPI, STRING_PPI_pos, nodelist = module_nodes[1], node_size = 1000, node_color = \"red\")\n",
    "plt.show()"
   ]
  },
  {
   "cell_type": "code",
   "execution_count": null,
   "metadata": {},
   "outputs": [],
   "source": [
    "# Plot the modules at level 4\n",
    "nx.draw(STRING_PPI, with_labels = True, pos = STRING_PPI_pos, node_size = 1000, node_color = \"#1BB3F5\")\n",
    "nx.draw_networkx_edge_labels(STRING_PPI, pos = STRING_PPI_pos, edge_labels = edge_betweenness_centrality)\n",
    "\n",
    "module_nodes = results[3][\"Module Nodes\"]\n",
    "nx.draw_networkx_nodes(STRING_PPI, STRING_PPI_pos, nodelist = module_nodes[0], node_size = 1000, node_color = \"green\")\n",
    "nx.draw_networkx_nodes(STRING_PPI, STRING_PPI_pos, nodelist = module_nodes[1], node_size = 1000, node_color = \"red\")\n",
    "nx.draw_networkx_nodes(STRING_PPI, STRING_PPI_pos, nodelist = module_nodes[2], node_size = 1000, node_color = \"orange\")\n",
    "nx.draw_networkx_nodes(STRING_PPI, STRING_PPI_pos, nodelist = module_nodes[3], node_size = 1000, node_color = \"yellow\")\n",
    "nx.draw_networkx_nodes(STRING_PPI, STRING_PPI_pos, nodelist = module_nodes[4], node_size = 1000, node_color = \"cyan\")\n",
    "\n",
    "plt.show()"
   ]
  },
  {
   "cell_type": "markdown",
   "metadata": {
    "cell_id": "5458dc60b52d4fa9abad23f99eb636f7",
    "deepnote_cell_height": 190.5625,
    "deepnote_cell_type": "markdown",
    "tags": []
   },
   "source": [
    "### Self-study material:\n",
    "\n",
    "- <a href = \"https://memgraph.github.io/networkx-guide/algorithms/shortest-path/dijkstra/\" target = \"_blank\">Dijkstra’s algorithm</a>\n",
    "- <a href = \"https://towardsdatascience.com/random-walks-with-restart-explained-77c3fe216bca\" target = \"_blank\">Random Walks with Restart Explained</a>\n",
    "- <a href = \"https://doi.org/10.1073/pnas.0400054101\" target = \"_blank\">Defining and identifying communities in networks</a>\n",
    "- <a href = \"https://memgraph.com/blog/community-detection-algorithms-with-python-networkx\" target = \"_blank\">Understanding Community Detection Algorithms with Python NetworkX</a>\n",
    "\n"
   ]
  }
 ],
 "metadata": {
  "deepnote": {},
  "deepnote_execution_queue": [],
  "deepnote_notebook_id": "990a3d3c1d3d44f491a311a7a5d88140",
  "kernelspec": {
   "display_name": "Python 3 (ipykernel)",
   "language": "python",
   "name": "python3"
  },
  "language_info": {
   "codemirror_mode": {
    "name": "ipython",
    "version": 3
   },
   "file_extension": ".py",
   "mimetype": "text/x-python",
   "name": "python",
   "nbconvert_exporter": "python",
   "pygments_lexer": "ipython3",
   "version": "3.13.0"
  }
 },
 "nbformat": 4,
 "nbformat_minor": 4
}
