{
 "cells": [
  {
   "cell_type": "markdown",
   "metadata": {},
   "source": [
    "# Title (subtopic)\n",
    "\n",
    "- Short description \n",
    "- Relate to presentation\n",
    "- Requirements for running the notebook if necessary\n"
   ]
  },
  {
   "cell_type": "markdown",
   "metadata": {},
   "source": [
    "### Feedback\n",
    "In order to further improve the exercises, please estimate the time you needed for the notebook (see last _Final task_ at the end of this notebook)"
   ]
  },
  {
   "cell_type": "markdown",
   "metadata": {},
   "source": [
    "## Installation of libraries and necessary software\n",
    "- Code to install libraries\n",
    "- State that this has to be run only once\n",
    "- If necessary, further installation instructions"
   ]
  },
  {
   "cell_type": "code",
   "execution_count": 6,
   "metadata": {},
   "outputs": [
    {
     "name": "stdout",
     "output_type": "stream",
     "text": [
      "[1] \"Code for installation of libraries\"\n"
     ]
    }
   ],
   "source": [
    "print(\"Code for installation of libraries\")"
   ]
  },
  {
   "cell_type": "markdown",
   "metadata": {},
   "source": [
    "## Loading data and packages/libraries\n",
    "Examples:\n",
    "- Load required data\n",
    "- Instructions to download files \n",
    "- Generate randomized data sets"
   ]
  },
  {
   "cell_type": "code",
   "execution_count": 4,
   "metadata": {},
   "outputs": [
    {
     "name": "stdout",
     "output_type": "stream",
     "text": [
      "[1] \"Code to load and/or create data\"\n"
     ]
    }
   ],
   "source": [
    "print(\"Code to load and/or create data\")"
   ]
  },
  {
   "cell_type": "markdown",
   "metadata": {},
   "source": [
    "### Exercise 1\n",
    "E.g.: Create a data set containing the numbers 1 to 100 (`dset <- 1:100`) and calculate _mean, median, minium, maximum, variance_ and _standard deviation_. \n",
    "\n",
    "\n"
   ]
  },
  {
   "cell_type": "code",
   "execution_count": 5,
   "metadata": {},
   "outputs": [
    {
     "name": "stdout",
     "output_type": "stream",
     "text": [
      "[1] \"Working example code to run and alter\"\n"
     ]
    }
   ],
   "source": [
    "print(\"Working example code to run and alter\")"
   ]
  },
  {
   "cell_type": "markdown",
   "metadata": {},
   "source": [
    "#### Add your answers here\n",
    "(double-click here to edit the cell)\n",
    "\n",
    "##### Question I: <ins>Why are _mean_ and _median_ the same?</ins>\n",
    "\n",
    "_Answer_\n",
    "\n",
    "##### Question II: <ins>What is the relationship between _variance_ and _standard deviation_?</ins>\n",
    "\n",
    "_Answer_\n",
    "\n",
    "\n"
   ]
  },
  {
   "cell_type": "markdown",
   "metadata": {},
   "source": [
    "### Exercise 2\n",
    "blabla\n",
    "\n"
   ]
  },
  {
   "cell_type": "code",
   "execution_count": 5,
   "metadata": {},
   "outputs": [
    {
     "name": "stdout",
     "output_type": "stream",
     "text": [
      "[1] \"Working example code to run and alter\"\n"
     ]
    }
   ],
   "source": [
    "print(\"Working example code to run and alter\")"
   ]
  },
  {
   "cell_type": "markdown",
   "metadata": {},
   "source": [
    "#### Add your answers here\n",
    "(double-click here to edit the cell)\n",
    "\n",
    "##### Question I: <ins>Why ...?</ins>\n",
    "\n",
    "_Answer_\n",
    "\n",
    "##### Question II: <ins>What ..._?</ins>\n",
    "\n",
    "_Answer_\n",
    "\n",
    "\n"
   ]
  },
  {
   "cell_type": "markdown",
   "metadata": {},
   "source": [
    "#### Add your answers here\n",
    "(double-click here to edit the cell)\n",
    "\n",
    "##### Question: <ins>Why are _mean_ and _median_ the same?</ins>\n",
    "\n",
    "_The data is symmetric_\n",
    "\n",
    "##### Question: <ins>What is the relationship between _variance_ and _standard deviation_?</ins>\n",
    "\n",
    "_Variance is the square of the standard deviation_\n",
    "\n",
    "\n"
   ]
  },
  {
   "cell_type": "markdown",
   "metadata": {},
   "source": [
    "### Final task\n",
    "\n",
    "Please enter the (approximate) number of hours you needed to finish this notebook here: **XYZ** hours\n",
    "\n"
   ]
  },
  {
   "cell_type": "code",
   "execution_count": null,
   "metadata": {},
   "outputs": [],
   "source": []
  },
  {
   "cell_type": "code",
   "execution_count": null,
   "metadata": {},
   "outputs": [],
   "source": []
  }
 ],
 "metadata": {
  "kernelspec": {
   "display_name": "R",
   "language": "R",
   "name": "ir"
  },
  "language_info": {
   "codemirror_mode": "r",
   "file_extension": ".r",
   "mimetype": "text/x-r-source",
   "name": "R",
   "pygments_lexer": "r",
   "version": "3.6.1"
  }
 },
 "nbformat": 4,
 "nbformat_minor": 2
}
