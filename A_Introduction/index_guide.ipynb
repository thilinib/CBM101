{
 "cells": [
  {
   "cell_type": "markdown",
   "id": "37c6f945",
   "metadata": {},
   "source": [
    "# Computational Biomedicine course notebooks"
   ]
  },
  {
   "cell_type": "markdown",
   "id": "71596e21",
   "metadata": {},
   "source": [
    "# Part 1: Python and data retrieval\n",
    "\n",
    "## Python and friends\n",
    "\n",
    "### [Python basics notebooks](../B_Python_and_friends/0_python_basics_notebooks)\n",
    "Comprehensive collection of notebooks with lots of examples. Come back to these anytime in the course if you have questions of basic python functionality. \n",
    "### [Numpy basics](../B_Python_and_friends/1_numpy_basics.ipynb)\n",
    "Introduction to NumPy library. NumPy offers multidimensional **arrays** and comperhensive mathematical functions etc.\n",
    "### [Pandas basics](../B_Python_and_friends/2_pandas_basics.ipynb)\n",
    "Introduction to Pandas library. Pandas is a data analysis and manipulation tool and includes helpful dataformats like **DataFrame**.\n",
    "\n",
    "## Data resources\n",
    "\n",
    "### [Seaborn visualization](../C_Data_resources/1_seaborn_visualization.ipynb)\n",
    "Examples of visualization with python package seaborn.\n",
    "### [Open datasets](../C_Data_resources/2_Open_datasets.ipynb)\n",
    "Practice of data retrieval from open repositories (<a href=\"https://www.kaggle.com\"/>Kaggle</a>), data exploration and visualizing."
   ]
  },
  {
   "cell_type": "markdown",
   "id": "d38f0a44",
   "metadata": {},
   "source": [
    "# Part 2: Network analysis\n",
    "\n",
    "### [Concepts in network theory](../D_Network_analysis/0_Concepts_in_network_theory.ipynb)\n",
    "What are networks and how to present them in array format. Introduction to NetworkX library and graph metrics.\n",
    "### [Network graphs](../D_Network_analysis/1_Network_graphs_students.ipynb)\n",
    "How to create and modify graphs using networkX and Python.\n",
    "### [Insulin network](../D_Network_analysis/2_insulin_ego_protein_network.ipynb)\n",
    "Biological aspect of networks using a protein-protein interaction network."
   ]
  },
  {
   "cell_type": "markdown",
   "id": "0ee38762",
   "metadata": {},
   "source": [
    "# Part 3: Machine learning\n",
    "\n",
    "TBA"
   ]
  }
 ],
 "metadata": {
  "kernelspec": {
   "display_name": "Python 3 (ipykernel)",
   "language": "python",
   "name": "python3"
  },
  "language_info": {
   "codemirror_mode": {
    "name": "ipython",
    "version": 3
   },
   "file_extension": ".py",
   "mimetype": "text/x-python",
   "name": "python",
   "nbconvert_exporter": "python",
   "pygments_lexer": "ipython3",
   "version": "3.10.4"
  },
  "toc": {
   "base_numbering": 1,
   "nav_menu": {},
   "number_sections": true,
   "sideBar": true,
   "skip_h1_title": false,
   "title_cell": "Table of Contents",
   "title_sidebar": "Contents",
   "toc_cell": false,
   "toc_position": {},
   "toc_section_display": true,
   "toc_window_display": false
  }
 },
 "nbformat": 4,
 "nbformat_minor": 5
}
