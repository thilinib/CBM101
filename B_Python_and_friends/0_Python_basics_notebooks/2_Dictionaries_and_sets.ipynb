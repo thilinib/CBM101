{
 "cells": [
  {
   "cell_type": "markdown",
   "metadata": {
    "cell_id": "a0a76fe417b94c6ca640030910fad024",
    "deepnote_cell_height": 82,
    "deepnote_cell_type": "markdown",
    "tags": [
     "style-activity"
    ]
   },
   "source": [
    "# Dictionaries"
   ]
  },
  {
   "cell_type": "markdown",
   "metadata": {
    "cell_id": "bb492e1ca4e741e2b713f5cc9d859ec1",
    "deepnote_cell_height": 74.78125,
    "deepnote_cell_type": "markdown"
   },
   "source": [
    "The third major type of collection we will look at is the *dictionary*. Dictionaries are key-value maps where the keys can be (almost) any type of object(may be strings, numbers, or even more complex data structures). The values in a dictionary are accessed by key, (Unlike lists and tuples, where data is accessed by position or index), and each key is used only once; each key corresponds to a specific value"
   ]
  },
  {
   "cell_type": "code",
   "execution_count": null,
   "metadata": {
    "cell_id": "0d84eb45381c49a1a5d4e36c24495a71",
    "deepnote_cell_height": 97,
    "deepnote_cell_type": "code"
   },
   "outputs": [],
   "source": [
    "# Create a dictionary\n",
    "mydict = {'a': 1, 'b': 2, 'c': 3}  \n",
    "print(mydict['a'])                   # Get an entry from a dictionary"
   ]
  },
  {
   "cell_type": "code",
   "execution_count": null,
   "metadata": {
    "cell_id": "cc24cdcd11694a2087632134227d36a1",
    "deepnote_cell_height": 115,
    "deepnote_cell_type": "code"
   },
   "outputs": [],
   "source": [
    "# Another example\n",
    "d = {'cat': 'cute', 'dog': 'furry'} \n",
    "print(d['cat'])       # prints \"cute\"\n",
    "print('cat' in d)     # Check if a dictionary has a given key; prints \"True\""
   ]
  },
  {
   "cell_type": "code",
   "execution_count": null,
   "metadata": {
    "cell_id": "fec636107ee54ca9b2315c7731f611fb",
    "deepnote_cell_height": 97,
    "deepnote_cell_type": "code"
   },
   "outputs": [],
   "source": [
    "# Set a new entry\n",
    "d['fish'] = 'wet'     \n",
    "print(d['fish'])      # Prints \"wet\""
   ]
  },
  {
   "cell_type": "code",
   "execution_count": null,
   "metadata": {
    "cell_id": "f0d104ee35114f9cb59ecb8d79e8e7e7",
    "deepnote_cell_height": 97,
    "deepnote_cell_type": "code"
   },
   "outputs": [],
   "source": [
    "# print(d['monkey'])  # KeyError: 'monkey' not a key of d\n",
    "print(d.get('monkey', 'N/A'))  # Get an element with a default; prints \"N/A\"\n",
    "print(d.get('fish', 'N/A'))    # Get an element with a default; prints \"wet\""
   ]
  },
  {
   "cell_type": "code",
   "execution_count": null,
   "metadata": {
    "cell_id": "a97c989030db416fb9effdf6b5345804",
    "deepnote_cell_height": 264.3125,
    "deepnote_cell_type": "code"
   },
   "outputs": [],
   "source": [
    "# remove elements\n",
    "del d['fish']         \n",
    "print(d.get('fish', 'N/A')) # \"fish\" is no longer a key; prints \"N/A\""
   ]
  },
  {
   "cell_type": "markdown",
   "metadata": {
    "cell_id": "d6a1691f98fc433dac13808876d8e5ff",
    "deepnote_cell_height": 74.78125,
    "deepnote_cell_type": "markdown"
   },
   "source": [
    "The following example is a dictionary where the keys are strings (DNA base codes) and the values are numbers (nucleotide masses)."
   ]
  },
  {
   "cell_type": "code",
   "execution_count": null,
   "metadata": {
    "cell_id": "38a05fce0b7b49edb34c22dcceab1f4b",
    "deepnote_cell_height": 257.75,
    "deepnote_cell_type": "code"
   },
   "outputs": [],
   "source": [
    "d = {\"G\":329.21, \"C\":289.18, \"A\":313.21, \"T\":314.19}\n",
    "\n",
    "print(d['A'])      # value associated with 'A'\n",
    "print(len(d))      # number of key:value pairs\n",
    "print(d.keys())    # Just keys\n",
    "print(d.values())  # Just values"
   ]
  },
  {
   "cell_type": "markdown",
   "metadata": {
    "cell_id": "49c05f2a7d754b7284fde465588b2abc",
    "deepnote_cell_height": 119.5625,
    "deepnote_cell_type": "markdown"
   },
   "source": [
    "If a key is already present in the dictionary, then a simple assignment of the form `dict[key]=value` is used to change the value associated with that key. If the key was not already present, this kind of assignment will add a new `key:value` pair. Existing keys can not be changed directly, but it is possible to remove a `key:value` pair using `del` and add the same value back again with a different key."
   ]
  },
  {
   "cell_type": "code",
   "execution_count": null,
   "metadata": {
    "cell_id": "8b2507162b864566a5621468338ea5c6",
    "deepnote_cell_height": 266.375,
    "deepnote_cell_type": "code",
    "deepnote_output_heights": [
     null,
     20.1875
    ]
   },
   "outputs": [],
   "source": [
    "d = {\"G\":329.21, \"C\":289.18, \"A\":313.21, \"T\":314.19}\n",
    "\n",
    "d['T'] = 304.19   # Dictionaries like lists are mutable so you can change the value of an existing item\n",
    "d['U'] = 291.08   # Adding a new key:value pair is done the same way\n",
    "print(len(d))     # 5 - dict is larger  \n",
    "del d['U']        # Delete a key and its value from the dictionary\n",
    "d"
   ]
  },
  {
   "cell_type": "markdown",
   "metadata": {
    "cell_id": "75b2e5a947e741ff849c6c83a9241990",
    "deepnote_cell_height": 82,
    "deepnote_cell_type": "markdown",
    "tags": [
     "style-activity"
    ]
   },
   "source": [
    "# Sets"
   ]
  },
  {
   "cell_type": "markdown",
   "metadata": {
    "cell_id": "6c34388685554fcea816d9650d31be10",
    "deepnote_cell_height": 74.78125,
    "deepnote_cell_type": "markdown"
   },
   "source": [
    "The final collection that you might find useful is the *set*. A set is an **undordered collection** of distinct elements, i.e. objects that ensures **no duplicates** are possible. As a simple example, consider the following:"
   ]
  },
  {
   "cell_type": "code",
   "execution_count": null,
   "metadata": {
    "cell_id": "80a0ecb25d574fdb92e95167020b5eb1",
    "deepnote_cell_height": 79,
    "deepnote_cell_type": "code"
   },
   "outputs": [],
   "source": [
    "myset = {1, 2, 3, 2, 3}   # Duplicates are eliminated\n",
    "print(myset)"
   ]
  },
  {
   "cell_type": "code",
   "execution_count": null,
   "metadata": {
    "cell_id": "cc4bc8bd23d6461b83e46a5917361da7",
    "deepnote_cell_height": 97,
    "deepnote_cell_type": "code"
   },
   "outputs": [],
   "source": [
    "animals = {'cat', 'dog'}\n",
    "print('cat' in animals)   # Check if an element is in a set; prints \"True\"\n",
    "print('fish' in animals)  # prints \"False\""
   ]
  },
  {
   "cell_type": "code",
   "execution_count": null,
   "metadata": {
    "cell_id": "3ac8f9a960574bb28f598c1df90e7ae1",
    "deepnote_cell_height": 97,
    "deepnote_cell_type": "code"
   },
   "outputs": [],
   "source": [
    "animals.add('fish')       # Add an element to a set\n",
    "print('fish' in animals)  # Prints \"True\"\n",
    "print(len(animals))       # Number of elements in a set; prints \"3\""
   ]
  },
  {
   "cell_type": "code",
   "execution_count": null,
   "metadata": {
    "cell_id": "3c0f60f0b1a44aa9be818fbe82ca36da",
    "deepnote_cell_height": 79,
    "deepnote_cell_type": "code"
   },
   "outputs": [],
   "source": [
    "animals.add('cat')        # Adding an element that is already in the set does nothing\n",
    "print(len(animals))       # Prints \"3\""
   ]
  },
  {
   "cell_type": "code",
   "execution_count": null,
   "metadata": {
    "cell_id": "4a3820e054b34d02adfbfeae181bc25e",
    "deepnote_cell_height": 246.3125,
    "deepnote_cell_type": "code"
   },
   "outputs": [],
   "source": [
    "animals.remove('cat')     # Remove an element from a set\n",
    "print(len(animals))       # Prints \"2\""
   ]
  },
  {
   "cell_type": "markdown",
   "metadata": {
    "cell_id": "5b67939714174ef4a62e966cbe7c78a4",
    "deepnote_cell_height": 181.171875,
    "deepnote_cell_type": "markdown"
   },
   "source": [
    "\n",
    "<div class='alert alert-info'>\n",
    "    <h3> Loops</h3>\n",
    "    \n",
    "Iterating over a dictionary or a set: <a href='./4_For-loops.ipynb'>4_For-loops.ipynb</a>\n",
    "</div>"
   ]
  },
  {
   "cell_type": "markdown",
   "metadata": {
    "cell_id": "18def3522f84435d90e3bd21c88a676b",
    "deepnote_cell_height": 70,
    "deepnote_cell_type": "markdown"
   },
   "source": [
    "## Working with collections"
   ]
  },
  {
   "cell_type": "markdown",
   "metadata": {
    "cell_id": "71b24578b2ee43c8ac63149b1772d077",
    "deepnote_cell_height": 74.78125,
    "deepnote_cell_type": "markdown"
   },
   "source": [
    "To check whether an object is in a collection, you can use the `in` operator. This is much faster on sets and dictionaries than on lists and tuples."
   ]
  },
  {
   "cell_type": "code",
   "execution_count": null,
   "metadata": {
    "cell_id": "30b59f3bb8314dfe8fd8f3a67b97dfdc",
    "deepnote_cell_height": 112.1875,
    "deepnote_cell_type": "code",
    "deepnote_output_heights": [
     20.1875
    ]
   },
   "outputs": [],
   "source": [
    "1 in [1, 2, 3]"
   ]
  },
  {
   "cell_type": "code",
   "execution_count": null,
   "metadata": {
    "cell_id": "b6760d12f12c4bc5857054120a95d8a1",
    "deepnote_cell_height": 112.1875,
    "deepnote_cell_type": "code",
    "deepnote_output_heights": [
     20.1875
    ]
   },
   "outputs": [],
   "source": [
    "4 in (1, 2, 3)"
   ]
  },
  {
   "cell_type": "markdown",
   "metadata": {
    "cell_id": "1a63ca0380e049768bc3e83d1b58df6f",
    "deepnote_cell_height": 74.78125,
    "deepnote_cell_type": "markdown"
   },
   "source": [
    "If your collection is very long (hundreds or thousands of elements), like the Merriam Webster English dictionary, the `in` operator is extremely handy."
   ]
  },
  {
   "cell_type": "markdown",
   "metadata": {
    "cell_id": "100f8ade716d4de680f59a906b4598aa",
    "deepnote_cell_height": 52.390625,
    "deepnote_cell_type": "markdown"
   },
   "source": [
    "On dictionaries, the `in` operator checks whether the object is a *key*, not whether it is a value."
   ]
  },
  {
   "cell_type": "code",
   "execution_count": null,
   "metadata": {
    "cell_id": "42733107d5a1463096f32333dfdd0292",
    "deepnote_cell_height": 112.1875,
    "deepnote_cell_type": "code",
    "deepnote_output_heights": [
     20.1875
    ]
   },
   "outputs": [],
   "source": [
    "'a' in {'a': 1}"
   ]
  },
  {
   "cell_type": "code",
   "execution_count": null,
   "metadata": {
    "cell_id": "ea5b91048be04715b928a0c27b0d071d",
    "deepnote_cell_height": 112.1875,
    "deepnote_cell_type": "code",
    "deepnote_output_heights": [
     20.1875
    ]
   },
   "outputs": [],
   "source": [
    "1 in {'a': 1}"
   ]
  },
  {
   "cell_type": "markdown",
   "metadata": {
    "cell_id": "1bce9ae27d7d41358e509e9f5b3d2502",
    "deepnote_cell_height": 52.390625,
    "deepnote_cell_type": "markdown"
   },
   "source": [
    "Instead of writing `not (x in y)` you can write `x not in y`. Thus,"
   ]
  },
  {
   "cell_type": "code",
   "execution_count": null,
   "metadata": {
    "cell_id": "d78eabef6e844a91bb6c17ad12817380",
    "deepnote_cell_height": 112.1875,
    "deepnote_cell_type": "code",
    "deepnote_output_heights": [
     20.1875
    ]
   },
   "outputs": [],
   "source": [
    "'a' not in {'a': 1}"
   ]
  },
  {
   "cell_type": "code",
   "execution_count": null,
   "metadata": {
    "cell_id": "277f9719e04949e1b27dfb3d31c4b553",
    "deepnote_cell_height": 112.1875,
    "deepnote_cell_type": "code",
    "deepnote_output_heights": [
     20.1875
    ]
   },
   "outputs": [],
   "source": [
    "1 not in {'a': 1}"
   ]
  },
  {
   "cell_type": "markdown",
   "metadata": {
    "cell_id": "35f5518150c94609ae85e4b765964320",
    "deepnote_cell_height": 74.78125,
    "deepnote_cell_type": "markdown"
   },
   "source": [
    "You can convert between different types of collections using the `list`, `tuple`, `dict` and `set` functions. As discussed before, this is also useful to make copies of collections in the case you might want to change them."
   ]
  },
  {
   "cell_type": "code",
   "execution_count": null,
   "metadata": {
    "cell_id": "4058906154154283b08dfbdfefecfb9f",
    "deepnote_cell_height": 112.1875,
    "deepnote_cell_type": "code",
    "deepnote_output_heights": [
     20.1875
    ]
   },
   "outputs": [],
   "source": [
    "list((1,2,3))"
   ]
  },
  {
   "cell_type": "code",
   "execution_count": null,
   "metadata": {
    "cell_id": "2b1042bd44a744548dc2360590e8dabe",
    "deepnote_cell_height": 112.1875,
    "deepnote_cell_type": "code",
    "deepnote_output_heights": [
     20.1875
    ]
   },
   "outputs": [],
   "source": [
    "tuple({1, 2, 3})"
   ]
  },
  {
   "cell_type": "code",
   "execution_count": null,
   "metadata": {
    "cell_id": "4a511876def648fba71458f72dee76ad",
    "deepnote_cell_height": 112.1875,
    "deepnote_cell_type": "code",
    "deepnote_output_heights": [
     20.1875
    ]
   },
   "outputs": [],
   "source": [
    "dict([('a',1), ('b',2)])"
   ]
  },
  {
   "cell_type": "code",
   "execution_count": null,
   "metadata": {
    "cell_id": "a024a76f31e747c2b378ec445862c3d1",
    "deepnote_cell_height": 112.1875,
    "deepnote_cell_type": "code",
    "deepnote_output_heights": [
     20.1875
    ]
   },
   "outputs": [],
   "source": [
    "set(dict([('a',1), ('b',2)]))"
   ]
  },
  {
   "cell_type": "markdown",
   "metadata": {
    "cell_id": "32cda467f24b42aebd782d64cc6195be",
    "deepnote_cell_height": 74.78125,
    "deepnote_cell_type": "markdown"
   },
   "source": [
    "It is often easier to extract elements from a tuple or a list by *unpacking* it, rather than indexing. This is an elegant mechanism that allows for very nice code. Some examples:"
   ]
  },
  {
   "cell_type": "code",
   "execution_count": null,
   "metadata": {
    "cell_id": "578724ebfa604c0cbe5a929f7449402e",
    "deepnote_cell_height": 125.1875,
    "deepnote_cell_type": "code"
   },
   "outputs": [],
   "source": [
    "a, b = (1, 2)\n",
    "print(a, b)"
   ]
  },
  {
   "cell_type": "code",
   "execution_count": null,
   "metadata": {
    "cell_id": "c85404b93e6144638362d3f720f8b26e",
    "deepnote_cell_height": 125.1875,
    "deepnote_cell_type": "code"
   },
   "outputs": [],
   "source": [
    "a, b, *rest = (1, 2, 3, 4, 5)\n",
    "print(a, b, rest)"
   ]
  },
  {
   "cell_type": "code",
   "execution_count": null,
   "metadata": {
    "cell_id": "b11817e7f1184c1eb48798d9fe65f3c5",
    "deepnote_cell_height": 125.1875,
    "deepnote_cell_type": "code"
   },
   "outputs": [],
   "source": [
    "a, b, *rest = (1, 2)\n",
    "print(a, b, rest)"
   ]
  },
  {
   "cell_type": "markdown",
   "metadata": {
    "cell_id": "4133d98be3f342c18ee7b29db19eec62",
    "deepnote_cell_height": 97.171875,
    "deepnote_cell_type": "markdown"
   },
   "source": [
    "The collection types have a number of **inbuilt functions** (methods) that are accessed with the **dot syntax**. The functions avaialable to a given collection are restricted to the characteriostics of its type (e.g. sets di not have functions that refer to positional indices). Some examples are:"
   ]
  },
  {
   "cell_type": "code",
   "execution_count": null,
   "metadata": {
    "cell_id": "83ff136c9b014a8c90bda805474327fb",
    "deepnote_cell_height": 115,
    "deepnote_cell_type": "code"
   },
   "outputs": [],
   "source": [
    "x = ['Mon', 'Tue', 'Wed'] # A list of strings\n",
    "y = ['Fri', 'Sat', 'Sun'] # And another\n",
    "print('x:', x)\n",
    "print('y:', y)"
   ]
  },
  {
   "cell_type": "code",
   "execution_count": null,
   "metadata": {
    "cell_id": "bb2e5483bc6d4dd5ac7e6fc849f5de6b",
    "deepnote_cell_height": 79,
    "deepnote_cell_type": "code"
   },
   "outputs": [],
   "source": [
    "x.append('Thu')  # Add a single new item to end\n",
    "print('x.append(''Thu''):\\t', x)"
   ]
  },
  {
   "cell_type": "code",
   "execution_count": null,
   "metadata": {
    "cell_id": "c8569b17f6234ec3b0713c60719909ce",
    "deepnote_cell_height": 79,
    "deepnote_cell_type": "code"
   },
   "outputs": [],
   "source": [
    "x.extend(y)\t   # Extend with items from another collection \n",
    "print('x.extend(y):\\t', x) "
   ]
  },
  {
   "cell_type": "code",
   "execution_count": null,
   "metadata": {
    "cell_id": "e3a78c5f5d6747d9bf6fa710ed0c389b",
    "deepnote_cell_height": 79,
    "deepnote_cell_type": "code"
   },
   "outputs": [],
   "source": [
    "x.sort()         # Sort contents alphabetically\n",
    "print('x.sort():\\t', x)"
   ]
  },
  {
   "cell_type": "code",
   "execution_count": null,
   "metadata": {
    "cell_id": "dabe541d0ca54286a22a42eacae51aa4",
    "deepnote_cell_height": 79,
    "deepnote_cell_type": "code"
   },
   "outputs": [],
   "source": [
    "x.remove('Sun')  # Remove an item\n",
    "print('x.remove(''Sun''):\\t', x)"
   ]
  },
  {
   "cell_type": "code",
   "execution_count": null,
   "metadata": {
    "cell_id": "78d1727a972a464a86f9e041417c01b3",
    "deepnote_cell_height": 79,
    "deepnote_cell_type": "code"
   },
   "outputs": [],
   "source": [
    "x.index('Sat')   # Positional index of an item\n",
    "print('x.index(''Sat''):\\t', x)"
   ]
  },
  {
   "cell_type": "code",
   "execution_count": null,
   "metadata": {
    "cell_id": "23f52b9e8da748df87443a11a0109efc",
    "deepnote_cell_height": 115,
    "deepnote_cell_type": "code"
   },
   "outputs": [],
   "source": [
    "s = {'G', 'C', 'A', 'T'}   # A set with 4 strings\n",
    "t = {'N', 'R', 'Y'}\n",
    "print('s:', s)\n",
    "print('t:', t)"
   ]
  },
  {
   "cell_type": "code",
   "execution_count": null,
   "metadata": {
    "cell_id": "b6b7af0f0d7045dfa655797a8e8979f8",
    "deepnote_cell_height": 79,
    "deepnote_cell_type": "code"
   },
   "outputs": [],
   "source": [
    "s.add('U')       # Add a single item (if not present) \n",
    "print('s.add(''U''):\\t', s)"
   ]
  },
  {
   "cell_type": "code",
   "execution_count": null,
   "metadata": {
    "cell_id": "d84171ea3eb04122bd6dd70ce04a7b29",
    "deepnote_cell_height": 367.4375,
    "deepnote_cell_type": "code"
   },
   "outputs": [],
   "source": [
    "s.update(t)      # Add any new items from another collection\n",
    "print('s.update(t):\\t', s)"
   ]
  },
  {
   "cell_type": "markdown",
   "metadata": {
    "cell_id": "b4bc1ad9b1884bb79fc9ef553c3ee20a",
    "deepnote_cell_height": 239.953125,
    "deepnote_cell_type": "markdown"
   },
   "source": [
    "## Summarizing questions about collections\n",
    "\n",
    "***Question I:What are the four basic collections you can use in Phyton?***\n",
    "\n",
    "    \n",
    "***Question II:Is the following statement true? The first element in a list will have index 0. As a consequence mylist[2] will give you the third element of the list.***\n",
    "\n",
    "\n",
    "***Question III: Which collection is mutable - a list or a tuple?***\n",
    "\n",
    "***Question IV: you want to make a digital phone book, which python collection is best suited for that task?***"
   ]
  },
  {
   "cell_type": "markdown",
   "metadata": {
    "created_in_deepnote_cell": true,
    "deepnote_cell_type": "markdown"
   },
   "source": [
    "<a style='text-decoration:none;line-height:16px;display:flex;color:#5B5B62;padding:10px;justify-content:end;' href='https://deepnote.com?utm_source=created-in-deepnote-cell&projectId=174a646e-27d4-4666-a2b4-2d7bb1c47bf5' target=\"_blank\">\n",
    "<img alt='Created in deepnote.com' style='display:inline;max-height:16px;margin:0px;margin-right:7.5px;' src='data:image/svg+xml;base64,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' > </img>\n",
    "Created in <span style='font-weight:600;margin-left:4px;'>Deepnote</span></a>"
   ]
  }
 ],
 "metadata": {
  "deepnote": {},
  "deepnote_execution_queue": [],
  "deepnote_notebook_id": "8c80ce98bab443d49e8a27fe00f3d0da",
  "kernelspec": {
   "display_name": "Python 3 (ipykernel)",
   "language": "python",
   "name": "python3"
  },
  "language_info": {
   "codemirror_mode": {
    "name": "ipython",
    "version": 3
   },
   "file_extension": ".py",
   "mimetype": "text/x-python",
   "name": "python",
   "nbconvert_exporter": "python",
   "pygments_lexer": "ipython3",
   "version": "3.10.4"
  },
  "toc": {
   "base_numbering": 1,
   "nav_menu": {},
   "number_sections": true,
   "sideBar": true,
   "skip_h1_title": false,
   "title_cell": "Table of Contents",
   "title_sidebar": "Contents",
   "toc_cell": false,
   "toc_position": {
    "height": "calc(100% - 180px)",
    "left": "10px",
    "top": "150px",
    "width": "384px"
   },
   "toc_section_display": "block",
   "toc_window_display": true
  }
 },
 "nbformat": 4,
 "nbformat_minor": 0
}
