{
 "cells": [
  {
   "cell_type": "markdown",
   "metadata": {
    "cell_id": "9ef03f2595df4371a057c50710bf872c",
    "deepnote_cell_type": "markdown"
   },
   "source": [
    " 1_python_basics Copyright (c) 2019 OERCompBiomed"
   ]
  },
  {
   "cell_type": "markdown",
   "metadata": {
    "cell_id": "8dc74e7468cb476fb62314ea073407af",
    "deepnote_cell_type": "markdown",
    "tags": [
     "style-activity"
    ]
   },
   "source": [
    "# Primitive datatypes and operators  <a name=\"datatypes\"></a>"
   ]
  },
  {
   "cell_type": "markdown",
   "metadata": {
    "cell_id": "0058bf1ae9f24a96b007944399683b79",
    "deepnote_cell_type": "markdown"
   },
   "source": [
    "In the world of programming, data is at the core of everything we do. Whether we're working with numbers, text, or boolean values, understanding how to handle and manipulate this data is essential.\n",
    "In this part let's see the data types use in Python and furthermore operators. operators are the tools that enable us to perform operations on data, like addition, subtraction, comparison, etc."
   ]
  },
  {
   "cell_type": "markdown",
   "metadata": {
    "cell_id": "51d088567ca64d34a2d65f4761b54954",
    "deepnote_cell_type": "markdown"
   },
   "source": [
    "Numbers come in two varieties, integers and floating point\n"
   ]
  },
  {
   "cell_type": "code",
   "execution_count": null,
   "metadata": {
    "cell_id": "0fdc85fafc834639a742401f67ddd356",
    "deepnote_cell_type": "code"
   },
   "outputs": [],
   "source": [
    "3"
   ]
  },
  {
   "cell_type": "code",
   "execution_count": null,
   "metadata": {
    "cell_id": "1c4ae1c57be74e9bbea936b7a6821e66",
    "deepnote_cell_type": "code"
   },
   "outputs": [],
   "source": [
    "1.2"
   ]
  },
  {
   "cell_type": "markdown",
   "metadata": {
    "cell_id": "76a2bff99081413d85cef6dca9c434c6",
    "deepnote_cell_type": "markdown"
   },
   "source": [
    "Math works exactly like you would expect."
   ]
  },
  {
   "cell_type": "code",
   "execution_count": null,
   "metadata": {
    "cell_id": "2dc72d8a24a04b4c8d40ab977e3bc0c7",
    "deepnote_cell_type": "code"
   },
   "outputs": [],
   "source": [
    "2 + 3"
   ]
  },
  {
   "cell_type": "code",
   "execution_count": null,
   "metadata": {
    "cell_id": "93b6f3e27d2e49d1bb7c8c91d7e171a4",
    "deepnote_cell_type": "code"
   },
   "outputs": [],
   "source": [
    "6 - 2"
   ]
  },
  {
   "cell_type": "code",
   "execution_count": null,
   "metadata": {
    "cell_id": "d20c3fd5b5894cf88ee0cc3ff4f63078",
    "deepnote_cell_type": "code"
   },
   "outputs": [],
   "source": [
    "3 * 7"
   ]
  },
  {
   "cell_type": "markdown",
   "metadata": {
    "cell_id": "2be7664d7e15421b8bf702320cf90244",
    "deepnote_cell_type": "markdown"
   },
   "source": [
    "We use `/` for true division and `//` for integer division (floor division)."
   ]
  },
  {
   "cell_type": "code",
   "execution_count": null,
   "metadata": {
    "cell_id": "80980ea456d148828a3b5dd9cfe249b8",
    "deepnote_cell_type": "code"
   },
   "outputs": [],
   "source": [
    "21 / 3    # The output is a floating point number, even though the division has no remainder"
   ]
  },
  {
   "cell_type": "code",
   "execution_count": null,
   "metadata": {
    "cell_id": "01cf4f5f854b4f5fb1c04b18ba0f4f3f",
    "deepnote_cell_type": "code"
   },
   "outputs": [],
   "source": [
    "22 / 3"
   ]
  },
  {
   "cell_type": "code",
   "execution_count": null,
   "metadata": {
    "cell_id": "c1ed009aaa6746daa9cb47f80329a74d",
    "deepnote_cell_type": "code"
   },
   "outputs": [],
   "source": [
    "21 // 3"
   ]
  },
  {
   "cell_type": "code",
   "execution_count": null,
   "metadata": {
    "cell_id": "de55ea41bbcb40c6ad540395980e01c1",
    "deepnote_cell_type": "code"
   },
   "outputs": [],
   "source": [
    "22 // 3"
   ]
  },
  {
   "cell_type": "markdown",
   "metadata": {
    "cell_id": "1ee679d54ba24ce08cccf676206ca886",
    "deepnote_cell_type": "markdown"
   },
   "source": [
    "The modulo operator (remainder after division) is `%`, and exponentiation is denoted by `**`."
   ]
  },
  {
   "cell_type": "code",
   "execution_count": null,
   "metadata": {
    "cell_id": "a83cbb97580640308180badc8d00221e",
    "deepnote_cell_type": "code"
   },
   "outputs": [],
   "source": [
    "7 % 3"
   ]
  },
  {
   "cell_type": "code",
   "execution_count": null,
   "metadata": {
    "cell_id": "881f1f8beddb488084e73c14a8adacc9",
    "deepnote_cell_type": "code"
   },
   "outputs": [],
   "source": [
    "2**3"
   ]
  },
  {
   "cell_type": "markdown",
   "metadata": {
    "cell_id": "f6212469e2814d51a4d46de4e5e277a0",
    "deepnote_cell_type": "markdown"
   },
   "source": [
    "You can of course override operator precedence with parentheses."
   ]
  },
  {
   "cell_type": "code",
   "execution_count": null,
   "metadata": {
    "cell_id": "fda7a8286ef0462ba1bfc40ebc22ce69",
    "deepnote_cell_type": "code"
   },
   "outputs": [],
   "source": [
    "1 + 3 * 2"
   ]
  },
  {
   "cell_type": "code",
   "execution_count": null,
   "metadata": {
    "cell_id": "cc1f6efb35ec4fbe9c0ab9e15ce0172e",
    "deepnote_cell_type": "code"
   },
   "outputs": [],
   "source": [
    "(1 + 3) * 2"
   ]
  },
  {
   "cell_type": "markdown",
   "metadata": {
    "cell_id": "84f32b82fa1640249da3380a28065d61",
    "deepnote_cell_type": "markdown"
   },
   "source": [
    "or, this one: **Can you solve 8÷2(2+2) = ?**  $\\ldots$ going viral in August 2019 (see [Popular Mechanics](https://www.popularmechanics.com/science/math/a28569610/viral-math-problem-2019-solved), [Fox News](https://www.foxnews.com/tech/viral-math-problem-baffles-many-internet), and the [New York Times](https://www.nytimes.com/2019/08/06/science/math-equation-pemdas.html))"
   ]
  },
  {
   "cell_type": "code",
   "execution_count": null,
   "metadata": {
    "cell_id": "681768af92df4c7784f2b73106e45e99",
    "deepnote_cell_type": "code"
   },
   "outputs": [],
   "source": [
    "8/2*(2+2)"
   ]
  },
  {
   "cell_type": "code",
   "execution_count": null,
   "metadata": {
    "cell_id": "15a30e0d02b240aba7286e35780126b3",
    "deepnote_cell_type": "code"
   },
   "outputs": [],
   "source": [
    "(8/2)*(2+2)"
   ]
  },
  {
   "cell_type": "code",
   "execution_count": null,
   "metadata": {
    "cell_id": "221ff7e67efe46fca91bb1eaed209b9f",
    "deepnote_cell_type": "code"
   },
   "outputs": [],
   "source": [
    "8/(2*(2+2))"
   ]
  },
  {
   "cell_type": "markdown",
   "metadata": {
    "cell_id": "d072659f38f141ba9c1fff16b689bcfa",
    "deepnote_cell_type": "markdown",
    "tags": [
     "style-activity"
    ]
   },
   "source": [
    "## Booleans"
   ]
  },
  {
   "cell_type": "markdown",
   "metadata": {
    "cell_id": "794b8567b5bd4194a426405b5394db9b",
    "deepnote_cell_type": "markdown",
    "tags": []
   },
   "source": [
    "The two boolean values are called `True` and `False` (note the capital letters). The boolean operators are `and`, `or` and `not`."
   ]
  },
  {
   "cell_type": "code",
   "execution_count": null,
   "metadata": {
    "cell_id": "b58d36c48e014d7db59108301c95261b",
    "deepnote_cell_type": "code"
   },
   "outputs": [],
   "source": [
    "not True"
   ]
  },
  {
   "cell_type": "code",
   "execution_count": null,
   "metadata": {
    "cell_id": "c00bfdac59a04764b332e32cf4687794",
    "deepnote_cell_type": "code"
   },
   "outputs": [],
   "source": [
    "not False"
   ]
  },
  {
   "cell_type": "code",
   "execution_count": null,
   "metadata": {
    "cell_id": "41042c38d27a4cf9a89dcf37f3c7a77e",
    "deepnote_cell_type": "code"
   },
   "outputs": [],
   "source": [
    "True and False"
   ]
  },
  {
   "cell_type": "code",
   "execution_count": null,
   "metadata": {
    "cell_id": "44c0d48f5d134ee9ac15b2392fc3bd10",
    "deepnote_cell_type": "code"
   },
   "outputs": [],
   "source": [
    "False or True"
   ]
  },
  {
   "cell_type": "markdown",
   "metadata": {
    "cell_id": "18078c499c49439fa6f6fa7b2dc8ac48",
    "deepnote_cell_type": "markdown"
   },
   "source": [
    "booleans are named after the British mathematician George Boole. Python \"understands\" the two words True and False. If you want to know more about the outcome of combining the operators with the booleans in python, then try google \"truth table python\". "
   ]
  },
  {
   "cell_type": "markdown",
   "metadata": {
    "cell_id": "bda4f9d8485241aea222dba4b8b4b235",
    "deepnote_cell_type": "markdown"
   },
   "source": [
    "Comparison operators look like they do in most other programming languages: `==` (equal value), `!=` (not equal value), `<` (less than), `>` (greater than), `<=` (less than or equal to), `>=` (greater than or equal to)"
   ]
  },
  {
   "cell_type": "code",
   "execution_count": null,
   "metadata": {
    "cell_id": "63eec3fb9d504bf2a4ddb3d6589ced3a",
    "deepnote_cell_type": "code"
   },
   "outputs": [],
   "source": [
    "1 == 1"
   ]
  },
  {
   "cell_type": "code",
   "execution_count": null,
   "metadata": {
    "cell_id": "b8d5ee0fbb984a9193f4c06d1fe1f281",
    "deepnote_cell_type": "code"
   },
   "outputs": [],
   "source": [
    "1 == 1.0"
   ]
  },
  {
   "cell_type": "code",
   "execution_count": null,
   "metadata": {
    "cell_id": "d5d0390e4afd45349f4a9a69074677ad",
    "deepnote_cell_type": "code"
   },
   "outputs": [],
   "source": [
    "1 < 10"
   ]
  },
  {
   "cell_type": "code",
   "execution_count": null,
   "metadata": {
    "cell_id": "7933e85010484ae695002ebd60bb9332",
    "deepnote_cell_type": "code"
   },
   "outputs": [],
   "source": [
    "1 > 10"
   ]
  },
  {
   "cell_type": "code",
   "execution_count": null,
   "metadata": {
    "cell_id": "72286cb8a7934948ad62dd21d44405e5",
    "deepnote_cell_type": "code"
   },
   "outputs": [],
   "source": [
    "2 <= 2"
   ]
  },
  {
   "cell_type": "code",
   "execution_count": null,
   "metadata": {
    "cell_id": "3d7a4aad89c24f4fb3a5ce1ac10068b5",
    "deepnote_cell_type": "code"
   },
   "outputs": [],
   "source": [
    "2 >= 2"
   ]
  },
  {
   "cell_type": "markdown",
   "metadata": {
    "cell_id": "9f2976cefe344b3695ef9e4107b05454",
    "deepnote_cell_type": "markdown"
   },
   "source": [
    "One notable feature of Python is that you can chain comparisons."
   ]
  },
  {
   "cell_type": "code",
   "execution_count": null,
   "metadata": {
    "cell_id": "8a9e68e5a97e4727b7780214d4376ae7",
    "deepnote_cell_type": "code"
   },
   "outputs": [],
   "source": [
    "-5 != False != True    # Same as (-5 != False) and (False != True)"
   ]
  },
  {
   "cell_type": "code",
   "execution_count": null,
   "metadata": {
    "cell_id": "8c0e28fa43944f829477c82ba1cb479e",
    "deepnote_cell_type": "code"
   },
   "outputs": [],
   "source": [
    "1 < 2 < 3              # Same as (1 < 2) and (2 < 3)"
   ]
  },
  {
   "cell_type": "markdown",
   "metadata": {
    "cell_id": "65704413f1204c2b8a6f050e65112327",
    "deepnote_cell_type": "markdown"
   },
   "source": [
    "Strings of text work as you might expect, too. Both double and single quotation marks are acceptable."
   ]
  },
  {
   "cell_type": "code",
   "execution_count": null,
   "metadata": {
    "cell_id": "9fb77a2d6e804fe2b687972c0a9d8fcd",
    "deepnote_cell_type": "code"
   },
   "outputs": [],
   "source": [
    "\"alpha\""
   ]
  },
  {
   "cell_type": "code",
   "execution_count": null,
   "metadata": {
    "cell_id": "620a528755174e75a3e0af15b05c871c",
    "deepnote_cell_type": "code"
   },
   "outputs": [],
   "source": [
    "'beta'"
   ]
  },
  {
   "cell_type": "markdown",
   "metadata": {
    "cell_id": "176c8aa324eb411c8026afff908e8b38",
    "deepnote_cell_type": "markdown",
    "tags": [
     "style-activity"
    ]
   },
   "source": [
    "## Converting between types\n",
    "For type conversion, the functions `int`, `float`, `bool` and `str` are your friends."
   ]
  },
  {
   "cell_type": "code",
   "execution_count": null,
   "metadata": {
    "cell_id": "d361817f1f6d4445b42832e0784e2a41",
    "deepnote_cell_type": "code"
   },
   "outputs": [],
   "source": [
    "int(\"2\")"
   ]
  },
  {
   "cell_type": "code",
   "execution_count": null,
   "metadata": {
    "cell_id": "97464b7832e94a2981a5bc49414a81ab",
    "deepnote_cell_type": "code"
   },
   "outputs": [],
   "source": [
    "float(5)"
   ]
  },
  {
   "cell_type": "code",
   "execution_count": null,
   "metadata": {
    "cell_id": "22525629a0c54f3ebb43d0b8fff8fe74",
    "deepnote_cell_type": "code"
   },
   "outputs": [],
   "source": [
    "bool(0)"
   ]
  },
  {
   "cell_type": "code",
   "execution_count": null,
   "metadata": {
    "cell_id": "43d9020914f84d0a9e47aae96acbc6ee",
    "deepnote_cell_type": "code",
    "deepnote_to_be_reexecuted": false,
    "execution_millis": 4,
    "execution_start": 1664963296242,
    "source_hash": null
   },
   "outputs": [],
   "source": [
    "str(15.3)"
   ]
  },
  {
   "cell_type": "markdown",
   "metadata": {
    "cell_id": "ccdb967a1aca44349eb45a4cf426096c",
    "deepnote_cell_type": "markdown"
   },
   "source": [
    "### Try to answer the below questions before you run the code. Does it check out?\n",
    "\n",
    "Question I:What is the difference between the two operations / and //?\n",
    "\n",
    "Question II:What would be the outcome of bool(12)?\n",
    "\n",
    "Question III:What would be the outcome of (2 + 3) * 4 != 2 + 3 * 4 ?"
   ]
  },
  {
   "cell_type": "markdown",
   "metadata": {
    "cell_id": "4e19dfb96e7e4ae5a0f1adf0babede54",
    "deepnote_cell_type": "markdown"
   },
   "source": [
    "### Assigning variables"
   ]
  },
  {
   "cell_type": "markdown",
   "metadata": {
    "cell_id": "388eed0c5cba4e89b293a4c0b660f4c8",
    "deepnote_cell_type": "markdown"
   },
   "source": [
    "You can store a value of any type into a variable using the = symbol."
   ]
  },
  {
   "cell_type": "code",
   "execution_count": null,
   "metadata": {
    "cell_id": "f5c3bf78a5eb4a7eac9fe0bd681a9c34",
    "deepnote_cell_type": "code",
    "deepnote_to_be_reexecuted": false,
    "execution_millis": 1,
    "execution_start": 1664963300128,
    "source_hash": null
   },
   "outputs": [],
   "source": [
    "a = 5\n",
    "b = 5.0\n",
    "c = \"5\""
   ]
  },
  {
   "cell_type": "markdown",
   "metadata": {
    "cell_id": "997a73d75ade4ec5b5e24cf3437f896f",
    "deepnote_cell_type": "markdown"
   },
   "source": [
    "<div class='alert alert-warning'>\n",
    "\n",
    "<h4>Ex1.1. evaluate whether a, b and c are equal (pairwise).</h4>\n",
    "    </div>"
   ]
  },
  {
   "cell_type": "code",
   "execution_count": null,
   "metadata": {
    "cell_id": "5f1b509f11f4437eab17f7b86e911e58",
    "deepnote_cell_type": "code"
   },
   "outputs": [],
   "source": [
    "# Ex1\n"
   ]
  },
  {
   "cell_type": "code",
   "execution_count": null,
   "metadata": {
    "cell_id": "2d4d179e4a9744b2bbaaf16d9779cac0",
    "deepnote_cell_type": "code",
    "deepnote_to_be_reexecuted": false,
    "execution_millis": 3,
    "execution_start": 1664963319407,
    "source_hash": null
   },
   "outputs": [],
   "source": [
    "%load ../solutions/ex1_4.py"
   ]
  },
  {
   "cell_type": "code",
   "execution_count": null,
   "metadata": {
    "cell_id": "d8d3815fd5a64c66bd06854b1b991293",
    "deepnote_cell_type": "code",
    "deepnote_to_be_reexecuted": false,
    "execution_millis": 4,
    "execution_start": 1664963325174,
    "source_hash": null
   },
   "outputs": [],
   "source": [
    "print(type(a))\n",
    "print(type(b))\n",
    "print(type(c))\n",
    "\n",
    "# you could also call everything in a single print statement using\n",
    "# print(type(a), type(b), type(c))"
   ]
  },
  {
   "cell_type": "markdown",
   "metadata": {
    "cell_id": "8c1022eabefa49feb36f189400ca9180",
    "deepnote_cell_type": "markdown",
    "tags": [
     "style-activity"
    ]
   },
   "source": [
    "# Collections"
   ]
  },
  {
   "cell_type": "markdown",
   "metadata": {
    "cell_id": "b9ff471f15c84312bce5a1d102af9bee",
    "deepnote_cell_type": "markdown"
   },
   "source": [
    "Collections are fundamental to Python programming as they allow us to efficiently organize and manipulate data. \n",
    "Imagine you're working with biomedical data, like patient records, single cell data, or experimental results. These data sets can be vast and complex, and you need ways to store, access, and process them efficiently. This is where collections come into play. They enable us to group data together in structured formats, making it easier to work with and extract meaningful information efficiently.\n",
    "\n",
    "Python supports 4 basic types of collections: `list`, `tuple`, `set` and `dict`. Each of these has its own unique characteristics and uses. \n",
    "\n",
    "## Lists\n",
    "The most fundamental collection in Python is the `list`. It is an *ordered* collection of an arbitrary number of objects. A list is the Python equivalent of an array, but is resizeable and can contain elements of different types.\n",
    "- `list`\n",
    "- example: `[1,3,5]`\n",
    "\n",
    "## Tuples\n",
    "Tuples are just like lists, but once a value has been stored, it cannot be changed (immutability).\n",
    "- `tuple`\n",
    "- example: `(1,3,5)`\n",
    "\n",
    "## Sets\n",
    "Sets are unique in that they cannot have redundancy - i.e. the same value cannot appear more than once. This data structure is underutilized in Python.\n",
    "- `set`\n",
    "- example: `{1,3,5}`\n",
    "\n",
    "## Dictionaries\n",
    "Dictionaries are collections of key,value pairs.\n",
    "- `dict`\n",
    "- example: `{'a':1, 'b':3, 'c':5}`"
   ]
  },
  {
   "cell_type": "markdown",
   "metadata": {
    "cell_id": "a770f135d6b843beb3085f64d2173608",
    "deepnote_cell_type": "markdown"
   },
   "source": [
    "### We start working with lists"
   ]
  },
  {
   "cell_type": "code",
   "execution_count": null,
   "metadata": {
    "cell_id": "e00d5d7d549b464aae5a66faab510f97",
    "deepnote_cell_type": "code"
   },
   "outputs": [],
   "source": [
    "xs = [5, 6, 7]\n",
    "print(xs)"
   ]
  },
  {
   "cell_type": "markdown",
   "metadata": {
    "cell_id": "291302303d584e6dab1bd8162ca95ac5",
    "deepnote_cell_type": "markdown"
   },
   "source": [
    "## List indexing\n",
    "You can access the elements of a list individually by calling its index using the syntax `list[number]`.\n",
    "\n",
    "**NOTE:** Python start counting at 0!\n"
   ]
  },
  {
   "cell_type": "code",
   "execution_count": null,
   "metadata": {
    "cell_id": "d761dcbe7b1d4cadb3014462caf3e15d",
    "deepnote_cell_type": "code"
   },
   "outputs": [],
   "source": [
    "print(xs[0])    # Access the \"0th\" element in xs\n",
    "print(xs[1])    # Access the \"1st\" element'\n",
    "print(xs[2])\n",
    "print(xs[-1])   # the last element\n",
    "print(xs[-2])   # the second to last element"
   ]
  },
  {
   "cell_type": "code",
   "execution_count": null,
   "metadata": {
    "cell_id": "4e00ab50d7104c67ae89f02152fa84a5",
    "deepnote_cell_type": "code"
   },
   "outputs": [],
   "source": [
    "# you can change the entry of the list at a given index\n",
    "xs[0] = 999\n",
    "xs"
   ]
  },
  {
   "cell_type": "markdown",
   "metadata": {
    "cell_id": "a9df08664f4b4e1c88aa64b0baa4961a",
    "deepnote_cell_type": "markdown"
   },
   "source": [
    "### Slicing\n",
    "You can \"chop\" a list to access a range of values using the syntax `list[start:stop]`"
   ]
  },
  {
   "cell_type": "code",
   "execution_count": null,
   "metadata": {
    "cell_id": "715d7d82a91a45b599308996b2a4ca2c",
    "deepnote_cell_type": "code",
    "scrolled": false
   },
   "outputs": [],
   "source": [
    "xs = [20, 14, 8, 1, 0, 9, 13, 10, 0, 6]\n",
    "\n",
    "xs[2:5]"
   ]
  },
  {
   "cell_type": "markdown",
   "metadata": {
    "cell_id": "8d0252c8b4404552bbf240dffbb34e0d",
    "deepnote_cell_type": "markdown"
   },
   "source": [
    "Omitting the upper and lower boundary will make it expand to the end of the list using either `list[start:]` or `list[:stop]` "
   ]
  },
  {
   "cell_type": "code",
   "execution_count": null,
   "metadata": {
    "cell_id": "6233004c351348f1a2c89bf1d126970a",
    "deepnote_cell_type": "code"
   },
   "outputs": [],
   "source": [
    "xs[:5]"
   ]
  },
  {
   "cell_type": "markdown",
   "metadata": {
    "cell_id": "61828cb79cfa4c7e87ae67807463bb82",
    "deepnote_cell_type": "markdown"
   },
   "source": [
    "the slicing can actually take more optional inputs: the step parameter. The general syntax is `list[start:stop:step]`"
   ]
  },
  {
   "cell_type": "code",
   "execution_count": null,
   "metadata": {
    "cell_id": "3f788e9301e0458ba75f5b8f03f70341",
    "deepnote_cell_type": "code"
   },
   "outputs": [],
   "source": [
    "xs[2:8:2]"
   ]
  },
  {
   "cell_type": "markdown",
   "metadata": {
    "cell_id": "88cf955b3b344c31815f50a8bd043772",
    "deepnote_cell_type": "markdown"
   },
   "source": [
    "Lists can contain multiple data types inside"
   ]
  },
  {
   "cell_type": "code",
   "execution_count": null,
   "metadata": {
    "cell_id": "e7e7c1b948e8457fac6ffb8dd966a28b",
    "deepnote_cell_type": "code"
   },
   "outputs": [],
   "source": [
    "dog = ['Freddie', 9, True, 1.1, 2001, ['bone', 'little ball']]"
   ]
  },
  {
   "cell_type": "markdown",
   "metadata": {
    "cell_id": "349cf8facf454123bc75cfc13a738315",
    "deepnote_cell_type": "markdown"
   },
   "source": [
    "Can you find out how to get the ‘bone’ element, which is located in a nested list, like the following? "
   ]
  },
  {
   "cell_type": "code",
   "execution_count": null,
   "metadata": {
    "cell_id": "3ea6340c7eeb48b6ba7da214616eb9f8",
    "deepnote_cell_type": "code"
   },
   "outputs": [],
   "source": [
    "dog[-1][0]"
   ]
  },
  {
   "cell_type": "markdown",
   "metadata": {
    "cell_id": "ecf76b56820346309aef1cfe6a52b3b7",
    "deepnote_cell_type": "markdown"
   },
   "source": [
    "## Functions (on lists)\n",
    "\n",
    "Python have builtin functions which let you perform some diverse operations. Functions are executed like `function(argument)`. Below are examples of some builtin functions (highlighted in green)."
   ]
  },
  {
   "cell_type": "code",
   "execution_count": null,
   "metadata": {
    "cell_id": "2742b4c43ef044b09023c57e5ecb2989",
    "deepnote_cell_type": "code"
   },
   "outputs": [],
   "source": [
    "print(xs)"
   ]
  },
  {
   "cell_type": "code",
   "execution_count": null,
   "metadata": {
    "cell_id": "ea879764426646d3b3777b417fe6d41c",
    "deepnote_cell_type": "code"
   },
   "outputs": [],
   "source": [
    "len(xs)"
   ]
  },
  {
   "cell_type": "code",
   "execution_count": null,
   "metadata": {
    "cell_id": "8df11fa3df014a3990f253dda3861b02",
    "deepnote_cell_type": "code",
    "scrolled": false
   },
   "outputs": [],
   "source": [
    "type(xs)"
   ]
  },
  {
   "cell_type": "code",
   "execution_count": null,
   "metadata": {
    "cell_id": "cd6c50aa44de4e769905fb29db06ca86",
    "deepnote_cell_type": "code"
   },
   "outputs": [],
   "source": [
    "sum(xs)"
   ]
  },
  {
   "cell_type": "code",
   "execution_count": null,
   "metadata": {
    "cell_id": "098f9b97303f449a9acb8b26e1f20a21",
    "deepnote_cell_type": "code"
   },
   "outputs": [],
   "source": [
    "min(xs)"
   ]
  },
  {
   "cell_type": "code",
   "execution_count": null,
   "metadata": {
    "cell_id": "05a4df14c3ca48feae23acd57c340dab",
    "deepnote_cell_type": "code"
   },
   "outputs": [],
   "source": [
    "max(xs)"
   ]
  },
  {
   "cell_type": "code",
   "execution_count": null,
   "metadata": {
    "cell_id": "646048df69ff40f281826a6e7e5f1fdd",
    "deepnote_cell_type": "code"
   },
   "outputs": [],
   "source": [
    "#first lets make a long list. You can make a sequence as follows\n",
    "long_list = list(range(20))\n",
    "print(long_list)"
   ]
  },
  {
   "cell_type": "markdown",
   "metadata": {
    "cell_id": "89e648cee9844f47abdfeef816c2a64c",
    "deepnote_cell_type": "markdown"
   },
   "source": [
    "<div class='alert alert-warning'>\n",
    "\n",
    "<h4> Ex1.2 print the first half of long_list.</h4>\n",
    "    \n",
    "**Hint:** your index must be of type `int`.\n",
    "</div>    \n",
    "\n",
    "\n"
   ]
  },
  {
   "cell_type": "code",
   "execution_count": null,
   "metadata": {
    "cell_id": "bdea37a352cb45e598de74e2aadc6e8f",
    "deepnote_cell_type": "code"
   },
   "outputs": [],
   "source": [
    "# Ex2\n"
   ]
  },
  {
   "cell_type": "markdown",
   "metadata": {
    "cell_id": "71f34e11176f4b1ca3dbae887e7293d0",
    "deepnote_cell_type": "markdown"
   },
   "source": [
    "## List methods\n",
    "Another type of function in python are called *methods*, and differ from regular functions in terms of syntax. These are prebuilt into the object, and are executed by calling the name of your object and a \".\" followed by the method name.\n",
    "\n",
    "`object_name.method()`"
   ]
  },
  {
   "cell_type": "code",
   "execution_count": null,
   "metadata": {
    "cell_id": "76a656b27cfe41598a0fe6edce9076b7",
    "deepnote_cell_type": "code"
   },
   "outputs": [],
   "source": [
    "# append to a list\n",
    "xs = [0,1]\n",
    "xs.append(5)\n",
    "xs"
   ]
  },
  {
   "cell_type": "code",
   "execution_count": null,
   "metadata": {
    "cell_id": "07d8776d421a4fcf9542870fdaf23f9e",
    "deepnote_cell_type": "code"
   },
   "outputs": [],
   "source": [
    "# chain together two lists using .extend\n",
    "xs = [5,6,7]\n",
    "ys = [1,2,3]\n",
    "xs.extend(ys)\n",
    "print(xs)"
   ]
  },
  {
   "cell_type": "code",
   "execution_count": null,
   "metadata": {
    "cell_id": "b14dbd5b407d42cd937eb987614b9cff",
    "deepnote_cell_type": "code"
   },
   "outputs": [],
   "source": [
    "# remove the last element\n",
    "print('before: ', xs)\n",
    "xs.pop()\n",
    "print('after: ', xs)"
   ]
  },
  {
   "cell_type": "code",
   "execution_count": null,
   "metadata": {
    "cell_id": "61caf0f1fac440eeb9e5dd136902f79a",
    "deepnote_cell_type": "code"
   },
   "outputs": [],
   "source": [
    "# remove a specific value\n",
    "print(xs)\n",
    "xs.remove(7) # removes the first occurence of 7\n",
    "xs"
   ]
  },
  {
   "cell_type": "markdown",
   "metadata": {
    "cell_id": "5241c7ce91ce497c908fa10edce97275",
    "deepnote_cell_type": "markdown"
   },
   "source": [
    "A list can even be a list of lists:"
   ]
  },
  {
   "cell_type": "code",
   "execution_count": null,
   "metadata": {
    "cell_id": "cd4a1962e4aa4ab2bbb47d3d61a7539c",
    "deepnote_cell_type": "code"
   },
   "outputs": [],
   "source": [
    "sample_matrix = [[1, 4, 9], [1, 8, 27], [1, 16, 81]]"
   ]
  },
  {
   "cell_type": "code",
   "execution_count": null,
   "metadata": {
    "cell_id": "58ea8392b2f744a897c0c5419d4cfbe1",
    "deepnote_cell_type": "code"
   },
   "outputs": [],
   "source": [
    "sample_matrix[1][2]   # third item of the second list"
   ]
  },
  {
   "cell_type": "markdown",
   "metadata": {
    "cell_id": "6657cb9413f44a47ad1c3f0c823ac69a",
    "deepnote_cell_type": "markdown"
   },
   "source": [
    "**Tip**: Write `object_name.` and press tab see all available methods\n",
    "\n",
    "**Tip**: use ?? to get the docstring "
   ]
  },
  {
   "cell_type": "code",
   "execution_count": null,
   "metadata": {
    "cell_id": "925d0f44394748968a54e770f5e31895",
    "deepnote_cell_type": "code"
   },
   "outputs": [],
   "source": [
    "xs."
   ]
  },
  {
   "cell_type": "code",
   "execution_count": null,
   "metadata": {
    "cell_id": "2106c9e052714f1db2a54c8310ba5535",
    "deepnote_cell_type": "code"
   },
   "outputs": [],
   "source": [
    "xs.insert??"
   ]
  },
  {
   "cell_type": "markdown",
   "metadata": {
    "cell_id": "61236f5be3574756be9220f9c343dc0d",
    "deepnote_cell_type": "markdown"
   },
   "source": [
    "<div class='alert alert-warning'>\n",
    "\n",
    "<h4>Ex1.3. Can you insert 999 after the first value in xs? </h4>\n",
    "</div>   \n"
   ]
  },
  {
   "cell_type": "code",
   "execution_count": null,
   "metadata": {
    "cell_id": "c836fe8cfbb94c0fae1c67536da1d37c",
    "deepnote_cell_type": "code"
   },
   "outputs": [],
   "source": [
    "# Ex3\n"
   ]
  },
  {
   "cell_type": "markdown",
   "metadata": {
    "cell_id": "bcd40e6e288a40019c8ad1cb88ed8969",
    "deepnote_cell_type": "markdown"
   },
   "source": [
    "Lists are **mutable**. See the following code."
   ]
  },
  {
   "cell_type": "code",
   "execution_count": null,
   "metadata": {
    "cell_id": "54b8c46f54244e49a1f5149592921750",
    "deepnote_cell_type": "code"
   },
   "outputs": [],
   "source": [
    "a = [0, 1, 2]\n",
    "b = a\n",
    "a[0] = 'changed!'\n",
    "b[0]"
   ]
  },
  {
   "cell_type": "markdown",
   "metadata": {
    "cell_id": "6851e2f9124f48509eb108326f85a565",
    "deepnote_cell_type": "markdown"
   },
   "source": [
    "This happens because after the line `b = a`, both `b` and `a` point to **the same list in memory**. Therefore, changes made via the name `a` are also reflected under the name `b`. This is sometimes what you want, and sometimes not. If it's not what you want, consider making a *copy* of the list. To do that, use the `list` function."
   ]
  },
  {
   "cell_type": "code",
   "execution_count": null,
   "metadata": {
    "cell_id": "42113147dd484128bf2a8b0febd1aaab",
    "deepnote_cell_type": "code"
   },
   "outputs": [],
   "source": [
    "a = [0, 1, 2]\n",
    "b = list(a)\n",
    "a[0] = 'changed!'\n",
    "b[0]"
   ]
  },
  {
   "cell_type": "markdown",
   "metadata": {
    "cell_id": "6b5e0bda718d430d8ba98f14e83a8622",
    "deepnote_cell_type": "markdown"
   },
   "source": [
    "## Tuples are immutable lists\n",
    "Another type of collection is known as a tuple. In contrast to lists, tuples are immutable. We can make a tuple as follows."
   ]
  },
  {
   "cell_type": "code",
   "execution_count": null,
   "metadata": {
    "cell_id": "77447730d6cf43338cc713cb4c78681c",
    "deepnote_cell_type": "code"
   },
   "outputs": [],
   "source": [
    "tup = (0,1,2)\n",
    "type(tup)"
   ]
  },
  {
   "cell_type": "markdown",
   "metadata": {
    "cell_id": "10bfea028dd848a09d1ecce30c583c84",
    "deepnote_cell_type": "markdown"
   },
   "source": [
    "Note that it's the *commas* that make the tuple, not the parentheses."
   ]
  },
  {
   "cell_type": "code",
   "execution_count": null,
   "metadata": {
    "cell_id": "5b600158bcb540d789b7ce2e5b550033",
    "deepnote_cell_type": "code"
   },
   "outputs": [],
   "source": [
    "0, 1, 2"
   ]
  },
  {
   "cell_type": "markdown",
   "metadata": {
    "cell_id": "96bd561b14b24dad903e9ad6b913249d",
    "deepnote_cell_type": "markdown"
   },
   "source": [
    "Also note that the protection against mutations only extends as far as the elements of the tuple. For example:"
   ]
  },
  {
   "cell_type": "code",
   "execution_count": null,
   "metadata": {
    "cell_id": "3e17bc14bf0c42b9a9290a68df874ea4",
    "deepnote_cell_type": "code"
   },
   "outputs": [],
   "source": [
    "a = ([0], 1, 2)\n",
    "b = a\n",
    "a[0][0] = 'changed!'\n",
    "b[0][0]"
   ]
  },
  {
   "cell_type": "markdown",
   "metadata": {
    "cell_id": "8cc774b8d5bc4b568ed718b0ff753817",
    "deepnote_cell_type": "markdown"
   },
   "source": [
    "However, the same thing would happen if you made a copy, since the copy is only \"one level deep.\""
   ]
  },
  {
   "cell_type": "code",
   "execution_count": null,
   "metadata": {
    "cell_id": "f774b7320bbe4af1a32de8356c4cc79c",
    "deepnote_cell_type": "code"
   },
   "outputs": [],
   "source": [
    "a = [[0], 1, 2]\n",
    "b = list(a)\n",
    "a[0][0] = 'changed!'\n",
    "b[0][0]"
   ]
  },
  {
   "cell_type": "markdown",
   "metadata": {
    "created_in_deepnote_cell": true,
    "deepnote_cell_type": "markdown"
   },
   "source": [
    "<a style='text-decoration:none;line-height:16px;display:flex;color:#5B5B62;padding:10px;justify-content:end;' href='https://deepnote.com?utm_source=created-in-deepnote-cell&projectId=174a646e-27d4-4666-a2b4-2d7bb1c47bf5' target=\"_blank\">\n",
    "<img alt='Created in deepnote.com' style='display:inline;max-height:16px;margin:0px;margin-right:7.5px;' src='data:image/svg+xml;base64,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' > </img>\n",
    "Created in <span style='font-weight:600;margin-left:4px;'>Deepnote</span></a>"
   ]
  }
 ],
 "metadata": {
  "deepnote": {},
  "deepnote_execution_queue": [],
  "deepnote_notebook_id": "ed86433d4f7a45c7a45703f64a2fb915",
  "deepnote_persisted_session": {
   "createdAt": "2022-10-05T10:16:42.253Z"
  },
  "kernelspec": {
   "display_name": "Python 3 (ipykernel)",
   "language": "python",
   "name": "python3"
  },
  "language_info": {
   "codemirror_mode": {
    "name": "ipython",
    "version": 3
   },
   "file_extension": ".py",
   "mimetype": "text/x-python",
   "name": "python",
   "nbconvert_exporter": "python",
   "pygments_lexer": "ipython3",
   "version": "3.10.4"
  },
  "toc": {
   "base_numbering": 1,
   "nav_menu": {},
   "number_sections": true,
   "sideBar": true,
   "skip_h1_title": false,
   "title_cell": "Table of Contents",
   "title_sidebar": "Contents",
   "toc_cell": false,
   "toc_position": {
    "height": "calc(100% - 180px)",
    "left": "10px",
    "top": "150px",
    "width": "384px"
   },
   "toc_section_display": "block",
   "toc_window_display": true
  }
 },
 "nbformat": 4,
 "nbformat_minor": 0
}
