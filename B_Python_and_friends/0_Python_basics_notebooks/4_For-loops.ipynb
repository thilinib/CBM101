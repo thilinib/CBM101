{
 "cells": [
  {
   "cell_type": "markdown",
   "metadata": {
    "cell_id": "17ce5a48a12645a1997c461fb61e26ab",
    "deepnote_cell_type": "markdown"
   },
   "source": [
    "## For loops\n",
    "\n",
    "In programming, there's often a need to perform the same set of actions repeatedly, and that's where loops come into play. A loop lets you run through each element in a collection of items, performing some code at each stop on the way. There are two main types of loops in Python **While** and **For**. Here let's discuss about For loop."
   ]
  },
  {
   "cell_type": "code",
   "execution_count": null,
   "metadata": {
    "cell_id": "8710a1c9f4ce42bf86ed0aa8abeac803",
    "deepnote_cell_type": "code",
    "deepnote_to_be_reexecuted": false,
    "execution_millis": 325,
    "execution_start": 1664963289172,
    "source_hash": null
   },
   "outputs": [],
   "source": [
    "for i in range(10):\n",
    "    print('This is a repeat')"
   ]
  },
  {
   "cell_type": "code",
   "execution_count": null,
   "metadata": {
    "cell_id": "a6347586066044c99f74597a6e16a207",
    "deepnote_cell_type": "code"
   },
   "outputs": [],
   "source": [
    "# looping through list\n",
    "xs = [0,4,10]\n",
    "\n",
    "for i in xs:\n",
    "    print(i, \"is a number\")\n",
    "    print(i*2, \"is twice of that\")\n",
    "    print()    # Prints a new line"
   ]
  },
  {
   "cell_type": "markdown",
   "metadata": {
    "cell_id": "8c99a9af76914cdab96699c96aa368bd",
    "deepnote_cell_type": "markdown"
   },
   "source": [
    "You can name the variable whatever you'd like:"
   ]
  },
  {
   "cell_type": "code",
   "execution_count": null,
   "metadata": {
    "cell_id": "bf82f467a9bf48be826eb1d221a572ea",
    "deepnote_cell_type": "code"
   },
   "outputs": [],
   "source": [
    "animals = ['cat', 'dog', 'monkey']\n",
    "for animal in animals:\n",
    "    print(animal)"
   ]
  },
  {
   "cell_type": "markdown",
   "metadata": {
    "cell_id": "76ead870c1994d40bab14adab72b3c5d",
    "deepnote_cell_type": "markdown"
   },
   "source": [
    "If you want access to the index of each element within the body of a loop, use the built-in `enumerate` function:"
   ]
  },
  {
   "cell_type": "code",
   "execution_count": null,
   "metadata": {
    "cell_id": "3dfee4f42521415ab80c02c9b20942cd",
    "deepnote_cell_type": "code"
   },
   "outputs": [],
   "source": [
    "# here we print both indexes and the elements of a list\n",
    "for idx, animal in enumerate(animals):\n",
    "    print('#', idx+1, \":\", animal)"
   ]
  },
  {
   "cell_type": "markdown",
   "metadata": {
    "cell_id": "c44605460fad451d81dde364ca0bef14",
    "deepnote_cell_type": "markdown"
   },
   "source": [
    "<div class='alert alert-warning'>\n",
    "\n",
    "<h4> Ex1.4. Write a for loop which creates a list of the squares of 0-5.  </h4>\n",
    "    \n",
    "**Tip:** make an empty list, then append the values iteratively \n",
    "</div>    \n"
   ]
  },
  {
   "cell_type": "code",
   "execution_count": null,
   "metadata": {
    "cell_id": "0121dfba0ea948b280bc5bf6f42062b2",
    "deepnote_cell_type": "code"
   },
   "outputs": [],
   "source": [
    "# Ex4\n"
   ]
  },
  {
   "cell_type": "markdown",
   "metadata": {
    "cell_id": "432bd49e781d4b199399306dafb305b8",
    "deepnote_cell_type": "markdown"
   },
   "source": [
    "<div class='alert alert-info'>\n",
    "    <h3> List comperhensions </h3>\n",
    "    \n",
    "An easier way to achieve the same thing is with <b>list comprehensions</b>. This is elegant and faster way to create lists.\n",
    "<br>\n",
    "    \n",
    "`squares = [x ** 2 for x in range(6)]`   \n",
    "    \n",
    "<br><br>\n",
    "List comprehensions can also contain conditions:  \n",
    "    \n",
    "`[x**2 for x in range(6) if x <= 3]`\n",
    "                                   \n",
    "or                                 \n",
    "    \n",
    "`[print('yes') if x>4 else print('no') for x in range(10)]`\n",
    "  \n",
    "  <br>\n",
    "<i>For more detailed description check <a href='./6_Python_basics_extra.ipynb'>6_Python_basics_extra</a></i>\n",
    "</div>\n",
    "\n",
    "\n"
   ]
  },
  {
   "cell_type": "markdown",
   "metadata": {
    "cell_id": "6ead557e813a4a18ba441336f5370f39",
    "deepnote_cell_type": "markdown"
   },
   "source": [
    "<div class='alert alert-warning'>\n",
    "\n",
    "<h4>  Ex1.5. Are you able to edit the code below to print a symmetrical christmas tree?</h4>\n",
    "</div> "
   ]
  },
  {
   "cell_type": "code",
   "execution_count": null,
   "metadata": {
    "cell_id": "b34ff83c44424ab293a37abeb1aafeec",
    "deepnote_cell_type": "code"
   },
   "outputs": [],
   "source": [
    "n = 15\n",
    "for i in range(n):\n",
    "    print('*'*i)"
   ]
  },
  {
   "cell_type": "code",
   "execution_count": null,
   "metadata": {
    "cell_id": "3a0bf816106c49adafae905a56fac952",
    "deepnote_cell_type": "code"
   },
   "outputs": [],
   "source": [
    "# Ex5\n"
   ]
  },
  {
   "cell_type": "markdown",
   "metadata": {
    "cell_id": "4565d10075cd4bc9956c5c538e60d685",
    "deepnote_cell_type": "markdown"
   },
   "source": [
    "### Looping through dictionaries\n",
    "\n",
    "looping over a dictionary just gets you the keys."
   ]
  },
  {
   "cell_type": "code",
   "execution_count": null,
   "metadata": {
    "cell_id": "df3ad51db1dc4a7392655a1ad6e1e2ea",
    "deepnote_cell_type": "code"
   },
   "outputs": [],
   "source": [
    "for key in {'a': 1, 'b': 2}:\n",
    "    print(key)"
   ]
  },
  {
   "cell_type": "markdown",
   "metadata": {
    "cell_id": "99c64ba298cd4f2e81e8a81069377676",
    "deepnote_cell_type": "markdown"
   },
   "source": [
    "If you need both the keys and the values, use `.items()`, like this:"
   ]
  },
  {
   "cell_type": "code",
   "execution_count": null,
   "metadata": {
    "cell_id": "1c68fad101984000a8d6895bc3c56216",
    "deepnote_cell_type": "code"
   },
   "outputs": [],
   "source": [
    "mydict = {'a': 1, 'b': 2}\n",
    "for key, value in mydict.items():\n",
    "    print(key, '=>', value)"
   ]
  },
  {
   "cell_type": "markdown",
   "metadata": {
    "cell_id": "3b5780651e894b089b3d47b852bb3de5",
    "deepnote_cell_type": "markdown"
   },
   "source": [
    "**Note:** This is a special form of unpacking syntax. `mydict.items()` is a collection of tuples. This is equivalent:"
   ]
  },
  {
   "cell_type": "code",
   "execution_count": null,
   "metadata": {
    "cell_id": "ca446ba682dc4e0e96ae78fc83a4f3b9",
    "deepnote_cell_type": "code"
   },
   "outputs": [],
   "source": [
    "mydict = {'a': 1, 'b': 2}\n",
    "for item in mydict.items():\n",
    "    key, value = item\n",
    "    print(key, '=>', value)"
   ]
  },
  {
   "cell_type": "markdown",
   "metadata": {
    "cell_id": "52431e3dcf9042089263c2890f4a1b9f",
    "deepnote_cell_type": "markdown"
   },
   "source": [
    "### Looping through sets"
   ]
  },
  {
   "cell_type": "markdown",
   "metadata": {
    "cell_id": "ac997448ae0f4acfad105e7b2941d461",
    "deepnote_cell_type": "markdown"
   },
   "source": [
    "Iterating over a set has the same syntax as iterating over a dictionaries or lists; however since sets are unordered, you cannot make assumptions about the order in which you visit the elements of the set:"
   ]
  },
  {
   "cell_type": "code",
   "execution_count": null,
   "metadata": {
    "cell_id": "5b5e2a4d1ea94c5498a48b8a0757d864",
    "deepnote_cell_type": "code"
   },
   "outputs": [],
   "source": [
    "animals = {'cat', 'dog', 'fish'}\n",
    "for idx, animal in enumerate(animals):\n",
    "    print('#%d: %s' % (idx + 1, animal))"
   ]
  },
  {
   "cell_type": "code",
   "execution_count": null,
   "metadata": {
    "cell_id": "c8e4ff73d48f45a7a81bbb895e290956",
    "deepnote_cell_type": "code"
   },
   "outputs": [],
   "source": []
  },
  {
   "cell_type": "markdown",
   "metadata": {
    "created_in_deepnote_cell": true,
    "deepnote_cell_type": "markdown"
   },
   "source": [
    "<a style='text-decoration:none;line-height:16px;display:flex;color:#5B5B62;padding:10px;justify-content:end;' href='https://deepnote.com?utm_source=created-in-deepnote-cell&projectId=174a646e-27d4-4666-a2b4-2d7bb1c47bf5' target=\"_blank\">\n",
    "<img alt='Created in deepnote.com' style='display:inline;max-height:16px;margin:0px;margin-right:7.5px;' src='data:image/svg+xml;base64,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' > </img>\n",
    "Created in <span style='font-weight:600;margin-left:4px;'>Deepnote</span></a>"
   ]
  }
 ],
 "metadata": {
  "deepnote": {},
  "deepnote_execution_queue": [],
  "deepnote_notebook_id": "aa3b2ebc8072455ebf2082a77a38e44c",
  "deepnote_persisted_session": {
   "createdAt": "2022-10-05T10:16:42.221Z"
  },
  "kernelspec": {
   "display_name": "Python 3 (ipykernel)",
   "language": "python",
   "name": "python3"
  },
  "language_info": {
   "codemirror_mode": {
    "name": "ipython",
    "version": 3
   },
   "file_extension": ".py",
   "mimetype": "text/x-python",
   "name": "python",
   "nbconvert_exporter": "python",
   "pygments_lexer": "ipython3",
   "version": "3.10.4"
  },
  "toc": {
   "base_numbering": 1,
   "nav_menu": {},
   "number_sections": true,
   "sideBar": true,
   "skip_h1_title": false,
   "title_cell": "Table of Contents",
   "title_sidebar": "Contents",
   "toc_cell": false,
   "toc_position": {
    "height": "calc(100% - 180px)",
    "left": "10px",
    "top": "150px",
    "width": "384px"
   },
   "toc_section_display": "block",
   "toc_window_display": true
  }
 },
 "nbformat": 4,
 "nbformat_minor": 0
}
