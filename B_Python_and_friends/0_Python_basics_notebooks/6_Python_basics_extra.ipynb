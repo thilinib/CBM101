{
 "cells": [
  {
   "cell_type": "markdown",
   "metadata": {
    "cell_id": "e4c3226e58044db1a6ab74211838ca05",
    "deepnote_cell_type": "markdown"
   },
   "source": [
    "# Python basics EXTRA\n",
    "\n",
    "## Comprehensions and generators"
   ]
  },
  {
   "cell_type": "markdown",
   "metadata": {
    "cell_id": "9cf6e71cea4b4a6d8fae0cad587b1fe6",
    "deepnote_cell_type": "markdown"
   },
   "source": [
    "We have already had a sneak peak of comprehensions, but here we explain it more in detail.\n",
    "\n",
    "*Comprehensions* are very useful to make code cleaner and easier to read. Let us say we have a function that determines whether a number is a prime number. (This function is very inefficient, so don't \"do this at home.\") If there's anything in this function that is unclear, don't worry. We'll get to it."
   ]
  },
  {
   "cell_type": "code",
   "execution_count": null,
   "metadata": {
    "cell_id": "bb5d69e119c1488abf619547e118ba3e",
    "deepnote_cell_type": "code"
   },
   "outputs": [],
   "source": [
    "import math\n",
    "\n",
    "def is_prime(number):\n",
    "    return number > 1 and all(number % divisor != 0 for divisor in range(2, int(math.sqrt(number) + 1)))"
   ]
  },
  {
   "cell_type": "markdown",
   "metadata": {
    "cell_id": "a5d3f25b6740427dbca241b855edd795",
    "deepnote_cell_type": "markdown"
   },
   "source": [
    "Let us say we want to create a list of all primes up to 20. We might be tempted to write code like this. Note the use of the `range` function to loop over integers up to a maximum (like a traditional for-loop) and the `.append()` method for lists."
   ]
  },
  {
   "cell_type": "code",
   "execution_count": null,
   "metadata": {
    "cell_id": "b403c38f608344ee8116becc81910b4e",
    "deepnote_cell_type": "code"
   },
   "outputs": [],
   "source": [
    "primes = []                         # Create an empty list of prime numbers\n",
    "for num in range(20):               # range(20) is the collection 0, 1, 2, ..., 19\n",
    "    if is_prime(num):               # Check whether it is a prime number\n",
    "        primes.append(num)          # If so, add it to the list\n",
    "primes"
   ]
  },
  {
   "cell_type": "markdown",
   "metadata": {
    "cell_id": "0568da3b0c2a4c1484c031a4ef2bfee6",
    "deepnote_cell_type": "markdown"
   },
   "source": [
    "While this works, a much more elegant solution is the following."
   ]
  },
  {
   "cell_type": "code",
   "execution_count": null,
   "metadata": {
    "cell_id": "5b1ac38e25e24de6a7b38b560c9cfe61",
    "deepnote_cell_type": "code"
   },
   "outputs": [],
   "source": [
    "[num for num in range(20) if is_prime(num)]"
   ]
  },
  {
   "cell_type": "markdown",
   "metadata": {
    "cell_id": "16adbea9ebc54c6d92c37bd494915343",
    "deepnote_cell_type": "markdown"
   },
   "source": [
    "This is called a *list comprehension*, and it's a thing of beauty. (Take a moment to reflect if you like.) The basic syntax looks like this:\n",
    "\n",
    "`[<something> for <something> in <collection>]`\n",
    "\n",
    "or like this:\n",
    "\n",
    "`[<something> for <something> in <collection> if <condition>]`"
   ]
  },
  {
   "cell_type": "markdown",
   "metadata": {
    "cell_id": "e847e96f46924c35b69bf308c9b60da5",
    "deepnote_cell_type": "markdown"
   },
   "source": [
    "Note that the condition is optional, therefore we can create a list of the numbers from 0 to 19 like this."
   ]
  },
  {
   "cell_type": "code",
   "execution_count": null,
   "metadata": {
    "cell_id": "9ce85335db5e43e7a5bef69968d9dc2d",
    "deepnote_cell_type": "code"
   },
   "outputs": [],
   "source": [
    "[num for num in range(20)]"
   ]
  },
  {
   "cell_type": "markdown",
   "metadata": {
    "cell_id": "04bde09eee894704bb0d37a20fcea9ba",
    "deepnote_cell_type": "markdown"
   },
   "source": [
    "Or, we could create a list of the *squares* of prime numbers like this:"
   ]
  },
  {
   "cell_type": "code",
   "execution_count": null,
   "metadata": {
    "cell_id": "c88101fd05c94b76b59d28a96b9fde99",
    "deepnote_cell_type": "code"
   },
   "outputs": [],
   "source": [
    "[num**2 for num in range(20) if is_prime(num)]"
   ]
  },
  {
   "cell_type": "markdown",
   "metadata": {
    "cell_id": "ae032b2931e745548ad1ceb2aced41e5",
    "deepnote_cell_type": "markdown"
   },
   "source": [
    "You can use comprehensions to create sets too."
   ]
  },
  {
   "cell_type": "code",
   "execution_count": null,
   "metadata": {
    "cell_id": "4f6456cb92c548f08e574dc22bd2e8e7",
    "deepnote_cell_type": "code"
   },
   "outputs": [],
   "source": [
    "{num for num in range(20) if is_prime(num)}"
   ]
  },
  {
   "cell_type": "markdown",
   "metadata": {
    "cell_id": "a6b19e8d45ba48d9a3d6fe6a9a835fb0",
    "deepnote_cell_type": "markdown"
   },
   "source": [
    "Or even dictionaries. What do you think this does?"
   ]
  },
  {
   "cell_type": "code",
   "execution_count": null,
   "metadata": {
    "cell_id": "60b19367ba9444cb8fa45ba2f8009c2b",
    "deepnote_cell_type": "code"
   },
   "outputs": [],
   "source": [
    "mydict = {num: is_prime(num) for num in range(20)}"
   ]
  },
  {
   "cell_type": "markdown",
   "metadata": {
    "cell_id": "7cacc97f9a4e4b0387ca424d5eaaaefd",
    "deepnote_cell_type": "markdown"
   },
   "source": [
    "You might think, then, that this creates a tuple:"
   ]
  },
  {
   "cell_type": "code",
   "execution_count": null,
   "metadata": {
    "cell_id": "a0355e764910491cbe1f8157c76e9c28",
    "deepnote_cell_type": "code"
   },
   "outputs": [],
   "source": [
    "something = (num for num in range(20) if is_prime(num))"
   ]
  },
  {
   "cell_type": "markdown",
   "metadata": {
    "cell_id": "33433fbab56d424dbacde4b816ff8a67",
    "deepnote_cell_type": "markdown"
   },
   "source": [
    "However, this is a *generator*. A generator is a collection-like object that only creates output when requested. Therefore no primes have been computed yet. However when we loop over `something` (for example), primes appear."
   ]
  },
  {
   "cell_type": "code",
   "execution_count": null,
   "metadata": {
    "cell_id": "8097b371e4e04d23af49241fc1d513f3",
    "deepnote_cell_type": "code"
   },
   "outputs": [],
   "source": [
    "for prime in something:\n",
    "    print(prime)"
   ]
  },
  {
   "cell_type": "markdown",
   "metadata": {
    "cell_id": "2d162673dd274bed8fa878ce7a6c2916",
    "deepnote_cell_type": "markdown"
   },
   "source": [
    "If you try to loop over the same generator again, it won't work. They are one-use only."
   ]
  },
  {
   "cell_type": "code",
   "execution_count": null,
   "metadata": {
    "cell_id": "8619451959e94073a3e2197f30929ad9",
    "deepnote_cell_type": "code"
   },
   "outputs": [],
   "source": [
    "for prime in something:\n",
    "    print(prime)           # No output, `something` is empty"
   ]
  },
  {
   "cell_type": "markdown",
   "metadata": {
    "cell_id": "3cfe4060fdd04bf8ac0e7f141104f609",
    "deepnote_cell_type": "markdown"
   },
   "source": [
    "Looking back at the `is_prime` function again, we find this code:\n",
    "    \n",
    "    (number % divisor != 0 for divisor in range(2, int(math.sqrt(number) + 1)))\n",
    "    \n",
    "This is a generator that runs over all possible divisors to `number`. (The maximal possible divisor is the square root of `number`. We add one because the upper end of a `range` is exclusive, and we convert to an `int` because `range` doesn't work on floating point numbers.)\n",
    "\n",
    "It then checks whether `number` leaves a remainder of zero when divided by `divisor`, i.e. whether `divisor` is an *actual* divisor to `number`. It then produces `False` if is is the case, or `True` if not.\n",
    "\n",
    "A prime number is a number with no proper divisors. Therefore `number` is prime if *all* output of this generator are `True`. The function `all` checks this.\n",
    "\n",
    "    all(number % divisor != 0 for divisor in range(2, int(math.sqrt(number) + 1))))\n",
    "    \n",
    "Python allows you to drop one layer of parentheses if a generator is the only argument to a function, which lets us write\n",
    "\n",
    "    all(x for x in ...)\n",
    "    \n",
    "instead of\n",
    "\n",
    "    all((x for x in ...))"
   ]
  },
  {
   "cell_type": "markdown",
   "metadata": {
    "cell_id": "18152c9e7f654e429bd0f6fa193ee992",
    "deepnote_cell_type": "markdown"
   },
   "source": [
    "## Iterables and itertools"
   ]
  },
  {
   "cell_type": "markdown",
   "metadata": {
    "cell_id": "ef7d2e55482f4ee0baba4995dd9cdf05",
    "deepnote_cell_type": "markdown"
   },
   "source": [
    "In Python, an *iterable* is anything that can be iterated over, in other words anything that fits in a `for`-loop. Lists, tuples, dictionaries, sets and strings are all iterables, but we have seen others too: the return value of the `range` function is iterable, as are generators.\n",
    "\n",
    "The Python ecosystem revolves heavily around iterables, and Python itself has a large amount of tools to work with them, often leading to very elegant code. I will present some of these tools here."
   ]
  },
  {
   "cell_type": "markdown",
   "metadata": {
    "cell_id": "c7ee2e02e3214d43b26dbe344ef37f28",
    "deepnote_cell_type": "markdown"
   },
   "source": [
    "**WARNING:** With very few exceptions, all functions that return iterables return *generators*. In other words, they don't produce elements unless those elements are consumed by something, such as a `for`-loop. The exceptions are the functions `list`, `tuple`, `dict`, and `set`, which accept an iterable as an argument and then consumes it, returning the elements as a list, tuple, dictionary or set. Therefore, in the following, we will use `list(...)` to show the result of a piece of code. In regular code this would usually not be necessary."
   ]
  },
  {
   "cell_type": "markdown",
   "metadata": {
    "cell_id": "df60459e64e642df9d035cd86e924407",
    "deepnote_cell_type": "markdown"
   },
   "source": [
    "The `map` function applies a function to each element of an iterable."
   ]
  },
  {
   "cell_type": "code",
   "execution_count": null,
   "metadata": {
    "cell_id": "2c4c9b51da5c44828c7620f7acd4f5d9",
    "deepnote_cell_type": "code"
   },
   "outputs": [],
   "source": [
    "list(map(int, ['1', 2.0, 3.1]))"
   ]
  },
  {
   "cell_type": "markdown",
   "metadata": {
    "cell_id": "883b9346674642deb12e2a72b0d03393",
    "deepnote_cell_type": "markdown"
   },
   "source": [
    "The `filter` function filters out the items of an iterable which fail a predicate test."
   ]
  },
  {
   "cell_type": "code",
   "execution_count": null,
   "metadata": {
    "cell_id": "9abf09e0cfee4acd8bc274bcf55653f0",
    "deepnote_cell_type": "code"
   },
   "outputs": [],
   "source": [
    "def has_length_two(s):\n",
    "    return len(s) == 2\n",
    "\n",
    "list(filter(has_length_two, ['a', 'abc', 'de', 'fg', 'hij']))"
   ]
  },
  {
   "cell_type": "markdown",
   "metadata": {
    "cell_id": "8082e043b57c417a85d9f478f7f1f5df",
    "deepnote_cell_type": "markdown"
   },
   "source": [
    "Note that both `map` and `filter` can be expressed with comprehension syntax, and that this sort of syntax is usually considered preferable among Pythonistas."
   ]
  },
  {
   "cell_type": "markdown",
   "metadata": {
    "cell_id": "701bb950d39043ee846b7f44d9b9585a",
    "deepnote_cell_type": "markdown"
   },
   "source": [
    "The `enumerate` function allows you to iterate over both the elements of a collection *and* their indices at the same time."
   ]
  },
  {
   "cell_type": "code",
   "execution_count": null,
   "metadata": {
    "cell_id": "6618d7c6e31e4c1aa3efbb021dee18bf",
    "deepnote_cell_type": "code"
   },
   "outputs": [],
   "source": [
    "for index, value in enumerate('abcd'):\n",
    "    print(index, '=>', value)"
   ]
  },
  {
   "cell_type": "markdown",
   "metadata": {
    "cell_id": "ebc95e1438724590b3e9666672b08de7",
    "deepnote_cell_type": "markdown"
   },
   "source": [
    "This is much more elegant than code such as this:"
   ]
  },
  {
   "cell_type": "code",
   "execution_count": null,
   "metadata": {
    "cell_id": "1dc2928dcdda48b3bad5b9af39fb9923",
    "deepnote_cell_type": "code"
   },
   "outputs": [],
   "source": [
    "s = 'abcd'\n",
    "for index in range(len(s)):\n",
    "    print(index, '=>', s[index])"
   ]
  },
  {
   "cell_type": "markdown",
   "metadata": {
    "cell_id": "137a9d4199a249508e5eb55f309b5531",
    "deepnote_cell_type": "markdown"
   },
   "source": [
    "The `zip` function lets you iterate over multiple iterables simultaneously, like a zipper."
   ]
  },
  {
   "cell_type": "code",
   "execution_count": null,
   "metadata": {
    "cell_id": "3e89a6aabb1a4efda17d3d5078cb78df",
    "deepnote_cell_type": "code"
   },
   "outputs": [],
   "source": [
    "list(zip('abcd', 'zyxw'))"
   ]
  },
  {
   "cell_type": "markdown",
   "metadata": {
    "cell_id": "f42f09c331064bce92fca69c664374ec",
    "deepnote_cell_type": "markdown"
   },
   "source": [
    "`zip` accepts an arbitrary number of iterables. They can even be of different length, and the total length of the iterable will be that of the shortest argument."
   ]
  },
  {
   "cell_type": "code",
   "execution_count": null,
   "metadata": {
    "cell_id": "eb06f175660c4b679754e34c9a9fe87a",
    "deepnote_cell_type": "code"
   },
   "outputs": [],
   "source": [
    "list(zip('abcd', 'zyx', 'abcdefghijkl'))"
   ]
  },
  {
   "cell_type": "markdown",
   "metadata": {
    "cell_id": "73dc57e5d81b431ba785171ca4cb15dd",
    "deepnote_cell_type": "markdown"
   },
   "source": [
    "The `itertools` module contains much more goodies. Let's try some of them by importing it."
   ]
  },
  {
   "cell_type": "code",
   "execution_count": null,
   "metadata": {
    "cell_id": "d65ddef270ea4c58b45d761c8b322aae",
    "deepnote_cell_type": "code"
   },
   "outputs": [],
   "source": [
    "import itertools as it"
   ]
  },
  {
   "cell_type": "markdown",
   "metadata": {
    "cell_id": "4d13a079733e4e2d9303c9deab34b1a8",
    "deepnote_cell_type": "markdown"
   },
   "source": [
    "The `product` function creates a Cartesian product of several iterables."
   ]
  },
  {
   "cell_type": "code",
   "execution_count": null,
   "metadata": {
    "cell_id": "90b1d01553594d6b9476c37da4ac501f",
    "deepnote_cell_type": "code"
   },
   "outputs": [],
   "source": [
    "list(it.product([0, 1], 'ab'))"
   ]
  },
  {
   "cell_type": "markdown",
   "metadata": {
    "cell_id": "bc9b4297341a47a7b5a74939d49e821c",
    "deepnote_cell_type": "markdown"
   },
   "source": [
    "The `combinations` function returns subsets of a collection."
   ]
  },
  {
   "cell_type": "code",
   "execution_count": null,
   "metadata": {
    "cell_id": "567d82dccbff48498056375023ca048c",
    "deepnote_cell_type": "code"
   },
   "outputs": [],
   "source": [
    "list(it.combinations('abcd', 2))"
   ]
  },
  {
   "cell_type": "markdown",
   "metadata": {
    "cell_id": "ab9368e77a75422a8bba48dfd274f840",
    "deepnote_cell_type": "markdown"
   },
   "source": [
    "The `chain` function concatenates several iterables together."
   ]
  },
  {
   "cell_type": "code",
   "execution_count": null,
   "metadata": {
    "cell_id": "b576183bb55a479c8ec2f94426ee4aff",
    "deepnote_cell_type": "code"
   },
   "outputs": [],
   "source": [
    "list(it.chain('abc', range(3)))"
   ]
  },
  {
   "cell_type": "markdown",
   "metadata": {
    "cell_id": "206b64e156b9465db3fed15bf15cc5d8",
    "deepnote_cell_type": "markdown"
   },
   "source": [
    "The `repeat` function creates an infinite iterable that just outputs a single thing. (Don't try to do `list(repeat(...))` however.)"
   ]
  },
  {
   "cell_type": "code",
   "execution_count": null,
   "metadata": {
    "cell_id": "69991a688ad54fb9be011845a6b60570",
    "deepnote_cell_type": "code"
   },
   "outputs": [],
   "source": [
    "it.repeat(3)   # => 3, 3, 3, ..."
   ]
  },
  {
   "cell_type": "markdown",
   "metadata": {
    "cell_id": "113a1ccbe58f4205bc7ca942d50fbc70",
    "deepnote_cell_type": "markdown"
   },
   "source": [
    "The `cycle` function creates an iterable that cycles through another iterable endlessly."
   ]
  },
  {
   "cell_type": "code",
   "execution_count": null,
   "metadata": {
    "cell_id": "183156ce19a34ae0bb8947b6ff54a0e2",
    "deepnote_cell_type": "code"
   },
   "outputs": [],
   "source": [
    "it.cycle('abc')    # => 'a', 'b', 'c', 'a', 'b', 'c', 'a', 'b', 'c', ..."
   ]
  },
  {
   "cell_type": "markdown",
   "metadata": {
    "cell_id": "9001e77a2d0843a1afc877be3b93e40f",
    "deepnote_cell_type": "markdown"
   },
   "source": [
    "The `count` function creates an iterable that counts up from a given number."
   ]
  },
  {
   "cell_type": "code",
   "execution_count": null,
   "metadata": {
    "cell_id": "49b6e1dc5d24480a9cd63c7756cbf056",
    "deepnote_cell_type": "code"
   },
   "outputs": [],
   "source": [
    "it.count(0)     # => 0, 1, 2, 3, ..."
   ]
  },
  {
   "cell_type": "markdown",
   "metadata": {
    "cell_id": "23055fad0cef46749b262d5b72e10cac",
    "deepnote_cell_type": "markdown"
   },
   "source": [
    "# Classes"
   ]
  },
  {
   "cell_type": "markdown",
   "metadata": {
    "cell_id": "615ea607fc6a42b9a45d36ed7563af36",
    "deepnote_cell_type": "markdown"
   },
   "source": [
    "[Classes](https://docs.python.org/3/tutorial/classes.html) provide a means of bundling data and functionality together. Creating a new class creates a new type of object, allowing new instances of that type to be made. Each class instance can have attributes attached to it for maintaining its state. Class instances can also have methods (defined by its class) for modifying its state.\n",
    "The syntax for defining classes in Python is straightforward:"
   ]
  },
  {
   "cell_type": "code",
   "execution_count": null,
   "metadata": {
    "cell_id": "1ac65fc25c0a4f9b8201ba6bed97c02e",
    "deepnote_cell_type": "code"
   },
   "outputs": [],
   "source": [
    "class Greeter(object):\n",
    "\n",
    "    # Constructor\n",
    "    def __init__(self, name):\n",
    "        self.name = name  # Create an instance variable\n",
    "\n",
    "    # Instance method\n",
    "    def greet(self, loud=False):\n",
    "        if loud:\n",
    "            print('HELLO, %s!' % self.name.upper())\n",
    "        else:\n",
    "            print('Hello, %s' % self.name)\n",
    "\n",
    "g = Greeter('Fred')  # Construct an instance of the Greeter class\n",
    "g.greet()            # Call an instance method; prints \"Hello, Fred\"\n",
    "g.greet(loud=True)   # Call an instance method; prints \"HELLO, FRED!\""
   ]
  },
  {
   "cell_type": "code",
   "execution_count": null,
   "metadata": {
    "cell_id": "6cc8d6a2fe5c413db5a44936eaa409dc",
    "deepnote_cell_type": "code"
   },
   "outputs": [],
   "source": [
    "class Person():         # Next indented block is in the class definition\n",
    "\n",
    "    def __init__(self, name, age):  # Values specified when object is made\n",
    "        self.name = name              # Link input values to the object\n",
    "        self.age = age\n",
    "  \n",
    "    def get_first_name(self):       # A second, custom function\n",
    "        names = self.name.split()     # self refers to the run-time object\n",
    "        return names[0]               # Give back first word\n",
    "\n",
    "p1 = Person('Lisa Simpson', 8)    # Make object of Person class\n",
    "p2 = Person('Bart Simpson', 10)   # Make another\n",
    "print(p1.age, p2.age)             # Values linked to objects - 8, 10 \n",
    "print(p1.get_first_name())        # Run a linked function - gives 'Lisa'"
   ]
  },
  {
   "cell_type": "code",
   "execution_count": null,
   "metadata": {
    "cell_id": "74ed7a5ef0394bc9a180046b60530fd9",
    "deepnote_cell_type": "code"
   },
   "outputs": [],
   "source": []
  },
  {
   "cell_type": "markdown",
   "metadata": {
    "created_in_deepnote_cell": true,
    "deepnote_cell_type": "markdown"
   },
   "source": [
    "<a style='text-decoration:none;line-height:16px;display:flex;color:#5B5B62;padding:10px;justify-content:end;' href='https://deepnote.com?utm_source=created-in-deepnote-cell&projectId=174a646e-27d4-4666-a2b4-2d7bb1c47bf5' target=\"_blank\">\n",
    "<img alt='Created in deepnote.com' style='display:inline;max-height:16px;margin:0px;margin-right:7.5px;' src='data:image/svg+xml;base64,PD94bWwgdmVyc2lvbj0iMS4wIiBlbmNvZGluZz0iVVRGLTgiPz4KPHN2ZyB3aWR0aD0iODBweCIgaGVpZ2h0PSI4MHB4IiB2aWV3Qm94PSIwIDAgODAgODAiIHZlcnNpb249IjEuMSIgeG1sbnM9Imh0dHA6Ly93d3cudzMub3JnLzIwMDAvc3ZnIiB4bWxuczp4bGluaz0iaHR0cDovL3d3dy53My5vcmcvMTk5OS94bGluayI+CiAgICA8IS0tIEdlbmVyYXRvcjogU2tldGNoIDU0LjEgKDc2NDkwKSAtIGh0dHBzOi8vc2tldGNoYXBwLmNvbSAtLT4KICAgIDx0aXRsZT5Hcm91cCAzPC90aXRsZT4KICAgIDxkZXNjPkNyZWF0ZWQgd2l0aCBTa2V0Y2guPC9kZXNjPgogICAgPGcgaWQ9IkxhbmRpbmciIHN0cm9rZT0ibm9uZSIgc3Ryb2tlLXdpZHRoPSIxIiBmaWxsPSJub25lIiBmaWxsLXJ1bGU9ImV2ZW5vZGQiPgogICAgICAgIDxnIGlkPSJBcnRib2FyZCIgdHJhbnNmb3JtPSJ0cmFuc2xhdGUoLTEyMzUuMDAwMDAwLCAtNzkuMDAwMDAwKSI+CiAgICAgICAgICAgIDxnIGlkPSJHcm91cC0zIiB0cmFuc2Zvcm09InRyYW5zbGF0ZSgxMjM1LjAwMDAwMCwgNzkuMDAwMDAwKSI+CiAgICAgICAgICAgICAgICA8cG9seWdvbiBpZD0iUGF0aC0yMCIgZmlsbD0iIzAyNjVCNCIgcG9pbnRzPSIyLjM3NjIzNzYyIDgwIDM4LjA0NzY2NjcgODAgNTcuODIxNzgyMiA3My44MDU3NTkyIDU3LjgyMTc4MjIgMzIuNzU5MjczOSAzOS4xNDAyMjc4IDMxLjY4MzE2ODMiPjwvcG9seWdvbj4KICAgICAgICAgICAgICAgIDxwYXRoIGQ9Ik0zNS4wMDc3MTgsODAgQzQyLjkwNjIwMDcsNzYuNDU0OTM1OCA0Ny41NjQ5MTY3LDcxLjU0MjI2NzEgNDguOTgzODY2LDY1LjI2MTk5MzkgQzUxLjExMjI4OTksNTUuODQxNTg0MiA0MS42NzcxNzk1LDQ5LjIxMjIyODQgMjUuNjIzOTg0Niw0OS4yMTIyMjg0IEMyNS40ODQ5Mjg5LDQ5LjEyNjg0NDggMjkuODI2MTI5Niw0My4yODM4MjQ4IDM4LjY0NzU4NjksMzEuNjgzMTY4MyBMNzIuODcxMjg3MSwzMi41NTQ0MjUgTDY1LjI4MDk3Myw2Ny42NzYzNDIxIEw1MS4xMTIyODk5LDc3LjM3NjE0NCBMMzUuMDA3NzE4LDgwIFoiIGlkPSJQYXRoLTIyIiBmaWxsPSIjMDAyODY4Ij48L3BhdGg+CiAgICAgICAgICAgICAgICA8cGF0aCBkPSJNMCwzNy43MzA0NDA1IEwyNy4xMTQ1MzcsMC4yNTcxMTE0MzYgQzYyLjM3MTUxMjMsLTEuOTkwNzE3MDEgODAsMTAuNTAwMzkyNyA4MCwzNy43MzA0NDA1IEM4MCw2NC45NjA0ODgyIDY0Ljc3NjUwMzgsNzkuMDUwMzQxNCAzNC4zMjk1MTEzLDgwIEM0Ny4wNTUzNDg5LDc3LjU2NzA4MDggNTMuNDE4MjY3Nyw3MC4zMTM2MTAzIDUzLjQxODI2NzcsNTguMjM5NTg4NSBDNTMuNDE4MjY3Nyw0MC4xMjg1NTU3IDM2LjMwMzk1NDQsMzcuNzMwNDQwNSAyNS4yMjc0MTcsMzcuNzMwNDQwNSBDMTcuODQzMDU4NiwzNy43MzA0NDA1IDkuNDMzOTE5NjYsMzcuNzMwNDQwNSAwLDM3LjczMDQ0MDUgWiIgaWQ9IlBhdGgtMTkiIGZpbGw9IiMzNzkzRUYiPjwvcGF0aD4KICAgICAgICAgICAgPC9nPgogICAgICAgIDwvZz4KICAgIDwvZz4KPC9zdmc+' > </img>\n",
    "Created in <span style='font-weight:600;margin-left:4px;'>Deepnote</span></a>"
   ]
  }
 ],
 "metadata": {
  "deepnote": {},
  "deepnote_execution_queue": [],
  "deepnote_notebook_id": "dbc40cb319d146f0910de614175ee219",
  "kernelspec": {
   "display_name": "Python 3 (ipykernel)",
   "language": "python",
   "name": "python3"
  },
  "language_info": {
   "codemirror_mode": {
    "name": "ipython",
    "version": 3
   },
   "file_extension": ".py",
   "mimetype": "text/x-python",
   "name": "python",
   "nbconvert_exporter": "python",
   "pygments_lexer": "ipython3",
   "version": "3.10.4"
  },
  "toc": {
   "base_numbering": 1,
   "nav_menu": {},
   "number_sections": true,
   "sideBar": true,
   "skip_h1_title": false,
   "title_cell": "Table of Contents",
   "title_sidebar": "Contents",
   "toc_cell": false,
   "toc_position": {
    "height": "calc(100% - 180px)",
    "left": "10px",
    "top": "150px",
    "width": "384px"
   },
   "toc_section_display": "block",
   "toc_window_display": true
  }
 },
 "nbformat": 4,
 "nbformat_minor": 0
}
