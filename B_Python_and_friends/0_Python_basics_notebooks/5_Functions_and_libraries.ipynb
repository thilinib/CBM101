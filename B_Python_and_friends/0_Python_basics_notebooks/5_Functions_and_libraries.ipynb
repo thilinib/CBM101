{
 "cells": [
  {
   "cell_type": "markdown",
   "metadata": {
    "cell_id": "feefb39ddc0746bfb3fffb3ff819b14e",
    "deepnote_cell_type": "markdown",
    "tags": [
     "style-activity"
    ]
   },
   "source": [
    "# Functions"
   ]
  },
  {
   "cell_type": "markdown",
   "metadata": {
    "cell_id": "987744364ccb4a0eac3ad45735cf73af",
    "deepnote_cell_type": "markdown"
   },
   "source": [
    "Functions allow you to create reusable blocks of code that perform specific tasks. They are essential for writing organized, efficient, and maintainable code in Python. Functions allow you to break down complex tasks into smaller, manageable parts, making your code easier to understand, maintain and saving you from duplicating code.\n",
    "\n",
    "To define a function in Python, use the `def` keyword. Like this:"
   ]
  },
  {
   "cell_type": "code",
   "execution_count": null,
   "metadata": {
    "cell_id": "12e0240b4b7943a9b0a7d382798bd463",
    "deepnote_cell_type": "code"
   },
   "outputs": [],
   "source": [
    "def say_hello():\n",
    "    print('Hello!')"
   ]
  },
  {
   "cell_type": "markdown",
   "metadata": {
    "cell_id": "5a9f9c123e6d4d1da9e621cc9daf5f8c",
    "deepnote_cell_type": "markdown"
   },
   "source": [
    "You can then call the function like this."
   ]
  },
  {
   "cell_type": "code",
   "execution_count": null,
   "metadata": {
    "cell_id": "937c2c9bbf18439c8e241c7ab8b9ca37",
    "deepnote_cell_type": "code"
   },
   "outputs": [],
   "source": [
    "say_hello()"
   ]
  },
  {
   "cell_type": "markdown",
   "metadata": {
    "cell_id": "61c9cad986ab4919af89e565d69d98ea",
    "deepnote_cell_type": "markdown"
   },
   "source": [
    "Like you might expect, functions can take arguments, e.g.:"
   ]
  },
  {
   "cell_type": "code",
   "execution_count": null,
   "metadata": {
    "cell_id": "3ffc22a44325400bbba61cf2d0b99599",
    "deepnote_cell_type": "code"
   },
   "outputs": [],
   "source": [
    "def say_hello(name):\n",
    "    print('Hello,', name)\n",
    "    \n",
    "say_hello('Bob')"
   ]
  },
  {
   "cell_type": "code",
   "execution_count": null,
   "metadata": {
    "cell_id": "f66d81e2fa1f43d58bb4ae3bd4f099d7",
    "deepnote_cell_type": "code"
   },
   "outputs": [],
   "source": [
    "def sign(x):\n",
    "    if x > 0:\n",
    "        return 'positive'\n",
    "    elif x < 0:\n",
    "        return 'negative'\n",
    "    else:\n",
    "        return 'zero'\n",
    "\n",
    "for x in [-1, 0, 1]:\n",
    "    print(sign(x))"
   ]
  },
  {
   "cell_type": "markdown",
   "metadata": {
    "cell_id": "cbd0efd40cb148b5a5ca5b0796a5e202",
    "deepnote_cell_type": "markdown"
   },
   "source": [
    "A function can return just anything, for example the first element of the input:"
   ]
  },
  {
   "cell_type": "code",
   "execution_count": null,
   "metadata": {
    "cell_id": "d553245fd3254aeeab3a9aa098185929",
    "deepnote_cell_type": "code"
   },
   "outputs": [],
   "source": [
    "def get_first_element(collection):\n",
    "    return collection[0]"
   ]
  },
  {
   "cell_type": "markdown",
   "metadata": {
    "cell_id": "7d97ccdb7f634bbdabb24f0603a9de1d",
    "deepnote_cell_type": "markdown"
   },
   "source": [
    "This function now works with lists, tuples and strings (in fact any indexable collection)."
   ]
  },
  {
   "cell_type": "code",
   "execution_count": null,
   "metadata": {
    "cell_id": "71822e4fb9d449bc8f43648e652908c4",
    "deepnote_cell_type": "code"
   },
   "outputs": [],
   "source": [
    "get_first_element([5, 6, 7])"
   ]
  },
  {
   "cell_type": "code",
   "execution_count": null,
   "metadata": {
    "cell_id": "f1ca5e9f560348b5bb4a27b3ee2219fd",
    "deepnote_cell_type": "code"
   },
   "outputs": [],
   "source": [
    "get_first_element((6, 7, 8))"
   ]
  },
  {
   "cell_type": "code",
   "execution_count": null,
   "metadata": {
    "cell_id": "efa3a63b569c45729942669d53f44b8c",
    "deepnote_cell_type": "code"
   },
   "outputs": [],
   "source": [
    "get_first_element('abc')"
   ]
  },
  {
   "cell_type": "markdown",
   "metadata": {
    "cell_id": "b60ee8a8e07b4169aafd4916022fce83",
    "deepnote_cell_type": "markdown"
   },
   "source": [
    "<div class='alert alert-warning'>\n",
    "\n",
    "<h4>Ex1.8. Write a function which takes a list (or other iterable, like a string) as input, and tell whether it containts any duplicates (the same number more than once). </h4>\n",
    "</div>   "
   ]
  },
  {
   "cell_type": "code",
   "execution_count": null,
   "metadata": {
    "cell_id": "bc38722fbaaa40ff97612aa0ee28cc17",
    "deepnote_cell_type": "code"
   },
   "outputs": [],
   "source": [
    "# Ex8\n"
   ]
  },
  {
   "cell_type": "code",
   "execution_count": null,
   "metadata": {
    "cell_id": "70d8114ffb074b8bbdcdd61819ca457f",
    "deepnote_cell_type": "code"
   },
   "outputs": [],
   "source": [
    "# here you can test if it works\n",
    "\n",
    "test1 = 'abd43ghj'\n",
    "test2 = 'abcefg'\n",
    "\n",
    "duplicates(test1)"
   ]
  },
  {
   "cell_type": "markdown",
   "metadata": {
    "cell_id": "5f1036fdbb6e455bab7b537fcccbbbfc",
    "deepnote_cell_type": "markdown"
   },
   "source": [
    "## Rules for calling (applying) functions in python:\n",
    "\n",
    "you can choose to feed in arguments either by name of the argument, or pass them in the right order. "
   ]
  },
  {
   "cell_type": "code",
   "execution_count": null,
   "metadata": {
    "cell_id": "53351c9b374d4342aebc14691521550c",
    "deepnote_cell_type": "code"
   },
   "outputs": [],
   "source": [
    "def get_an_element(collection, index):\n",
    "    return collection[index]\n",
    "\n",
    "get_an_element('abcdef', 4)"
   ]
  },
  {
   "cell_type": "code",
   "execution_count": null,
   "metadata": {
    "cell_id": "2b6968052f9b4e83afc98ab6dbcd6c59",
    "deepnote_cell_type": "code"
   },
   "outputs": [],
   "source": [
    "# by order\n",
    "get_an_element('abcdef', 4)"
   ]
  },
  {
   "cell_type": "code",
   "execution_count": null,
   "metadata": {
    "cell_id": "0914e07b57f4414984c07e6787349512",
    "deepnote_cell_type": "code"
   },
   "outputs": [],
   "source": [
    "# by name:\n",
    "get_an_element(collection='abcdef', index=4)"
   ]
  },
  {
   "cell_type": "markdown",
   "metadata": {
    "cell_id": "b911f9a39bff4781a8808baf370a50a1",
    "deepnote_cell_type": "markdown"
   },
   "source": [
    "When you call by name, the order can be arbitrary:"
   ]
  },
  {
   "cell_type": "code",
   "execution_count": null,
   "metadata": {
    "cell_id": "f99e874c99a046a9860b902ecf4ff58c",
    "deepnote_cell_type": "code"
   },
   "outputs": [],
   "source": [
    "get_an_element(index=4, collection='abcdef')"
   ]
  },
  {
   "cell_type": "markdown",
   "metadata": {
    "cell_id": "e625571c42b544db87151fbe447b5522",
    "deepnote_cell_type": "markdown"
   },
   "source": [
    "We refer to these as keyword-arguments when we use the name. A rule states you cannot pass in a keyword-argument before a positional argument, so the following won't work:"
   ]
  },
  {
   "cell_type": "code",
   "execution_count": null,
   "metadata": {
    "cell_id": "2c816b076f0d49899fd6637a4ddb1117",
    "deepnote_cell_type": "code"
   },
   "outputs": [],
   "source": [
    "get_an_element(collection='abcdef', 4)"
   ]
  },
  {
   "cell_type": "markdown",
   "metadata": {
    "cell_id": "02e7d00751e34d2a9f6c611d38989dd0",
    "deepnote_cell_type": "markdown"
   },
   "source": [
    "But this will:"
   ]
  },
  {
   "cell_type": "code",
   "execution_count": null,
   "metadata": {
    "cell_id": "2c0dfc89911d4459a75877b64bfe9adc",
    "deepnote_cell_type": "code"
   },
   "outputs": [],
   "source": [
    "get_an_element('abcdef', index=4)"
   ]
  },
  {
   "cell_type": "markdown",
   "metadata": {
    "cell_id": "60dc4fffd97e4cf8880ad9daeca729cc",
    "deepnote_cell_type": "markdown"
   },
   "source": [
    "## Default arguments\n",
    "\n",
    "When we construct a function, we can pass in a default value in the `def` statement. If we don't pass in that argument when calling the function, it will just use the default value:"
   ]
  },
  {
   "cell_type": "code",
   "execution_count": null,
   "metadata": {
    "cell_id": "094a2a43e5d142c7a02e57c6de143f49",
    "deepnote_cell_type": "code"
   },
   "outputs": [],
   "source": [
    "def get_an_element(collection, index=0):\n",
    "    return collection[index]\n",
    "\n",
    "get_an_element('abcdef')"
   ]
  },
  {
   "cell_type": "markdown",
   "metadata": {
    "cell_id": "f8b5a88b2e594ad296d78a0e843ed376",
    "deepnote_cell_type": "markdown"
   },
   "source": [
    "But we have the power to change that at any point:"
   ]
  },
  {
   "cell_type": "code",
   "execution_count": null,
   "metadata": {
    "cell_id": "e8d777b609be4662bdefabb949d420ac",
    "deepnote_cell_type": "code"
   },
   "outputs": [],
   "source": [
    "get_an_element('abcdef', 4)"
   ]
  },
  {
   "cell_type": "markdown",
   "metadata": {
    "cell_id": "4ffca9cbcf234b23823b0bfa07f7ec94",
    "deepnote_cell_type": "markdown"
   },
   "source": [
    "In other words, these arguments are *optional*"
   ]
  },
  {
   "cell_type": "code",
   "execution_count": null,
   "metadata": {
    "cell_id": "8683a643fd0f4c1a9413f008e4ea8d37",
    "deepnote_cell_type": "code"
   },
   "outputs": [],
   "source": [
    "get_an_element('abcdef')                        # OK, index has its default value\n",
    "get_an_element('abcdef', index=4)               # OK, override default value of index\n",
    "get_an_element('abcdef', 4)                     # Works, not considered normal\n",
    "get_an_element(collection='abcdef', index=4)    # Works, not considered normal\n",
    "# get_an_element(collection='abcdef', 4)          # Illegal\n",
    "# get_an_element(index=4, 'abcdef')               # Illegal, but also ambiguous"
   ]
  },
  {
   "cell_type": "markdown",
   "metadata": {
    "cell_id": "d8e278c1afdb43d0b6fc56545f2e756a",
    "deepnote_cell_type": "markdown"
   },
   "source": [
    "You can also write functions that take an arbitrary number of arguments. Here, the asterisk `*` is called the \"splat\" operator."
   ]
  },
  {
   "cell_type": "code",
   "execution_count": null,
   "metadata": {
    "cell_id": "60343006f50c4e4f9ff0c36d11ece8c4",
    "deepnote_cell_type": "code"
   },
   "outputs": [],
   "source": [
    "def print_all_args(*args):\n",
    "    print(args)\n",
    "\n",
    "print_all_args('a', 'b', 'c')"
   ]
  },
  {
   "cell_type": "markdown",
   "metadata": {
    "cell_id": "5f09e326e7974264b933be9a993a893e",
    "deepnote_cell_type": "markdown"
   },
   "source": [
    "Note that `args` becomes a tuple containing all the arguments. You can also collect keyword arguments into a dictionary with the double-splat operator."
   ]
  },
  {
   "cell_type": "code",
   "execution_count": null,
   "metadata": {
    "cell_id": "23e6c4179f3e4faa849249fc417fcd43",
    "deepnote_cell_type": "code"
   },
   "outputs": [],
   "source": [
    "def print_all_args(*args, **kwargs):\n",
    "    print(args, kwargs)\n",
    "    \n",
    "print_all_args('a', 'b', 'c', name='Arvid', place='Seili')"
   ]
  },
  {
   "cell_type": "markdown",
   "metadata": {
    "cell_id": "937227d37a364332a74ddb4b34222ad4",
    "deepnote_cell_type": "markdown"
   },
   "source": [
    "A combination of actual arguments and splats also work \"as expected\", although it's not always obvious what is expected. :-)"
   ]
  },
  {
   "cell_type": "code",
   "execution_count": null,
   "metadata": {
    "cell_id": "9d506516fcad46dca6a0a8896b88eeca",
    "deepnote_cell_type": "code"
   },
   "outputs": [],
   "source": [
    "def print_all_args(a, b, *args, c=1, **kwargs):\n",
    "    print(a, b, c, args, kwargs)\n",
    "    \n",
    "print_all_args(1, 2, 3, 4, 5, c=6, d=7, e=8)"
   ]
  },
  {
   "cell_type": "markdown",
   "metadata": {
    "cell_id": "7950c21e8a6d4282b8d7f12e10f88f93",
    "deepnote_cell_type": "markdown"
   },
   "source": [
    "Splatting also works the other way, for example, here's a function that sums three numbers:"
   ]
  },
  {
   "cell_type": "code",
   "execution_count": null,
   "metadata": {
    "cell_id": "51e9191fa0bd4887b8d58328a0b2b4d6",
    "deepnote_cell_type": "code"
   },
   "outputs": [],
   "source": [
    "def sum_three(a, b, c):\n",
    "    return a + b + c"
   ]
  },
  {
   "cell_type": "markdown",
   "metadata": {
    "cell_id": "42693606be784aaa989b2e8fbcaf0832",
    "deepnote_cell_type": "markdown"
   },
   "source": [
    "We can call it like this:"
   ]
  },
  {
   "cell_type": "code",
   "execution_count": null,
   "metadata": {
    "cell_id": "738b4140c1c3437aafad0a969d746e13",
    "deepnote_cell_type": "code"
   },
   "outputs": [],
   "source": [
    "args = [5, 6, 7]\n",
    "sum_three(args[0], args[1], args[2])"
   ]
  },
  {
   "cell_type": "markdown",
   "metadata": {
    "cell_id": "c00b0b770aaf4d6ba0236e1694aaa9c5",
    "deepnote_cell_type": "markdown"
   },
   "source": [
    "But this is much more elegant:"
   ]
  },
  {
   "cell_type": "code",
   "execution_count": null,
   "metadata": {
    "cell_id": "4db1585d122e49cb98bf7fc33a4cbce0",
    "deepnote_cell_type": "code"
   },
   "outputs": [],
   "source": [
    "sum_three(*args)"
   ]
  },
  {
   "cell_type": "markdown",
   "metadata": {
    "cell_id": "70430a3debdc4326878f3cc18f8783dc",
    "deepnote_cell_type": "markdown"
   },
   "source": [
    "You can mix splats and normal arguments."
   ]
  },
  {
   "cell_type": "code",
   "execution_count": null,
   "metadata": {
    "cell_id": "85fc1ecb84484fe4927cd90e7823d284",
    "deepnote_cell_type": "code"
   },
   "outputs": [],
   "source": [
    "sum_three(5, *[6, 7])"
   ]
  },
  {
   "cell_type": "code",
   "execution_count": null,
   "metadata": {
    "cell_id": "136eb5e0a27e4bfdb1afce5eaa8caa13",
    "deepnote_cell_type": "code"
   },
   "outputs": [],
   "source": [
    "sum_three(*[5], 6, *[7])"
   ]
  },
  {
   "cell_type": "markdown",
   "metadata": {
    "cell_id": "ff1a90c390d24cd49460c4241e8008ec",
    "deepnote_cell_type": "markdown"
   },
   "source": [
    "A similar construction exists for keyword arguments, which requires a dictionary."
   ]
  },
  {
   "cell_type": "code",
   "execution_count": null,
   "metadata": {
    "cell_id": "cbc16c10952b4e3f9c6911bb0fc18c8e",
    "deepnote_cell_type": "code"
   },
   "outputs": [],
   "source": [
    "kwargs = {'a': 5, 'b': 6, 'c': 7}\n",
    "sum_three(**kwargs)"
   ]
  },
  {
   "cell_type": "markdown",
   "metadata": {
    "cell_id": "070729e705fb405796f3e519156aed59",
    "deepnote_cell_type": "markdown"
   },
   "source": [
    "<div class='alert alert-warning'>\n",
    "\n",
    "<h4> Exercise 9: can you make a function `mult` that will return the product of any number of inputs?\n",
    "NB: python has a builtin function `sum` that does it for sums </h4>\n",
    "</div>  "
   ]
  },
  {
   "cell_type": "code",
   "execution_count": null,
   "metadata": {
    "cell_id": "922469b2347d45a08c3140940c504679",
    "deepnote_cell_type": "code"
   },
   "outputs": [],
   "source": [
    "# Ex9\n"
   ]
  },
  {
   "cell_type": "markdown",
   "metadata": {
    "cell_id": "7eae951719ca4352b02b112087f5662b",
    "deepnote_cell_type": "markdown"
   },
   "source": [
    "Combinations of regular arguments, named arguments, splat arguments and double-splat keyword arguments all work, and should produce the expected results. If Python ever produces an error, you are probably just trying to do something that doesn't make sense."
   ]
  },
  {
   "cell_type": "markdown",
   "metadata": {
    "cell_id": "79539c937c224fbca3285ee69b8076b8",
    "deepnote_cell_type": "markdown",
    "tags": [
     "style-activity"
    ]
   },
   "source": [
    "# Python libraries"
   ]
  },
  {
   "cell_type": "markdown",
   "metadata": {
    "cell_id": "40914e9bb7ea44508176a9c148834fa8",
    "deepnote_cell_type": "markdown"
   },
   "source": [
    "By default Python has many available functions and classes. Some of these functions are only accessible through importing specialized modules. **Library** is an umbrella term referring to reusable chunk of code. Let's say you wish to do math operations. We use the `import` to make the math functions available: \n"
   ]
  },
  {
   "cell_type": "code",
   "execution_count": null,
   "metadata": {
    "cell_id": "103c298f94fe40eea7d6867a4ea27e99",
    "deepnote_cell_type": "code"
   },
   "outputs": [],
   "source": [
    "import math"
   ]
  },
  {
   "cell_type": "markdown",
   "metadata": {
    "cell_id": "670cd489ae1841d38b1f3bcb4cf5f43c",
    "deepnote_cell_type": "markdown"
   },
   "source": [
    "Now we can access `math` library functionalities by calling `math.` followed by the function. For instance, Euler's number is:"
   ]
  },
  {
   "cell_type": "code",
   "execution_count": null,
   "metadata": {
    "cell_id": "778f99e1f3af428bbc6ae29de4a975d1",
    "deepnote_cell_type": "code"
   },
   "outputs": [],
   "source": [
    "math.e"
   ]
  },
  {
   "cell_type": "code",
   "execution_count": null,
   "metadata": {
    "cell_id": "f6bb921d17044e549150a56b93c60a56",
    "deepnote_cell_type": "code"
   },
   "outputs": [],
   "source": [
    "math.sin(1)"
   ]
  },
  {
   "cell_type": "markdown",
   "metadata": {
    "cell_id": "3f3f222908c34310a8ed36fd005a2bda",
    "deepnote_cell_type": "markdown"
   },
   "source": [
    "But more vast is the `numpy` library, which crucially let's you work with matrices and vectors. We usually import it using an alias `np`. (More about useful libraries in next notebooks)"
   ]
  },
  {
   "cell_type": "code",
   "execution_count": 2,
   "metadata": {
    "cell_id": "ebe61da9d974434591111f881b461476",
    "deepnote_cell_type": "code",
    "deepnote_to_be_reexecuted": false,
    "execution_millis": 8,
    "execution_start": 1695369471239,
    "source_hash": "c2602aa8"
   },
   "outputs": [],
   "source": [
    "import numpy as np"
   ]
  },
  {
   "cell_type": "code",
   "execution_count": null,
   "metadata": {
    "cell_id": "2b605e0a338a4eaba5f92c285582d448",
    "deepnote_cell_type": "code"
   },
   "outputs": [],
   "source": [
    "np.e"
   ]
  },
  {
   "cell_type": "code",
   "execution_count": null,
   "metadata": {
    "cell_id": "917bdd12799b4d7cb761b93cbb7c5f4f",
    "deepnote_cell_type": "code",
    "deepnote_to_be_reexecuted": false,
    "execution_millis": 67,
    "execution_start": 1695369473838,
    "source_hash": "e2b7240d"
   },
   "outputs": [],
   "source": [
    "mat = np.array([[0,1,2],[3,4,5],[6,7,8]]) #making a matrix/2D array\n",
    "mat"
   ]
  },
  {
   "cell_type": "markdown",
   "metadata": {
    "cell_id": "330093bc68b741a2a12fae9b5c7ea6f7",
    "deepnote_cell_type": "markdown"
   },
   "source": [
    "# Finding right library and function"
   ]
  },
  {
   "cell_type": "markdown",
   "metadata": {
    "cell_id": "fd5671f259f84745b6d0e25560176d59",
    "deepnote_cell_type": "markdown"
   },
   "source": [
    "If you're wondering how to find the right library for your task and, once found, how to locate the specific functions you need, don't worry. The next section will guide you through this process step by step.\n",
    "\n",
    "**Define Your Task** : Clearly defining what you want to achieve. Whether it's data analysis, web development, machine learning, or any other task.\n",
    "\n",
    "**Search and Explore** : Once you've defined your task, start your search. Google is always your friend.\n",
    "\n",
    "**Check Documentation** : It provides valuable information on what the library does, how to install it, and how to use it(functions)"
   ]
  },
  {
   "cell_type": "markdown",
   "metadata": {
    "cell_id": "eeae0d2f81d24d6d9a69f90d8e550e2c",
    "deepnote_cell_type": "markdown"
   },
   "source": [
    "*For an example, how to get the transpose of \"mat\" 2D array/matrix you have created earlier.*\n",
    "<p>\n",
    "mat = [[0, 1, 2],\n",
    "            [3, 4, 5],\n",
    "            [6, 7, 8]]\n",
    "<p>\n",
    "The transpose of a matrix involves swapping its rows and columns. \n",
    "<p>\n",
    "mat_T =  [0, 3, 6],\n",
    "               [1, 4, 7],\n",
    "               [2, 5, 8]\n",
    "<p>\n",
    "Start by searching/googling for a Python library that's well-suited for matrix operations and transposition. Most likely, you'll come across NumPy as the top suggested library. Then refer the <a href = \"https://numpy.org/doc/stable/\" >NumPy documentation</a> , type in the specific functions you need for this task, such as 'array creation' or 'transpose.' This will direct you to the relevant support pages. From the support pages, you can read and learn how to use these functions effectively.\n",
    "\n",
    "<p>\n",
    "\n",
    "</div>  "
   ]
  },
  {
   "cell_type": "code",
   "execution_count": null,
   "metadata": {
    "cell_id": "3655011dcd9f47bfad8f525efa097cca",
    "deepnote_cell_type": "code",
    "deepnote_to_be_reexecuted": false,
    "execution_millis": 31,
    "execution_start": 1695369494758,
    "source_hash": "5845394a"
   },
   "outputs": [],
   "source": [
    "np.transpose(mat)"
   ]
  },
  {
   "cell_type": "markdown",
   "metadata": {
    "cell_id": "e7e8dd2d82694b919b8291f7018ac73d",
    "deepnote_cell_type": "text-cell-p",
    "formattedRanges": []
   },
   "source": [
    "or"
   ]
  },
  {
   "cell_type": "code",
   "execution_count": null,
   "metadata": {
    "cell_id": "c5d10877f994476588ea65eed2b3a50b",
    "deepnote_cell_type": "code",
    "deepnote_to_be_reexecuted": false,
    "execution_millis": 18,
    "execution_start": 1695369534865,
    "source_hash": "5dbedf65"
   },
   "outputs": [],
   "source": [
    "mat.T"
   ]
  },
  {
   "cell_type": "code",
   "execution_count": null,
   "metadata": {
    "cell_id": "da37190648804534beb9ab2ac8b33444",
    "deepnote_cell_type": "code"
   },
   "outputs": [],
   "source": []
  },
  {
   "cell_type": "markdown",
   "metadata": {
    "created_in_deepnote_cell": true,
    "deepnote_cell_type": "markdown"
   },
   "source": [
    "<a style='text-decoration:none;line-height:16px;display:flex;color:#5B5B62;padding:10px;justify-content:end;' href='https://deepnote.com?utm_source=created-in-deepnote-cell&projectId=174a646e-27d4-4666-a2b4-2d7bb1c47bf5' target=\"_blank\">\n",
    "<img alt='Created in deepnote.com' style='display:inline;max-height:16px;margin:0px;margin-right:7.5px;' src='data:image/svg+xml;base64,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' > </img>\n",
    "Created in <span style='font-weight:600;margin-left:4px;'>Deepnote</span></a>"
   ]
  }
 ],
 "metadata": {
  "deepnote": {},
  "deepnote_execution_queue": [],
  "deepnote_notebook_id": "c05137ad08884d5fadec3ead1c6284d9",
  "kernelspec": {
   "display_name": "Python 3 (ipykernel)",
   "language": "python",
   "name": "python3"
  },
  "language_info": {
   "codemirror_mode": {
    "name": "ipython",
    "version": 3
   },
   "file_extension": ".py",
   "mimetype": "text/x-python",
   "name": "python",
   "nbconvert_exporter": "python",
   "pygments_lexer": "ipython3",
   "version": "3.10.4"
  },
  "toc": {
   "base_numbering": 1,
   "nav_menu": {},
   "number_sections": true,
   "sideBar": true,
   "skip_h1_title": false,
   "title_cell": "Table of Contents",
   "title_sidebar": "Contents",
   "toc_cell": false,
   "toc_position": {
    "height": "calc(100% - 180px)",
    "left": "10px",
    "top": "150px",
    "width": "384px"
   },
   "toc_section_display": "block",
   "toc_window_display": true
  }
 },
 "nbformat": 4,
 "nbformat_minor": 0
}
