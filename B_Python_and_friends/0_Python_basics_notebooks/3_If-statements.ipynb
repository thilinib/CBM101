{
 "cells": [
  {
   "cell_type": "markdown",
   "metadata": {
    "cell_id": "c0250e15840f43be8eb5ef31b231056a",
    "deepnote_cell_type": "markdown"
   },
   "source": [
    "\n",
    "## If statement\n",
    "\n",
    "Another fundamental building block in all of programming is the if statement. It allows you to execute code, only if some condition is satisfied or **TRUE**.  If the condition evaluates to **False**, the code block is bypassed, and the program continues its execution.\n"
   ]
  },
  {
   "cell_type": "code",
   "execution_count": null,
   "metadata": {
    "cell_id": "63c1d51c90164ff0828c912de2876639",
    "deepnote_cell_type": "code"
   },
   "outputs": [],
   "source": [
    "num = 5\n",
    "if num > 4: print(num, 'is bigger than four!')"
   ]
  },
  {
   "cell_type": "markdown",
   "metadata": {
    "cell_id": "937bebd55e034181bd25018abf1d5292",
    "deepnote_cell_type": "markdown"
   },
   "source": [
    "If you want the program to do different things depending on whether the condition is true or false, you can add an else clause."
   ]
  },
  {
   "cell_type": "code",
   "execution_count": null,
   "metadata": {
    "cell_id": "5a1e6817575849ab896c4172327c32e9",
    "deepnote_cell_type": "code"
   },
   "outputs": [],
   "source": [
    "if num > 10:\n",
    "    print(num, 'is bigger than ten!')\n",
    "else:\n",
    "    print(num, 'is smaller than ten.')"
   ]
  },
  {
   "cell_type": "markdown",
   "metadata": {
    "cell_id": "bef2a9ffb7874a0ca4c50effcd46a1c7",
    "deepnote_cell_type": "markdown"
   },
   "source": [
    "Finally, if you want to test for multiple condition before calling the final else clause, you can use elif (else if).\n"
   ]
  },
  {
   "cell_type": "code",
   "execution_count": null,
   "metadata": {
    "cell_id": "eb5807def9a64282a670ccbe40a8cc61",
    "deepnote_cell_type": "code"
   },
   "outputs": [],
   "source": [
    "if num > 10:\n",
    "    print(\"gee, that's a large number\")\n",
    "elif num == 5:\n",
    "    print(\"it's just five\")\n",
    "else:\n",
    "    print(\"I don't know what it is\")"
   ]
  },
  {
   "cell_type": "markdown",
   "metadata": {
    "cell_id": "9c59e257409847fbb26cff7877117eef",
    "deepnote_cell_type": "markdown"
   },
   "source": [
    "<div class='alert alert-warning'>\n",
    "\n",
    "<h4>  Ex1.6. make a list of the number 0-9. Loop through the list and print \"yes\" if the number greater than 4. Otherwise, print \"no\".</h4>\n",
    "</div>  \n"
   ]
  },
  {
   "cell_type": "code",
   "execution_count": null,
   "metadata": {
    "cell_id": "b106abefc6fd434c8f34a55580e4ef49",
    "deepnote_cell_type": "code"
   },
   "outputs": [],
   "source": [
    "# Ex6\n"
   ]
  },
  {
   "cell_type": "markdown",
   "metadata": {
    "cell_id": "3fa16ad5c7da4b668aef3fc3eb8b1366",
    "deepnote_cell_type": "markdown"
   },
   "source": [
    "<div class='alert alert-warning'>\n",
    "\n",
    "<h4>Ex1.7. Make a list of the first 5 squares like above, but only if it is an even number. </h4>\n",
    "    \n",
    "**Tip:** use the modulo operator: `%` to determine evenness\n",
    "</div>   \n"
   ]
  },
  {
   "cell_type": "code",
   "execution_count": null,
   "metadata": {
    "cell_id": "40b15bd7935348d394880244f15ab32c",
    "deepnote_cell_type": "code"
   },
   "outputs": [],
   "source": [
    "# Ex7\n"
   ]
  },
  {
   "cell_type": "markdown",
   "metadata": {
    "created_in_deepnote_cell": true,
    "deepnote_cell_type": "markdown"
   },
   "source": [
    "<a style='text-decoration:none;line-height:16px;display:flex;color:#5B5B62;padding:10px;justify-content:end;' href='https://deepnote.com?utm_source=created-in-deepnote-cell&projectId=174a646e-27d4-4666-a2b4-2d7bb1c47bf5' target=\"_blank\">\n",
    "<img alt='Created in deepnote.com' style='display:inline;max-height:16px;margin:0px;margin-right:7.5px;' src='data:image/svg+xml;base64,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' > </img>\n",
    "Created in <span style='font-weight:600;margin-left:4px;'>Deepnote</span></a>"
   ]
  }
 ],
 "metadata": {
  "deepnote": {},
  "deepnote_execution_queue": [],
  "deepnote_notebook_id": "db42b17a2bcb488f8350dd0e9626f391",
  "kernelspec": {
   "display_name": "Python 3 (ipykernel)",
   "language": "python",
   "name": "python3"
  },
  "language_info": {
   "codemirror_mode": {
    "name": "ipython",
    "version": 3
   },
   "file_extension": ".py",
   "mimetype": "text/x-python",
   "name": "python",
   "nbconvert_exporter": "python",
   "pygments_lexer": "ipython3",
   "version": "3.10.4"
  },
  "toc": {
   "base_numbering": 1,
   "nav_menu": {},
   "number_sections": true,
   "sideBar": true,
   "skip_h1_title": false,
   "title_cell": "Table of Contents",
   "title_sidebar": "Contents",
   "toc_cell": false,
   "toc_position": {
    "height": "calc(100% - 180px)",
    "left": "10px",
    "top": "150px",
    "width": "384px"
   },
   "toc_section_display": "block",
   "toc_window_display": true
  }
 },
 "nbformat": 4,
 "nbformat_minor": 0
}
