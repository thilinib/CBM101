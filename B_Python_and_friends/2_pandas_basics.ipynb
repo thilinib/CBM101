{
 "cells": [
  {
   "cell_type": "markdown",
   "metadata": {
    "cell_id": "bb39b1fe84b844ceb1b07407bc1b2c52",
    "deepnote_cell_type": "markdown",
    "tags": []
   },
   "source": [
    "Copyright (c) 2019 OERCompBiomed (UiB)"
   ]
  },
  {
   "cell_type": "markdown",
   "metadata": {
    "cell_id": "bdb58a6f7f2141389a12d57ecc3c4c49",
    "deepnote_cell_type": "markdown",
    "tags": [
     "style-commentate"
    ]
   },
   "source": [
    "<h1 style=\"color:blue\">Pandas</h1>"
   ]
  },
  {
   "cell_type": "markdown",
   "metadata": {
    "cell_id": "05b9457bdd414b0494fc6a5c664fd943",
    "deepnote_cell_type": "markdown"
   },
   "source": [
    "<div class='alert alert-info'>\n",
    "\n",
    "NOTE: The original notebook on Github might change over the time, and we recommend that you make a copy of our notebooks before you are editing them. In this respect you might adopt the naming convention my_<'name_of_notebook'>.ipynb, e.g. `my_2_pandas_basics.ipynb`"
   ]
  },
  {
   "cell_type": "markdown",
   "metadata": {
    "cell_id": "fe33a292f6a340e38824ed23c210e9e4",
    "deepnote_cell_type": "markdown"
   },
   "source": [
    "**You are encouraged to experiment with all our code!**"
   ]
  },
  {
   "cell_type": "markdown",
   "metadata": {
    "cell_id": "59e53cee252347afab9f3f719efa2547",
    "deepnote_cell_type": "markdown"
   },
   "source": [
    "__[*Pandas*](https://pandas.pydata.org)__ is the premier Python package for data analysis. If you're working with data in Python, Pandas is your trusted companion. Pandas is built around the concept of *series* (akin to Numpy vectors) and *data frames* (akin to Numpy matrices). Unlike their Numpy counterparts, Pandas has a rich API that often makes series and data frames more convenient to work with.  It provides a vast array of functions and methods to perform tasks like data cleaning, exploration, aggregation, and visualization with ease.\n",
    "\n",
    "First though, let's import Pandas. Conventionally it is given the name `pd`."
   ]
  },
  {
   "cell_type": "code",
   "execution_count": null,
   "metadata": {
    "cell_id": "91e675b686b04a11aa1b2280f1df4ebf",
    "deepnote_cell_type": "code",
    "deepnote_to_be_reexecuted": false,
    "execution_millis": 13,
    "execution_start": 1695282401907,
    "source_hash": null
   },
   "outputs": [],
   "source": [
    "# This is how we usually import pandas\n",
    "import pandas as pd \n",
    "\n",
    "# We can also import specific functions in a library: \n",
    "from pandas import DataFrame, read_csv"
   ]
  },
  {
   "cell_type": "markdown",
   "metadata": {
    "cell_id": "ad89a9fd133f472aa2fcea6b281a8748",
    "deepnote_cell_type": "markdown"
   },
   "source": [
    "Now that pandas is imported, its functions can be used like this:\n",
    "\n",
    "`pd.functionName()`"
   ]
  },
  {
   "cell_type": "code",
   "execution_count": null,
   "metadata": {
    "cell_id": "0f4005eeaf054be5b799e3c9b23d47b5",
    "code_folding": [],
    "deepnote_cell_type": "code",
    "deepnote_to_be_reexecuted": false,
    "execution_millis": 1648,
    "execution_start": 1695282401908,
    "source_hash": null
   },
   "outputs": [],
   "source": [
    "# Import all other helpful libraries needed for the tutorial\n",
    "\n",
    "import seaborn as sns  # for visualization\n",
    "\n",
    "import numpy as np # this is how we usually import numpy, which includes useful mathematical functions etc.\n",
    "import sys #only needed to determine Python version number"
   ]
  },
  {
   "cell_type": "code",
   "execution_count": null,
   "metadata": {
    "cell_id": "25ae495a26ec41b7bfe77854084b6578",
    "deepnote_cell_type": "code",
    "deepnote_to_be_reexecuted": false,
    "execution_millis": 32,
    "execution_start": 1695282403569,
    "source_hash": null
   },
   "outputs": [],
   "source": [
    "# Supress some warnings:\n",
    "import warnings\n",
    "warnings.filterwarnings('ignore')"
   ]
  },
  {
   "cell_type": "code",
   "execution_count": null,
   "metadata": {
    "cell_id": "ee9ea6fde47147bfbd1c362c24f5ee96",
    "code_folding": [],
    "deepnote_cell_type": "code",
    "deepnote_to_be_reexecuted": false,
    "execution_millis": 67,
    "execution_start": 1695282403580,
    "source_hash": null
   },
   "outputs": [],
   "source": [
    "# We can print versions of packages\n",
    "print('Python version ' + sys.version)\n",
    "print('Pandas version ' + pd.__version__)\n",
    "print('Numpy version ' + np.__version__)\n",
    "print('Seaborn version ' + sns.__version__)"
   ]
  },
  {
   "cell_type": "markdown",
   "metadata": {
    "cell_id": "fb8f7cb29c444df69c8e9654a3782851",
    "deepnote_cell_type": "markdown",
    "tags": [
     "style-commentate"
    ]
   },
   "source": [
    "# PART I <a name=\"part1\"></a>"
   ]
  },
  {
   "cell_type": "markdown",
   "metadata": {
    "cell_id": "139f4ab41268452aba31619132582635",
    "deepnote_cell_type": "markdown"
   },
   "source": [
    "Lets dive into data analysis with Panda using a classic and accessible dataset: the Iris flower dataset."
   ]
  },
  {
   "cell_type": "markdown",
   "metadata": {
    "cell_id": "4f1ea507918141e3b06686428d9bcb91",
    "deepnote_cell_type": "markdown",
    "tags": [
     "style-activity"
    ]
   },
   "source": [
    "## Iris flower data <a name=\"irisdata\"></a>\n",
    "https://archive.ics.uci.edu/ml/datasets/iris"
   ]
  },
  {
   "cell_type": "markdown",
   "metadata": {
    "cell_id": "6a900b4ace6941d390a4758298fa97c0",
    "deepnote_cell_type": "markdown"
   },
   "source": [
    "<img src='./assets/iris_data_intro.png' alt=\"iris_data_intro\"  />"
   ]
  },
  {
   "cell_type": "markdown",
   "metadata": {
    "cell_id": "54670cb77f39491b8ad24e165915070b",
    "deepnote_cell_type": "markdown"
   },
   "source": [
    "**Data Set Information:**\n",
    "\n",
    "This is perhaps the best known database to be found in the pattern recognition literature. Fisher's paper is a classic in the field and is referenced frequently to this day. (See Duda & Hart, for example.) The data set contains 3 classes of 50 instances each, where each class refers to a type of iris plant. One class is linearly separable from the other 2; the latter are NOT linearly separable from each other. \n",
    "\n",
    "Predicted attribute: class of iris plant. \n",
    "\n",
    "This is an exceedingly simple domain. "
   ]
  },
  {
   "cell_type": "markdown",
   "metadata": {
    "cell_id": "32417b5c4e764b59b345e37d364ae060",
    "deepnote_cell_type": "markdown"
   },
   "source": [
    "**Attribute Information:**\n",
    "\n",
    "1. sepal length in cm \n",
    "2. sepal width in cm \n",
    "3. petal length in cm \n",
    "4. petal width in cm \n",
    "5. class: <br>\n",
    "-- Iris Setosa <br>\n",
    "-- Iris Versicolour <br>\n",
    "-- Iris Virginica"
   ]
  },
  {
   "cell_type": "markdown",
   "metadata": {
    "cell_id": "541b72969cd947329a12cc235cf24871",
    "deepnote_cell_type": "markdown"
   },
   "source": [
    "Read local data:"
   ]
  },
  {
   "cell_type": "code",
   "execution_count": null,
   "metadata": {
    "cell_id": "a9fe987c98834a66afe25c88add026b7",
    "deepnote_cell_type": "code",
    "deepnote_to_be_reexecuted": false,
    "execution_millis": 70,
    "execution_start": 1695282403590,
    "source_hash": null
   },
   "outputs": [],
   "source": [
    "iris = pd.read_csv('./data/iris.data')"
   ]
  },
  {
   "cell_type": "markdown",
   "metadata": {
    "cell_id": "881620c10e15407f940d0cf7926b0c91",
    "deepnote_cell_type": "markdown",
    "tags": [
     "style-activity"
    ]
   },
   "source": [
    "# Data exploration in Pandas <a name=\"dataexploration\"></a>\n",
    "\n",
    "The first thing we usually do after loading a dataframe (i.e. table), is to inspect it using the following methods."
   ]
  },
  {
   "cell_type": "code",
   "execution_count": null,
   "metadata": {
    "cell_id": "a5451a103d9749f7bce482d530548587",
    "deepnote_cell_type": "code",
    "deepnote_to_be_reexecuted": false,
    "execution_millis": 59,
    "execution_start": 1695282403613,
    "source_hash": null
   },
   "outputs": [],
   "source": [
    "iris.shape"
   ]
  },
  {
   "cell_type": "markdown",
   "metadata": {
    "cell_id": "6f04eba6cf014c28a1ae53df659ba94a",
    "deepnote_cell_type": "markdown"
   },
   "source": [
    "This means we have 150 samples (rows) and 5 features per sample (columns). What are those features?"
   ]
  },
  {
   "cell_type": "code",
   "execution_count": null,
   "metadata": {
    "cell_id": "db70b075e599434abebcb2323015d5b0",
    "deepnote_cell_type": "code",
    "deepnote_to_be_reexecuted": false,
    "execution_millis": 27,
    "execution_start": 1695282403614,
    "source_hash": null
   },
   "outputs": [],
   "source": [
    "for col in iris.columns:\n",
    "    print(col)"
   ]
  },
  {
   "cell_type": "markdown",
   "metadata": {
    "cell_id": "0d9a4ca8592f477ea1559e2674fd5e8e",
    "deepnote_cell_type": "markdown"
   },
   "source": [
    "## Display your samples\n",
    "Display the 5 first rows using `df.head()`"
   ]
  },
  {
   "cell_type": "code",
   "execution_count": null,
   "metadata": {
    "cell_id": "eccdff21ab1a404c9913c23bae122bc3",
    "deepnote_cell_type": "code",
    "deepnote_to_be_reexecuted": false,
    "execution_millis": 205,
    "execution_start": 1695282403615,
    "source_hash": null
   },
   "outputs": [],
   "source": [
    "iris.head()"
   ]
  },
  {
   "cell_type": "markdown",
   "metadata": {
    "cell_id": "afabae2d2b44400b95eec9a2b50b69dd",
    "deepnote_cell_type": "markdown"
   },
   "source": [
    "or the 10 first"
   ]
  },
  {
   "cell_type": "code",
   "execution_count": null,
   "metadata": {
    "cell_id": "c41947c93af1426283301937d6aae0a3",
    "deepnote_cell_type": "code",
    "deepnote_to_be_reexecuted": false,
    "execution_millis": 366,
    "execution_start": 1695282403684,
    "source_hash": null
   },
   "outputs": [],
   "source": [
    "iris.head(10)"
   ]
  },
  {
   "cell_type": "markdown",
   "metadata": {
    "cell_id": "dee4034a6c8f4c949562d15bab5b91f3",
    "deepnote_cell_type": "markdown"
   },
   "source": [
    "By now you should know that the input to the `head` function is an optional parameter which defaults to 5. You can confirm this by writing `iris.head()` and pressing Shift+Tab."
   ]
  },
  {
   "cell_type": "markdown",
   "metadata": {
    "cell_id": "bc9f8879d5304a9491355e60e3227041",
    "deepnote_cell_type": "markdown"
   },
   "source": [
    "or the 5 last using `df.tail()`"
   ]
  },
  {
   "cell_type": "code",
   "execution_count": null,
   "metadata": {
    "cell_id": "0902366408db401d8c6cfebc5ea150a3",
    "deepnote_cell_type": "code",
    "deepnote_to_be_reexecuted": false,
    "execution_millis": 883,
    "execution_start": 1695282403723,
    "source_hash": null
   },
   "outputs": [],
   "source": [
    "iris.tail()"
   ]
  },
  {
   "cell_type": "markdown",
   "metadata": {
    "cell_id": "e5c0dd87a41944509d34a91f23e1b92c",
    "deepnote_cell_type": "markdown"
   },
   "source": [
    "A summary can be presented with `df.info()`."
   ]
  },
  {
   "cell_type": "code",
   "execution_count": null,
   "metadata": {
    "cell_id": "4626344354a240a596f427f2d7ba6267",
    "deepnote_cell_type": "code",
    "deepnote_to_be_reexecuted": false,
    "execution_millis": 78,
    "execution_start": 1695282403741,
    "source_hash": null
   },
   "outputs": [],
   "source": [
    "iris.info()"
   ]
  },
  {
   "cell_type": "markdown",
   "metadata": {
    "cell_id": "c0b91d0ca18c41a0b057f9b096861785",
    "deepnote_cell_type": "markdown"
   },
   "source": [
    "Here you see the data types each column contains too: the measurements are `float64`, which means 64 bit floating point (decimal) numbers. The *Name* feature is a string, which in pandas terms is an `object`."
   ]
  },
  {
   "cell_type": "code",
   "execution_count": null,
   "metadata": {
    "cell_id": "224b2df6160e4027a5c917905a7560e9",
    "deepnote_cell_type": "code",
    "deepnote_to_be_reexecuted": false,
    "execution_millis": 52,
    "execution_start": 1695282403752,
    "scrolled": true,
    "source_hash": null
   },
   "outputs": [],
   "source": [
    "# another way to access the datatypes\n",
    "iris.dtypes"
   ]
  },
  {
   "cell_type": "markdown",
   "metadata": {
    "cell_id": "fc4126fbfc184f52ad4ac2a0589c7ebe",
    "deepnote_cell_type": "markdown"
   },
   "source": [
    "And `df.describe()` will print a summary of the numerical features."
   ]
  },
  {
   "cell_type": "code",
   "execution_count": null,
   "metadata": {
    "cell_id": "1fbf659a26dd48639709cdd8f6ce6714",
    "deepnote_cell_type": "code",
    "deepnote_to_be_reexecuted": false,
    "execution_millis": 855,
    "execution_start": 1695282403758,
    "source_hash": null
   },
   "outputs": [],
   "source": [
    "iris.describe()"
   ]
  },
  {
   "cell_type": "markdown",
   "metadata": {
    "cell_id": "1c7d04a65e3a4c5f9ed144667c336273",
    "deepnote_cell_type": "markdown",
    "tags": [
     "style-student"
    ]
   },
   "source": [
    "<div class='alert alert-warning'>\n",
    "\n",
    "<h4>Exercise 1.</h4>\n",
    "Imagine you are given some data in a table from your supervisor. You are told this contains 50 physical measurements from a total of 1400 E. *coli* cells. Also you know your supervisor has a messy file system, and easily confuses filenames between different projects. How would you assure that you have been given the right dataset?\n",
    "</div>"
   ]
  },
  {
   "cell_type": "code",
   "execution_count": null,
   "metadata": {
    "cell_id": "b647118dcf154ac6b855f238c1675a14",
    "deepnote_cell_type": "code",
    "deepnote_to_be_reexecuted": false,
    "execution_millis": 532,
    "execution_start": 1695282403821,
    "source_hash": null
   },
   "outputs": [],
   "source": [
    "# Ex1\n"
   ]
  },
  {
   "cell_type": "code",
   "execution_count": null,
   "metadata": {
    "cell_id": "c3417d08ed4148bda7fbd075313f5802",
    "deepnote_cell_type": "code",
    "deepnote_to_be_reexecuted": false,
    "execution_millis": 526,
    "execution_start": 1695282403827,
    "source_hash": null
   },
   "outputs": [],
   "source": [
    "# %load solutions/ex2_1.py"
   ]
  },
  {
   "cell_type": "markdown",
   "metadata": {
    "cell_id": "8178813232bf4c6fa589f8e31f1d6d5d",
    "deepnote_cell_type": "markdown"
   },
   "source": [
    "---"
   ]
  },
  {
   "cell_type": "markdown",
   "metadata": {
    "cell_id": "8c1eb0d263d940c286d843f5c4a880d4",
    "deepnote_cell_type": "markdown",
    "tags": [
     "style-activity"
    ]
   },
   "source": [
    "# Accessing specific rows and columns <a name=\"accessing\"></a>"
   ]
  },
  {
   "cell_type": "markdown",
   "metadata": {
    "cell_id": "a05c6d73811743e8adc9d75064e08768",
    "deepnote_cell_type": "markdown"
   },
   "source": [
    "Indexing pandas dataframes is done by using either of two methods: `.iloc` and `.loc`. Let's start with the former, which is purely number-based (`iloc = integer-location`). "
   ]
  },
  {
   "cell_type": "markdown",
   "metadata": {
    "cell_id": "ce5be96d526e46688bc932b7c72ebaf2",
    "deepnote_cell_type": "markdown"
   },
   "source": [
    "**NB: Remember Python starts counting at 0!**"
   ]
  },
  {
   "cell_type": "code",
   "execution_count": null,
   "metadata": {
    "cell_id": "c2254bf8b066446b99d1ed3483d0a43e",
    "deepnote_cell_type": "code",
    "deepnote_to_be_reexecuted": false,
    "execution_millis": 761,
    "execution_start": 1695282403835,
    "source_hash": null
   },
   "outputs": [],
   "source": [
    "#the 4th row of the 2rd column:\n",
    "\n",
    "iris.iloc[3, 1]"
   ]
  },
  {
   "cell_type": "code",
   "execution_count": null,
   "metadata": {
    "cell_id": "ee45fdd9d0a24ed1b45933120bd4aca2",
    "deepnote_cell_type": "code",
    "deepnote_to_be_reexecuted": false,
    "execution_millis": 688,
    "execution_start": 1695282403868,
    "source_hash": null
   },
   "outputs": [],
   "source": [
    "iris.head(4) #checks out"
   ]
  },
  {
   "cell_type": "markdown",
   "metadata": {
    "cell_id": "8b966e4fd78a4bccab63cb98cbbd5bd2",
    "deepnote_cell_type": "markdown"
   },
   "source": [
    "Slicing can be done using `:`"
   ]
  },
  {
   "cell_type": "code",
   "execution_count": null,
   "metadata": {
    "cell_id": "a44d6b0246044f5996e0cfc375312e5f",
    "deepnote_cell_type": "code",
    "deepnote_to_be_reexecuted": false,
    "execution_millis": 606,
    "execution_start": 1695282403963,
    "source_hash": null
   },
   "outputs": [],
   "source": [
    "# first 4 rows and 2nd column\n",
    "iris.iloc[:4, 1]"
   ]
  },
  {
   "cell_type": "code",
   "execution_count": null,
   "metadata": {
    "cell_id": "fa40d4c2c57142c9984f182227d5e83f",
    "deepnote_cell_type": "code",
    "deepnote_to_be_reexecuted": false,
    "execution_millis": 858,
    "execution_start": 1695282403964,
    "source_hash": null
   },
   "outputs": [],
   "source": [
    "# rows from 3 to 5 and 1st column\n",
    "iris.iloc[3:6, 0]"
   ]
  },
  {
   "cell_type": "markdown",
   "metadata": {
    "cell_id": "9d8d23d361f2476bb56d0ff3403a64cb",
    "deepnote_cell_type": "markdown",
    "tags": [
     "style-student"
    ]
   },
   "source": [
    "<div class='alert alert-warning'>\n",
    "\n",
    "<h4>Exercise 2.</h4> \n",
    "We can also pass in arrays or lists to access particular rows and columns. Try to do this to obtain only rows numbered 0, 10, 20 and 30 (and all columns).\n",
    "</div>"
   ]
  },
  {
   "cell_type": "code",
   "execution_count": null,
   "metadata": {
    "cell_id": "2b70e494231e477f8eba27921ac14901",
    "deepnote_cell_type": "code",
    "deepnote_to_be_reexecuted": false,
    "execution_millis": 719,
    "execution_start": 1695282403966,
    "source_hash": null
   },
   "outputs": [],
   "source": [
    "# Ex2\n"
   ]
  },
  {
   "cell_type": "code",
   "execution_count": null,
   "metadata": {
    "cell_id": "2417e168f6424554aa536f32320e0481",
    "deepnote_cell_type": "code",
    "deepnote_to_be_reexecuted": false,
    "execution_millis": 274,
    "execution_start": 1695282404281,
    "source_hash": null
   },
   "outputs": [],
   "source": [
    "# %load solutions/ex2_2.py"
   ]
  },
  {
   "cell_type": "markdown",
   "metadata": {
    "cell_id": "321faba999ac4072b5c29fb1bf9839c9",
    "deepnote_cell_type": "markdown"
   },
   "source": [
    "So this should act more or less the way you have seen indexing before. `.loc` is slightly different, because it allows you to use **column names** as well:"
   ]
  },
  {
   "cell_type": "code",
   "execution_count": null,
   "metadata": {
    "cell_id": "6c36b863ed564384b2532951c897d2d7",
    "deepnote_cell_type": "code",
    "deepnote_to_be_reexecuted": false,
    "execution_millis": 273,
    "execution_start": 1695282404281,
    "source_hash": null
   },
   "outputs": [],
   "source": [
    "iris.loc[:3, 'SepalWidth']"
   ]
  },
  {
   "cell_type": "markdown",
   "metadata": {
    "cell_id": "98481267e56e4811bbc3f3e7a84ec2fd",
    "deepnote_cell_type": "markdown"
   },
   "source": [
    "Passing in a list of columns:"
   ]
  },
  {
   "cell_type": "code",
   "execution_count": null,
   "metadata": {
    "cell_id": "fc4e5a6fb77440f394e83c23d8ab3019",
    "deepnote_cell_type": "code",
    "deepnote_to_be_reexecuted": false,
    "execution_millis": 708,
    "execution_start": 1695282404282,
    "source_hash": null
   },
   "outputs": [],
   "source": [
    "iris.loc[147:, ['SepalWidth', 'PetalLength']]"
   ]
  },
  {
   "cell_type": "markdown",
   "metadata": {
    "cell_id": "f74c57cb00da47f185d6af986e134c78",
    "deepnote_cell_type": "markdown",
    "tags": [
     "style-student"
    ]
   },
   "source": [
    "<div class='alert alert-warning'>\n",
    "\n",
    "<h4>Exercise 3.</h4> What species is the 10th, 50th and 100th flower?\n",
    "    </div>"
   ]
  },
  {
   "cell_type": "code",
   "execution_count": null,
   "metadata": {
    "cell_id": "63e9554acfbd499fa1e3ec94f3545ee9",
    "deepnote_cell_type": "code",
    "deepnote_to_be_reexecuted": false,
    "execution_millis": 273,
    "execution_start": 1695282404283,
    "source_hash": null
   },
   "outputs": [],
   "source": [
    "# Ex3\n"
   ]
  },
  {
   "cell_type": "code",
   "execution_count": null,
   "metadata": {
    "cell_id": "9fc52a0c4333473b8257ac0374db70f0",
    "deepnote_cell_type": "code",
    "deepnote_to_be_reexecuted": false,
    "execution_millis": 274,
    "execution_start": 1695282404283,
    "source_hash": null
   },
   "outputs": [],
   "source": [
    "# %load solutions/ex2_3.py"
   ]
  },
  {
   "cell_type": "markdown",
   "metadata": {
    "cell_id": "0a61588ddddc4209aed1f27e0b1e3133",
    "deepnote_cell_type": "markdown"
   },
   "source": [
    "Finally, you can also access a single column by writing `iris.column_name`, which is can save you some time."
   ]
  },
  {
   "cell_type": "code",
   "execution_count": null,
   "metadata": {
    "cell_id": "bc4c0115e3704e30b66cea149123389f",
    "deepnote_cell_type": "code",
    "deepnote_to_be_reexecuted": false,
    "execution_millis": 454,
    "execution_start": 1695282404284,
    "source_hash": null
   },
   "outputs": [],
   "source": [
    "iris.SepalWidth"
   ]
  },
  {
   "cell_type": "markdown",
   "metadata": {
    "cell_id": "913ee0492b7c428f9a6e0cb168a9b510",
    "deepnote_cell_type": "markdown",
    "tags": []
   },
   "source": [
    "## Boolean indexing\n",
    "\n",
    "The dataframes contents can be accessed by passing in a list (or equivalent) of the same length as the dataframe, with boolean entries. For instance `df.iloc[[False, True, True...], :]` would not return the first sample, but the second and third... "
   ]
  },
  {
   "cell_type": "code",
   "execution_count": null,
   "metadata": {
    "cell_id": "8669eb766ae64dedb16b9888d7bfe3bd",
    "deepnote_cell_type": "code",
    "deepnote_to_be_reexecuted": false,
    "execution_millis": 286,
    "execution_start": 1695282404284,
    "source_hash": null
   },
   "outputs": [],
   "source": [
    "# only the flowers with a sepal length greater than 5 cm\n",
    "iris.SepalLength >= 5"
   ]
  },
  {
   "cell_type": "markdown",
   "metadata": {
    "cell_id": "46f6f1fdca534985b602b5bb2fee1240",
    "deepnote_cell_type": "markdown"
   },
   "source": [
    "We can use this to obtain only a subset of rows with a feature of interest."
   ]
  },
  {
   "cell_type": "code",
   "execution_count": null,
   "metadata": {
    "cell_id": "a8f05446cbfe4c0ba22c4d7bc6395bc3",
    "deepnote_cell_type": "code",
    "deepnote_to_be_reexecuted": false,
    "execution_millis": 270,
    "execution_start": 1695282404285,
    "source_hash": null
   },
   "outputs": [],
   "source": [
    "lenghtySepals = iris.SepalLength >= 5   \n",
    "iris.loc[lenghtySepals,'SepalLength']"
   ]
  },
  {
   "cell_type": "markdown",
   "metadata": {
    "cell_id": "6b00842007b8400ab1594e518d5aac2f",
    "deepnote_cell_type": "markdown",
    "tags": [
     "style-student"
    ]
   },
   "source": [
    "<div class='alert alert-warning'>\n",
    "<h4> Exercise 4. </h4>\n",
    " a) Obtain only the rows in which the sepalWidth is greater than average."
   ]
  },
  {
   "cell_type": "markdown",
   "metadata": {
    "cell_id": "4d673eb08143402799768930c93f98d5",
    "deepnote_cell_type": "markdown",
    "tags": [
     "style-student"
    ]
   },
   "source": [
    "Hint: you can make use of the `.mean()` method"
   ]
  },
  {
   "cell_type": "code",
   "execution_count": null,
   "metadata": {
    "cell_id": "ddae1d3e52924ca091569c4f8a2d0714",
    "deepnote_cell_type": "code",
    "deepnote_to_be_reexecuted": false,
    "execution_millis": 298,
    "execution_start": 1695282404285,
    "source_hash": null
   },
   "outputs": [],
   "source": [
    "iris.SepalWidth.mean()"
   ]
  },
  {
   "cell_type": "code",
   "execution_count": null,
   "metadata": {
    "cell_id": "7ad86f27223543519c5c49c38c177d91",
    "deepnote_cell_type": "code",
    "deepnote_to_be_reexecuted": false,
    "execution_millis": 296,
    "execution_start": 1695282404286,
    "source_hash": null
   },
   "outputs": [],
   "source": [
    "# Ex4 a)\n"
   ]
  },
  {
   "cell_type": "markdown",
   "metadata": {
    "cell_id": "b23896443e0e48119f25d4cf5bf651d1",
    "deepnote_cell_type": "markdown",
    "tags": [
     "style-student"
    ]
   },
   "source": [
    "<div class='alert alert-warning'>\n",
    "b) How many such samples are there?"
   ]
  },
  {
   "cell_type": "code",
   "execution_count": null,
   "metadata": {
    "cell_id": "39d8890b00ad4e11a35ad970c89ab8f0",
    "deepnote_cell_type": "code",
    "deepnote_to_be_reexecuted": false,
    "execution_millis": 468,
    "execution_start": 1695282404286,
    "source_hash": null
   },
   "outputs": [],
   "source": [
    "# b) \n"
   ]
  },
  {
   "cell_type": "code",
   "execution_count": null,
   "metadata": {
    "cell_id": "39e0cc2a812e4a94bf8452c07f54879f",
    "deepnote_cell_type": "code",
    "deepnote_to_be_reexecuted": false,
    "execution_millis": 295,
    "execution_start": 1695282404287,
    "source_hash": null
   },
   "outputs": [],
   "source": [
    "# %load solutions/ex2_4ab.py"
   ]
  },
  {
   "cell_type": "markdown",
   "metadata": {
    "cell_id": "ef1497f7cb5746e7b62d3269a0f9e7d0",
    "deepnote_cell_type": "markdown",
    "tags": [
     "style-student"
    ]
   },
   "source": [
    "<div class='alert alert-warning'>\n",
    "c) only the colums which are of datatype `float64`."
   ]
  },
  {
   "cell_type": "code",
   "execution_count": null,
   "metadata": {
    "cell_id": "4325b04815eb49c58c9549801e52717d",
    "deepnote_cell_type": "code",
    "deepnote_to_be_reexecuted": false,
    "execution_millis": 295,
    "execution_start": 1695282404287,
    "source_hash": null
   },
   "outputs": [],
   "source": [
    "# c)\n"
   ]
  },
  {
   "cell_type": "code",
   "execution_count": null,
   "metadata": {
    "cell_id": "cfa797a9d64d48d6b95bc18b8efad916",
    "deepnote_cell_type": "code",
    "deepnote_to_be_reexecuted": false,
    "execution_millis": 319,
    "execution_start": 1695282404288,
    "source_hash": null
   },
   "outputs": [],
   "source": [
    "# %load solutions/ex2_4c.py"
   ]
  },
  {
   "cell_type": "markdown",
   "metadata": {
    "cell_id": "c2c1a98feb354aefb297155863472b38",
    "deepnote_cell_type": "markdown",
    "tags": [
     "style-student"
    ]
   },
   "source": [
    "<div class='alert alert-warning'>\n",
    "d) Use what you know to count the number of samples from each of the species. Are they balanced?\n"
   ]
  },
  {
   "cell_type": "code",
   "execution_count": null,
   "metadata": {
    "cell_id": "d93be0bb15004783834f7b22c822dfa5",
    "deepnote_cell_type": "code",
    "deepnote_to_be_reexecuted": false,
    "execution_millis": 302,
    "execution_start": 1695282404289,
    "source_hash": null
   },
   "outputs": [],
   "source": [
    "# d) \n"
   ]
  },
  {
   "cell_type": "code",
   "execution_count": null,
   "metadata": {
    "cell_id": "867b5948a8774207bd126271bf42d3dc",
    "deepnote_cell_type": "code",
    "deepnote_to_be_reexecuted": false,
    "execution_millis": 294,
    "execution_start": 1695282404289,
    "source_hash": null
   },
   "outputs": [],
   "source": [
    "# %load solutions/ex2_4d.py"
   ]
  },
  {
   "cell_type": "markdown",
   "metadata": {
    "cell_id": "80bc7a91edc7494182e0e33986cd304f",
    "deepnote_cell_type": "markdown"
   },
   "source": [
    "As an alternative to boolean indexing, you can use `.query`, so the following are equivalent: \n",
    "\n",
    "```python\n",
    "iris.loc[iris.Name == 'Iris-setosa', :]\n",
    "iris.query('Name == \"Iris-setosa\"')\n",
    "```"
   ]
  },
  {
   "cell_type": "markdown",
   "metadata": {
    "cell_id": "857c0fbebe5e42f99cea3beea3a0f45f",
    "deepnote_cell_type": "markdown",
    "tags": [
     "style-activity"
    ]
   },
   "source": [
    "# Manipulating dataframes <a name=\"manipulating\"></a>\n",
    "\n",
    "Before we proceed you should know the basics of removing and adding rows or columns. To remove, we use the `.drop()` method, and to add, we can use `.append()`. By default, the changes are not in place, but returns a copy of the dataframe. To make the change, we have to set `inplace=True`."
   ]
  },
  {
   "cell_type": "code",
   "execution_count": null,
   "metadata": {
    "cell_id": "ca7e35596f704523a7b7bc39032b2289",
    "deepnote_cell_type": "code",
    "deepnote_to_be_reexecuted": false,
    "execution_millis": 300,
    "execution_start": 1695282404290,
    "source_hash": null
   },
   "outputs": [],
   "source": [
    "# ROWS\n",
    "iris.drop(index=[0,2,4,6])"
   ]
  },
  {
   "cell_type": "code",
   "execution_count": null,
   "metadata": {
    "cell_id": "b56ab92b7c0f4a808d921bac359a8d58",
    "deepnote_cell_type": "code",
    "deepnote_to_be_reexecuted": false,
    "execution_millis": 300,
    "execution_start": 1695282404290,
    "source_hash": null
   },
   "outputs": [],
   "source": [
    "# COLS\n",
    "iris.drop(columns=['Name'])"
   ]
  },
  {
   "cell_type": "markdown",
   "metadata": {
    "cell_id": "1a2cdc63f93545d399fdb406ab871dde",
    "deepnote_cell_type": "markdown"
   },
   "source": [
    "Above we used keyword arguments, but we could also use positional arguments, and also specify the axis (0 for rows, 1 for columns)."
   ]
  },
  {
   "cell_type": "markdown",
   "metadata": {
    "cell_id": "90b3c3f665254eea96ae92ad37d99db9",
    "deepnote_cell_type": "markdown"
   },
   "source": [
    "Adding rows:"
   ]
  },
  {
   "cell_type": "code",
   "execution_count": null,
   "metadata": {
    "cell_id": "fcb021fa820b4dd68daab184ac3c4e39",
    "deepnote_cell_type": "code",
    "deepnote_to_be_reexecuted": false,
    "execution_millis": 282,
    "execution_start": 1695282404325,
    "source_hash": null
   },
   "outputs": [],
   "source": [
    "# make new row:\n",
    "\n",
    "test_row = {'SepalLength':0, 'SepalWidth':0, 'PetalLength':0, 'PetalWidth':0, 'Name':'test'}\n",
    "test_row\n",
    "\n",
    "# we use double square brackets [[]] to ensure it is interpreted as a row and not a column."
   ]
  },
  {
   "cell_type": "code",
   "execution_count": null,
   "metadata": {
    "cell_id": "85daec39b3bb406ba71a2798719c8d98",
    "deepnote_cell_type": "code",
    "deepnote_to_be_reexecuted": false,
    "execution_millis": 414,
    "execution_start": 1695282404325,
    "scrolled": true,
    "source_hash": null
   },
   "outputs": [],
   "source": [
    "# add test row to tail of iris dataframe\n",
    "iris.append(test_row, ignore_index=True).tail()"
   ]
  },
  {
   "cell_type": "markdown",
   "metadata": {
    "cell_id": "c426ba45285240c6b5528bf9003c4f38",
    "deepnote_cell_type": "markdown"
   },
   "source": [
    "Finally, changing a entries can be done simply by using the `.loc` or `.iloc` attributes."
   ]
  },
  {
   "cell_type": "markdown",
   "metadata": {
    "cell_id": "9f77e759a969496592ec3fdb266c40b3",
    "deepnote_cell_type": "markdown",
    "tags": [
     "style-activity"
    ]
   },
   "source": [
    "## Create a table from data\n",
    "\n",
    "We now want to recreate a table from an old paper based on the same dataset. First, let us import an image from the paper:"
   ]
  },
  {
   "cell_type": "markdown",
   "metadata": {
    "cell_id": "cf23242ace6b47e5af4d093ee1a60d20",
    "deepnote_cell_type": "markdown"
   },
   "source": [
    "<img src='./assets/iris_data_tabular.png' alt=\"disease network\"/>"
   ]
  },
  {
   "cell_type": "markdown",
   "metadata": {
    "cell_id": "00c946c5410e49f5acc0093e0d37af5a",
    "deepnote_cell_type": "markdown"
   },
   "source": [
    "The table in the image is sorted into three tables based on the name of the flower. Each table then present the values from the other four columns. We therefore start by sorting them based on their name."
   ]
  },
  {
   "cell_type": "code",
   "execution_count": null,
   "metadata": {
    "cell_id": "5aca030985304ab6bde5a9bdd6a3f046",
    "deepnote_cell_type": "code",
    "deepnote_to_be_reexecuted": false,
    "execution_millis": 301,
    "execution_start": 1695282404326,
    "source_hash": null
   },
   "outputs": [],
   "source": [
    "setosa = iris[iris.Name == 'Iris-setosa'].drop(['Name'], axis=1)\n",
    "versicolor = iris[iris.Name == 'Iris-versicolor'].drop(['Name'], axis=1)\n",
    "virginica = iris[iris.Name == 'Iris-virginica'].drop(['Name'], axis=1)\n",
    "\n",
    "n = len(setosa)"
   ]
  },
  {
   "cell_type": "markdown",
   "metadata": {
    "cell_id": "c50884639894411e8d5d0d3be4f5c664",
    "deepnote_cell_type": "markdown"
   },
   "source": [
    "We then print each table using a for loop"
   ]
  },
  {
   "cell_type": "code",
   "execution_count": null,
   "metadata": {
    "cell_id": "0e50cce227f24f7aaf7e97546b4a64e2",
    "deepnote_cell_type": "code",
    "deepnote_to_be_reexecuted": false,
    "execution_millis": 300,
    "execution_start": 1695282404327,
    "source_hash": null
   },
   "outputs": [],
   "source": [
    "print('\\t   Iris setosa', '     Iris versicolor', '  Iris virginica')\n",
    "for k in range(n):\n",
    "    print(k+1, '\\t', setosa.values[k,:], versicolor.values[k,:], virginica.values[k,:])"
   ]
  },
  {
   "cell_type": "markdown",
   "metadata": {
    "cell_id": "7dab4786206c4d6c9e7886ff4629c83b",
    "deepnote_cell_type": "markdown"
   },
   "source": [
    "We can also access a group of values according to column names using `.loc` and matrix transpose (`.T`)"
   ]
  },
  {
   "cell_type": "code",
   "execution_count": null,
   "metadata": {
    "cell_id": "8198a8cf915243819a1213673124b17e",
    "deepnote_cell_type": "code",
    "deepnote_to_be_reexecuted": false,
    "execution_millis": 411,
    "execution_start": 1695282404328,
    "source_hash": null
   },
   "outputs": [],
   "source": [
    "# setosa.loc[:,['SepalLength','SepalWidth', 'PetalLength', 'PetalWidth']].T\n",
    "setosa.loc[:,['SepalLength','SepalWidth']].T"
   ]
  },
  {
   "cell_type": "markdown",
   "metadata": {
    "cell_id": "388d850df6d54bb7b677bcc50f6ab993",
    "deepnote_cell_type": "markdown"
   },
   "source": [
    "## Create graphs from data\n",
    "\n",
    "Plotting in python is usually done through **matplotlib's pyplot**, which we will use later on, but we can use pandas' API for this:\n",
    "We can make subplots plotting values from different columns against each other like this:"
   ]
  },
  {
   "cell_type": "code",
   "execution_count": null,
   "metadata": {
    "cell_id": "e9cf642ece72429f932ccb0bde02ff00",
    "deepnote_cell_type": "code",
    "deepnote_to_be_reexecuted": false,
    "execution_millis": 257,
    "execution_start": 1695282404491,
    "source_hash": null
   },
   "outputs": [],
   "source": [
    "iris.plot.scatter('SepalLength', 'SepalWidth')\n",
    "\n",
    "iris.plot.scatter('PetalLength', 'PetalWidth')\n"
   ]
  },
  {
   "cell_type": "markdown",
   "metadata": {
    "cell_id": "d66f2a0362174fbca20fd9265781ec8e",
    "deepnote_cell_type": "markdown"
   },
   "source": [
    "Do you make some observations from these plots?"
   ]
  },
  {
   "cell_type": "markdown",
   "metadata": {
    "cell_id": "eb9ef56059864787ac1ae595177295cd",
    "deepnote_cell_type": "markdown"
   },
   "source": [
    "**Plotting using seaborn __[pairplot](https://seaborn.pydata.org/generated/seaborn.pairplot.html)__**<br>\n",
    "\n",
    "\n",
    "## Plotting with Seaborn\n",
    "The Seaborn library deals smoothly with pandas dataframes, and the plots are more visually appealing. Let's plot each species in a different color:"
   ]
  },
  {
   "cell_type": "code",
   "execution_count": null,
   "metadata": {
    "cell_id": "4c726278999e4a0782966bd3ca6b3c67",
    "deepnote_cell_type": "code",
    "deepnote_to_be_reexecuted": false,
    "execution_millis": 747,
    "execution_start": 1695282405043,
    "source_hash": null
   },
   "outputs": [],
   "source": [
    "g = sns.pairplot(iris, height=6, x_vars=[\"SepalLength\"], y_vars=[\"SepalWidth\"], hue=\"Name\",\n",
    "                 markers=[\"s\", \"o\", \"D\"])\n",
    "\n",
    "# hue determines which column is to be used to define color"
   ]
  },
  {
   "cell_type": "markdown",
   "metadata": {
    "cell_id": "93cbbfb178194604ba9aebf3b842fc52",
    "deepnote_cell_type": "markdown"
   },
   "source": [
    "Or pairplots as a matrix plot with color-encoded class-specific histograms on the diagonal"
   ]
  },
  {
   "cell_type": "code",
   "execution_count": null,
   "metadata": {
    "cell_id": "9d5463634c59421480c7363077b4f5a3",
    "deepnote_cell_type": "code",
    "deepnote_to_be_reexecuted": false,
    "execution_millis": 1809,
    "execution_start": 1695282405715,
    "source_hash": null
   },
   "outputs": [],
   "source": [
    "g = sns.pairplot(iris, vars=[\"SepalLength\", \"SepalWidth\"], hue=\"Name\", diag_kind=\"hist\")"
   ]
  },
  {
   "cell_type": "markdown",
   "metadata": {
    "cell_id": "f3bd0d594a3b4b5b91f78795c446830f",
    "deepnote_cell_type": "markdown"
   },
   "source": [
    "and with color-coded class-specific [KDE](https://en.wikipedia.org/wiki/Kernel_density_estimation)-estimated probability densities on the diagonal"
   ]
  },
  {
   "cell_type": "code",
   "execution_count": null,
   "metadata": {
    "cell_id": "0f805a25348b454c8502838b495f2b7a",
    "deepnote_cell_type": "code",
    "deepnote_to_be_reexecuted": false,
    "execution_millis": 4785,
    "execution_start": 1695282407351,
    "source_hash": null
   },
   "outputs": [],
   "source": [
    "g = sns.pairplot(iris, hue=\"Name\", palette=\"husl\",  markers=[\"s\", \"o\", \"D\"], diag_kind=\"kde\")\n",
    "# not specifying the columns automatically uses all of them"
   ]
  },
  {
   "cell_type": "markdown",
   "metadata": {
    "cell_id": "8de888e4ff5543fea5e2a90042ba4d56",
    "deepnote_cell_type": "markdown"
   },
   "source": [
    "**Question:** \n",
    " - **Which one of three flowers is easiest to differentiate from the other two flowers based on its Sepal and Petal measurements ?**"
   ]
  },
  {
   "cell_type": "markdown",
   "metadata": {
    "cell_id": "aea16c5ec15647e188bd025ca7ec7b54",
    "deepnote_cell_type": "markdown",
    "tags": [
     "style-activity"
    ]
   },
   "source": [
    "# Statistics using Pandas <a name=\"statistics\"></a>\n",
    "\n",
    "Let us again look at the seminal Fisher [article](https://onlinelibrary.wiley.com/doi/abs/10.1111/j.1469-1809.1936.tb02137.x) based on this data:"
   ]
  },
  {
   "cell_type": "markdown",
   "metadata": {
    "cell_id": "4f62dff8cc20464d825b09724879b8b8",
    "deepnote_cell_type": "markdown"
   },
   "source": [
    "<img src=\"./assets/iris_data_statistics.png\" alt=\"disease network\" width=\"900\" />"
   ]
  },
  {
   "cell_type": "markdown",
   "metadata": {
    "cell_id": "ebf601fa41654270ac4722defc35bc46",
    "deepnote_cell_type": "markdown"
   },
   "source": [
    "We can use `.describe()` to calculate simple **descriptive statistics** for the dataset (rounding to 3 decimals):"
   ]
  },
  {
   "cell_type": "code",
   "execution_count": null,
   "metadata": {
    "cell_id": "ec3cc41596d143d78c5dbd9bdcd0ded1",
    "deepnote_cell_type": "code",
    "deepnote_to_be_reexecuted": false,
    "execution_millis": 185,
    "execution_start": 1695282411979,
    "source_hash": null
   },
   "outputs": [],
   "source": [
    "iris.describe().round(3).T"
   ]
  },
  {
   "cell_type": "markdown",
   "metadata": {
    "cell_id": "d09ed327dbeb48e8a0f34a278109e83f",
    "deepnote_cell_type": "markdown"
   },
   "source": [
    "Computing the **pairwise correlation of columns**/features( the degree of association or relationship between two or more variables. ) using `.corr()`. Variations of correlation measure is also adjustable (e.g. ‘pearson’ (default), ‘kendall’, or ‘spearman’) "
   ]
  },
  {
   "cell_type": "code",
   "execution_count": null,
   "metadata": {
    "cell_id": "56dc693c292e4597a68964fc872e8ee4",
    "deepnote_cell_type": "code",
    "deepnote_to_be_reexecuted": false,
    "execution_millis": 162,
    "execution_start": 1695282412039,
    "source_hash": null
   },
   "outputs": [],
   "source": [
    "iris.corr().round(2)"
   ]
  },
  {
   "cell_type": "markdown",
   "metadata": {
    "cell_id": "fc0c5eba46474daeb0bcc4d68569a2ce",
    "deepnote_cell_type": "markdown"
   },
   "source": [
    "Including only string columns in a DataFrame description"
   ]
  },
  {
   "cell_type": "code",
   "execution_count": null,
   "metadata": {
    "cell_id": "683bb2ba8cf342148b35b2382bf40550",
    "deepnote_cell_type": "code",
    "deepnote_to_be_reexecuted": false,
    "execution_millis": 35,
    "execution_start": 1695282412051,
    "source_hash": null
   },
   "outputs": [],
   "source": [
    "# like we explained above, object in this case means text\n",
    "iris.describe(include=[np.object])"
   ]
  },
  {
   "cell_type": "markdown",
   "metadata": {
    "cell_id": "3cb603045c794c95a88126bd6248b8aa",
    "deepnote_cell_type": "markdown"
   },
   "source": [
    "In our case same as excluding numeric columns from a DataFrame description"
   ]
  },
  {
   "cell_type": "code",
   "execution_count": null,
   "metadata": {
    "cell_id": "21d491f285614d30a00e6544b34cc9d9",
    "deepnote_cell_type": "code",
    "deepnote_to_be_reexecuted": false,
    "execution_millis": 245,
    "execution_start": 1695282412077,
    "source_hash": null
   },
   "outputs": [],
   "source": [
    "iris.describe(exclude=[np.number])"
   ]
  },
  {
   "cell_type": "markdown",
   "metadata": {
    "cell_id": "6178c6f52bfe4c4b88e8ac72fc1d9fa2",
    "deepnote_cell_type": "markdown"
   },
   "source": [
    "In order to get statistical values for the different types of iris flowers we can split the object (iris DataFrame) into groups (species)"
   ]
  },
  {
   "cell_type": "code",
   "execution_count": null,
   "metadata": {
    "cell_id": "7e8f6b624cab4c35b9872508fe87d994",
    "deepnote_cell_type": "code",
    "deepnote_to_be_reexecuted": false,
    "execution_millis": 25,
    "execution_start": 1695282412092,
    "source_hash": null
   },
   "outputs": [],
   "source": [
    "grouped = iris.groupby('Name')"
   ]
  },
  {
   "cell_type": "code",
   "execution_count": null,
   "metadata": {
    "cell_id": "c0c30342d13b4d4c9973ea1e02811141",
    "deepnote_cell_type": "code",
    "deepnote_to_be_reexecuted": false,
    "execution_millis": 41,
    "execution_start": 1695282412117,
    "source_hash": null
   },
   "outputs": [],
   "source": [
    "grouped.groups"
   ]
  },
  {
   "cell_type": "markdown",
   "metadata": {
    "cell_id": "67321a7888dd42e0bf0ce2afece7ba49",
    "deepnote_cell_type": "markdown"
   },
   "source": [
    "Describe the group-wise `PetalLength` summary statistics"
   ]
  },
  {
   "cell_type": "code",
   "execution_count": null,
   "metadata": {
    "cell_id": "18576141ab4e4c0899e1e78052ed569c",
    "deepnote_cell_type": "code",
    "deepnote_to_be_reexecuted": false,
    "execution_millis": 129,
    "execution_start": 1695282412155,
    "source_hash": null
   },
   "outputs": [],
   "source": [
    "print('PetalLength:')\n",
    "grouped['PetalLength'].describe()"
   ]
  },
  {
   "cell_type": "markdown",
   "metadata": {
    "cell_id": "3c3aa1e004b54f779e9ac3c6a8917b74",
    "deepnote_cell_type": "markdown"
   },
   "source": [
    "Iterating through the grouped data is very natural"
   ]
  },
  {
   "cell_type": "code",
   "execution_count": null,
   "metadata": {
    "cell_id": "c43e3a53e09f4504bed8dad59af90738",
    "deepnote_cell_type": "code",
    "deepnote_to_be_reexecuted": false,
    "execution_millis": 62,
    "execution_start": 1695282412189,
    "scrolled": true,
    "source_hash": null
   },
   "outputs": [],
   "source": [
    "for name, group in grouped:\n",
    "    print(name,':')\n",
    "    print(group.describe().round(2).head(3))"
   ]
  },
  {
   "cell_type": "markdown",
   "metadata": {
    "cell_id": "d38852dd8b824b77b0ad2495051c9237",
    "deepnote_cell_type": "markdown"
   },
   "source": [
    "**Group-wise feature correlations**"
   ]
  },
  {
   "cell_type": "code",
   "execution_count": null,
   "metadata": {
    "cell_id": "198843a842364f5d803f018396e7e867",
    "deepnote_cell_type": "code",
    "deepnote_to_be_reexecuted": false,
    "execution_millis": 141,
    "execution_start": 1695282412237,
    "scrolled": true,
    "source_hash": null
   },
   "outputs": [],
   "source": [
    "iris.groupby('Name').corr().round(3)"
   ]
  },
  {
   "cell_type": "markdown",
   "metadata": {
    "cell_id": "4995aa2aa57041b88b4a4eaefd1f97b5",
    "deepnote_cell_type": "markdown"
   },
   "source": [
    "DataFrame has an `assign()` method that allows you to easily create new columns that are potentially derived from existing columns. Here we add a columns with the ratio between SepalWidth and SepalLength."
   ]
  },
  {
   "cell_type": "code",
   "execution_count": null,
   "metadata": {
    "cell_id": "dfe8ccba491b404dab46d1e502ffc5fd",
    "deepnote_cell_type": "code",
    "deepnote_to_be_reexecuted": false,
    "execution_millis": 124,
    "execution_start": 1695282412267,
    "scrolled": false,
    "source_hash": null
   },
   "outputs": [],
   "source": [
    "iris.assign(sepal_ratio = iris['SepalWidth'] / iris['SepalLength']).head().round(3)"
   ]
  },
  {
   "cell_type": "markdown",
   "metadata": {
    "cell_id": "4b94adcd623b457b829cdb073cc33807",
    "deepnote_cell_type": "markdown"
   },
   "source": [
    "`assign` always returns a copy of the data, leaving the original DataFrame untouched, e.g."
   ]
  },
  {
   "cell_type": "markdown",
   "metadata": {
    "cell_id": "ee6cb1a51f7b4335810f46f9cd0ed731",
    "deepnote_cell_type": "markdown"
   },
   "source": [
    "<div class='alert alert-info'>\n",
    "<h4>Digression: lambda functions</h4>\n",
    "\n",
    "Lambda functions (anonymous functions) are equivalent to regular functions, only the syntax is different. We only make use of them if we need a function once. Thus the two below functions are equivalent\n",
    "\n",
    "```python\n",
    "def add_one(a): return a + 1\n",
    "\n",
    "add_one = lambda a : a + 1\n",
    "\n",
    "```"
   ]
  },
  {
   "cell_type": "markdown",
   "metadata": {
    "cell_id": "832f4437cafa468aaa0cb4dae508a500",
    "deepnote_cell_type": "markdown"
   },
   "source": [
    "<div class='alert alert-warning'>\n",
    "<h4>Exercise 5.</h4>Make a new column which is the sum of all the measurements."
   ]
  },
  {
   "cell_type": "code",
   "execution_count": null,
   "metadata": {
    "cell_id": "22e1bbd8957f498f8fd443f2b928ac6d",
    "deepnote_cell_type": "code",
    "deepnote_to_be_reexecuted": false,
    "execution_millis": 24,
    "execution_start": 1695282412316,
    "source_hash": null
   },
   "outputs": [],
   "source": [
    "# Ex5\n"
   ]
  },
  {
   "cell_type": "code",
   "execution_count": null,
   "metadata": {
    "cell_id": "d1cf1f1328ce41579f75ee0d350c520e",
    "deepnote_cell_type": "code",
    "deepnote_to_be_reexecuted": false,
    "execution_millis": 18,
    "execution_start": 1695282412325,
    "source_hash": null
   },
   "outputs": [],
   "source": [
    "# %load solutions/ex2_5.py"
   ]
  },
  {
   "cell_type": "code",
   "execution_count": null,
   "metadata": {
    "cell_id": "6e3800753844440f889ecec36f0bf698",
    "deepnote_cell_type": "code",
    "deepnote_to_be_reexecuted": false,
    "execution_millis": 51,
    "execution_start": 1695282412326,
    "source_hash": null
   },
   "outputs": [],
   "source": [
    "iris.head(2)"
   ]
  },
  {
   "cell_type": "markdown",
   "metadata": {
    "cell_id": "e14007d7e6ba4c6ebb92efceefc78dda",
    "deepnote_cell_type": "markdown"
   },
   "source": [
    "Passing a callable, as opposed to an actual value to be inserted, is useful when you don’t have a reference to the DataFrame at hand. This is common when using `assign`  in a chain of operations. For example, we can limit the DataFrame to just those observations with a Sepal Length greater than 5, calculate the ratio, and plot:"
   ]
  },
  {
   "cell_type": "code",
   "execution_count": null,
   "metadata": {
    "cell_id": "52bb102d350e490ea763b0c73baab556",
    "deepnote_cell_type": "code",
    "deepnote_to_be_reexecuted": false,
    "execution_millis": 127,
    "execution_start": 1695282412368,
    "source_hash": null
   },
   "outputs": [],
   "source": [
    "(iris.query('SepalLength > 5')\n",
    " .assign(SepalRatio = lambda x: x.SepalWidth / x.SepalLength,\n",
    "         PetalRatio = lambda x: x.PetalWidth / x.PetalLength)\n",
    " .plot(kind='scatter', x='SepalRatio', y='PetalRatio'))"
   ]
  },
  {
   "cell_type": "markdown",
   "metadata": {
    "cell_id": "6ac5be9fbd704e87b49ccdf7d104a21a",
    "deepnote_cell_type": "markdown"
   },
   "source": [
    "<div class='alert alert-warning'>\n",
    "<h4>Exercise 6.</h4> Compute the mean and standard deviation of the SepalWidth / SepalLength ratio.\n",
    "\n",
    "**Hint**: use the Tab trick to find the relevant methods, or just make an online search."
   ]
  },
  {
   "cell_type": "code",
   "execution_count": null,
   "metadata": {
    "cell_id": "51d28351d4c044a88fd081cb0b092d4b",
    "deepnote_cell_type": "code",
    "deepnote_to_be_reexecuted": false,
    "execution_millis": 164,
    "execution_start": 1695282412644,
    "source_hash": null
   },
   "outputs": [],
   "source": [
    "# Ex6\n"
   ]
  },
  {
   "cell_type": "code",
   "execution_count": null,
   "metadata": {
    "cell_id": "216f4e0a43c64937be9a1e22567a0100",
    "deepnote_cell_type": "code",
    "deepnote_to_be_reexecuted": false,
    "execution_millis": 12,
    "execution_start": 1695282412654,
    "source_hash": null
   },
   "outputs": [],
   "source": [
    "# %load solutions/ex2_6.py"
   ]
  },
  {
   "cell_type": "markdown",
   "metadata": {
    "cell_id": "2108753ed3ca4801afa9fd91c7ee12ab",
    "deepnote_cell_type": "markdown"
   },
   "source": [
    "---\n",
    "\n",
    "You can continue to notebook PART 2 which includes examples of:\n",
    "- Object creation\n",
    "- More advanced indexing\n",
    "- Operations\n",
    "- Merging\n",
    "- Grouping\n",
    "- Reshaping\n",
    "- Categoricals\n",
    "- Writing and loading data"
   ]
  },
  {
   "cell_type": "markdown",
   "metadata": {
    "created_in_deepnote_cell": true,
    "deepnote_cell_type": "markdown"
   },
   "source": [
    "<a style='text-decoration:none;line-height:16px;display:flex;color:#5B5B62;padding:10px;justify-content:end;' href='https://deepnote.com?utm_source=created-in-deepnote-cell&projectId=174a646e-27d4-4666-a2b4-2d7bb1c47bf5' target=\"_blank\">\n",
    "<img alt='Created in deepnote.com' style='display:inline;max-height:16px;margin:0px;margin-right:7.5px;' src='data:image/svg+xml;base64,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' > </img>\n",
    "Created in <span style='font-weight:600;margin-left:4px;'>Deepnote</span></a>"
   ]
  }
 ],
 "metadata": {
  "deepnote": {},
  "deepnote_execution_queue": [],
  "deepnote_notebook_id": "901782e9014c48d7a4a6d779f1b5b4f8",
  "deepnote_persisted_session": {
   "createdAt": "2023-09-21T08:16:19.950Z"
  },
  "kernelspec": {
   "display_name": "Python 3 (ipykernel)",
   "language": "python",
   "name": "python3"
  },
  "language_info": {
   "codemirror_mode": {
    "name": "ipython",
    "version": 3
   },
   "file_extension": ".py",
   "mimetype": "text/x-python",
   "name": "python",
   "nbconvert_exporter": "python",
   "pygments_lexer": "ipython3",
   "version": "3.10.4"
  },
  "toc": {
   "base_numbering": 1,
   "nav_menu": {},
   "number_sections": true,
   "sideBar": true,
   "skip_h1_title": false,
   "title_cell": "Table of Contents",
   "title_sidebar": "Contents",
   "toc_cell": false,
   "toc_position": {},
   "toc_section_display": true,
   "toc_window_display": true
  }
 },
 "nbformat": 4,
 "nbformat_minor": 0
}
